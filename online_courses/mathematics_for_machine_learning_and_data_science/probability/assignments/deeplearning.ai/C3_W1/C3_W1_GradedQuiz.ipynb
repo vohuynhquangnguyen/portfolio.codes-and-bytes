{
 "cells": [
  {
   "attachments": {},
   "cell_type": "markdown",
   "metadata": {},
   "source": [
    "This is my solution of the graded quiz of the first week of the [Probability and Statistics](https://www.coursera.org/learn/machine-learning-probability-and-statistics/home/) course offered by deeplearning.ai."
   ]
  },
  {
   "attachments": {},
   "cell_type": "markdown",
   "metadata": {},
   "source": [
    "In a room, there are 200 people. \n",
    "* 30 of them like only soccer.\n",
    "* 100 of them like only basketball \n",
    "* 70 of them like both soccer and basketball\n",
    "\n",
    "### What is the probability of a randomly selected person likes basketball given that they like soccer?\n",
    "\n",
    "***\n",
    "\n",
    "**Answer:**\n",
    "\n",
    "According to the definition of conditional probability, we have:\n",
    "$$\n",
    "P(\\text{basketball}|\\text{soccer}) = \\frac{P(\\text{basketball}\\cap\\text{soccer})}{P(\\text{soccer})}\n",
    "$$\n",
    "Since $P(\\text{soccer}) = \\frac{N_{\\text{soccer only}} + N_{\\text{soccer \\& basketball}}}{N_{\\text{total}}} = \\frac{30 + 70}{200} = \\frac{100}{200} = 0.5$ and $P(\\text{basketball}\\cap\\text{soccer}) = \\frac{70}{200} = 0.35$, $P(\\text{basketball}|\\text{soccer})$ is then computed as:\n",
    "$$\n",
    "P(\\text{basketball}|\\text{soccer}) = \\frac{0.35}{0.5} = 0.7\n",
    "$$"
   ]
  },
  {
   "attachments": {},
   "cell_type": "markdown",
   "metadata": {},
   "source": [
    "Consider the following experiment:\n",
    "\n",
    "You roll a die. If the result is less than 4 (excluding 4), you roll two dice and sum the results. If the result is greater than 4, you roll only one die and use the result. \n",
    "\n",
    "### What is the probability of getting a final result of 6 after this experiment?\n",
    "\n",
    "***\n",
    "\n",
    "**Answer:**\n",
    "\n",
    "When rolling a die, the probability of getting a result less than 4 (excluding 4) is: \n",
    "$$\n",
    "P(\\text{<4}) = \\frac{3}{6} = 0.5\n",
    "$$\n",
    "\n",
    "In the first scenario, we roll a die and get the result that is less than 4. Hence, the probability of getting a final result of 6 (after we roll two dice and sum the results) is: \n",
    "$$\n",
    "P(\\text{final}_1) = P(\\text{<4})\\bullet P(\\text{sum is 6}) = 0.5\\times \\frac{5}{36} = \\frac{5}{72}\n",
    "$$\n",
    "given that the outcomes to get the sum of 6 for two dice are $ \\{A_1, A_2\\} = \\Big [\\{1, 5\\}, \\{5, 1\\}, \\{2, 4\\}, \\{4, 2\\}, \\{3, 3\\}  \\Big]$ (in total, 5 outcomes).\n",
    "\n",
    "In the second scenario, we roll a die and get the result that is greater than 4. Hence, the probability of getting a final result of 6 (after we roll only one die) is: \n",
    "$$\n",
    "P(\\text{final}_2) = P(\\text{>4})\\bullet P(\\text{sum is 6}) = 0.5\\times \\frac{1}{6} = \\frac{1}{12}\n",
    "$$\n",
    "\n",
    "Therefore, the final probability of getting a final result of 6 after this experiment is:\n",
    "$$\n",
    "P(\\text{final}) = P(\\text{final}_1) + P(\\text{final}_2) = \\frac{5}{72} + \\frac{1}{12} = \\frac{11}{72}\n",
    "$$"
   ]
  },
  {
   "attachments": {},
   "cell_type": "markdown",
   "metadata": {},
   "source": [
    "Suppose there is a disease that affects 1% of the population. Researchers developed a diagnostic test for this disease. The test has a sensitivity of 95% (meaning it correctly identifies 95% of people with the disease) and a specificity of 90% (meaning it correctly identifies 90% of people without the disease). If a person tests positive for the disease, then\n",
    "\n",
    "### What is the probability that they actually have the disease, according to Bayes Theorem?\n",
    "\n",
    "***\n",
    "\n",
    "**Answer:**\n",
    "\n",
    "Denote the people having the disease after tested as positive, and those do not having the disease after tested as negative. \n",
    "Assumming the population is 1,000 people, given that this disease affects 1% of the population, the probabilty of receiving the disease is $P(\\text{disease}) = 0.01$.\n",
    "* Considering the sensitivity of the test: it correctly identifies 95% of people with the disease, which means P() \n",
    "\n"
   ]
  },
  {
   "attachments": {},
   "cell_type": "markdown",
   "metadata": {},
   "source": [
    "Consider the following experiment: You flip a coin 10 times. \n",
    "\n",
    "### What is the probability of getting at least 2 heads? \n",
    "\n",
    "***\n",
    "\n",
    "**Answer:**\n",
    "\n",
    "Denote $X$ as the number of heads after flipping a coin 10 times, and $p$ as the probability of getting a head. Thus, the probability of getting at least two heads can be computed as follows:\n",
    "$$\n",
    "P(X \\geq 2) = 1 - P(X = 0) - P(X = 1)\n",
    "$$\n",
    "* Using the binomial distribution, the probability of getting no head is: $P(X = 0) = (1-p)^{10} = 2^{-10}$.\n",
    "* Using the binomial distribution, the probability of getting one head is: $P(X = 1) = \\binom{10}{1}p^{1}(1-p)^9 = 10\\times\\frac{1}{2}\\times2^{-9} = 10\\times2^{-10}$\n",
    "Therefore,\n",
    "$$\n",
    "P(X \\geq 2) = 1 - 11\\times2^{-10} = \\frac{2^{10} - 11}{2^{10}}\n",
    "$$"
   ]
  },
  {
   "attachments": {},
   "cell_type": "markdown",
   "metadata": {},
   "source": [
    "Suppose a random variable $X$ is such that $X$ ~ $\\text{Uniform}(0,1)$.\n",
    "\n",
    "### The value for $P(X\\leq \\frac{1}{2})$ is:\n",
    "\n",
    "***\n",
    "\n",
    "**Answer:**\n",
    "\n",
    "Denote $p(X)$ as the probability density function of the random variable $X$, the value for $P(X\\leq \\frac{1}{2})$ can be computed as follows:\n",
    "$$\n",
    "P(X\\leq \\frac{1}{2}) = \\int^{\\frac{1}{2}}_{0}p(X) dx = \\frac{1}{2}\n",
    "$$"
   ]
  },
  {
   "attachments": {},
   "cell_type": "markdown",
   "metadata": {},
   "source": [
    "You roll a dice 20 times and count how many times the number 4 appears.\n",
    "\n",
    "If X is the number of times the number 4 appears, then \n",
    "### $X$∼ $\\text{Binomial}(n,p)$, where $n$ and $p$ are:\n",
    "\n",
    "***\n",
    "\n",
    "**Answer:**\n",
    "\n",
    "$X$∼ $\\text{Binomial}(20,\\frac{1}{6})$"
   ]
  },
  {
   "attachments": {},
   "cell_type": "markdown",
   "metadata": {},
   "source": [
    "You have to work with the following random variable: the height of people in a country. \n",
    "### What is the best distribution to model this random variable from the options below?\n",
    "\n",
    "***\n",
    "\n",
    "**Answer:**\n",
    "\n",
    "Normal distribution is best suited to model this random variable."
   ]
  }
 ],
 "metadata": {
  "kernelspec": {
   "display_name": "base",
   "language": "python",
   "name": "python3"
  },
  "language_info": {
   "codemirror_mode": {
    "name": "ipython",
    "version": 3
   },
   "file_extension": ".py",
   "mimetype": "text/x-python",
   "name": "python",
   "nbconvert_exporter": "python",
   "pygments_lexer": "ipython3",
   "version": "3.9.16"
  },
  "orig_nbformat": 4
 },
 "nbformat": 4,
 "nbformat_minor": 2
}
