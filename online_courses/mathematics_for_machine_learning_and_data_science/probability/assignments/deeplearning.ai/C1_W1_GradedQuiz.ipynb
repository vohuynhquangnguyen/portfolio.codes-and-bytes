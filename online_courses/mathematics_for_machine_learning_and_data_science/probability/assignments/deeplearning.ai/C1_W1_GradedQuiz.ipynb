{
 "cells": [
  {
   "attachments": {},
   "cell_type": "markdown",
   "metadata": {},
   "source": [
    "This is my solution of the graded quiz of the first week of the [Probability and Statistics](https://www.coursera.org/learn/machine-learning-probability-and-statistics/home/) course offered by deeplearning.ai."
   ]
  },
  {
   "attachments": {},
   "cell_type": "markdown",
   "metadata": {},
   "source": [
    "In a room, there are 200 people. \n",
    "* 30 of them like only soccer.\n",
    "* 100 of them like only basketball \n",
    "* 70 of them like both soccer and basketball\n",
    "\n",
    "### What is the probability of a randomly selected person likes basketball given that they like soccer?\n",
    "\n",
    "***\n",
    "\n",
    "**Answer:**\n",
    "\n",
    "According to the definition of conditional probability, we have:\n",
    "$$\n",
    "P(\\text{basketball}|\\text{soccer}) = \\frac{P(\\text{basketball}\\cap\\text{soccer})}{P(\\text{soccer})}\n",
    "$$\n",
    "Since $P(\\text{soccer}) = \\frac{N_{\\text{soccer only}} + N_{\\text{soccer \\& basketball}}}{N_{\\text{total}}} = \\frac{30 + 70}{200} = \\frac{100}{200} = 0.5$ and $P(\\text{basketball}\\cap\\text{soccer}) = \\frac{70}{200} = 0.35$, $P(\\text{basketball}|\\text{soccer})$ is then computed as:\n",
    "$$\n",
    "P(\\text{basketball}|\\text{soccer}) = \\frac{0.35}{0.5} = 0.7\n",
    "$$"
   ]
  },
  {
   "attachments": {},
   "cell_type": "markdown",
   "metadata": {},
   "source": [
    "Consider the following experiment:\n",
    "\n",
    "You roll a die. If the result is less than 4 (excluding 4), you roll two dice and sum the results. If the result is greater than 4, you roll only one die and use the result. \n",
    "\n",
    "### What is the probability of getting a final result of 6 after this experiment?\n",
    "\n",
    "***\n",
    "\n",
    "**Answer:**\n",
    "\n",
    "When rolling a die, the probability of getting a result less than 4 (excluding 4) is: \n",
    "$$\n",
    "P(\\text{<4}) = \\frac{3}{6} = 0.5\n",
    "$$\n",
    "\n",
    "In the first scenario, we roll a die and get the result that is less than 4. Hence, the probability of getting a final result of 6 (after we roll two dice and sum the results) is: \n",
    "$$\n",
    "P(\\text{final}_1) = P(\\text{<4})\\bullet P(\\text{sum is 6}) = 0.5\\times \\frac{3}{36} = \\frac{3}{72}\n",
    "$$\n",
    "\n",
    "In the second scenario, we roll a die and get the result that is greater than 4. Hence, the probability of getting a final result of 6 (after we roll only one die) is: \n",
    "$$\n",
    "P(\\text{final}_2) = P(\\text{<4})\\bullet P(\\text{sum is 6}) = 0.5\\times \\frac{1}{6} = \\frac{1}{12}\n",
    "$$\n",
    "\n",
    "Therefore, the final probability of getting a final result of 6 after this experiment is:\n",
    "$$\n",
    "P(\\text{final}) = P(\\text{final}_1) + P(\\text{final}_2) = \\frac{3}{72} + \\frac{1}{12} = 0.125\n",
    "$$"
   ]
  },
  {
   "attachments": {},
   "cell_type": "markdown",
   "metadata": {},
   "source": [
    "Suppose there is a disease that affects 1% of the population. Researchers developed a diagnostic test for this disease. The test has a sensitivity of 95% (meaning it correctly identifies 95% of people with the disease) and a specificity of 90% (meaning it correctly identifies 90% of people without the disease). If a person tests positive for the disease, then\n",
    "\n",
    "### What is the probability that they actually have the disease, according to Bayes Theorem?\n",
    "\n",
    "***\n"
   ]
  },
  {
   "attachments": {},
   "cell_type": "markdown",
   "metadata": {},
   "source": []
  }
 ],
 "metadata": {
  "kernelspec": {
   "display_name": "base",
   "language": "python",
   "name": "python3"
  },
  "language_info": {
   "codemirror_mode": {
    "name": "ipython",
    "version": 3
   },
   "file_extension": ".py",
   "mimetype": "text/x-python",
   "name": "python",
   "nbconvert_exporter": "python",
   "pygments_lexer": "ipython3",
   "version": "3.9.16"
  },
  "orig_nbformat": 4
 },
 "nbformat": 4,
 "nbformat_minor": 2
}
