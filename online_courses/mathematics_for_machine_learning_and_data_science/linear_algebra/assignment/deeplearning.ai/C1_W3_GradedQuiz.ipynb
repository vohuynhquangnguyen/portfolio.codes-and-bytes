{
 "cells": [
  {
   "cell_type": "code",
   "execution_count": 1,
   "metadata": {},
   "outputs": [],
   "source": [
    "import numpy as np\n",
    "import math as m"
   ]
  },
  {
   "cell_type": "code",
   "execution_count": 2,
   "metadata": {},
   "outputs": [
    {
     "name": "stdout",
     "output_type": "stream",
     "text": [
      "[ 1. -8. 15.]\n",
      "[[-0.70710678 -0.31622777]\n",
      " [-0.70710678 -0.9486833 ]]\n"
     ]
    }
   ],
   "source": [
    "M = np.array([[2, 1],\n",
    "              [-3, 6]], dtype = float)\n",
    "char_polys = np.poly(M)\n",
    "print(char_polys)\n",
    "\n",
    "w_M, v_M = np.linalg.eig(M)\n",
    "print(v_M)"
   ]
  },
  {
   "cell_type": "code",
   "execution_count": 4,
   "metadata": {},
   "outputs": [
    {
     "name": "stdout",
     "output_type": "stream",
     "text": [
      "[1. 1. 1.]\n"
     ]
    }
   ],
   "source": [
    "I = np.array([[1, 0, 0],\n",
    "              [0, 1, 0],\n",
    "              [0, 0, 1]], dtype = float)\n",
    "w_I, v_I = np.linalg.eig(I)\n",
    "print(w_I)"
   ]
  },
  {
   "cell_type": "code",
   "execution_count": 6,
   "metadata": {},
   "outputs": [
    {
     "name": "stdout",
     "output_type": "stream",
     "text": [
      "[1. 4.]\n",
      "[[1.         0.5547002 ]\n",
      " [0.         0.83205029]]\n"
     ]
    }
   ],
   "source": [
    "A = np.array([[1, 2],\n",
    "              [0, 4]], dtype = float)\n",
    "B = np.array([[1, 0],\n",
    "              [0, 1]], dtype = float)\n",
    "C = np.dot(A, B)\n",
    "w_C, v_C = np.linalg.eig(C)\n",
    "print(w_C)\n",
    "print(v_C)"
   ]
  },
  {
   "cell_type": "code",
   "execution_count": 8,
   "metadata": {},
   "outputs": [
    {
     "name": "stdout",
     "output_type": "stream",
     "text": [
      "[2. 1. 2.]\n",
      "[[ 0.          0.          0.70710678]\n",
      " [ 1.         -0.70710678  0.        ]\n",
      " [ 0.          0.70710678 -0.70710678]]\n"
     ]
    }
   ],
   "source": [
    "P = np.array([[2, 0, 0],\n",
    "              [1, 2, 1],\n",
    "              [-1, 0, 1]], dtype = float)\n",
    "w_P, v_P = np.linalg.eig(P)\n",
    "print(w_P)\n",
    "print(v_P)"
   ]
  },
  {
   "cell_type": "code",
   "execution_count": null,
   "metadata": {},
   "outputs": [],
   "source": [
    "M = np.array([[3, 1, -2],\n",
    "              [4, 0, 1],\n",
    "              [2, 1, -1]], dtype = float)\n",
    "char_polys = np.poly(M)\n",
    "print(char_polys)"
   ]
  }
 ],
 "metadata": {
  "kernelspec": {
   "display_name": "base",
   "language": "python",
   "name": "python3"
  },
  "language_info": {
   "codemirror_mode": {
    "name": "ipython",
    "version": 3
   },
   "file_extension": ".py",
   "mimetype": "text/x-python",
   "name": "python",
   "nbconvert_exporter": "python",
   "pygments_lexer": "ipython3",
   "version": "3.9.16"
  },
  "orig_nbformat": 4
 },
 "nbformat": 4,
 "nbformat_minor": 2
}
