{
 "cells": [
  {
   "cell_type": "markdown",
   "metadata": {},
   "source": [
    "You are an astronaut on a mission to planet Mars. Using two robotic spacecraft, the Perseverance and Curiosity rovers, your mission is to collect rock samples to bring back to Earth to determine if there is life on the red planet. As a trained astronaut, you know that each rover has a weight limit for samples.\n",
    "\n",
    "You split the rocks between the two rovers. You first place 2 basalt samples (volcanic rock) and 3 meteorite rocks to Perseverance that weigh 15 grams in total.\n",
    "\n",
    "You then put 2 basalt samples and 4 meteorites to Curiosity that weigh 16 grams in total. Your goal is to determine how much each sample weighs (b for basalt, m for meteorite). You know that the collected samples are all the same size and shape, so all basalt samples will have the same weight, just as all meteorite samples will have identical weight. \n",
    "\n"
   ]
  },
  {
   "attachments": {},
   "cell_type": "markdown",
   "metadata": {},
   "source": [
    "### Which of the following systems of equations do you input?\n",
    "---\n",
    "**Answer:**\n",
    "$$\n",
    "\\begin{cases} \n",
    "    2b + 3m = 15 \\\\\n",
    "    2b + 4m = 16 \\\\ \n",
    "\\end{cases}\n",
    "$$"
   ]
  },
  {
   "attachments": {},
   "cell_type": "markdown",
   "metadata": {},
   "source": [
    "### Which of the following matrices represents the system of equations?\n",
    "$$\n",
    "\\begin{cases} \n",
    "    2b + 3m = 15 \\\\\n",
    "    2b + 4m = 16 \\\\ \n",
    "\\end{cases}\n",
    "$$\n",
    "---\n",
    "**Answer:**\n",
    "$$\n",
    "\\begin{bmatrix}\n",
    "    2 & 3 \\\\\n",
    "    2 & 4 \\\\\n",
    "\\end{bmatrix}\n",
    "$$"
   ]
  },
  {
   "attachments": {},
   "cell_type": "markdown",
   "metadata": {},
   "source": [
    "### Calculate the determinant of the matrix. Is the matrix singular or non-singular?\n",
    "$$\n",
    "\\begin{bmatrix}\n",
    "    2 & 3 \\\\\n",
    "    2 & 4 \\\\\n",
    "\\end{bmatrix}\n",
    "$$\n",
    "---\n",
    "**Answer:**\n",
    "$$\n",
    "\\det(\\mathbf{A}) = 2\\times4 - 2\\times3 = 2\n",
    "$$\n",
    "This is a non-singular matrix."
   ]
  },
  {
   "attachments": {},
   "cell_type": "markdown",
   "metadata": {},
   "source": [
    "### Determine if the above matrix has linearly dependent or independent rows.\n",
    "---\n",
    "**Answer:**\n",
    "\n",
    "Linearly independent because the determinant of this matrix is non-zero (i.e., this matrix is non-singular)."
   ]
  },
  {
   "attachments": {},
   "cell_type": "markdown",
   "metadata": {},
   "source": [
    "### How much does each rock sample weigh?\n",
    "---\n",
    "**Answer:**\n",
    "\n",
    "Solving this system of equations using Python:"
   ]
  },
  {
   "cell_type": "code",
   "execution_count": null,
   "metadata": {},
   "outputs": [],
   "source": [
    "import numpy as np\n",
    "\n",
    "A_coeff = np.array([[2, 3],\n",
    "                    [2, 4]], dtype = float)\n",
    "A_const = np.array()"
   ]
  }
 ],
 "metadata": {
  "language_info": {
   "name": "python"
  },
  "orig_nbformat": 4
 },
 "nbformat": 4,
 "nbformat_minor": 2
}
