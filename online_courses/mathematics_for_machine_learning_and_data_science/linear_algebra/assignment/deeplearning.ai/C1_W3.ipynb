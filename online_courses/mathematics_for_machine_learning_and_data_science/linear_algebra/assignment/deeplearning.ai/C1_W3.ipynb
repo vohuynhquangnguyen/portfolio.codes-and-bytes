{
 "cells": [
  {
   "cell_type": "code",
   "execution_count": 1,
   "metadata": {},
   "outputs": [],
   "source": [
    "import numpy as np\n",
    "import math"
   ]
  },
  {
   "cell_type": "code",
   "execution_count": 2,
   "metadata": {},
   "outputs": [
    {
     "name": "stdout",
     "output_type": "stream",
     "text": [
      "5.196152422706632\n"
     ]
    }
   ],
   "source": [
    "u = np.array([1, 0, 7], dtype = float)\n",
    "v = np.array([0, -1, 2], dtype= float)\n",
    "dist = np.linalg.norm(u - v)\n",
    "print(dist)"
   ]
  },
  {
   "cell_type": "code",
   "execution_count": 3,
   "metadata": {},
   "outputs": [
    {
     "name": "stdout",
     "output_type": "stream",
     "text": [
      "2.0\n"
     ]
    }
   ],
   "source": [
    "P = np.array([1, 0, -3], dtype = float)\n",
    "Q = np.array([-1, 0, -3], dtype= float)\n",
    "dist = np.linalg.norm(P - Q)\n",
    "print(dist)"
   ]
  },
  {
   "cell_type": "code",
   "execution_count": 4,
   "metadata": {},
   "outputs": [
    {
     "name": "stdout",
     "output_type": "stream",
     "text": [
      "6.244997998398398\n"
     ]
    }
   ],
   "source": [
    "v = np.array([1, -5, 2, 0, -3], dtype = float)\n",
    "v_norm = np.linalg.norm(v)\n",
    "print(v_norm)"
   ]
  },
  {
   "cell_type": "code",
   "execution_count": 5,
   "metadata": {},
   "outputs": [
    {
     "name": "stdout",
     "output_type": "stream",
     "text": [
      "0.0\n",
      "4.0\n",
      "3.7416573867739413\n",
      "2.449489742783178\n",
      "5.385164807134504\n"
     ]
    }
   ],
   "source": [
    "a = np.array([0, 0, 0, 0], dtype = float)\n",
    "b = np.array([2, 2, 2, 2], dtype = float)\n",
    "c = np.array([1, 2, -3], dtype = float)\n",
    "d = np.array([1, 0, -2, 0, -1], dtype = float)\n",
    "e = np.array([2, 5], dtype = float)\n",
    "\n",
    "vectors = [a, b, c, d, e]\n",
    "for _ , vector in enumerate(vectors):\n",
    "    print(np.linalg.norm(vector))"
   ]
  },
  {
   "cell_type": "code",
   "execution_count": 7,
   "metadata": {},
   "outputs": [
    {
     "name": "stdout",
     "output_type": "stream",
     "text": [
      "25.0\n"
     ]
    }
   ],
   "source": [
    "a = np.array([-1, 5, 2], dtype = float)\n",
    "b = np.array([-3, 6, -4], dtype = float)\n",
    "print(np.dot(a, b))\n"
   ]
  },
  {
   "cell_type": "code",
   "execution_count": 11,
   "metadata": {},
   "outputs": [
    {
     "name": "stdout",
     "output_type": "stream",
     "text": [
      "[[10. -5.]\n",
      " [15. -9.]]\n"
     ]
    }
   ],
   "source": [
    "M_1 = np.array([[2, -1],\n",
    "               [3, -3]], dtype = float)\n",
    "M_2 = np.array([[5, -2],\n",
    "               [0,  1]], dtype = float)\n",
    "print(np.dot(M_1, M_2))"
   ]
  },
  {
   "cell_type": "code",
   "execution_count": null,
   "metadata": {},
   "outputs": [],
   "source": [
    "w = np.array([-9, -1], dtype = float)\n",
    "z = np.array([-3, -5], dtype = float)\n",
    "print(np.dot(w, z))"
   ]
  }
 ],
 "metadata": {
  "kernelspec": {
   "display_name": "base",
   "language": "python",
   "name": "python3"
  },
  "language_info": {
   "codemirror_mode": {
    "name": "ipython",
    "version": 3
   },
   "file_extension": ".py",
   "mimetype": "text/x-python",
   "name": "python",
   "nbconvert_exporter": "python",
   "pygments_lexer": "ipython3",
   "version": "3.9.16"
  },
  "orig_nbformat": 4
 },
 "nbformat": 4,
 "nbformat_minor": 2
}
