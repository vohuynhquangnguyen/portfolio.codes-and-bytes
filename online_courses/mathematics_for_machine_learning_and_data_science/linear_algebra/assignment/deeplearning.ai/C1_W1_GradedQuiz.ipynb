{
 "cells": [
  {
   "cell_type": "markdown",
   "metadata": {},
   "source": [
    "This is my solution of the graded quiz of the first week of the [Linear Algebra course](https://www.coursera.org/learn/machine-learning-linear-algebra/home/) offered by deeplearning.ai."
   ]
  },
  {
   "cell_type": "code",
   "execution_count": 1,
   "metadata": {},
   "outputs": [],
   "source": [
    "import numpy as np"
   ]
  },
  {
   "cell_type": "markdown",
   "metadata": {},
   "source": [
    "On your next mission, while collecting rock samples, you observe a new crystal structure containing carbon, which could be key to life! You utilize the third spacecraft, Ingenuity, and meticulously collect enough rock samples to distribute within the weight limits of each spacecraft.\n",
    "\n",
    "You place 2 basalt samples, 1 meteorite, and 5 crystal rock samples into the Perseverance rover, which all weigh 20 grams. \n",
    "\n",
    "You then distribute 1 basalt, 2 meteorites, and 1 crystal into the Curiosity rover, with a weight of 10 grams in total. \n",
    "\n",
    "Lastly, you place 2 basalt samples, 1 meteorite, and 3 crystals to Ingenuity, which together weigh 15 grams. Each rock sample is represented with variables b for basalt, m for meteorite, and c for crystal structures. "
   ]
  },
  {
   "attachments": {},
   "cell_type": "markdown",
   "metadata": {},
   "source": [
    "### Which of the following systems of equations represents the correct information in the above system of sentences?\n",
    "***\n",
    "**Answer:**\n",
    "$$\n",
    "\\begin{cases} \n",
    "    2b + 1m + 5c = 20 \\\\\n",
    "    1b + 2m + 1c = 10 \\\\\n",
    "    2b + 1m + 3c = 15 \\\\\n",
    "\\end{cases}\n",
    "$$"
   ]
  },
  {
   "attachments": {},
   "cell_type": "markdown",
   "metadata": {},
   "source": [
    "### Which of the following matrices represents the system of equations?\n",
    "***\n",
    "**Answer:**\n",
    "$$\n",
    "\\begin{bmatrix}\n",
    "    2 & 1 & 5 \\\\\n",
    "    1 & 2 & 1 \\\\\n",
    "    2 & 1 & 3 \\\\\n",
    "\\end{bmatrix}\n",
    "$$"
   ]
  },
  {
   "cell_type": "code",
   "execution_count": 2,
   "metadata": {},
   "outputs": [
    {
     "name": "stdout",
     "output_type": "stream",
     "text": [
      "-6.0\n"
     ]
    }
   ],
   "source": [
    "S = np.array([[2, 1, 5],\n",
    "             [1, 2, 1],\n",
    "             [2, 1, 3]])\n",
    "det_S = np.linalg.det(S)\n",
    "print(det_S)"
   ]
  },
  {
   "cell_type": "code",
   "execution_count": 3,
   "metadata": {},
   "outputs": [
    {
     "name": "stdout",
     "output_type": "stream",
     "text": [
      "[2.5 2.5 2.5]\n"
     ]
    }
   ],
   "source": [
    "A = S\n",
    "b = np.array([20, 10, 15])\n",
    "X = np.linalg.solve(A, b)\n",
    "print(X)"
   ]
  },
  {
   "cell_type": "code",
   "execution_count": 7,
   "metadata": {},
   "outputs": [
    {
     "name": "stdout",
     "output_type": "stream",
     "text": [
      "9.000000000000002\n",
      "6.0\n",
      "-1.3322676295501811e-15\n"
     ]
    }
   ],
   "source": [
    "S = np.array([[2, 1, 5],\n",
    "              [1, 2, 1]])\n",
    "r_1 = np.array([1, 3, 3])\n",
    "r_2 = np.array([1, 2, 3])\n",
    "r_3 = np.array([3, 3, 6])\n",
    "\n",
    "S_1 = np.concatenate((S, [r_1]), axis = 0)\n",
    "det_S_1 = np.linalg.det((S_1))\n",
    "print(det_S_1)\n",
    "\n",
    "S_2 = np.concatenate((S, [r_2]), axis = 0)\n",
    "det_S_2 = np.linalg.det((S_2))\n",
    "print(det_S_2)\n",
    "\n",
    "S_3 = np.concatenate((S, [r_3]), axis = 0)\n",
    "det_S_3 = np.linalg.det((S_3))\n",
    "print(det_S_3)"
   ]
  },
  {
   "cell_type": "code",
   "execution_count": 8,
   "metadata": {},
   "outputs": [
    {
     "name": "stdout",
     "output_type": "stream",
     "text": [
      "0.0\n"
     ]
    }
   ],
   "source": [
    "S = np.array([[1, 2, 3],\n",
    "             [0, 2, 2],\n",
    "             [1, 4, 5]])\n",
    "det_S = np.linalg.det(S)\n",
    "print(det_S)"
   ]
  }
 ],
 "metadata": {
  "kernelspec": {
   "display_name": "base",
   "language": "python",
   "name": "python3"
  },
  "language_info": {
   "codemirror_mode": {
    "name": "ipython",
    "version": 3
   },
   "file_extension": ".py",
   "mimetype": "text/x-python",
   "name": "python",
   "nbconvert_exporter": "python",
   "pygments_lexer": "ipython3",
   "version": "3.9.12"
  },
  "orig_nbformat": 4
 },
 "nbformat": 4,
 "nbformat_minor": 2
}
