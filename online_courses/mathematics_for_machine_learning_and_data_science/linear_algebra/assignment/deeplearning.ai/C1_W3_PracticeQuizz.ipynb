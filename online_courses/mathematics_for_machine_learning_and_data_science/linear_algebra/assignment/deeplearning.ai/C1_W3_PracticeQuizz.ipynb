{
 "cells": [
  {
   "cell_type": "code",
   "execution_count": null,
   "metadata": {},
   "outputs": [],
   "source": [
    "import numpy as np\n",
    "import math"
   ]
  },
  {
   "attachments": {},
   "cell_type": "markdown",
   "metadata": {},
   "source": [
    "# Eigenvalues and Eigenvectors - Practiced Quiz"
   ]
  },
  {
   "cell_type": "code",
   "execution_count": null,
   "metadata": {},
   "outputs": [],
   "source": [
    "u = np.array([1, 0, 7], dtype = float)\n",
    "v = np.array([0, -1, 2], dtype= float)\n",
    "dist = np.linalg.norm(u - v)\n",
    "print(dist)"
   ]
  },
  {
   "cell_type": "code",
   "execution_count": null,
   "metadata": {},
   "outputs": [],
   "source": [
    "P = np.array([1, 0, -3], dtype = float)\n",
    "Q = np.array([-1, 0, -3], dtype= float)\n",
    "dist = np.linalg.norm(P - Q)\n",
    "print(dist)"
   ]
  },
  {
   "cell_type": "code",
   "execution_count": null,
   "metadata": {},
   "outputs": [],
   "source": [
    "v = np.array([1, -5, 2, 0, -3], dtype = float)\n",
    "v_norm = np.linalg.norm(v)\n",
    "print(v_norm)"
   ]
  },
  {
   "cell_type": "code",
   "execution_count": null,
   "metadata": {},
   "outputs": [],
   "source": [
    "a = np.array([0, 0, 0, 0], dtype = float)\n",
    "b = np.array([2, 2, 2, 2], dtype = float)\n",
    "c = np.array([1, 2, -3], dtype = float)\n",
    "d = np.array([1, 0, -2, 0, -1], dtype = float)\n",
    "e = np.array([2, 5], dtype = float)\n",
    "\n",
    "vectors = [a, b, c, d, e]\n",
    "for _ , vector in enumerate(vectors):\n",
    "    print(np.linalg.norm(vector))"
   ]
  },
  {
   "cell_type": "code",
   "execution_count": null,
   "metadata": {},
   "outputs": [],
   "source": [
    "a = np.array([-1, 5, 2], dtype = float)\n",
    "b = np.array([-3, 6, -4], dtype = float)\n",
    "print(np.dot(a, b))\n"
   ]
  },
  {
   "cell_type": "code",
   "execution_count": null,
   "metadata": {},
   "outputs": [],
   "source": [
    "M_1 = np.array([[2, -1],\n",
    "               [3, -3]], dtype = float)\n",
    "M_2 = np.array([[5, -2],\n",
    "               [0,  1]], dtype = float)\n",
    "print(np.dot(M_1, M_2))"
   ]
  },
  {
   "cell_type": "code",
   "execution_count": null,
   "metadata": {},
   "outputs": [],
   "source": [
    "w = np.array([-9, -1], dtype = float)\n",
    "z = np.array([-3, -5], dtype = float)\n",
    "print(np.dot(w, z))"
   ]
  },
  {
   "attachments": {},
   "cell_type": "markdown",
   "metadata": {},
   "source": [
    "# Eigenvalues and Eigenvectors - Graded Quiz"
   ]
  },
  {
   "cell_type": "code",
   "execution_count": null,
   "metadata": {},
   "outputs": [],
   "source": [
    "A = np.array([[2, 1], \n",
    "              [-3, 6]], dtype = float)\n",
    "char_polys = np.poly(A)\n",
    "print(char_polys)"
   ]
  }
 ],
 "metadata": {
  "kernelspec": {
   "display_name": "base",
   "language": "python",
   "name": "python3"
  },
  "language_info": {
   "codemirror_mode": {
    "name": "ipython",
    "version": 3
   },
   "file_extension": ".py",
   "mimetype": "text/x-python",
   "name": "python",
   "nbconvert_exporter": "python",
   "pygments_lexer": "ipython3",
   "version": "3.9.16"
  },
  "orig_nbformat": 4
 },
 "nbformat": 4,
 "nbformat_minor": 2
}
