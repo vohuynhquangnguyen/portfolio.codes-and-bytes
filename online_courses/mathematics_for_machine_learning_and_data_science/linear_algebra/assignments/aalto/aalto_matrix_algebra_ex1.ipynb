{
 "cells": [
  {
   "cell_type": "code",
   "execution_count": null,
   "metadata": {},
   "outputs": [],
   "source": [
    "import numpy as np\n",
    "import math"
   ]
  },
  {
   "attachments": {},
   "cell_type": "markdown",
   "metadata": {},
   "source": [
    "# Problem 1\n",
    "This exercise is extracted from the first homework of the course **MS-A001 Matrix Algebra** offerred by Aalto University, Finland.\n",
    "\n",
    "Are the following triples linearly dependent or independent?\n",
    "1. $(1, 1, 0)^ T$, $(0, 1, 1)^T$, and $(1, 0, 1)^T$ in $\\mathbb{R}^3$ \n",
    "2. $(1, 2, 5)^ T$, $(-1, 0, 1)^T$, and $(0, 1, 3)^T$ in $\\mathbb{R}^3$ \n",
    "3. $(\\pi, 19)^ T$, $(e, 1)^T$, and $(0, 17)^T$ in $\\mathbb{R}^2$ "
   ]
  },
  {
   "attachments": {},
   "cell_type": "markdown",
   "metadata": {},
   "source": [
    "**Solution**\n",
    "\n",
    "To find out whether a triple of column vectors is linearly dependent or independent, we need to:\n",
    "* Transform these column vectors to row vectors using the transpose operation.\n",
    "* Construct the corresponding matrix with these vectors as matrix rows.\n",
    "* Compute the determinant of this matrix: $\\det(A) \\neq 0 \\rightarrow$ linearly independent, otherwise the matrix is linearly dependent.\n",
    "\n",
    "Thus,\n",
    "1. The constructed matrix is $\\mathbf{A} = \\begin{bmatrix} 1 & 1 & 0 \\\\ 0 & 1 & 1 \\\\ 1 & 0 & 1 \\\\ \\end{bmatrix}$, and its determinant is $\\det(\\mathbf{A}) = 2$. Therefore, this triple is linearly independent.\n",
    "2. The constructed matrix is $\\mathbf{B} = \\begin{bmatrix} 1 & 2 & 5 \\\\ -1 & 0 & 1 \\\\ 0 & 1 & 3 \\\\ \\end{bmatrix}$, and its determinant is $\\det(\\mathbf{B}) = 0$. Therefore, this triple is linearly dependent.\n",
    "3. The constructed matrix is $\\mathbf{C} = \\begin{bmatrix} \\pi & 19 \\\\ e & 1 \\\\ 0 & 17 \\\\ \\end{bmatrix}$. Since this is not a square matrix, we have to divide this matrix into three smaller subsets that are $\\mathbf{C}_1 = \\begin{bmatrix} \\pi & 19 \\\\ e & 1 \\\\ \\end{bmatrix}$, $\\mathbf{C}_2 = \\begin{bmatrix} e & 1 \\\\ 0 & 17 \\\\ \\end{bmatrix}$, and $\\mathbf{C}_3 = \\begin{bmatrix} \\pi & 19 \\\\ 0 & 17 \\\\ \\end{bmatrix}$. The determinants of these subsets are $\\det(\\mathbf{C}_1) \\approx -48.505$, $\\det(\\mathbf{C}_2) \\approx 46.211$, and $\\det(\\mathbf{C}_3) \\approx 53.407$. Therefore, this triple is linearly independent.\n"
   ]
  },
  {
   "cell_type": "code",
   "execution_count": null,
   "metadata": {},
   "outputs": [],
   "source": [
    "A = np.array([[1, 1, 0],\n",
    "              [0, 1, 1],\n",
    "              [1, 0, 1]], dtype = float)\n",
    "print(np.linalg.det(A))\n",
    "\n",
    "B = np.array([[1, 2, 5],\n",
    "              [-1, 0, 1],\n",
    "              [0, 1, 3]], dtype = float)\n",
    "print(np.linalg.det(B))\n",
    "\n",
    "C = np.array([[math.pi, 19],\n",
    "              [math.exp(1), 1],\n",
    "              [0, 17]], dtype = float)\n",
    "print(np.linalg.det(C[ : 2, :]))\n",
    "print(np.linalg.det(C[1 : , :]))\n",
    "print(np.linalg.det(np.vstack((C[0, :], C[-1, :]))))\n"
   ]
  },
  {
   "cell_type": "code",
   "execution_count": null,
   "metadata": {},
   "outputs": [],
   "source": []
  }
 ],
 "metadata": {
  "kernelspec": {
   "display_name": "base",
   "language": "python",
   "name": "python3"
  },
  "language_info": {
   "codemirror_mode": {
    "name": "ipython",
    "version": 3
   },
   "file_extension": ".py",
   "mimetype": "text/x-python",
   "name": "python",
   "nbconvert_exporter": "python",
   "pygments_lexer": "ipython3",
   "version": "3.9.16"
  },
  "orig_nbformat": 4
 },
 "nbformat": 4,
 "nbformat_minor": 2
}
