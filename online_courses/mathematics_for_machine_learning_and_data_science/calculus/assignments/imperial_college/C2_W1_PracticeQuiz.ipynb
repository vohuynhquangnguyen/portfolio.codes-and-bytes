{
 "cells": [
  {
   "cell_type": "code",
   "execution_count": 2,
   "metadata": {},
   "outputs": [],
   "source": [
    "import sympy as smp\n",
    "import numpy as np"
   ]
  },
  {
   "attachments": {},
   "cell_type": "markdown",
   "metadata": {},
   "source": [
    "We learned how to differentiate polynomials using the power rule $\\frac{d}{dx}a(x^b) = abx^{b-1}$. It might be helpful to remember this as \"multiply by the power, then reduce the power by one\". \n",
    "### Using the power rule, differentiate:\n",
    "$$173f(x) = x ^{173}$$\n",
    "\n",
    "***\n",
    "**Answer:**\n",
    "$$\n",
    "\\frac{d}{dx}x^{173} = 173x^{172}\n",
    "$$\n",
    "\n",
    "Solving using the `sympy` library in Python."
   ]
  },
  {
   "cell_type": "code",
   "execution_count": 7,
   "metadata": {},
   "outputs": [
    {
     "data": {
      "text/latex": [
       "$\\displaystyle 173 x^{172}$"
      ],
      "text/plain": [
       "173*x**172"
      ]
     },
     "execution_count": 7,
     "metadata": {},
     "output_type": "execute_result"
    }
   ],
   "source": [
    "x = smp.Symbol('x')\n",
    "f = x ** 173\n",
    "df = smp.Derivative(f, x, evaluate = True)\n",
    "df"
   ]
  },
  {
   "attachments": {},
   "cell_type": "markdown",
   "metadata": {},
   "source": [
    "The videos also introduced the sum rule: $\\frac{d}{dx}[f(x) + g(x)] = \\frac{df(x)}{dx} + \\frac{dg(x)}{dx}$. This tells us that when differentiating a sum we can just differentiate each term separately and then add them together again. \n",
    "### Use the sum rule to differentiate:\n",
    "$$\n",
    "f(x) = x^2 + 7 + \\frac{1}{x}\n",
    "$$.\n",
    "\n",
    "***\n",
    "**Answer:**\n",
    "$$\n",
    "\\frac{d}{dx}f(x) = \\frac{d}{dx}\\Big [x^2 + 7 + \\frac{1}{x} \\Big] = \\frac{d}{dx}[x^2] + \\frac{d}{dx}[7] + \\frac{d}{dx}[\\frac{1}{x}] = 2x + 0 - \\frac{1}{x^2}\n",
    "$$\n",
    "​\n",
    "Solving using the `sympy` library in Python."
   ]
  },
  {
   "cell_type": "code",
   "execution_count": 8,
   "metadata": {},
   "outputs": [
    {
     "data": {
      "text/latex": [
       "$\\displaystyle 2 x - \\frac{1}{x^{2}}$"
      ],
      "text/plain": [
       "2*x - 1/x**2"
      ]
     },
     "execution_count": 8,
     "metadata": {},
     "output_type": "execute_result"
    }
   ],
   "source": [
    "x = smp.Symbol('x')\n",
    "f = x ** 2 + 7 + 1 / x\n",
    "df = smp.Derivative(f, x, evaluate = True)\n",
    "df"
   ]
  },
  {
   "attachments": {},
   "cell_type": "markdown",
   "metadata": {},
   "source": [
    "In the videos we saw that functions can be differentiated multiple times. \n",
    "### Differentiate this function twice to find its second derivative:\n",
    "$$\n",
    "f(x) = e^x + 2\\sin(x) + x^3\n",
    "$$\n",
    "\n",
    "***\n",
    "**Answer:**\n",
    "$$\n",
    "\\frac{d}{dx}f(x) = \\frac{d}{dx}[e^x] + \\frac{d}{dx}[2\\sin(x)] + \\frac{d}{dx}[x^3] = e^x + 2\\cos(x) + 3x^2 \\\\\n",
    "$$\n",
    "$$\n",
    "\\frac{d}{dx}\\Big(\\frac{d}{dx} \\Big)f(x) = \\frac{d^2}{dx^2}f(x) = \\frac{d}{dx}[e^x] + \\frac{d}{dx}[2\\cos(x)] + \\frac{d}{dx}[3x^2] = e^x - 2\\sin(x) + 6x\n",
    "$$\n",
    "\n",
    "Solving using the `sympy` library in Python."
   ]
  },
  {
   "cell_type": "code",
   "execution_count": 9,
   "metadata": {},
   "outputs": [
    {
     "data": {
      "text/latex": [
       "$\\displaystyle 6 x + e^{x} - 2 \\sin{\\left(x \\right)}$"
      ],
      "text/plain": [
       "6*x + exp(x) - 2*sin(x)"
      ]
     },
     "execution_count": 9,
     "metadata": {},
     "output_type": "execute_result"
    }
   ],
   "source": [
    "x = smp.Symbol('x')\n",
    "f = smp.exp(x) + 2 * smp.sin(x) + x ** 3\n",
    "df = smp.Derivative(f, x, evaluate = True)\n",
    "d2f = smp.Derivative(df, x, evaluate = True)\n",
    "d2f"
   ]
  },
  {
   "cell_type": "code",
   "execution_count": null,
   "metadata": {},
   "outputs": [],
   "source": []
  }
 ],
 "metadata": {
  "kernelspec": {
   "display_name": "base",
   "language": "python",
   "name": "python3"
  },
  "language_info": {
   "codemirror_mode": {
    "name": "ipython",
    "version": 3
   },
   "file_extension": ".py",
   "mimetype": "text/x-python",
   "name": "python",
   "nbconvert_exporter": "python",
   "pygments_lexer": "ipython3",
   "version": "3.9.16"
  },
  "orig_nbformat": 4
 },
 "nbformat": 4,
 "nbformat_minor": 2
}
