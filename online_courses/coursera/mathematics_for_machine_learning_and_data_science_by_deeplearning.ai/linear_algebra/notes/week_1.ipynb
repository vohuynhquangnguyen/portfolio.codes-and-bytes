{
 "cells": [
  {
   "attachments": {},
   "cell_type": "markdown",
   "metadata": {},
   "source": [
    "This notebook contains my notes including lecture notes, solutions to the graded quizz, etc. for Week 1 of the course."
   ]
  },
  {
   "cell_type": "code",
   "execution_count": 1,
   "metadata": {},
   "outputs": [],
   "source": [
    "import numpy as np"
   ]
  },
  {
   "cell_type": "code",
   "execution_count": 2,
   "metadata": {},
   "outputs": [
    {
     "name": "stdout",
     "output_type": "stream",
     "text": [
      "-6.0\n"
     ]
    }
   ],
   "source": [
    "S = np.array([[2, 1, 5],\n",
    "             [1, 2, 1],\n",
    "             [2, 1, 3]])\n",
    "det_S = np.linalg.det(S)\n",
    "print(det_S)"
   ]
  },
  {
   "cell_type": "code",
   "execution_count": 3,
   "metadata": {},
   "outputs": [
    {
     "name": "stdout",
     "output_type": "stream",
     "text": [
      "[2.5 2.5 2.5]\n"
     ]
    }
   ],
   "source": [
    "A = S\n",
    "b = np.array([20, 10, 15])\n",
    "X = np.linalg.solve(A, b)\n",
    "print(X)"
   ]
  },
  {
   "cell_type": "code",
   "execution_count": 7,
   "metadata": {},
   "outputs": [
    {
     "name": "stdout",
     "output_type": "stream",
     "text": [
      "9.000000000000002\n",
      "6.0\n",
      "-1.3322676295501811e-15\n"
     ]
    }
   ],
   "source": [
    "S = np.array([[2, 1, 5],\n",
    "              [1, 2, 1]])\n",
    "r_1 = np.array([1, 3, 3])\n",
    "r_2 = np.array([1, 2, 3])\n",
    "r_3 = np.array([3, 3, 6])\n",
    "\n",
    "S_1 = np.concatenate((S, [r_1]), axis = 0)\n",
    "det_S_1 = np.linalg.det((S_1))\n",
    "print(det_S_1)\n",
    "\n",
    "S_2 = np.concatenate((S, [r_2]), axis = 0)\n",
    "det_S_2 = np.linalg.det((S_2))\n",
    "print(det_S_2)\n",
    "\n",
    "S_3 = np.concatenate((S, [r_3]), axis = 0)\n",
    "det_S_3 = np.linalg.det((S_3))\n",
    "print(det_S_3)"
   ]
  },
  {
   "cell_type": "code",
   "execution_count": 8,
   "metadata": {},
   "outputs": [
    {
     "name": "stdout",
     "output_type": "stream",
     "text": [
      "0.0\n"
     ]
    }
   ],
   "source": [
    "S = np.array([[1, 2, 3],\n",
    "             [0, 2, 2],\n",
    "             [1, 4, 5]])\n",
    "det_S = np.linalg.det(S)\n",
    "print(det_S)"
   ]
  }
 ],
 "metadata": {
  "kernelspec": {
   "display_name": "base",
   "language": "python",
   "name": "python3"
  },
  "language_info": {
   "codemirror_mode": {
    "name": "ipython",
    "version": 3
   },
   "file_extension": ".py",
   "mimetype": "text/x-python",
   "name": "python",
   "nbconvert_exporter": "python",
   "pygments_lexer": "ipython3",
   "version": "3.9.12"
  },
  "orig_nbformat": 4
 },
 "nbformat": 4,
 "nbformat_minor": 2
}
