{
 "cells": [
  {
   "attachments": {},
   "cell_type": "markdown",
   "metadata": {},
   "source": [
    "This notebook contains my notes including lecture notes, solutions to the graded quizz, etc. for Week 2 of the course."
   ]
  },
  {
   "cell_type": "code",
   "execution_count": 1,
   "metadata": {},
   "outputs": [],
   "source": [
    "import numpy as np"
   ]
  },
  {
   "cell_type": "markdown",
   "metadata": {},
   "source": [
    "# Check your knowledge"
   ]
  },
  {
   "cell_type": "code",
   "execution_count": 2,
   "metadata": {},
   "outputs": [
    {
     "name": "stdout",
     "output_type": "stream",
     "text": [
      "[ 2.34782609 -1.13043478]\n"
     ]
    }
   ],
   "source": [
    "A = np.array([[4, 3],\n",
    "              [1, -5]], dtype = float)\n",
    "b = np.array([6, 8], dtype = float)\n",
    "\n",
    "det_A = np.linalg.det(A)\n",
    "if det_A != 0:\n",
    "    X = np.linalg.solve(A, b)\n",
    "    print(X)\n",
    "else:\n",
    "    print('Singular Matrix')"
   ]
  },
  {
   "cell_type": "code",
   "execution_count": 3,
   "metadata": {},
   "outputs": [
    {
     "name": "stdout",
     "output_type": "stream",
     "text": [
      "Singular Matrix\n"
     ]
    }
   ],
   "source": [
    "A = np.array([[4, 3, 1],\n",
    "              [1, -5, 7],\n",
    "              [5, -2, 8]], dtype = float)\n",
    "b = np.array([6, 8, 14], dtype = float)\n",
    "det_A = np.linalg.det(A)\n",
    "if det_A != 0:\n",
    "    X = np.linalg.solve(A, b)\n",
    "    print(X)\n",
    "else:\n",
    "    print('Singular Matrix')"
   ]
  },
  {
   "cell_type": "code",
   "execution_count": 5,
   "metadata": {},
   "outputs": [
    {
     "name": "stdout",
     "output_type": "stream",
     "text": [
      "[1.50000000e+01 8.63506797e-16 5.00000000e+00]\n"
     ]
    }
   ],
   "source": [
    "A = np.array([[7, 5, 3],\n",
    "              [3, 2, 5],\n",
    "              [1, 2, 1]], dtype = float)\n",
    "b = np.array([120, 70, 20], dtype = float)\n",
    "det_A = np.linalg.det(A)\n",
    "if det_A != 0:\n",
    "    X = np.linalg.solve(A, b)\n",
    "    print(X)\n",
    "else:\n",
    "    print('Singular Matrix')"
   ]
  },
  {
   "cell_type": "code",
   "execution_count": 11,
   "metadata": {},
   "outputs": [
    {
     "name": "stdout",
     "output_type": "stream",
     "text": [
      "[-1.  5.]\n",
      "-10.999999999999996\n",
      "-5.8619775700208026e-15\n"
     ]
    }
   ],
   "source": [
    "A = np.array([[1, 1],\n",
    "              [-6, 2]], dtype = float)\n",
    "b = np.array([4, 16], dtype = float)\n",
    "x = np.linalg.solve(A,b)\n",
    "print(x)\n",
    "\n",
    "A = np.array([[4, -3],\n",
    "              [7, -8]], dtype = float)\n",
    "det_A = np.linalg.det(A)\n",
    "print(det_A)\n",
    "\n",
    "B = np.array([[-3, 8, 1],\n",
    "              [2, 2, -1],\n",
    "              [-5, 6, 2]], dtype = float)\n",
    "det_B = np.linalg.det(B)\n",
    "print(det_B)"
   ]
  },
  {
   "cell_type": "code",
   "execution_count": 6,
   "metadata": {},
   "outputs": [
    {
     "name": "stdout",
     "output_type": "stream",
     "text": [
      "2\n",
      "1\n",
      "3\n"
     ]
    }
   ],
   "source": [
    "A = np.array([[0, 1, 1],\n",
    "              [2, 4, 2],\n",
    "              [1, 2, 1]], dtype = float)\n",
    "rank_A = np.linalg.matrix_rank(A)\n",
    "print(rank_A)\n",
    "\n",
    "B = np.array([[7.5, 5, 12.5],\n",
    "              [3, 2, 5],\n",
    "              [0, 0, 0]], dtype = float)\n",
    "rank_B = np.linalg.matrix_rank(B)\n",
    "print(rank_B)\n",
    "\n",
    "C = np.array([[7, 5, 3],\n",
    "              [3, 2, 5],\n",
    "              [1, 2, 1]], dtype = float)\n",
    "rank_C = np.linalg.matrix_rank(C)\n",
    "print(rank_C)"
   ]
  },
  {
   "cell_type": "code",
   "execution_count": 8,
   "metadata": {},
   "outputs": [
    {
     "name": "stdout",
     "output_type": "stream",
     "text": [
      "1\n",
      "2\n"
     ]
    }
   ],
   "source": [
    "A = np.array([[1, 1],\n",
    "              [2, 2]], dtype = float)\n",
    "rank_A = np.linalg.matrix_rank(A)\n",
    "print(rank_A)\n",
    "\n",
    "B = np.array([[5, 2],\n",
    "              [10, 3]], dtype = float)\n",
    "rank_B = np.linalg.matrix_rank(B)\n",
    "print(rank_B)"
   ]
  }
 ],
 "metadata": {
  "kernelspec": {
   "display_name": "base",
   "language": "python",
   "name": "python3"
  },
  "language_info": {
   "codemirror_mode": {
    "name": "ipython",
    "version": 3
   },
   "file_extension": ".py",
   "mimetype": "text/x-python",
   "name": "python",
   "nbconvert_exporter": "python",
   "pygments_lexer": "ipython3",
   "version": "3.9.16"
  },
  "orig_nbformat": 4
 },
 "nbformat": 4,
 "nbformat_minor": 2
}
