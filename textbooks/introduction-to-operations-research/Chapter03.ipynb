{
 "cells": [
  {
   "cell_type": "markdown",
   "metadata": {},
   "source": [
    "### Exercise 1.1\n",
    "Note: this exercise is from the **Linear Programming** textbook by Vanderbei.\n",
    "\n",
    "Denote $x$ as the number of tons of bands, and $y$ as the number of tons of coils should be produced. The number of tons produced for these two products must be (1) non-negative, (2) lesser or equal to the upper bounds, and (3) constrained by the production rate and the production time. Besides, our objective is to maximize the profits of these two products, which is given as: $25x + 30y$. \n",
    "\n",
    "Therefore, our linear programming problem is formulated as follows:\n",
    "$$\n",
    "\\text{max} \\quad 25x + 30y\n",
    "$$\n",
    "s.t.\n",
    "$$\n",
    "\\begin{cases}\n",
    "x \\leq 6000 \\\\\n",
    "y \\leq 4000 \\\\\n",
    "x \\leq 200\\times40 = 8000 \\\\\n",
    "y \\leq 140\\times40 = 5600 \\\\\n",
    "x, y \\geq 0 \\\\\n",
    "\\end{cases}\n",
    "$$"
   ]
  },
  {
   "cell_type": "markdown",
   "metadata": {},
   "source": [
    "### Problem 3.1-9\n",
    "b.\n",
    "\n",
    "Denote $x_1$ as the number of wood-framed windows and $x_2$ as the number of aluminum-framed windows. Our objective is to maximize the total profits, which is expressed as: $300x_1 + 150x_2$. The production of wood-framed and alumium-framed windows are constrained by the production rate of Doug, Linda and Bob.\n",
    "\n",
    "Therefore, our linear programming problem is formulated as follows:\n",
    "$$\n",
    "\\text{max} \\quad 300x_1 + 150x_2\n",
    "$$\n",
    "s.t.\n",
    "$$\n",
    "\\begin{cases}\n",
    "6x_1 + 8x_2 \\leq 48 \\\\\n",
    "x_1 \\leq 6 \\\\\n",
    "x_2 \\leq 4 \\\\\n",
    "x_1, x_2 \\geq 0\n",
    "\\end{cases}\n",
    "$$"
   ]
  },
  {
   "cell_type": "markdown",
   "metadata": {},
   "source": [
    "### Problem 3.1-10\n",
    "\n",
    "a. \n",
    "\n",
    "Denote $x_1$ as the number of Product 1 and $x_2$ as the number of Product 2. Our objective is to maximize the total profits, which is expressed as: $x_1 + 2x_2$. The production of these two products are constrained by the availability of frame parts and electric components as well as the demand for no excess of Product 2.\n",
    "\n",
    "Therefore, our linear programming is formulated as follows:\n",
    "$$\n",
    "\\text{min} \\quad x_1 + x_2\n",
    "$$\n",
    "s.t.\n",
    "$$\n",
    "\\begin{cases}\n",
    "x_1, x_2 \\geq 0 \\\\\n",
    "x_1 + 3x_2 \\leq 200 \\\\\n",
    "2x_1 + 2x_2 \\leq 300 \\\\\n",
    "x_2 \\leq 60\n",
    "\\end{cases}\n",
    "$$"
   ]
  },
  {
   "cell_type": "code",
   "execution_count": null,
   "metadata": {
    "vscode": {
     "languageId": "plaintext"
    }
   },
   "outputs": [],
   "source": []
  },
  {
   "cell_type": "markdown",
   "metadata": {},
   "source": []
  }
 ],
 "metadata": {
  "language_info": {
   "name": "python"
  },
  "orig_nbformat": 4
 },
 "nbformat": 4,
 "nbformat_minor": 2
}
