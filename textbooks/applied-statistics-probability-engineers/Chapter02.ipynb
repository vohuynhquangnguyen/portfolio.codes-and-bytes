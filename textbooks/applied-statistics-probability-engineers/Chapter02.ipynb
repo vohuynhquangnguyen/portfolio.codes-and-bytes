{
 "cells": [
  {
   "cell_type": "markdown",
   "metadata": {},
   "source": [
    "## Section 2.5"
   ]
  },
  {
   "cell_type": "markdown",
   "metadata": {},
   "source": [
    "### Problem 2.5.1\n",
    "Denote $T$ as the event a leaf completes a textual transformation and $C$ as the event a leaf completes a color transformation.\n",
    "\n",
    "a.\n",
    "\n",
    "The probability that a leaf will complete the textural transformation given that it completes the color transformation is computed as:\n",
    "$$\n",
    "P(T|C) = \\frac{P(T,C)}{P(C)} = \\frac{\\frac{243}{243 + 26 + 13 +18}}{\\frac{243 + 26}{243 + 26 + 13 +18}} \\approx 0.9033 \n",
    "$$\n",
    "\n",
    "b.\n",
    "\n",
    "The probability a leaf will complete the color\n",
    "transformation given that it does not complete the textural transformation is computed as:\n",
    "$$\n",
    "P(C|T^C) = \\frac{P(C,T^C)}{P(T^C)} = \\frac{\\frac{26}{243 + 26 + 13 +18}}{\\frac{26 + 18}{243 + 26 + 13 +18}} \\approx 0.5909 \n",
    "$$"
   ]
  },
  {
   "cell_type": "markdown",
   "metadata": {},
   "source": [
    "### Problem 2.5.2\n",
    "Let $A$ denote the event that a sample has low melanin content, and let $B$ denote the event that a sample has high moisture content.\n",
    "\n",
    "a. \n",
    "$$\n",
    "P(A) = \\frac{7+32}{100} = 0.39\n",
    "$$\n",
    "\n",
    "b.\n",
    "$$\n",
    "P(B) = \\frac{13+7}{100} = 0.5\n",
    "$$\n",
    "\n",
    "c. \n",
    "$$\n",
    "P(A|B) = \\frac{P(A,B)}{P(B)} = \\frac{7/100}{0.5} = 0.14\n",
    "$$\n",
    "\n",
    "d. \n",
    "$$\n",
    "P(B|A) = \\frac{P(B,A)}{P(A)} = \\frac{7/100}{0.39} \\approx 0.1795\n",
    "$$\n"
   ]
  },
  {
   "cell_type": "markdown",
   "metadata": {},
   "source": [
    "### Problem 2.5.3\n",
    "Denote $A$ as the event deceased beetles are under high autolysis, and $P$ as the event  the deceased beetles are under high putrefaction.\n",
    "\n",
    "a. \n",
    "\n",
    "The probability that the putrefaction is low given that the autolysis of a sample is high is computed as:\n",
    "$$\n",
    "P(P^C|A) = \\frac{P(P^C,A)}{P(A)} = \\frac{\\frac{18}{14 + 18 + 59 + 9}}{\\frac{14 + 18}{14 + 18 + 59 + 9}} = 0.5625\n",
    "$$\n",
    "\n",
    "b. The probability that the autolysis is high given that the putrefaction of a sample is high is computed as:\n",
    "$$\n",
    "P(A|P) = \\frac{P(A,P)}{P(P)} = \\frac{\\frac{14}{14 + 18 + 59 + 9}}{\\frac{14+59}{14 + 18 + 59 + 9}} = 0.1918\n",
    "$$\n",
    "\n",
    "c. The probability that the autolysis is low given that the putrefaction of a sample is low is computed as:\n",
    "$$\n",
    "P(A^C|P^C) = \\frac{\\frac{9}{14 + 18 + 59 + 9}}{\\frac{18+9}{14 + 18 + 59 + 9}} \\approx 0.3333\n",
    "$$\n"
   ]
  },
  {
   "cell_type": "markdown",
   "metadata": {},
   "source": [
    "### Problem 2.5.6\n",
    "A batch of 500 containers for frozen orange juice contains 5 that are defective. Three are selected, at random, without\n",
    "replacement from the batch.\n",
    "\n",
    "Denote $D$ as the event where a selected batch is defective, and $X_1$, $X_2$, $X_3$ are each of the selected batch, respectively.\n",
    "\n",
    "a.\n",
    "\n",
    "The probability that the second one selected is defective given that the first one was defective:\n",
    "$$\n",
    "P(X_2 = D|X_1 = D) = \\frac{4}{499}\n",
    "$$\n",
    "since when the batch is selected in the first pick and is defective, 499 batches would remain, 4 of which are defective, and the rest are acceptable.\n",
    "\n",
    "b. \n",
    "\n",
    "The probability that the first two selected are defective is computed as:\n",
    "$$\n",
    "P(X_1 = D, X_2 = D) = \\frac{5}{500}\\times\\frac{4}{499}\n",
    "$$\n",
    "\n",
    "c. \n",
    "\n",
    "The probability that the first two selected are both\n",
    "acceptable is computed as:\n",
    "$$\n",
    "P(X_1 = D^C, X_2 = D^C)=\\frac{500 -5}{500}\\times\\frac{499 - 5}{499}\n",
    "$$\n",
    "\n",
    "d. \n",
    "\n",
    "The probability that the third one selected is\n",
    "defective given that the first and second ones selected were defective is computed as:\n",
    "$$\n",
    "P(X_3 = D|X_1 = D, X_2 = D) = \\frac{5}{500}\\times\\frac{4}{499}\n",
    "$$\n",
    "\n",
    "e. \n",
    "\n",
    "The probability that the third one selected is defective given that the first one selected was defective and the\n",
    "second one selected was okay\n",
    "$$\n",
    "P(X_3 = |X_1 = D, X_2 = D^C) = \\frac{5}{500}\\times\\frac{499 - 4}{499}\n",
    "$$\n",
    "\n",
    "f. \n",
    "\n",
    "The probability that all three selected ones are defective is computed as:\n",
    "$$\n",
    "P(X_1 = D, X_2 = D, X_3 = D) = \\frac{5}{500}\\times\\frac{4}{499}\\times\\frac{3}{498}\n",
    "$$"
   ]
  },
  {
   "cell_type": "markdown",
   "metadata": {},
   "source": [
    "### Problem 2.5.8\n",
    "a. \n",
    "\n",
    "The probability that an egg survies to adulthood is computed as:\n",
    "$$\n",
    "P(\\text{adulthood}) = \\frac{31}{421}\n",
    "$$\n",
    "\n",
    "b. \n",
    "\n",
    "The probability of survival to adulthood given survival to the late larvae stage is computed as:\n",
    "$$\n",
    "P(\\text{adulthood}|\\text{late larvae}) = \\frac{31}{306}\n",
    "$$\n",
    "\n",
    "c.\n",
    "\n",
    "The probability of survival from one stage to another is computed as:\n",
    "$$\n",
    "\\begin{cases}\n",
    "\n",
    "\\end{cases}\n",
    "$$\n"
   ]
  },
  {
   "cell_type": "markdown",
   "metadata": {},
   "source": [
    "## Section 2.6"
   ]
  },
  {
   "cell_type": "markdown",
   "metadata": {},
   "source": [
    "### Problem 2.6.1\n",
    "a.\n",
    "$$\n",
    "P(A\\cap B) = P(A|B)\\times P(B) = 0.4\\times0.5 = 0.2\n",
    "$$\n",
    "\n",
    "b.\n",
    "$$\n",
    "P(A^C\\cap B) = P(A^C|B)\\times P(B) = \\Big(1 - P(A|B)\\Big)P(B) = (1 - 0.4)0.5 = 0.3\n",
    "$$\n",
    "\n",
    "### Problem 2.6.2\n",
    "$$\n",
    "P(A|B) = \\frac{P(A,B)}{P(B)}\n",
    "$$\n",
    "$$\n",
    "P(A|B^C) = \\frac{P(A,B^C)}{P(B^C)}\n",
    "$$\n",
    "According to the rule of total probability, $P(A,B^C) + P(A,B) = P(A)$. Therefore, $P(A)$ is computed as:\n",
    "$$\n",
    "P(A) = P(A|B)\\bullet P(B) + P(A|B^C)\\times P(B^C) = 0.2\\times0.8 + 0.3\\times(1-0.8)=0.22\n",
    "$$"
   ]
  },
  {
   "cell_type": "markdown",
   "metadata": {},
   "source": [
    "### Problem 2.6.3\n",
    "Denote $C$ as the condition of the connector, whose outcomes are either dry (0) or wet (1), and $S$ as the status of the connector, whose outcomes are either failure (1) or functional (0). Therefore,\n",
    "* The probability that the connector fails when it is kept dry can be denoted as $P(S = 1|C = 0)$, and $P(S = 1|C = 0) = 0.01$.\n",
    "* The probability that the connector fails when it is wet can be denoted as $P(S = 1|C = 1)$, and $P(S = 1, C = 1) = 0.05$.\n",
    "* The probability that the connectors are kept dry can be denoted as $P(C = 0)$, and $P(C = 0) = 0.9$\n",
    "* The probability that the connectors are wet can be denoted as $P(C = 1)$, and $P(C = 1) = 0.1$\n",
    "\n",
    "Thus, the probability that the connectors fail is computed as:\n",
    "$$\n",
    "P(S = 1) = P(S =1|C = 0)\\times P(C=0) + P(S =1 |C = 1)\\times P(C = 1) = 0.01\\times0.9 + 0.05\\times0.1 = 0.014\n",
    "$$"
   ]
  },
  {
   "cell_type": "markdown",
   "metadata": {},
   "source": [
    "### Problem 2.6.4\n",
    "Denote $H$ as the event where a heart failure occurs, whose outcomes are either $NC$ (due to natural occurances), and $OF$ (due to outside factors). Within $NC$, there are three possible outcomes namely arterial blockage $NC_1$, disease $NC_2$ and infection $NC_3$. On the other hand, within $OF$, there are two possible outcomes namely induced substances $OF_1$ and foreign objects $OF_2$.\n",
    "\n",
    "a.\n",
    "\n",
    "The probability that a failure is due to an induced substance is computed as:\n",
    "$$\n",
    "P(H = OF_1) = P(H = OF)\\times P(OF_1) = 0.13\\times 0.73 = 0.0949\n",
    "$$\n",
    "\n",
    "b.\n",
    "\n",
    "The probability that a failure is due to disease or infection. \n",
    "$$\n",
    "\\begin{aligned}\n",
    "P(H = NC_2 \\cup H = NC_3) &= P(H = NC_2) +  P(H = NC_3) \\\\\n",
    "&= P(H = NC)\\times P(NC_2) + P(H = NC)\\times P(NC_3) \\\\\n",
    "&= 0.87\\times0.27 + 0.87\\times0.17 = 0.3828\n",
    "\\end{aligned} \n",
    "$$"
   ]
  },
  {
   "cell_type": "markdown",
   "metadata": {},
   "source": [
    "### Problem 2.6.5\n",
    "Denote $K$ as the condition of the knife, whose outcomes are new $K_1$, average $K_2$, and dull $K_3$. Meanwhile, denote $ER$ as the condition of the edge roughness, whose outcomes are either not exhibiting $ER_1$ or exhibiting $ER_2$. Therefore, the proportion of paper products that exhibit edge roughness is computed as:\n",
    "$$\n",
    "\\begin{aligned}\n",
    "P(ER = ER_2) &= P(ER_2|K_1)\\times P(K_1) + P(ER_2|K_2)\\times P_(K_2) + P(ER_2|K_3)\\times P(K_3) \\\\\n",
    "&= 0.01\\times0.25 + 0.03\\times0.6+ 0.5\\times0.15 \\\\\n",
    "&= 0.0955\n",
    "\\end{aligned}\n",
    "$$\n"
   ]
  },
  {
   "cell_type": "markdown",
   "metadata": {},
   "source": [
    "### Problem 2.6.6\n",
    "a.\n",
    "\n",
    "The probability that second chip selected to be defective is computed as:\n",
    "$$\n",
    "P(X_2 = 1) = P(X_2 = 1|X_1 = 0) + P(X_2 = 1|X_1 = 1) = \\frac{20}{99}\\times\\frac{100-20}{100} + \\frac{19}{99}\\times\\frac{20}{100} = 0.2\n",
    "$$\n",
    "\n",
    "b. \n",
    "The probability that all are defective is computed as:\n",
    "$$\n",
    "P(X_1 = 1, X_2 = 1, X_3 = 1) = \\frac{20}{100}\\times\\frac{19}{99}\\times\\frac{18}{98} \\approx 0.0070\n",
    "$$"
   ]
  },
  {
   "cell_type": "markdown",
   "metadata": {},
   "source": [
    "### Problem 2.6.7"
   ]
  },
  {
   "cell_type": "markdown",
   "metadata": {},
   "source": [
    "### Problem 2.6.8"
   ]
  },
  {
   "cell_type": "markdown",
   "metadata": {},
   "source": [
    "## Section 2.7"
   ]
  },
  {
   "cell_type": "markdown",
   "metadata": {},
   "source": [
    "### Problem 2.7.1\n",
    "$B$ and $A^C$ are independent when $P(A^C,B) = P(B)\\times P(A^C)$. Hence, we need to check whether this relationship is true.\n",
    "* In this case, $P(B) = 0.8$ and $P(A^C) = 1 - P(A) = 1 - 0.3 = 0.7$. Therefore, $P(A^C)\\times P(B) = 0.7\\times0.8 = 0.56$.\n",
    "* Meanwhile, $P(A|B) = 1 - P(A^C|B)$. Thus, $P(A^C|B) = 1 - 0.3 = 0.7$. Therefore, $P(A^C,B) = P(A^C|B)\\times P(B) = 0.56$\n",
    "As a result, these events $B$ and $A^C$ are independent.s"
   ]
  },
  {
   "cell_type": "markdown",
   "metadata": {},
   "source": [
    "### Problem 2.7.2\n",
    "In this case, $A$ and $B$ are mutually exclusive events, so $P(A,B) = 0$. For $A$ and $B$ to be independent from one to another, $P(A,B) = P(A)\\times P(B)$. Since  $P(A,B) = 0 \\neq P(A)\\times P(B)$, these events are not independent."
   ]
  },
  {
   "cell_type": "markdown",
   "metadata": {},
   "source": [
    "### Problem 2.7.3\n",
    "Denote $A$ and $B$ as events that the first and second containers selected are defective, respectively.\n",
    "\n",
    "a.\n",
    "\n",
    "For $A$ and $B$ to be independent events, these relationship have to hold true:\n",
    "$$\n",
    "\\begin{cases}\n",
    "P(A,B) = P(A)\\times P(B) \\\\ \n",
    "P(A|B) = P(A|B^C) = P(A) \\\\\n",
    "P(B|A) = P(B|A^C) = P(B) \n",
    "\\end{cases}\n",
    "$$\n",
    "\n",
    "In this scenario, the probability that the first container is defective is given as $P(A) = \\frac{5}{500}$. Meanwhile, the probability that the second container is defective is given as $P(B) = \\frac{4}{499}$ as one defective container is already selected. Since the presence of $A$ influences the presence of $B$, $A$ and $B$ are not independent.\n",
    "\n",
    "b.\n",
    "When sampling were done with replacement, $A$ and $B$ would be independent because:\n",
    "* The probability that the first container is defective is $P(A) = \\frac{5}{500}$.\n",
    "* The probability that the second container is defective is still $P(B) = \\frac{5}{500}$ as even though the first selected container is defective, it is placed back into the batch for the next sample."
   ]
  },
  {
   "cell_type": "markdown",
   "metadata": {},
   "source": [
    "### Problem 2.7.4"
   ]
  },
  {
   "cell_type": "markdown",
   "metadata": {},
   "source": [
    "### Problem 2.7.11\n",
    "Denote\n",
    "* $A_1$,$A_2$ are elements in the first combination.\n",
    "* $B_1$,$B_2$ are elements in the second combination.\n",
    "* $C_1$, $C_2$ are elements in the third combination.\n",
    "\n",
    "In this circuitry,\n",
    "* The first combination works when either $A_1$ or $A_2$ works. Hence, the probability that the first combination works is computed as:\n",
    "$$\n",
    "\\begin{aligned}\n",
    "P(A) &= P(A_1,A_2) + P(A_1^C,A_2) + P(A_1,A_2^C) \\\\\n",
    "&= 0.9\\times0.95 + (1-0.9)\\times0.95 + 0.9\\times(1-0.95) \\\\\n",
    "&= 0.995\n",
    "\\end{aligned}\n",
    "$$\n",
    "\n",
    "* The second combination works when either $B_1$ or $B_2$ works. Hence, the probability that the second combination works is computed as:\n",
    "$$\n",
    "\\begin{aligned}\n",
    "P(B) &= P(B_1,B_2) + P(B_1^C,B_2) + P(B_1,B_2^C) \\\\\n",
    "&= 0.9\\times0.95 + (1-0.9)\\times0.95 + 0.9\\times(1-0.95) \\\\\n",
    "&= 0.995\n",
    "\\end{aligned}\n",
    "$$\n",
    "* The third combination works when either $C_1$ or $C_2$ works. Hence, the probability that the third combination works is computed as:\n",
    "$$\n",
    "\\begin{aligned}\n",
    "P(C) &= P(C_1,C_2) + P(C_1^C,C_2) + P(C_1,C_2^C) \\\\\n",
    "&= 0.8\\times0.9 + (1-0.8)\\times0.9 + 0.8\\times(1-0.9) \\\\\n",
    "&= 0.98\n",
    "\\end{aligned}\n",
    "$$\n",
    "\n",
    "* The circuit works when all these combinations work, hence\n",
    "$$\n",
    "P = P(A)\\times P(B) \\times P(C) \\approx 0.9702\n",
    "$$"
   ]
  },
  {
   "cell_type": "markdown",
   "metadata": {},
   "source": [
    "### Problem 2.7.12\n",
    "Denote $A$ and $B$ as the upper and lower branches of the circuit, respectively.\n",
    "* The probability that the upper branch works is computed as:\n",
    "$$\n",
    "P(A) = 0.9\\times0.8\\times0.7 = 0.504\n",
    "$$ \n",
    "* The probability that the lower branch works is computed as:\n",
    "$$\n",
    "P(B) = 0.95\\times0.95\\times0.95 = 0.8573\n",
    "$$\n",
    "\n",
    "In this scenario, the circuit operates when either of the branch works. Hence, the probability that the circuit operates is given as:\n",
    "$$\n",
    "\\begin{aligned}\n",
    "P &= P(A)\\times P(B) + P(A^C)\\times P(B) + P(A)\\times P(B^C) \\\\\n",
    "&= 0.504\\times0.8573 + (1-0.504)\\times0.8573 + 0.504\\times(1-0.8573) \\\\\n",
    "&\\approx 0.9292\n",
    "\\end{aligned}\n",
    "$$"
   ]
  },
  {
   "cell_type": "markdown",
   "metadata": {},
   "source": [
    "## Section 2.8"
   ]
  },
  {
   "cell_type": "markdown",
   "metadata": {},
   "source": [
    "### Problem 2.8.1"
   ]
  },
  {
   "cell_type": "markdown",
   "metadata": {},
   "source": [
    "### Problem 2.8.2\n",
    "According to Bayes' rule,\n",
    "$$\n",
    "P(B|A)\\times P(A) = P(A|B)\\times P(B) \\rightarrow P(B|A) = \\frac{P(A|B)\\times P(B) }{P(A)} = \\frac{}{}\n",
    "$$"
   ]
  }
 ],
 "metadata": {
  "kernelspec": {
   "display_name": "base",
   "language": "python",
   "name": "python3"
  },
  "language_info": {
   "codemirror_mode": {
    "name": "ipython",
    "version": 3
   },
   "file_extension": ".py",
   "mimetype": "text/x-python",
   "name": "python",
   "nbconvert_exporter": "python",
   "pygments_lexer": "ipython3",
   "version": "3.11.4"
  },
  "orig_nbformat": 4
 },
 "nbformat": 4,
 "nbformat_minor": 2
}
