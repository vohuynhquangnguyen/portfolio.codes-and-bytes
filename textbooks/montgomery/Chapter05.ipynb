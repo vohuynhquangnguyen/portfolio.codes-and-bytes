{
 "cells": [
  {
   "cell_type": "code",
   "execution_count": 1,
   "metadata": {},
   "outputs": [],
   "source": [
    "import numpy as np\n",
    "import sympy as sp\n",
    "from sympy import *\n",
    "from sympy import oo\n",
    "import math as m\n",
    "from scipy.stats import binom"
   ]
  },
  {
   "cell_type": "markdown",
   "metadata": {},
   "source": [
    "## Section 5.1"
   ]
  },
  {
   "cell_type": "markdown",
   "metadata": {},
   "source": [
    "### Problem 5.1.1\n",
    "Recall that $f_{X,Y}(x,y)$ is a joint probability distribution function of two random variables $X$ and $Y$ when it has the following properties:\n",
    "* $f_{X,Y}\\geq 0, \\quad \\forall x,y$\n",
    "* $\\sum_x\\sum_y = 1, \\quad \\forall x,y$\n",
    "\n",
    "According to the table, it is clear that these properties are satisfied. Hence, $f_{X,Y}(x,y)$ is a joint probability distribution function of $X$ and $Y$.\n",
    "\n",
    "a. \n",
    "$$\n",
    "P(X < 2.5, Y < 3) = f_{X,Y}(1.0, 1) + f_{X,Y}(1.5, 2) = 1/4 + 1/8 = 3/8\n",
    "$$\n",
    "\n",
    "b. \n",
    "$$\n",
    "P(X < 2.5) = f_{X,Y}(1.0, 1) + f_{X,Y}(1.5, 2) + f_{X,Y}(1.5, 3) = 1/4 + 1/8 + 1/4 = 5/8\n",
    "$$\n",
    "\n",
    "c. \n",
    "$$\n",
    "P(Y < 3) = f_{X,Y}(1.0, 1) + f_{X,Y}(1.5, 2) = 1/4 + 1/8 = 3/8\n",
    "$$\n",
    "\n",
    "d. \n",
    "$$\n",
    "P(X > 1.8, Y > 4.7) =  f_{X,Y}(3.0,5) = 1/4 + 1/8 = 1/8\n",
    "$$\n",
    "\n",
    "e. \n",
    "$$\n",
    "\\begin{aligned}\n",
    "E(X) &= \\sum_xxf_{X}(x) = (1.0)(1/4) + (1.5)(1/8 + 1/4) + (2.5)(1/4) + (3.0)(1/8) = 1.8125 \\\\\n",
    "V(X) &= E(X^2) - [E(X)]^2 = (1.0)^2(1/4) + (1.5)^2(1/8 + 1/4) + (2.5)^2(1/4) + (3.0)^2(1/8) - 1.8125^2 \\approx 0.4961 \\\\\n",
    "E(Y) &= \\sum_yyf_{Y}(y) = (1)(1/4) + (2)(1/8) + (3)(1/4) + (4)(1/4) + (5)(1/8) = 2.875 \\\\\n",
    "V(Y) &= E(Y^2) - [E(Y)]^2 = (1)^2(1/4) + (2)^2(1/8) + (3)^2(1/4) + (4)^2(1/4) + (5)^2(1/8) - 2.875^2 \\approx 1.8594 \n",
    "\\end{aligned}\n",
    "$$\n",
    "\n",
    "f.\n",
    "\n",
    "The marginal probability distribution of $X$ is given as:\n",
    "$$\n",
    "\\begin{cases}\n",
    "f_X(X = 1) = 1/4 \\\\\n",
    "f_X(X = 1.5) = 1/4 + 1/8 = 3/8 \\\\\n",
    "f_X(X = 2.5) = 1/4 \\\\\n",
    "f_X(X = 3.0) = 1/8 \\\\\n",
    "\\end{cases}\n",
    "$$"
   ]
  },
  {
   "cell_type": "markdown",
   "metadata": {},
   "source": [
    "\n",
    "\n",
    "### Problem 5.1.2\n",
    "Recall that $f_{X,Y}(x,y)$ is a joint probability distribution function of two random variables $X$ and $Y$ when it has the following properties:\n",
    "* $f_{X,Y}\\geq 0, \\quad \\forall x,y$\n",
    "* $\\sum_x\\sum_y = 1, \\quad \\forall x,y$\n",
    "\n",
    "According to the table, it is clear that these properties are satisfied. Hence, $f_{X,Y}(x,y)$ is a joint probability distribution function of $X$ and $Y$.\n",
    "\n",
    "a. \n",
    "$$\n",
    "P(X < 0.5, Y < 1.5) = f_{X,Y}(-1.0,-2) + f_{X,Y}(-0.5,-1) = 1/8 + 1/4 = 3/8\n",
    "$$ \n",
    "\n",
    "b. \n",
    "$$\n",
    "P(X < 0.5) = f_{X,Y}(-1.0,-2) + f_{X,Y}(-0.5,-1) = 1/8 + 1/4 = 3/8\n",
    "$$\n",
    "\n",
    "c. \n",
    "$$\n",
    "P(Y < 1.5) = f_{X,Y}(-1.0,-2) + f_{X,Y}(-0.5,-1) + f_{X,Y}(0.5, 1)= 1/8 + 1/4 + 1/2 = 7/8\n",
    "$$\n",
    "\n",
    "d. \n",
    "$$\n",
    "P(X > 0.25, Y < 4.5) = f_{X,Y}(0.5,-1) + f_{X,Y}(1.0,2) = 1/2 + 1/8 = 5/8\n",
    "$$\n",
    "\n",
    "e. \n",
    "$$\n",
    "\\begin{aligned}\n",
    "E(X) &= \\sum_xxf_{X}(x,y) = (-1.0)(1/8) + (-0.5)(1/4) + (0.5)(1/2) + (1.0)(1/8) = 0.125 \\\\\n",
    "V(X) &= E(X^2) - [E(X)]^2 = (-1.0)^2(1/8) + (-0.5)^2(1/4) + (0.5)^2(1/2) + (1.0)^2(1/8) - 0.125^2 \\approx 0.3125 \\\\\n",
    "E(Y) &= \\sum_yyf_{Y}(x,y) = (-2)(1/8) + (-1)(1/4) + (1)(1/2) + (2)(1/8) = 0.25 \\\\\n",
    "V(Y) &= E(Y^2) - [E(Y)]^2 = (1)^2(1/4) + (2)^2(1/8) + (3)^2(1/4) + (4)^2(1/4) + (5)^2(1/8) - 0.25^2 \\approx 1.6875\n",
    "\\end{aligned}\n",
    "$$\n",
    "\n",
    "f.\n",
    "\n",
    "The marginal probability distribution of $X$ is given as: \n",
    "$$\n",
    "\\begin{cases}\n",
    "f_X(X = -1.0) = 1/8 \\\\\n",
    "f_X(X = -0.5) = 1/4 \\\\\n",
    "f_X(X = 0.5) = 1/2 \\\\\n",
    "f_X(X = 1.0) = 1/8 \\\\\n",
    "\\end{cases}\n",
    "$$\n"
   ]
  },
  {
   "cell_type": "markdown",
   "metadata": {},
   "source": [
    "### Problem 5.1.3\n",
    "Let $X$ and $Y$ denote the number of bits with high and moderate distortion out of the three, respectively. Besides, we assume that the amount of distortion of each bit is to be independent.\n",
    "\n",
    "a. \n",
    "\n",
    "In this scenario, the joint probability distribution $f_{X,Y}(x,y)$ of $X$ and $Y$ is expressed as:\n",
    "$$\n",
    "f_{X,Y}(x,y) = \\binom{3}{x}(0.01)^x(1-0.01)^{3-x}\\binom{3-x}{y}(0.04)^y(1-0.04)^{3-x-y} \n",
    "$$\n",
    "with $ x+y \\leq 3$ and $x,y = \\{0, 1, 2, 3\\}$ \n",
    "\n",
    "b.\n",
    "\n",
    "The marginal probability distribution of $X$ is given as:\n",
    "$$\n",
    "f_X(x) = \\binom{3}{x}(0.01)^x(0.09)^{3-x}\n",
    "= \\begin{cases}\n",
    "P(X = 0) \\binom{3}{0}(0.01)^0(0.09)^{3-0} \\approx 0.9703 \\\\\n",
    "P(X = 1) \\binom{3}{1}(0.01)^1(0.09)^{3-1} \\approx 0.0294 \\\\\n",
    "P(X = 2) \\binom{3}{2}(0.01)^2(0.09)^{3-2} \\approx 0.0003 \\\\\n",
    "P(X = 3) \\binom{3}{3}(0.01)^3(0.09)^{3-3} \\approx 0 \\\\\n",
    "\\end{cases}\n",
    "$$\n",
    "\n",
    "c.\n",
    "\n",
    "The expected value of $X$ is given as:\n",
    "$$\n",
    "E(X) = np_X = 3\\times0.01 = 0.03\n",
    "$$"
   ]
  },
  {
   "cell_type": "code",
   "execution_count": 2,
   "metadata": {},
   "outputs": [
    {
     "data": {
      "text/plain": [
       "[0.9703, 0.0294, 0.0003, 0.0]"
      ]
     },
     "metadata": {},
     "output_type": "display_data"
    }
   ],
   "source": [
    "f_X = [round(binom.pmf(k = i, n = 3, p = 0.01),4) for i in range(4)]\n",
    "display(f_X)"
   ]
  },
  {
   "cell_type": "markdown",
   "metadata": {},
   "source": [
    "### Problem 5.1.4\n",
    "Let $X$ and $Y$ denote the number of pages in the sample with moderate and high graphics output, respectively.\n",
    "\n",
    "a.\n",
    "\n",
    "In this scenario, the joint probability distribution $f_{X,Y}(x,y)$ of $X$ and $Y$ is given as:\n",
    "$$\n",
    "f_{X,Y}(x,y) = \\frac{\\binom{30}{x}\\binom{10}{y}\\binom{60}{4-x-y}}{\\binom{100}{4}}\n",
    "$$\n",
    "with $x+y \\leq 4$ and $x,y = \\{0, 1, 2, 3, 4\\}$\n",
    "\n",
    "b.\n",
    "\n",
    "The marginal probability distribution of $X$ is given as:\n",
    "$$\n",
    "f_X(x) = \\sum_{y = 0}^{4 - x}f_{X,Y}(x,y) = \\sum_{y = 0}^{4 - x} \\frac{\\binom{30}{x}\\binom{10}{y}\\binom{60}{4-x-y}}{\\binom{100}{4}}\n",
    "$$\n",
    "\n",
    "c.\n",
    "\n",
    "The expected value of $X$ is given as:\n",
    "$$\n",
    "E(X) = \\sum_{x = 0}^4 x\\bullet f_{X}(x) = \\sum_{x = 0}^4 x \\bullet \\sum_{y = 0}^{4 - x}\\frac{\\binom{30}{x}\\binom{10}{y}\\binom{60}{4-x-y}}{\\binom{100}{4}}\n",
    "$$"
   ]
  },
  {
   "cell_type": "markdown",
   "metadata": {},
   "source": [
    "### Problem 5.1.5\n",
    "Let $X$ and $Y$ denote the number of items that will be identified as defective by inspecting devices 1 and 2, respectively. Moreover, we assume that the devices are independent.\n",
    "\n",
    "a.\n",
    "\n",
    "In this scenario, the joint probability distribution $f_{X,Y}(x,y)$ of $X$ and $Y$ is given as:\n",
    "$$\n",
    "f_{X,Y}(x,y) = \\binom{4}{x}(0.993)^x(1 - 0.993)^{4-x}\\binom{4}{y}(0.997)^y(1 - 0.997)^{4-y}\n",
    "$$\n",
    "with $x, y \\in \\{0, 1, 2, 3, 4\\}$\n",
    "\n",
    "b.\n",
    "\n",
    "The marginal probability distribution of $X$ is given as:\n",
    "$$\n",
    "f_X(x) = \\sum_{y=0}^{4}f_{X,Y}(x,y) = \\binom{4}{x}(0.993)^x(1 - 0.993)^{4-x} \\sum_{y=0}^{4}\\binom{4}{y}(0.997)^y(1 - 0.997)^{4-y}\n",
    "$$\n",
    "\n",
    "c.\n",
    "\n",
    "The expected value of $X$ is given as:\n",
    "$$\n",
    "E(X) = \\sum_{x=0}^{4}x \\bullet f_{X}(x) = \\sum_{x=0}^{4}x \\bullet \\binom{4}{x}(0.993)^x(1 - 0.993)^{4-x}\\sum_{y=0}^{4}\\binom{4}{y}(0.997)^y(1 - 0.997)^{4-y}\n",
    "$$"
   ]
  },
  {
   "cell_type": "markdown",
   "metadata": {},
   "source": [
    "### Problem 5.1.7\n",
    "Let $X$ and $Y$ denote the number of students majoring in industrial and mechanical engineering, respectively.\n",
    "\n",
    "a.\n",
    "$$\n",
    "f_{X,Y}(x,y) = \\frac{\\binom{40\\times0.1}{x}\\binom{40\\times0.3}{y}\\binom{40\\times0.6}{4 - x - y}}{\\binom{40}{4}}\n",
    "$$\n",
    "with $0\\leq x\\leq 4$, $0\\leq y \\leq 4$, and $0\\leq x + y \\leq 4$.\n",
    "\n",
    "b. \n",
    "$$\n",
    "f_X(x) = \\sum_y f_X(x,y) = \\sum_{y = 0}^{4-x}\\frac{\\binom{40\\times0.1}{x}\\binom{40\\times0.3}{y}\\binom{40\\times0.6}{4 - x - y}}{\\binom{40}{4}}\n",
    "$$\n",
    "\n",
    "c.\n",
    "$$\n",
    "E(X) = \\sum_{x=0}^{4} x \\bullet f_X(x,y) = \\sum_{x=0}^{4} x \\bullet \\sum_{y = 0}^{4-x}\\frac{\\binom{40\\times0.1}{x}\\binom{40\\times0.3}{y}\\binom{40\\times0.6}{4 - x - y}}{\\binom{40}{4}}\n",
    "$$\n"
   ]
  },
  {
   "cell_type": "markdown",
   "metadata": {},
   "source": [
    "### Problem 5.1.8\n",
    "The function $f_{X,Y}(x,y)$ is a joint probability density function over the range $0<x<3$ and $x<y<x+2$ if it satisfies:\n",
    "$$\n",
    "\\int_{0}^3\\int_x^{x+2}c(x+y)dydx = 1\n",
    "$$\n",
    "\n",
    "Evaluating the double integral:\n",
    "$$\n",
    "\\int_{0}^3\\int_x^{x+2}c(x+y)dydx = 24c = 1 \\rightarrow c = \\frac{1}{24} \n",
    "$$\n",
    "Therefore, $f_{X,Y}(x,y)$ is given as:\n",
    "$$\n",
    "f_{X,Y}(x,y) = \\frac{1}{24}(x+y)\n",
    "$$\n",
    "\n",
    "a. \n",
    "$$\n",
    "P(X < 1, Y < 2) = P(X\\leq 1, Y\\leq 2) = \\int_{0}^1\\int_{x}^2f_{X,Y}(x,y)dydx = \\int_{0}^1\\int_{x}^2\\frac{1}{24}(x+y)dydx = \\frac{1}{24}\\times\\frac{5}{2} = \\frac{5}{48}\n",
    "$$ \n",
    "\n",
    "b. \n",
    "$$\n",
    "P(1 < X < 2) = P(1 < X <2, x < Y < x + 2) = \\int_{1}^2\\int_x^{x+2}f_{X,Y}(x,y)dydx = \\int_{1}^2\\int_{x}^{x+2}\\frac{1}{24}(x+y)dydx = 8\\frac{1}{24} = \\frac{1}{3}\n",
    "$$ \n",
    "\n",
    "c. \n",
    "$$\n",
    "P(Y > 1) = P(0<X<3, 1 < Y < x+2) = \\int_0^1\\int_1^{x+2}f_{X,Y}(x,y)dydx + \\int_1^3\\int_x^{x+2}f_{X,Y}(x,y)dydx = \\frac{47}{48}\n",
    "$$\n",
    "\n",
    "d. \n",
    "$$\n",
    "P(X < 2, Y < 2) = \\int_{0}^2\\int_{x}^2f_{X,Y}(x,y)dydx = \\int_{0}^2\\int_{x}^2\\frac{1}{24}(x+y)dydx = 4\\frac{1}{24} = \\frac{1}{6}\n",
    "$$ \n",
    "\n",
    "e. \n",
    "$$\n",
    "E(X) = \\int_{0}^3\\int_x^{x+2}xf_{X,Y}(x,y)dydx = \\int_{0}^3\\int_x^{x+2}x\\frac{1}{24}(x+y)dydx = \\frac{45}{24}\n",
    "$$ \n",
    "\n",
    "f. \n",
    "$$\n",
    "V(X) = E(X^2) - E^2(X) = \\int_{0}^3\\int_x^{x+2}x^2\\frac{1}{24}(x+y)dydx - (45/24)^2 = \\frac{99}{24} - (45/24)^2 = \\frac{39}{64}\n",
    "$$\n",
    "\n",
    "g.\n",
    "\n",
    "The marginal probability distribution of $X$ is given as:\n",
    "$$\n",
    "f_X(x) = \\int_{R_y}f_{X,Y}(x,y)dy = \\int_x^{x+2}f_{X,Y}(x,y)dy = cx(x + 2) + \\frac{c}{2}(x+2)^2 - \\frac{3}{2}cx^2\n",
    "$$\n",
    "with $c = \\frac{1}{24}$."
   ]
  },
  {
   "cell_type": "code",
   "execution_count": 3,
   "metadata": {},
   "outputs": [
    {
     "data": {
      "text/latex": [
       "$\\displaystyle 24 c$"
      ],
      "text/plain": [
       "24*c"
      ]
     },
     "metadata": {},
     "output_type": "display_data"
    },
    {
     "data": {
      "text/latex": [
       "$\\displaystyle 0.104166666666667$"
      ],
      "text/plain": [
       "0.104166666666667"
      ]
     },
     "metadata": {},
     "output_type": "display_data"
    },
    {
     "data": {
      "text/latex": [
       "$\\displaystyle 0.333333333333333$"
      ],
      "text/plain": [
       "0.333333333333333"
      ]
     },
     "metadata": {},
     "output_type": "display_data"
    },
    {
     "data": {
      "text/latex": [
       "$\\displaystyle 0.979166666666667$"
      ],
      "text/plain": [
       "0.979166666666667"
      ]
     },
     "metadata": {},
     "output_type": "display_data"
    },
    {
     "data": {
      "text/latex": [
       "$\\displaystyle 0.166666666666667$"
      ],
      "text/plain": [
       "0.166666666666667"
      ]
     },
     "metadata": {},
     "output_type": "display_data"
    },
    {
     "data": {
      "text/latex": [
       "$\\displaystyle 2.25$"
      ],
      "text/plain": [
       "2.25000000000000"
      ]
     },
     "metadata": {},
     "output_type": "display_data"
    },
    {
     "data": {
      "text/latex": [
       "$\\displaystyle - \\frac{3 c x^{2}}{2} + c x \\left(x + 2\\right) + \\frac{c \\left(x + 2\\right)^{2}}{2}$"
      ],
      "text/plain": [
       "-3*c*x**2/2 + c*x*(x + 2) + c*(x + 2)**2/2"
      ]
     },
     "metadata": {},
     "output_type": "display_data"
    }
   ],
   "source": [
    "x, y, c = symbols(\"x y c\")\n",
    "f = c *(x + y)\n",
    "\n",
    "f_dxdy = integrate(f, (y, x, x + 2), (x, 0, 3))\n",
    "display(f_dxdy)\n",
    "\n",
    "p_A = integrate(f, (y, x, 2), (x, 0, 1))\n",
    "display(p_A.subs({c: 1/24}))\n",
    "\n",
    "p_B = integrate(f, (y, x, x+2), (x, 1, 2))\n",
    "display(p_B.subs({c: 1/24}))\n",
    "\n",
    "p_C = integrate(f, (y, 1, x+2), (x, 0,1)) + integrate(f, (y, x, x+2), (x, 1,3))\n",
    "display(p_C.subs({c: 1/24}))\n",
    "\n",
    "p_D = integrate(f, (y, x, 2), (x, 0, 2))\n",
    "display(p_D.subs({c: 1/24}))\n",
    "\n",
    "V_X = integrate(x * x * f, (y, x, x+ 2), (x, 0, 3)) - integrate(x * f, (y, x, x+ 2), (x, 0, 3))\n",
    "display(V_X.subs({c: 1/24}))\n",
    "\n",
    "p_X = integrate(f, (y, x, x+ 2))\n",
    "display(p_X)"
   ]
  },
  {
   "cell_type": "markdown",
   "metadata": {},
   "source": [
    "### Problem 5.1.9\n",
    "The function $f_{X,Y}(x,y)$ is a joint probability density function of $X$ and $Y$ if it satisfies:\n",
    "$$\n",
    "\\int_{0}^{3}\\int_{0}^3f_{X,Y}(x,y)dydx = \\int_{0}^{3}\\int_{0}^3cxydydx = 1\n",
    "$$\n",
    "\n",
    "Evaluating the double integral:\n",
    "$$\n",
    "\\int_{0}^{3}\\int_{0}^3f_{X,Y}(x,y)dydx = \\int_{0}^{3}\\int_{0}^3cxydydx = \\frac{81}{4}c = 1 \\rightarrow c = \\frac{4}{81}\n",
    "$$\n",
    "Therefore, $f_{X,Y}(x,y)$ is given as:\n",
    "$$\n",
    "f_{X,Y}(x,y) = \\frac{4}{81}xy\n",
    "$$\n",
    "\n",
    "a. \n",
    "$$\n",
    "P(X < 2, Y < 3) = \\int_0^2\\int_0^3\\frac{4}{81}xydydx = 9\\frac{4}{81} = \\frac{4}{9}\n",
    "$$ \n",
    "\n",
    "b.\n",
    "$$ \n",
    "P(X < 2.5) = P(X < 2.5, Y \\leq 3) = \\int_0^{2.5}\\int_0^3\\frac{4}{81}xydydx = 14.0625\\frac{4}{81} \\approx 0.6944\n",
    "$$\n",
    "\n",
    "c. \n",
    "$$\n",
    "P(1 < Y < 2.5) = P(X < 3, 1 < Y < 2.5) = \\int_0^3\\int_1^{2.5}\\frac{4}{81}xydydx = 11.8125\\frac{4}{81} \\approx 0.5833\n",
    "$$ \n",
    "\n",
    "d. \n",
    "$$\n",
    "P(X > 1.8, 1 < Y < 2.5) = P(1.8 < X < 3, 1 < Y < 2.5) = \\int_{1.8}^3\\int_1^{2.5}\\frac{4}{81}xydydx = 7.56\\frac{4}{81} \\approx 0.3733\n",
    "$$\n",
    "\n",
    "e. \n",
    "$$\n",
    "E(X) = \\int_0^3\\int_0^3x\\frac{4}{81}xydydx = \\frac{81}{2}\\times\\frac{4}{81} = 2\n",
    "$$ \n",
    "\n",
    "f. \n",
    "$$\n",
    "P(X < 0, Y < 4) = 0\n",
    "$$\n",
    "\n",
    "g. \n",
    "$$\n",
    "f_X(x) = \\int_{0}^3f_{X,Y}(x,y)dy = \\int_0^3\\frac{4}{81}xydy = \\frac{4}{81}\\times\\frac{9}{2}x = \\frac{2}{9}x\n",
    "$$"
   ]
  },
  {
   "cell_type": "code",
   "execution_count": 4,
   "metadata": {},
   "outputs": [
    {
     "data": {
      "text/latex": [
       "$\\displaystyle \\frac{81 c}{4}$"
      ],
      "text/plain": [
       "81*c/4"
      ]
     },
     "metadata": {},
     "output_type": "display_data"
    },
    {
     "data": {
      "text/latex": [
       "$\\displaystyle 9 c$"
      ],
      "text/plain": [
       "9*c"
      ]
     },
     "metadata": {},
     "output_type": "display_data"
    },
    {
     "data": {
      "text/latex": [
       "$\\displaystyle 14.0625 c$"
      ],
      "text/plain": [
       "14.0625*c"
      ]
     },
     "metadata": {},
     "output_type": "display_data"
    },
    {
     "data": {
      "text/latex": [
       "$\\displaystyle 11.8125 c$"
      ],
      "text/plain": [
       "11.8125*c"
      ]
     },
     "metadata": {},
     "output_type": "display_data"
    },
    {
     "data": {
      "text/latex": [
       "$\\displaystyle 7.56 c$"
      ],
      "text/plain": [
       "7.56*c"
      ]
     },
     "metadata": {},
     "output_type": "display_data"
    },
    {
     "data": {
      "text/latex": [
       "$\\displaystyle \\frac{81 c}{2}$"
      ],
      "text/plain": [
       "81*c/2"
      ]
     },
     "metadata": {},
     "output_type": "display_data"
    },
    {
     "data": {
      "text/latex": [
       "$\\displaystyle \\frac{9 c x}{2}$"
      ],
      "text/plain": [
       "9*c*x/2"
      ]
     },
     "metadata": {},
     "output_type": "display_data"
    }
   ],
   "source": [
    "x, y, c = symbols(\"x y c\")\n",
    "f = c * x * y\n",
    "\n",
    "f_dxdy = integrate(f, (y,0,3), (x,0,3))\n",
    "display(f_dxdy)\n",
    "\n",
    "p_A = integrate(f, (y,0,3),(x, 0, 2))\n",
    "display(p_A)\n",
    "\n",
    "p_B = integrate(f, (y,0,3),(x, 0, 2.5))\n",
    "display(p_B)\n",
    "\n",
    "p_C = integrate(f, (y,1,2.5),(x, 0, 3))\n",
    "display(p_C)\n",
    "\n",
    "p_D = integrate(f, (y,1,2.5),(x, 1.8, 3))\n",
    "display(p_D)\n",
    "\n",
    "E_X = integrate(x * f, (y,0,3), (x,0,3))\n",
    "display(E_X)\n",
    "\n",
    "f_X = integrate(f, (y, 0, 3))\n",
    "display(f_X)"
   ]
  },
  {
   "cell_type": "markdown",
   "metadata": {},
   "source": [
    "### Problem 5.1.10\n",
    "The function $f_{X,Y}(x,y)$ is a joint probability density function of $X$ and $Y$ if it satisfies:\n",
    "$$\n",
    "\\int_{0}^{\\infty}\\int_{x}^{\\infty} f_{X,Y}(x,y)dydx = \\int_{0}^{\\infty}\\int_{x}^{\\infty} ce^{−2x−3y} = 1\n",
    "$$\n",
    "\n",
    "Evaluating the double integral:\n",
    "$$\n",
    "\\int_{0}^{\\infty}\\int_{x}^{\\infty} f_{X,Y}(x,y)dydx = \\int_{0}^{\\infty}\\int_{x}^{\\infty} ce^{−2x−3y}dydx = c/15 = 1 \\rightarrow c = 15\n",
    "$$\n",
    "Therefore, $f_{X,Y}(x,y)$ is given as:\n",
    "$$\n",
    "f_{X,Y}(x,y) = 15e^{−2x−3y}\n",
    "$$\n",
    "\n",
    "a. \n",
    "$$\n",
    "P(X < 1, Y < 2) = \\int_{0}^{1}\\int_{x}^{2}15e^{−2x−3y}dydx = \\frac{-90e + 225/e^2}{90e^6} - \\frac{225 - 90e^6}{90e^6} \\approx 0.9879\n",
    "$$ \n",
    "\n",
    "b. \n",
    "$$\n",
    "P(1 < X < 2) = \\int_{1}^{2}\\int_{x}^{\\infty}15e^{−2x−3y}dydx = e^{-5} - e^{-10} \\approx 0.0067\n",
    "$$\n",
    "\n",
    "c. \n",
    "$$\n",
    "P(Y > 3) = \\int_{0}^{\\infty}\\int_{3}^{\\infty}15e^{−2x−3y}dydx = \\frac{5}{2e^9} \\approx 0.0003\n",
    "$$ \n",
    "\n",
    "d. \n",
    "$$\n",
    "P(X < 2, Y < 2) = \\int_{0}^{2}\\int_{x}^{2}15e^{−2x−3y}dydx = \\frac{3}{2e^{10}} - \\frac{225 - 90e^6}{90e^6} \\approx 0.9939\n",
    "$$\n",
    "\n",
    "e. \n",
    "$$\n",
    "E(X) = \\int_{0}^{\\infty}\\int_{x}^{\\infty} x f_{X,Y}(x,y)dydx = 15/12\n",
    "$$\n",
    "\n",
    "f. \n",
    "$$\n",
    "E(Y) = \\int_{0}^{\\infty}\\int_{x}^{\\infty} y f_{X,Y}(x,y)dydx = 15/18\n",
    "$$\n",
    "\n",
    "g.\n",
    "$$\n",
    "f_X(x,y) = \\int_0^{\\infty}f_{X,Y}(x,y)dy = 5e^{-2x}\n",
    "$$"
   ]
  },
  {
   "cell_type": "code",
   "execution_count": 5,
   "metadata": {},
   "outputs": [
    {
     "data": {
      "text/latex": [
       "$\\displaystyle \\frac{c}{15}$"
      ],
      "text/plain": [
       "c/15"
      ]
     },
     "metadata": {},
     "output_type": "display_data"
    },
    {
     "data": {
      "text/latex": [
       "$\\displaystyle \\frac{- 90 e + \\frac{225}{e^{2}}}{90 e^{6}} - \\frac{225 - 90 e^{6}}{90 e^{6}}$"
      ],
      "text/plain": [
       "(-90*E + 225*exp(-2))*exp(-6)/90 - (225 - 90*exp(6))*exp(-6)/90"
      ]
     },
     "metadata": {},
     "output_type": "display_data"
    },
    {
     "data": {
      "text/latex": [
       "$\\displaystyle - \\frac{1}{e^{10}} + e^{-5}$"
      ],
      "text/plain": [
       "-exp(-10) + exp(-5)"
      ]
     },
     "metadata": {},
     "output_type": "display_data"
    },
    {
     "data": {
      "text/latex": [
       "$\\displaystyle \\frac{5}{2 e^{9}}$"
      ],
      "text/plain": [
       "5*exp(-9)/2"
      ]
     },
     "metadata": {},
     "output_type": "display_data"
    },
    {
     "data": {
      "text/latex": [
       "$\\displaystyle \\frac{3}{2 e^{10}} - \\frac{225 - 90 e^{6}}{90 e^{6}}$"
      ],
      "text/plain": [
       "3*exp(-10)/2 - (225 - 90*exp(6))*exp(-6)/90"
      ]
     },
     "metadata": {},
     "output_type": "display_data"
    },
    {
     "data": {
      "text/latex": [
       "$\\displaystyle \\frac{5}{4}$"
      ],
      "text/plain": [
       "5/4"
      ]
     },
     "metadata": {},
     "output_type": "display_data"
    },
    {
     "data": {
      "text/latex": [
       "$\\displaystyle \\frac{5}{6}$"
      ],
      "text/plain": [
       "5/6"
      ]
     },
     "metadata": {},
     "output_type": "display_data"
    },
    {
     "data": {
      "text/latex": [
       "$\\displaystyle 5 e^{- 2 x}$"
      ],
      "text/plain": [
       "5*exp(-2*x)"
      ]
     },
     "metadata": {},
     "output_type": "display_data"
    }
   ],
   "source": [
    "x, y, c = symbols(\"x y c\")\n",
    "f = c * exp(-2*x - 3*y)\n",
    "\n",
    "f_dxdy = integrate(f, (y,x,oo), (x,0,oo))\n",
    "display(f_dxdy)\n",
    "\n",
    "p_A = integrate(f, (y,x,2), (x,0,1))\n",
    "display(p_A.subs({c: 15}))\n",
    "\n",
    "p_B = integrate(f, (y,x,oo), (x,1,2))\n",
    "display(p_B.subs({c: 15}))\n",
    "\n",
    "p_C = integrate(f, (y,3,oo), (x,0,oo))\n",
    "display(p_C.subs({c: 15}))\n",
    "\n",
    "p_D = integrate(f, (y,x,2), (x,0,2))\n",
    "display(p_D.subs({c: 15}))\n",
    "\n",
    "E_X = integrate(x * f, (y, 0, oo), (x, 0, oo))\n",
    "display(E_X.subs({c: 15}))\n",
    "\n",
    "E_Y = integrate(y * f, (y, 0, oo), (x, 0, oo))\n",
    "display(E_Y.subs({c: 15}))\n",
    "\n",
    "f_Y = integrate(f, (y, 0, oo))\n",
    "display(f_Y.subs({c: 15}))"
   ]
  },
  {
   "cell_type": "markdown",
   "metadata": {},
   "source": [
    "## Section 5.2\n",
    "### Problem 5.2.1\n",
    "\n",
    "b. \n",
    "\n",
    "The conditional probability $P(Y<2|X=2)$ is given as:\n",
    "$$\n",
    "P(Y<2|X=2) = \\frac{f_{X,Y}(x,y)}{f_{X}(x)}\n",
    "$$\n",
    "with $f_{X}(x)$ is the marginal probability of $X$. The marginal probability of $X$ is given as:\n",
    "$$\n",
    "f_X(x) = \\frac{1}{b - a} = \\frac{1}{10}\n",
    "$$\n",
    "with $0 < x < 10$. Therefore, $P(Y<2|X=2)$ is computed as:\n",
    "$$\n",
    "P(Y<2|X=2) = \\frac{\\int_0^{10}\\int_0^{\\infty}xe^{-xy}dydx}{1/10} = \n",
    "$$"
   ]
  },
  {
   "cell_type": "code",
   "execution_count": 6,
   "metadata": {},
   "outputs": [
    {
     "data": {
      "text/latex": [
       "$\\displaystyle \\frac{- 6 e c + \\frac{15 c}{e^{2}}}{90 e^{6}} - \\frac{- 6 c e^{6} + 15 c}{90 e^{6}}$"
      ],
      "text/plain": [
       "(-6*E*c + 15*c*exp(-2))*exp(-6)/90 - (-6*c*exp(6) + 15*c)*exp(-6)/90"
      ]
     },
     "metadata": {},
     "output_type": "display_data"
    }
   ],
   "source": [
    "x, y = symbols(\"x y\")\n",
    "f = x * exp(- x * y)\n",
    "\n",
    "P_A = integrate(f, (y, 0, oo), (x, 0, 10))\n",
    "display(p_A)"
   ]
  },
  {
   "cell_type": "markdown",
   "metadata": {},
   "source": [
    "### Problem 5.2.2\n",
    "a.\n",
    "\n",
    "The conditional probability distribution of $Y$ given that $X = 1.5$ is given as:\n",
    "$$\n",
    "P(Y|X=1.5) = \\frac{f_{X,Y}(1.5,y)}{f_X(1.5)}\n",
    "$$\n",
    "\n",
    "with $f_X(1.5)$ is the marginal probability of $X$ at $X = 1.5$, and this probability is computed as: $f_X{x = 1.5} = 1/8 + 1/4 = 3/8$. Therefore, the conditional probability distribution of $Y$ given that $X = 1.5$ is computed as:\n",
    "$$\n",
    "\\begin{cases}\n",
    "P(Y=1|X=1.5) = \\frac{0}{3/8} = 0 \\\\\n",
    "P(Y=2|X=1.5) = \\frac{1/8}{3/8} = 1/3 \\\\\n",
    "P(Y=3|X=1.5) = \\frac{1/4}{3/8} = 2/3 \\\\\n",
    "P(Y=4|X=1.5) = \\frac{0}{3/8} = 0 \\\\\n",
    "P(Y=5|X=1.5) = \\frac{0}{3/8} = 0 \\\\ \n",
    "\\end{cases}\n",
    "$$\n",
    "\n",
    "b. \n",
    "\n",
    "The conditional probability distribution of $X$ that $Y = 2$ is given as:\n",
    "$$\n",
    "P(X|Y=2.0) = \\frac{f_{X,Y}(x,2)}{f_Y(2)}\n",
    "$$\n",
    "with $f_Y(2)$ is the marginal probability of $Y$ at $Y = 1.5$, and this probability is computed as: $f_Y(Y = 2) = 1/8$. Therefore, the conditional probability distribution of $X$ that $Y = 2$ is given as:\n",
    "$$\n",
    "\\begin{cases}\n",
    "P(X = 1.0|Y = 1) = 0 \\\\\n",
    "P(X = 1.5|Y = 2) = \\frac{1/8}{1/8} = 1 \\\\\n",
    "P(X = 2.5|Y = 3) = 0 \\\\\n",
    "P(X = 3.0|Y = 2) = 0 \\\\\n",
    "\n",
    "\\end{cases}\n",
    "$$\n",
    "\n",
    "c.\n",
    "\n",
    "$$\n",
    "E(Y | X = 1.5) = \\sum_yf_{X,Y}(x,1.5) = 2\\times(1/3) + 3\\times(2/3) \\approx 2.6667\n",
    "$$\n",
    "\n",
    "d. \n",
    "\n",
    "For $X$ and $Y$ to be independent these relationships must hold true:\n",
    "* $P(X,Y) = P(X)\\times P(Y)$\n",
    "* $P(X|Y) = P(X)$\n",
    "\n",
    "In this scenario, $P(X = 1.5|Y = 2) = 1$ which is not equal to $P(X = 1.5) = 1/8 + 1/4 = 3/8$. Therefore, $X$ and $Y$ are not independent."
   ]
  },
  {
   "cell_type": "markdown",
   "metadata": {},
   "source": [
    "### Problem 5.2.6\n",
    "a. \n",
    "$$\n",
    "P(Y \\leq 50 | X = 50) = P(Y = 0|X=50) + P(Y=50|X=50) = 0.1766 + 0.7517 = 0.9283\n",
    "$$\n",
    "\n",
    "b. \n",
    "According to Bayes' rule:\n",
    "$$\n",
    "P(Y=75|X=0) = \\frac{P(X=0,Y=75)}{P(X = 0)}000118\n",
    "$$\n",
    "Therefore:\n",
    "$$\n",
    "P(X = 0, Y = 75) = P(X=0)\\times P(Y=75|X=0) = 0.02\\times0.0059 = 0.000118\n",
    "$$\n",
    "\n",
    "c. \n",
    "$$\n",
    "\\begin{aligned}\n",
    "E(Y | X = 50) &= \\sum_y yf_{XY}(50,y) \\\\\n",
    "&= 0\\times P(Y = 0| X = 50) + 50\\times P(Y = 50| X = 50) + 75\\times P(Y = 75| X = 50) \\\\\n",
    "&= 0\\times 0.1766 + 50\\times 0.7517 + 75\\times 0.0717 = 42.9625 \n",
    "\\end{aligned}\n",
    "$$\n",
    "\n",
    "d. \n",
    "$$\n",
    "f_Y(y) = \n",
    "\\begin{cases}\n",
    "P(Y = 0) = P(Y = 0|X = 0)\\times P(X=0) + P(Y = 0|X = 50)\\times P(X=50) + P(Y = 0|X = 75)\\times P(X=75) \\quad [1] \\\\\n",
    "P(Y = 50) = P(Y = 50|X = 0)\\times P(X=0) + P(Y = 50|X = 50)\\times P(X=0) + P(Y = 75|X = 50)\\times P(X=75) \\quad [2] \\\\\n",
    "P(Y = 75) = P(Y = 75|X = 0)\\times P(X=0) + P(Y = 75|X = 50)\\times P(X=0) + P(Y = 75|X = 75)\\times P(X=75) \\quad [3] \\\\\n",
    "\\end{cases}\n",
    "$$\n",
    "where\n",
    "$$\n",
    "\\begin{aligned}\n",
    "[1] = 0.9819\\times 0.02 + 0.0122\\times 0.08 + 0.0059\\times  0.9 = 0.025924 \\\\\n",
    "[2] = 0.0122\\times 0.02 + 0.7517\\times 0.08 + 0.0933\\times  0.9 = 0.014435 \\\\\n",
    "[3] = 0.0059\\times 0.02 + 0.0717\\times 0.08 + 0.8830\\times  0.9 = 0.800554 \\\\\n",
    "\\end{aligned}\n",
    "$$\n",
    "\n",
    "e. \n",
    "$$\n",
    "f_{XY}(x, y) = \n",
    "\\begin{cases}\n",
    "P(X = 0., Y = 0.) =  \\\\\n",
    "P(X = 0., Y = 50) =  \\\\\n",
    "P(X = 0., Y = 75) =  \\\\\n",
    "P(X = 50, Y = 0.) =  \\\\\n",
    "P(X = 50, Y = 50) =  \\\\\n",
    "P(X = 50, Y = 75) =  \\\\\n",
    "P(X = 75, Y = 0.) =  \\\\\n",
    "P(X = 75, Y = 50) =  \\\\\n",
    "P(X = 75, Y = 75) =  \\\\\n",
    "\\end{cases}\n",
    "$$\n",
    "\n",
    "f. \n",
    "\n",
    "For $X$ and $Y$ to independent, these relationships must hold true:\n",
    "* $P(X,Y) = P(X)\\times P(Y)$\n",
    "* $P(X|Y) = P(X)$\n",
    "Since $P(X = 0|Y = 0) = 0.9819$ is not equal to $P(X = 0) = 0.02$, $X$ and $Y$ are not independent."
   ]
  },
  {
   "cell_type": "markdown",
   "metadata": {},
   "source": [
    "## Section 5.4"
   ]
  },
  {
   "cell_type": "markdown",
   "metadata": {},
   "source": [
    "### Problem 5.4.1\n",
    "The covariance is given as:\n",
    "$$\n",
    "\\sigma_{X,Y} = E\\Big[(X - E(X))(Y - E(Y))\\Big]\n",
    "$$\n",
    "with $E(X) = \\sum_x xf_{X,Y}(x,y)$ and $E(Y) = \\sum_y f_{X,Y}(x,y)$.\n",
    "\n",
    "Computing the expected value of $X$ and $Y$:\n",
    "$$\n",
    "\\begin{aligned}\n",
    "E(X) &= 1\\times(1/8 + 1/4) + 2(1/2) + 4(1/8) = 1.875\\\\\n",
    "E(Y) &= 3\\times(1/8) + 4\\times(1/4) + 5\\times(1/2) + 6\\times(1/8) = 4.625\n",
    "\\end{aligned}\n",
    "$$\n",
    "\n",
    "Therefore,\n",
    "$$\n",
    "\\sigma_{X,Y} = (1 - 1.875)(3 - 4.625)(1/8) + (1 - 1.875)(4 - 4.625)(1/4) + (2 - 1.875)(5 - 4.625)(1/2) + (4 - 1.875)(6 - 4.625)(1/8) = 0.703125\n",
    "$$\n",
    "\n",
    "On the other hand, the correlation is given as:\n",
    "$$\n",
    "\\rho_{X,Y} = \\frac{\\sigma_{X,Y}}{\\sigma_X\\sigma_Y} \n",
    "$$\n",
    "with $\\sigma_X^2 = V(X) = E(X^2) - E^2(X) $ and $\\sigma_Y^2 = V(Y) = E(Y^2) - E^2(Y)$.\n",
    "\n",
    "Computing the variance of $X$ and $Y$:\n",
    "$$\n",
    "\\begin{aligned}\n",
    "V(X) &= 1\\times(1/8 + 1/4) + 2(1/2) + 4(1/8) = 1.875\\\\\n",
    "V(Y) &= 3\\times(1/8) + 4\\times(1/4) + 5\\times(1/2) + 6\\times(1/8) = 4.625\n",
    "\\end{aligned}\n",
    "$$\n"
   ]
  },
  {
   "cell_type": "markdown",
   "metadata": {},
   "source": [
    "### Problem 5.4.2\n",
    "For $f_{X,Y}(x,u) = c(x+y)$ to be a joint probability function of both $X$ and $Y$, it must have the following proporties:\n",
    "* $f_{X,Y}(x,u) \\quad x,y \\geq 0 $\n",
    "* $\\sum_x\\sum_yf_{X,Y}(x,y) = 1 $\n",
    "From the second property, we can find the value of $c$ that makes the function satisfied as follows:\n",
    "$$\n",
    "c(1 + 1 + 1 + 2 + 1 + 3) + c(2 + 1 + 2 + 2 + 2 + 3) + c(3 + 1 + 3 + 2 + 3 + 3) = 1 \\rightarrow c = 1/36\n",
    "$$ \n",
    "Thus, the marginal distribution density of $X$ and $Y$ are given as:\n",
    "$$\n",
    "\\begin{aligned}\n",
    "p_X(x) &= \\sum_yf_{X,Y}(x,y) = \\frac{1}{36}(x + 1 + 2 +3) = \\frac{1}{36}(3x + 6) \\\\\n",
    "p_Y(y) &= \\sum_xf_{X,Y}(x,y) = \\frac{1}{36}(x + 1 + 2 +3) = \\frac{1}{36}(3x + 6)\n",
    "\\end{aligned}\n",
    "$$\n",
    "From here, we have the following table:\n",
    "\n",
    "| **X/Y** | **1**       | **2**       | **3**       |\n",
    "|---------|-------------|-------------|-------------|\n",
    "| **1**   | (1/36)(1+1) | (1/36)(2+1) | (1/36)(3+1) |\n",
    "| **2**   | (1/36)(1+2) | (1/36)(2+2) | (1/36)(3+2) |\n",
    "| **3**   | (1/36)(1+3) | (1/36)(2+3) | (1/36)(3+3) |\n",
    "\n",
    "The covariance of $X$ and $Y$ is given as:\n",
    "$$\n",
    "\\sigma_{X,Y} = E(XY) - E(X) - E(Y)\n",
    "$$\n",
    "with $E(X)$ and $E(Y)$ are the expected values of $X$ and $Y$, respectively. We can compute these expected values as follows:\n",
    "$$\n",
    "\\begin{aligned}\n",
    "&E(X) = \\sum_x xp_X(x) = \\sum_x \\frac{1}{36}(3x^2 + 6x) = \\frac{13}{6} \\\\\n",
    "&E(Y) = \\sum_x yp_Y(y) = \\sum_x \\frac{1}{36}(3y^2 + 6y) = \\frac{13}{6} \\\\\n",
    "&E(XY) = \\sum_x\\sum_y xy f_{X,Y}(x,y) = \\sum_x\\sum_y\\frac{1}{36}(x^2y + xy^2) = \\frac{14}{3}\n",
    "\\end{aligned}\n",
    "$$\n",
    "Therefore, $\\sigma_{X,Y} = \\frac{14}{3} - \\frac{13}{6}\\times\\frac{13}{6} = -1/36 \\approx -0.027778$\n",
    "\n",
    "The correlation of $X$ and $Y$ is given as:\n",
    "$$\n",
    "\\rho_{X,Y} = \\frac{\\sigma_{X,Y}}{\\sqrt{\\sigma_X\\sigma_Y}}\n",
    "$$\n",
    "with $\\sigma^2_X$ and $\\sigma^2_Y$ is the variance of $X$ and $Y$. We can compute these variance as follows:\n",
    "$$\n",
    "\\begin{aligned}\n",
    "&V(X) = E(X^2) - E^2(X) = \\sum_x \\frac{1}{36}(3x^4 + 6x^2) - (13/6)^2 = 23/36 \\\\\n",
    "&V(Y) = E(Y^2) - E^2(Y) = \\sum_y \\frac{1}{36}(3y^4 + 6y^2) - (13/6)^2 = 23/36 \\\\\n",
    "\\end{aligned}\n",
    "$$\n",
    "Therefore, $\\rho_{X,Y} = \\frac{-1/36}{(23/36)} = -1/23 \\approx 0.0435$"
   ]
  },
  {
   "cell_type": "markdown",
   "metadata": {},
   "source": [
    "### Problem 5.4.3\n",
    "Let $X$ and $Y$ denote the number of patients who improve and degrade, respectively. The joint probability distribution of $X$ and $Y$ is given as:\n",
    "$$\n",
    "f_{X,Y} = \\binom{4}{x}\\binom{4-x}{y}(0.4)^x(0.1)^y(0.5)^{4-x-y} \\quad \\forall x, y = \\{0,1,2,3,4\\} \\text{ and } x + y \\leq 4\n",
    "$$\n",
    "Thus, the marginal probability density distribtion of $X$ and $Y$ is given as:\n",
    "$$\n",
    "\\begin{aligned}\n",
    "&p_X(x) = \\sum_y f_{X,Y} = \\binom{4}{x}(0.4)^x(0.6)^{4-x} \\\\\n",
    "&p_Y(y) = \\sum_x f_{X,Y} = \\binom{4}{y}(0.1)^y(0.9)^{4-y} \n",
    "\\end{aligned}\n",
    "$$ \n",
    "\n",
    "For $X$ and $Y$ to be independent of one another, these relationships must hold true:\n",
    "* $P(X,Y) = P(X)\\times P(Y)$\n",
    "* $P(X|Y) = P(X)$\n",
    "When $X = 0$ and $Y = 0$:\n",
    "$$\n",
    "\\begin{aligned}\n",
    "&P(X = 0) = \\binom{4}{0}(0.4)^0(0.6)^{4-0} = 0.1296 \\\\\n",
    "&P(Y = 0) = \\binom{4}{0}(0.1)^0(0.9)^{4-0} = 0.6561 \\\\\n",
    "&P(X = 0, Y =0) = \\binom{4}{0}\\binom{4-0}{0}(0.4)^0(0.1)^0(0.5)^{4-0-0} = 0.0625\n",
    "\\end{aligned}\n",
    "$$ \n",
    "Since $P(X = 0)\\times P(Y = 0) \\neq P(X = 0,Y = 0)$, we can conclude that $X$ and $Y$ are not independent. \n",
    "\n",
    "The covariance of $X$ and $Y$ is  given as:\n",
    "$$\n",
    "\\sigma_{X,Y} = E(XY) - E(X)E(Y)\n",
    "$$\n",
    "We can compute these expected values as follows:\n",
    "$$\n",
    "\\begin{aligned}\n",
    "&E(X) = np_X = 0.4\\times4 = 0.16 \\\\\n",
    "&E(Y) = np_Y = 0.1\\times4 = 0.4 \\\\\n",
    "&E(XY) = \\sum_x\\sum_yxy\\binom{4}{x}\\binom{4-x}{y}(0.4)^x(0.1)^y(0.5)^{4-x-y} = 0.48\n",
    "\\end{aligned}\n",
    "$$\n",
    "Therefore, the covariance of $X$ and $Y$ is $\\sigma_{X,Y} = 0.48 - 0.16\\times0.4 = 0.416$\n",
    "\n",
    "The correlation of $X$ and $Y$ is given as:\n",
    "$$\n",
    "\\rho_{X,Y} = \\frac{\\sigma_{X,Y}}{\\sqrt{\\sigma_X\\sigma_Y}}\n",
    "$$\n",
    "with $\\sigma^2_X$ and $\\sigma^2_Y$ is the variance of $X$ and $Y$. We can compute these variance as follows:\n",
    "$$\n",
    "\\begin{aligned}\n",
    "&V(X) = E(X^2) - E^2(X) = np_X(1-p_X) = 0.4\\times0.6\\times4 =  0.96\\\\\n",
    "&V(Y) = E(Y^2) - E^2(Y) = 0.1\\times0.9\\times4  = 0.36 \\\\\n",
    "\\end{aligned}\n",
    "$$\n",
    "Therefore, $\\rho_{X,Y} = \\frac{0.416}{\\sqrt{(0.36)(.96)}} \\approx 0.7076$"
   ]
  },
  {
   "cell_type": "markdown",
   "metadata": {},
   "source": [
    "### Problem 5.4.5\n",
    "For $f_{X,Y}(x,y)$ to be a joint probability distribution function $X$ and $Y$, it must satisfy the following properties:\n",
    "* $f_{X,Y}(x,y) \\geq 0, \\quad \\forall x, y$\n",
    "* $\\int_{R_x}\\int_{R_y} f_{X,Y}(x,y) = \\int_{R_x}\\int_{R_y}cxy = 1, \\quad \\forall x,y$.\n",
    "\n",
    "From the second property, we can find the value of $c$ as follows:\n",
    "$$\n",
    "\\int_{R_x}\\int_{R_y} f_{X,Y}(x,y) = \\int_{0}^{3}\\int_{0}^{x} (cxy)dydx = \\int_{0}^{3}(cx^3/2) dx = c\\frac{81}{8} = 1 \\rightarrow c = \\frac{8}{81}\n",
    "$$\n",
    "Therefore, we can derive the respective marginal probability density function for $X$ and $Y$ as follows:\n",
    "$$\n",
    "\\begin{aligned}\n",
    "&p_X(x) = \\int_{0}^{x}(cxy)dy = c\\frac{x^3}{2} = \\frac{8}{81}\\frac{x^3}{2} = \\frac{4}{81}x^3 \\\\\n",
    "&p_Y(y) = \\int_{y}^{3}(cxy)dx = −\\frac{cxy^2}{2} + \\frac{9cx}{2} = - \\frac{4}{81}xy^2 + \\frac{4}{9}x\\\\\n",
    "\\end{aligned}\n",
    "$$\n",
    "\n",
    "The covariance of $X$ and $Y$ is given as:\n",
    "$$\n",
    "\\sigma_{X,Y} = E(XY) - E(X)E(Y)\n",
    "$$\n",
    "We can find these expected values as follows:\n",
    "$$\n",
    "\\begin{aligned}\n",
    "&E(X) = \\int_{R_x}xp_X(x)dx = \\int_{0}^{3}\\frac{4}{81}x^3dx = 12/5\\\\\n",
    "&E(Y) = \\int_{R_y} (-\\frac{4}{81}xy^2 + \\frac{4}{9}x) dy = 8/5 \\\\\n",
    "&E(XY) = \\int_{R_x}\\int_{R_y} xyf_{X,Y}(x,y) dydx= \\int_{R_x}\\int_{R_y}cx^2y^2 dydx= 4\\\\\n",
    "\\end{aligned}\n",
    "$$\n",
    "Therefore, $\\sigma_{X,Y} = 4 - (12/5)(8/5) = \\frac{4}{25}$\n",
    "\n",
    "The correlation of $X$ and $Y$ is given as:\n",
    "$$\n",
    "\\rho_{X,Y} = \\sigma_{X,Y} / \\sqrt{\\sigma_X\\sigma_Y} \\approx 0.4925 \n",
    "$$\n",
    "with the variances of $X$ and $Y$ are computed as:\n",
    "$$\n",
    "\\begin{aligned}\n",
    "&V(X) = E[X^2] - E^2[X] = 6/25 \\\\\n",
    "&V(Y) = E[Y^2] - E^2[Y] = 11/25\n",
    "\\end{aligned}\n",
    "$$"
   ]
  },
  {
   "cell_type": "code",
   "execution_count": 7,
   "metadata": {},
   "outputs": [
    {
     "data": {
      "text/latex": [
       "$\\displaystyle \\frac{81 c}{8}$"
      ],
      "text/plain": [
       "81*c/8"
      ]
     },
     "metadata": {},
     "output_type": "display_data"
    },
    {
     "data": {
      "text/latex": [
       "$\\displaystyle \\frac{c x^{3}}{2}$"
      ],
      "text/plain": [
       "c*x**3/2"
      ]
     },
     "metadata": {},
     "output_type": "display_data"
    },
    {
     "data": {
      "text/latex": [
       "$\\displaystyle - \\frac{c x y^{2}}{2} + \\frac{9 c x}{2}$"
      ],
      "text/plain": [
       "-c*x*y**2/2 + 9*c*x/2"
      ]
     },
     "metadata": {},
     "output_type": "display_data"
    },
    {
     "data": {
      "text/latex": [
       "$\\displaystyle \\frac{243 c}{10}$"
      ],
      "text/plain": [
       "243*c/10"
      ]
     },
     "metadata": {},
     "output_type": "display_data"
    },
    {
     "data": {
      "text/latex": [
       "$\\displaystyle \\frac{81 c x}{8}$"
      ],
      "text/plain": [
       "81*c*x/8"
      ]
     },
     "metadata": {},
     "output_type": "display_data"
    },
    {
     "data": {
      "text/latex": [
       "$\\displaystyle \\frac{81 c}{2}$"
      ],
      "text/plain": [
       "81*c/2"
      ]
     },
     "metadata": {},
     "output_type": "display_data"
    },
    {
     "data": {
      "text/latex": [
       "$\\displaystyle \\frac{243 c}{4}$"
      ],
      "text/plain": [
       "243*c/4"
      ]
     },
     "metadata": {},
     "output_type": "display_data"
    },
    {
     "data": {
      "text/latex": [
       "$\\displaystyle \\frac{81 c x}{5}$"
      ],
      "text/plain": [
       "81*c*x/5"
      ]
     },
     "metadata": {},
     "output_type": "display_data"
    }
   ],
   "source": [
    "x , y, c = symbols(\"x y c\")\n",
    "f = c*x*y\n",
    "\n",
    "f_dy = integrate(f, (y, 0, x))\n",
    "f_dx_dy = integrate(f_dy, (x, 0, 3))\n",
    "display(f_dx_dy)\n",
    "\n",
    "p_X = integrate(f, (y, 0, x))\n",
    "display(p_X)\n",
    "p_Y = integrate(f, (y, y, 3))\n",
    "display(p_Y)\n",
    "\n",
    "\n",
    "E_X = integrate(x * p_X, (x, 0, 3))\n",
    "display(E_X)\n",
    "E_Y = integrate(y * p_Y, (y, 0, 3))\n",
    "display(E_Y)\n",
    "E_XY = integrate(x * y * f, (y, 0, x), (x, 0, 3))\n",
    "display(E_XY)\n",
    "\n",
    "E_Xsquared = integrate(x * x * p_X, (x, 0, 3))\n",
    "display(E_Xsquared)\n",
    "E_Ysquared = integrate(y * y * p_Y, (y, 0, 3))\n",
    "display(E_Ysquared)"
   ]
  },
  {
   "cell_type": "markdown",
   "metadata": {},
   "source": [
    "### Problem 5.4.6\n",
    "The covariance of $X$ and $Y$ is given as:\n",
    "$$\n",
    "\\sigma_{X,Y} = E(XY) - E(X)E(Y)\n",
    "$$\n",
    "\n",
    "To find the covariance, first we need to determine the respective marginal probability density of $X$ and $Y$:\n",
    "$$\n",
    "\\begin{aligned}\n",
    "&p_X(x) = \\int_yf_{X,Y}(x,y)dy = e^{-x} \\\\\n",
    "&p_Y(y) = \\int_xf_{X,Y}(x,y)dx = e^{-y} \\\\\n",
    "\\end{aligned}\n",
    "$$ \n",
    "\n",
    "From the marginal probability densities, we determine the expected values:\n",
    "$$\n",
    "\\begin{aligned}\n",
    "&E(X) = \\int_{R_x} xp_X(x)dx = \\int_{R_x} xe^{-x}dx = 1\\\\\n",
    "&E(Y) = \\int_{R_y} yp_Y(y)dx = \\int_{R_y} ye^{-y}dy = 1\\\\\n",
    "\\end{aligned}\n",
    "$$\n",
    "Therefore, $\\sigma_{X,Y} = 0$. As a result, the correlation is $\\rho_{X,Y} = 0$\n"
   ]
  },
  {
   "cell_type": "code",
   "execution_count": 8,
   "metadata": {},
   "outputs": [
    {
     "data": {
      "text/latex": [
       "$\\displaystyle e^{- x}$"
      ],
      "text/plain": [
       "exp(-x)"
      ]
     },
     "metadata": {},
     "output_type": "display_data"
    },
    {
     "data": {
      "text/latex": [
       "$\\displaystyle e^{- y}$"
      ],
      "text/plain": [
       "exp(-y)"
      ]
     },
     "metadata": {},
     "output_type": "display_data"
    },
    {
     "data": {
      "text/latex": [
       "$\\displaystyle 1$"
      ],
      "text/plain": [
       "1"
      ]
     },
     "metadata": {},
     "output_type": "display_data"
    },
    {
     "data": {
      "text/latex": [
       "$\\displaystyle 1$"
      ],
      "text/plain": [
       "1"
      ]
     },
     "metadata": {},
     "output_type": "display_data"
    },
    {
     "data": {
      "text/latex": [
       "$\\displaystyle 1$"
      ],
      "text/plain": [
       "1"
      ]
     },
     "metadata": {},
     "output_type": "display_data"
    }
   ],
   "source": [
    "x , y, c = symbols(\"x y c\")\n",
    "f = exp(- x - y)\n",
    "\n",
    "p_X = integrate(f, (y, 0, oo))\n",
    "display(p_X)\n",
    "p_Y = integrate(f, (x, 0, oo))\n",
    "display(p_Y)\n",
    "\n",
    "E_X = integrate(x * p_X, (x, 0, oo))\n",
    "display(E_X)\n",
    "E_Y = integrate(y * p_Y, (y, 0, oo))\n",
    "display(E_Y)\n",
    "E_XY = integrate(x * y * f, (x, 0, oo), (y, 0, oo))\n",
    "display(E_XY)"
   ]
  },
  {
   "cell_type": "markdown",
   "metadata": {},
   "source": []
  }
 ],
 "metadata": {
  "kernelspec": {
   "display_name": "base",
   "language": "python",
   "name": "python3"
  },
  "language_info": {
   "codemirror_mode": {
    "name": "ipython",
    "version": 3
   },
   "file_extension": ".py",
   "mimetype": "text/x-python",
   "name": "python",
   "nbconvert_exporter": "python",
   "pygments_lexer": "ipython3",
   "version": "3.11.4"
  },
  "orig_nbformat": 4
 },
 "nbformat": 4,
 "nbformat_minor": 2
}
