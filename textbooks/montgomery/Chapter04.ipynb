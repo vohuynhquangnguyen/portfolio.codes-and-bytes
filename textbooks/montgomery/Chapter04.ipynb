{
 "cells": [
  {
   "cell_type": "code",
   "execution_count": 1,
   "metadata": {},
   "outputs": [],
   "source": [
    "import numpy as np\n",
    "from sympy import *\n",
    "from sympy import oo"
   ]
  },
  {
   "cell_type": "markdown",
   "metadata": {},
   "source": [
    "## Section 4.6"
   ]
  },
  {
   "cell_type": "markdown",
   "metadata": {},
   "source": [
    "### Problem 4.6.1 \n",
    "Given that $X$ is a binomial random variable with $n = 200$ and $p = 0.4$. Since $np = 200\\times0.4 = 80 > 5$, we can approximate this random variable using standard normal distribution with continuity correction:\n",
    "\n",
    "a. \n",
    "$$\n",
    "P(X \\leq 70) \\equiv P\\Big(Z \\leq \\frac{70 + 0.5 - 200\\times0.4}{\\sqrt{200\\times0.4\\times(1-0.6)}}\\Big) \\approx P(Z \\leq -1.67938) \\approx 0.047460\n",
    "$$ \n",
    "\n",
    "b. \n",
    "$$\n",
    "\\begin{aligned}\n",
    "P(70 < X < 90) &\\equiv P\\Big(\\frac{70 - 0.5 - 200\\times0.4}{\\sqrt{200\\times0.4\\times(1-0.6)}} \\leq Z \\leq \\frac{90 + 0.5 - 200\\times0.4}{\\sqrt{200\\times0.4\\times(1-0.6)}}\\Big) \\\\\n",
    "&\\approx P(-1.85616 \\leq Z \\leq 1.85616) \\approx 0.9678 - 0.032157 = 0.935643\n",
    "\\end{aligned}\n",
    "$$ \n",
    "\n",
    "c. \n",
    "$$\n",
    "\\begin{aligned}\n",
    "P(X = 80) &= 1 - P(X < 80) - P(X > 80) \\\\\n",
    "&= 1 - P\\Big(Z < \\frac{80 - 0.5 - 200\\times0.4}{\\sqrt{200\\times0.4\\times(1-0.6)}}\\Big) - P\\Big(\\frac{80 + 0.5 - 200\\times0.4}{\\sqrt{200\\times0.4\\times(1-0.6)}}\\Big) \\\\\n",
    "&= 1 - P(Z < -0.0883) - P(Z > 0.0883) \\\\\n",
    "&= 1 - 0.468119 - (1 - 0.531881) = 0.063762\n",
    "\\end{aligned}\n",
    "$$\n"
   ]
  },
  {
   "cell_type": "markdown",
   "metadata": {},
   "source": [
    "### Problem 4.6.2 .\n",
    "Given that $X$ is a Poisson random variable with $\\lambda = 6$. Thus, we can agree that the probability mass function of $X$ is given as:\n",
    "$$\n",
    "p_X(x) = \\frac{e^{-\\lambda T}(\\lambda T)^x}{x!}\n",
    "$$\n",
    "with $T = 1$.\n",
    "\n",
    "a. \n",
    "The probability that $X$ is less than four is given as:\n",
    "$$\n",
    "P(X < 4) = \\sum_{i = 0}^{3}P(X = i) = \\frac{e^{-6}(6)^0}{0!} + \\frac{e^{-6}(6)^1}{1!} + \\frac{e^{-6}(6)^2}{2!} + \\frac{e^{-6}(6)^3}{3!} \\approx 0.1512\n",
    "$$\n",
    "\n",
    "b. \n",
    "\n",
    "We can approximate the probability that X is less than four using standard normal distribution as follows:\n",
    "$$\n",
    "P(X < 4) \\equiv P(Z < \\frac{4 - 6}{\\sqrt{6}}) \\approx P(Z < -0.8164) \\approx 0.206108\n",
    "$$\n",
    "\n",
    "The result of (b) is slightly higher than that of (a). \n",
    "\n",
    "c. \n",
    "$$\n",
    "\\begin{aligned}\n",
    "P(8 < X < 12) &\\equiv P(\\frac{8 - 6}{\\sqrt{6}} < Z < \\frac{12 - 6}{\\sqrt{6}}) \\\\\n",
    "&\\approx P(0.82 < Z < 2.45) = P(Z < 2.45) - P(Z < 0.82) \\\\\n",
    "&= 0.992857 - 0.793892 = 0.198965\n",
    "\\end{aligned}\n",
    "$$\n"
   ]
  },
  {
   "cell_type": "markdown",
   "metadata": {},
   "source": [
    "### Problem 4.6.4\n",
    "Denote $X$ as the number of semiconductor chips that are defective. In this scenario, we can agree that $p_X = 0.02$. Therefore, $X$ follows a binomial distribution with $E(X) = np_X = 20$ and $V(X) = np_X(1 - p_X) = 19.6$.\n",
    "\n",
    "a. \n",
    "\n",
    "The probability of more than 25 chips are defective can be approximated as follows:\n",
    "$$\n",
    "P(X > 25) = 1 - P(X \\leq 25) \\equiv 1 - P(Z \\leq \\frac{25 - 20}{\\sqrt{19.6}}) \\approx 1 - P(Z \\leq 1.13) = 1 - 0.870762 = 0.129238\n",
    "$$\n",
    "\n",
    "b. \n",
    "\n",
    "The probability that between 20 and 30 chips are defective can be approximated as follows:\n",
    "$$\n",
    "P(20 < X < 30) \\equiv P(\\frac{20 - 20}{\\sqrt{19.6}} < Z < \\frac{30 - 20}{\\sqrt{19.6}}) \\approx P(0 < Z < 2.26) = P(Z < 2.26) - P(Z < 0) = 0.988089 - 0.5 = 0.488089\n",
    "$$\n"
   ]
  },
  {
   "cell_type": "markdown",
   "metadata": {},
   "source": [
    "## Section 4.7"
   ]
  },
  {
   "cell_type": "markdown",
   "metadata": {},
   "source": [
    "### Problem 4.7.1\n",
    "Recall that an exponential random variable has the following probability density function:\n",
    "$$\n",
    "f(x) = \\lambda e^{-\\lambda x}\n",
    "$$\n",
    "with $E(X) = \\frac{1}{\\lambda} = 10$. Thus, $\\lambda = 1/10$\n",
    "\n",
    "a. \n",
    "$$\n",
    "P(X > 10) =  \\int_{10}^{\\infty}\\lambda e^{-\\lambda x}dx = \\Big[-e^{-\\lambda x}\\Big]^{\\infty}_{10} = \\frac{1}{e} \\approx 0.3679 \n",
    "$$\n",
    "\n",
    "b. \n",
    "$$\n",
    "P(X > 20) = \\int_{20}^{\\infty}\\lambda e^{-\\lambda x}dx = \\Big[-e^{-\\lambda x}\\Big]^{\\infty}_{10} = e^{-\\frac{1}{10}(20)} \\approx 0.1353\n",
    "$$ \n",
    "\n",
    "c. \n",
    "$$\n",
    "P(X < 30) = 1 - P(X\\geq 30) = 1 - \\int_{30}^{\\infty}\\lambda e^{-\\lambda x}dx  = 1 - \\Big[-e^{-\\lambda x}\\Big]^{\\infty}_{30} = 1 - e^{-3} \\approx 0.9502 \n",
    "$$"
   ]
  },
  {
   "cell_type": "code",
   "execution_count": 2,
   "metadata": {},
   "outputs": [
    {
     "data": {
      "text/latex": [
       "$\\displaystyle 0.367879441171442$"
      ],
      "text/plain": [
       "0.367879441171442"
      ]
     },
     "metadata": {},
     "output_type": "display_data"
    },
    {
     "data": {
      "text/latex": [
       "$\\displaystyle 0.135335283236613$"
      ],
      "text/plain": [
       "0.135335283236613"
      ]
     },
     "metadata": {},
     "output_type": "display_data"
    },
    {
     "data": {
      "text/latex": [
       "$\\displaystyle 0.950212931632136$"
      ],
      "text/plain": [
       "0.950212931632136"
      ]
     },
     "metadata": {},
     "output_type": "display_data"
    }
   ],
   "source": [
    "x, c = symbols(\"x c\")\n",
    "f_X = c * exp(-c * x)\n",
    "\n",
    "p_A = integrate(f_X, (x, 10, oo))\n",
    "display(p_A.subs({c: 1/10}))\n",
    "\n",
    "p_B = integrate(f_X, (x, 20, oo))\n",
    "display(p_B.subs({c: 1/10}))\n",
    "\n",
    "p_C = 1 - integrate(f_X, (x, 30, oo))\n",
    "display(p_C.subs({c: 1/10}))"
   ]
  },
  {
   "cell_type": "markdown",
   "metadata": {},
   "source": []
  },
  {
   "cell_type": "markdown",
   "metadata": {},
   "source": [
    "### Problem 4.7.2\n",
    "Recall that an exponential random variable has the following probability density function:\n",
    "$$\n",
    "f(x) = \\lambda e^{-\\lambda x}\n",
    "$$\n",
    "with $E(X) = \\frac{1}{\\lambda} = 10$. Thus, $\\lambda = 1/10$\n",
    "\n",
    "a. \n",
    "$$\n",
    "P(X<5) = 1 - P(X \\geq 5) = 1 - \\int_{5}^{\\infty}\\lambda e^{-\\lambda x}dx = 1 - \\frac{1}{e^{5/10}} \\approx 0.3935\n",
    "$$\n",
    "\n",
    "b. \n",
    "$$\n",
    "P(X < 15 | X > 10) = \\frac{P(10<X<15)}{P(X > 10)} = \\frac{\\int_{10}^{15}\\lambda e^{-\\lambda x}dx}{\\int_{10}^{\\infty}\\lambda e^{-\\lambda x}dx} \\approx 0.3935\n",
    "$$ \n",
    "\n",
    "c. \n",
    "\n",
    "It is clear that the result at (a) and (b) are not drastically different even though $P(X <5)$ should be lesser than $P(X<15)$ due to the properties of cumulative distribution. Therefore, we can agree that the exponential distribution is memoryless, which means that the probability of an event occurring does not depend on how much time has passed."
   ]
  },
  {
   "cell_type": "code",
   "execution_count": 3,
   "metadata": {},
   "outputs": [
    {
     "data": {
      "text/latex": [
       "$\\displaystyle 0.606530659712633$"
      ],
      "text/plain": [
       "0.606530659712633"
      ]
     },
     "metadata": {},
     "output_type": "display_data"
    },
    {
     "data": {
      "text/latex": [
       "$\\displaystyle 0.393469340287367$"
      ],
      "text/plain": [
       "0.393469340287367"
      ]
     },
     "metadata": {},
     "output_type": "display_data"
    }
   ],
   "source": [
    "x, c = symbols(\"x c\")\n",
    "f_X = c * exp(-c * x)\n",
    "\n",
    "p_A = integrate(f_X, (x, 5, oo))\n",
    "display(p_A.subs({c: 1/10}))\n",
    "\n",
    "p_B = integrate(f_X, (x, 10, 15)) / integrate(f_X, (x, 10, oo))\n",
    "display(p_B.subs({c: 1/10}))"
   ]
  },
  {
   "cell_type": "markdown",
   "metadata": {},
   "source": [
    "### Problem 4.7.3 . \n",
    "Since the log-ons to a computer network follow a Poisson process, the time between the log-on counts $Y$ will be a random variable that follows an exponential distribution:\n",
    "$$\n",
    "f_{Y}(y) = \\lambda e^{-\\lambda y}\n",
    "$$\n",
    "Meanwhile, the number of log-ons will be a random variable that follows an exponential distribution:\n",
    "$$\n",
    "p_X(x) = \\frac{e^{-\\lambda T}(\\lambda T)^x}{x!}\n",
    "$$\n",
    "\n",
    "In this scenario, there is in average three counts per minute. In other words $E(X) = \\lambda T = 3$; hence, $\\lambda = 3$.\n",
    "\n",
    "a. \n",
    "\n",
    "The mean time between counts (in minutes) is given as:\n",
    "$$\n",
    "E(Y) = \\frac{1}{\\lambda} = 1/3 \n",
    "$$\n",
    "\n",
    "b. \n",
    "\n",
    "The standard deviation of the time between counts is given as:\n",
    "$$\n",
    "\\sigma_Y = \\sqrt{V(Y)} = 1/3 \n",
    "$$\n",
    "\n",
    "c. \n",
    "\n",
    "The probability that at least one count occurs before x minutes is given as: \n",
    "$$\n",
    "P(Y \\geq x) = 1 - P(Y < x) = 1 - \\int_{-\\infty}^x\\lambda e^{-\\lambda y}dy = 1 - e^{-\\lambda x} = 0.95 \\rightarrow x \\approx 0.9986 \n",
    "$$\n"
   ]
  },
  {
   "cell_type": "markdown",
   "metadata": {},
   "source": [
    "### Problem 4.7.4\n",
    "In this scenario, The life of automobile voltage regulators (denote as $X$) has an exponential distribution with a mean life of 6 years. Thus, we can express $X$ with the following probability density function:\n",
    "$$\n",
    "f_X(x) = \\lambda e^{-\\lambda x}\n",
    "$$\n",
    "with $E(X) = 6$. Hence, $\\lambda = 1/6$.\n",
    "\n",
    "a. \n",
    "The probability that the voltage regulator fails during the ownership is given as:\n",
    "$$\n",
    "P(X \\leq t_1 + t_2|X > t_1) = P(X \\leq t_2) = \\int_0^{6} \\lambda e^{-\\lambda x}dx \\approx 0.632 \n",
    "$$\n",
    "with $t_1 = 6$ (the current age of the regulator) and $t_2 = 6$ (the age of the regulator after the ownership ends).\n",
    "\n",
    "b. \n",
    "If the regulator fails after owning the automobile 3 years and it is replaced, the mean time until the next failure is still 6 years."
   ]
  },
  {
   "cell_type": "code",
   "execution_count": 4,
   "metadata": {},
   "outputs": [
    {
     "data": {
      "text/latex": [
       "$\\displaystyle 0.632120558828558$"
      ],
      "text/plain": [
       "0.632120558828558"
      ]
     },
     "metadata": {},
     "output_type": "display_data"
    }
   ],
   "source": [
    "x, c = symbols(\"x c\")\n",
    "f_X = c * exp(-c * x)\n",
    "\n",
    "p_A = integrate(f_X, (x, 0, 6))\n",
    "display(p_A.subs({c: 1/6}))"
   ]
  },
  {
   "cell_type": "markdown",
   "metadata": {},
   "source": []
  },
  {
   "cell_type": "markdown",
   "metadata": {},
   "source": [
    "### Problem 4.7.5 \n",
    "Denote $X$ as the time between calls to a plumbing supply business is exponentially distributed with a mean time between calls of 15 minutes. Since the number of calls follows a Poisson process, $X$ will follow an exponential distribution:\n",
    "$$\n",
    "f_X(x) = \\lambda e^{-\\lambda x}\n",
    "$$\n",
    "with $E(X) = \\frac{1}{\\lambda} = 15$; hence, $\\lambda = 1/15$.\n",
    "\n",
    "a. \n",
    "\n",
    "The probability that there are no calls within a 30-minute interval is given as:\n",
    "$$\n",
    "P(X > 30) = 1 - P(X\\leq 30) = 1 - \\int_{0}^{30}\\lambda e^{-\\lambda x}dx \\approx 0.1353 \n",
    "$$\n",
    "\n",
    "\n",
    "b. \n",
    "\n",
    "The probability that at least one call arrives within a 10-minute interval is given as:\n",
    "$$\n",
    "P(X \\leq 10) =  1 - P(X> 10) = 1 - \\int_{10}^{\\infty}\\lambda e^{-\\lambda x}dx \\approx 0.4866\n",
    "$$\n",
    "\n",
    "c. \n",
    "The probability that the first call arrives within 5 to 10 minutes after opening is given as:\n",
    "$$\n",
    "P(5 \\leq X \\leq 10) = \\int_{5}^{10}\\lambda e^{-\\lambda x}dx \\approx 0.2031\n",
    "$$\n",
    "\n",
    "d. \n",
    "The length of an interval of time in minutes such that the probability of at least one call in the interval is 0.90 is given as:\n",
    "$$\n",
    "P(X \\leq x) = 0.9 \\rightarrow 1 - F(x) = 0.9 \\rightarrow \\lambda e^{-\\lambda x} = 0.1 \\rightarrow x \\approx 34.5383 \n",
    "$$\n",
    "\n"
   ]
  },
  {
   "cell_type": "code",
   "execution_count": 5,
   "metadata": {},
   "outputs": [
    {
     "data": {
      "text/latex": [
       "$\\displaystyle 0.135335283236613$"
      ],
      "text/plain": [
       "0.135335283236613"
      ]
     },
     "metadata": {},
     "output_type": "display_data"
    },
    {
     "data": {
      "text/latex": [
       "$\\displaystyle 0.486582880967408$"
      ],
      "text/plain": [
       "0.486582880967408"
      ]
     },
     "metadata": {},
     "output_type": "display_data"
    },
    {
     "data": {
      "text/latex": [
       "$\\displaystyle 0.203114191541197$"
      ],
      "text/plain": [
       "0.203114191541197"
      ]
     },
     "metadata": {},
     "output_type": "display_data"
    }
   ],
   "source": [
    "x, c = symbols(\"x c\")\n",
    "f_X = c * exp(-c * x)\n",
    "\n",
    "p_A = 1 - integrate(f_X, (x, 0, 30))\n",
    "display(p_A.subs({c: 1/15}))\n",
    "\n",
    "p_B = 1 - integrate(f_X, (x, 10, oo))\n",
    "display(p_B.subs({c: 1/15}))\n",
    "\n",
    "p_C = integrate(f_X, (x, 5, 10))\n",
    "display(p_C.subs({c: 1/15}))"
   ]
  },
  {
   "cell_type": "markdown",
   "metadata": {},
   "source": [
    "### Problem 4.7.6 \n",
    "Denote $X$ as the number of stork sightings on a route in South Carolina. Since $X$ follows a Poisson process with a mean of 2.3 per year, we can agree that $X$ has the following probability mass function:\n",
    "$$\n",
    "p_X(x) = \\frac{e^{-\\lambda T}(\\lambda T)^x}{x!}\n",
    "$$\n",
    "with $E(X) = \\lambda T = 2.3 \\rightarrow \\lambda = 2.3$ with $T = 1$ (unit: one year). Thus, the time between sightings $Y$ will have an exponential distribution:\n",
    "$$\n",
    "f_Y(y) = \\lambda e^{-\\lambda y}\n",
    "$$\n",
    "\n",
    "a. \n",
    "\n",
    "The mean time between sightings (in years) is given as:\n",
    "$$\n",
    "E(Y) = \\frac{1}{\\lambda} = \\frac{1}{2.3} \\equiv \\frac{1}{2.3} \\approx 0.4348\n",
    "$$\n",
    "\n",
    "b. \n",
    "\n",
    "The probability that there are no sightings within three months (0.25 years) is given as:\n",
    "$$\n",
    "P(Y > 0.25) = \\int_{0.25}^{\\infty}\\lambda e^{-\\lambda y}dy \\approx 0.5627\n",
    "$$\n",
    "\n",
    "c. \n",
    "\n",
    "The probability that the time until the first sighting exceeds six months (0.5 years) is given as:\n",
    "$$\n",
    "P(Y > 0.5) = \\int_{0.5}^{\\infty}\\lambda e^{-\\lambda y}dy \\approx 0.3166\n",
    "$$\n",
    "\n",
    "d. \n",
    "\n",
    "The probability of no sighting within 3 years is given as:\n",
    "$$\n",
    "P(Y > 3) = \\int_{3}^{\\infty}\\lambda e^{-\\lambda y}dy \\approx 0.001\n",
    "$$"
   ]
  },
  {
   "cell_type": "code",
   "execution_count": 6,
   "metadata": {},
   "outputs": [
    {
     "data": {
      "text/latex": [
       "$\\displaystyle 0.562704868806956$"
      ],
      "text/plain": [
       "0.562704868806956"
      ]
     },
     "metadata": {},
     "output_type": "display_data"
    },
    {
     "data": {
      "text/latex": [
       "$\\displaystyle 0.316636769379053$"
      ],
      "text/plain": [
       "0.316636769379053"
      ]
     },
     "metadata": {},
     "output_type": "display_data"
    },
    {
     "data": {
      "text/latex": [
       "$\\displaystyle 0.00100778542904851$"
      ],
      "text/plain": [
       "0.00100778542904851"
      ]
     },
     "metadata": {},
     "output_type": "display_data"
    }
   ],
   "source": [
    "y, c = symbols(\"y c\")\n",
    "f_Y = c * exp(-c * y)\n",
    "\n",
    "p_B = integrate(f_Y, (y, 0.25, oo))\n",
    "display(p_B.subs({c: 2.3}))\n",
    "\n",
    "p_C = integrate(f_Y, (y, 0.5, oo))\n",
    "display(p_C.subs({c: 2.3}))\n",
    "\n",
    "p_D = integrate(f_Y, (y, 3, oo))\n",
    "display(p_D.subs({c: 2.3}))\n"
   ]
  },
  {
   "cell_type": "markdown",
   "metadata": {},
   "source": []
  },
  {
   "cell_type": "markdown",
   "metadata": {},
   "source": []
  }
 ],
 "metadata": {
  "kernelspec": {
   "display_name": "base",
   "language": "python",
   "name": "python3"
  },
  "language_info": {
   "codemirror_mode": {
    "name": "ipython",
    "version": 3
   },
   "file_extension": ".py",
   "mimetype": "text/x-python",
   "name": "python",
   "nbconvert_exporter": "python",
   "pygments_lexer": "ipython3",
   "version": "3.11.4"
  },
  "orig_nbformat": 4
 },
 "nbformat": 4,
 "nbformat_minor": 2
}
