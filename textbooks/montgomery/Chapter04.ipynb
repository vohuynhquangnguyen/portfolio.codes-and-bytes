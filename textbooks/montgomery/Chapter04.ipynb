{
 "cells": [
  {
   "cell_type": "code",
   "execution_count": 2,
   "metadata": {},
   "outputs": [],
   "source": [
    "import numpy as np\n",
    "from sympy import *\n",
    "from sympy import oo"
   ]
  },
  {
   "cell_type": "markdown",
   "metadata": {},
   "source": [
    "## Section 4.6"
   ]
  },
  {
   "cell_type": "markdown",
   "metadata": {},
   "source": [
    "### Problem 4.6.1 \n",
    "Given that $X$ is a binomial random variable with $n = 200$ and $p = 0.4$. Since $np = 200\\times0.4 = 50 > 5$, we can approximate this random variable using standard normal distribution with continuity correction:\n",
    "\n",
    "a. \n",
    "$$\n",
    "P(X ≤ 70)\n",
    "$$ \n",
    "\n",
    "b. \n",
    "$$\n",
    "P(70 < X < 90)\n",
    "$$ \n",
    "\n",
    "c. \n",
    "$$\n",
    "P(X = 80)\n",
    "$$\n"
   ]
  },
  {
   "cell_type": "markdown",
   "metadata": {},
   "source": [
    "4.6.2 . WP Suppose that X is a Poisson random variable with\n",
    "λ = 6.\n",
    "a. Compute the exact probability that X is less than four.\n",
    "b. Approximate the probability that X is less than four and\n",
    "compare to the result in part (a).\n",
    "c. Approximate the probability that 8 < X < 12.\n",
    "4.6.3 . WP There were 49.7 million people with some type of\n",
    "long-lasting condition or disability living in the United States\n",
    "in 2000. This represented 19.3 percent of the majority of civilians aged five and over (http://factfinder.census.gov). A sample\n",
    "of 1000 persons is selected at random.\n",
    "a. Approximate the probability that more than 200 persons\n",
    "in the sample have a disability.\n",
    "b. Approximate the probability that between 180 and\n",
    "300 people in the sample have a disability.\n",
    "4.6.4 . WP The manufacturing of semiconductor chips produces\n",
    "2% defective chips. Assume that the chips are independent\n",
    "and that a lot contains 1000 chips. Approximate the following\n",
    "probabilities:\n",
    "a. More than 25 chips are defective.\n",
    "b. Between 20 and 30 chips are defective.\n",
    "4.6.5 . VS Hits to a high-volume Web site are assumed to follow\n",
    "a Poisson distribution with a mean of 10,000 per day. Approximate each of the following:\n",
    "a. Probability of more than 20,000 hits in a day.\n",
    "b. Probability of less than 9900 hits in a day.\n",
    "c. Value such that the probability that the number of hits in\n",
    "a day exceeds the value is 0.01.\n",
    "d. Expected number of days in a year (365 days) that exceed\n",
    "10,200 hits.\n",
    "e. Probability that over a year (365 days), each of the more\n",
    "than 15 days has more than 10,200 hits."
   ]
  },
  {
   "cell_type": "markdown",
   "metadata": {},
   "source": [
    "## Section 4.7"
   ]
  },
  {
   "cell_type": "markdown",
   "metadata": {},
   "source": [
    "### Problem 4.7.1\n",
    "Recall that an exponential random variable has the following probability density function:\n",
    "$$\n",
    "f(x) = \\lambda e^{-\\lambda x}\n",
    "$$\n",
    "with $E(X) = \\frac{1}{\\lambda} = 10$. Thus, $\\lambda = 1/10$\n",
    "\n",
    "a. \n",
    "$$\n",
    "P(X > 10) =  \\int_{10}^{\\infty}\\lambda e^{-\\lambda x}dx = \\Big[-e^{-\\lambda x}\\Big]^{\\infty}_{10} = \\frac{1}{e} \\approx 0.3679 \n",
    "$$\n",
    "\n",
    "b. \n",
    "$$\n",
    "P(X > 20) = \\int_{20}^{\\infty}\\lambda e^{-\\lambda x}dx = \\Big[-e^{-\\lambda x}\\Big]^{\\infty}_{10} = e^{-\\frac{1}{10}(20)} \\approx 0.1353\n",
    "$$ \n",
    "\n",
    "c. \n",
    "$$\n",
    "P(X < 30) = 1 - P(X\\geq 30) = 1 - \\int_{30}^{\\infty}\\lambda e^{-\\lambda x}dx  = 1 - \\Big[-e^{-\\lambda x}\\Big]^{\\infty}_{30} = 1 - e^{-3} \\approx 0.9502 \n",
    "$$"
   ]
  },
  {
   "cell_type": "code",
   "execution_count": 14,
   "metadata": {},
   "outputs": [
    {
     "data": {
      "text/latex": [
       "$\\displaystyle 0.367879441171442$"
      ],
      "text/plain": [
       "0.367879441171442"
      ]
     },
     "metadata": {},
     "output_type": "display_data"
    },
    {
     "data": {
      "text/latex": [
       "$\\displaystyle 0.135335283236613$"
      ],
      "text/plain": [
       "0.135335283236613"
      ]
     },
     "metadata": {},
     "output_type": "display_data"
    },
    {
     "data": {
      "text/latex": [
       "$\\displaystyle 0.950212931632136$"
      ],
      "text/plain": [
       "0.950212931632136"
      ]
     },
     "metadata": {},
     "output_type": "display_data"
    }
   ],
   "source": [
    "x, c = symbols(\"x c\")\n",
    "f_X = c * exp(-c * x)\n",
    "\n",
    "p_A = integrate(f_X, (x, 10, oo))\n",
    "display(p_A.subs({c: 1/10}))\n",
    "\n",
    "p_B = integrate(f_X, (x, 20, oo))\n",
    "display(p_B.subs({c: 1/10}))\n",
    "\n",
    "p_C = 1 - integrate(f_X, (x, 30, oo))\n",
    "display(p_C.subs({c: 1/10}))"
   ]
  },
  {
   "cell_type": "markdown",
   "metadata": {},
   "source": []
  },
  {
   "cell_type": "markdown",
   "metadata": {},
   "source": [
    "### Problem 4.7.2\n",
    "Recall that an exponential random variable has the following probability density function:\n",
    "$$\n",
    "f(x) = \\lambda e^{-\\lambda x}\n",
    "$$\n",
    "with $E(X) = \\frac{1}{\\lambda} = 10$. Thus, $\\lambda = 1/10$\n",
    "\n",
    "a. \n",
    "$$\n",
    "P(X<5) = 1 - P(X \\geq 5) = 1 - \\int_{5}^{\\infty}\\lambda e^{-\\lambda x}dx = 1 - \\frac{1}{e^{5/10}} \\approx 0.3935\n",
    "$$\n",
    "\n",
    "b. \n",
    "$$\n",
    "P(X < 15 | X > 10) = \\frac{P(10<X<15)}{P(X > 10)} = \\frac{\\int_{10}^{15}\\lambda e^{-\\lambda x}dx}{\\int_{10}^{\\infty}\\lambda e^{-\\lambda x}dx} \\approx 0.3935\n",
    "$$ \n",
    "\n",
    "c. \n",
    "\n",
    "It is clear that the result at (a) and (b) are not drastically different even though $P(X <5)$ should be lesser than $P(X<15)$ due to the properties of cumulative distribution. Therefore, we can agree that the exponential distribution is memoryless, which means that the probability of an event occurring does not depend on how much time has passed."
   ]
  },
  {
   "cell_type": "code",
   "execution_count": 17,
   "metadata": {},
   "outputs": [
    {
     "data": {
      "text/latex": [
       "$\\displaystyle 0.606530659712633$"
      ],
      "text/plain": [
       "0.606530659712633"
      ]
     },
     "metadata": {},
     "output_type": "display_data"
    },
    {
     "data": {
      "text/latex": [
       "$\\displaystyle 0.393469340287367$"
      ],
      "text/plain": [
       "0.393469340287367"
      ]
     },
     "metadata": {},
     "output_type": "display_data"
    }
   ],
   "source": [
    "x, c = symbols(\"x c\")\n",
    "f_X = c * exp(-c * x)\n",
    "\n",
    "p_A = integrate(f_X, (x, 5, oo))\n",
    "display(p_A.subs({c: 1/10}))\n",
    "\n",
    "p_B = integrate(f_X, (x, 10, 15)) / integrate(f_X, (x, 10, oo))\n",
    "display(p_B.subs({c: 1/10}))"
   ]
  },
  {
   "cell_type": "markdown",
   "metadata": {},
   "source": [
    "### Problem 4.7.3 . \n",
    "Since the log-ons to a computer network follow a Poisson process, the time between the log-on counts $Y$ will be a random variable that follows an exponential distribution:\n",
    "$$\n",
    "f_{Y}(y) = \\lambda e^{-\\lambda y}\n",
    "$$\n",
    "Meanwhile, the number of log-ons will be a random variable that follows an exponential distribution:\n",
    "$$\n",
    "p_X(x) = \\frac{e^{-\\lambda T}(\\lambda T)^x}{x!}\n",
    "$$\n",
    "\n",
    "In this scenario, there is in average three counts per minute. In other words $E(X) = \\lambda T = 3$; hence, $\\lambda = 3$.\n",
    "\n",
    "a. \n",
    "\n",
    "The mean time between counts (in minutes) is given as:\n",
    "$$\n",
    "E(Y) = \\frac{1}{\\lambda} = 1/3 \n",
    "$$\n",
    "\n",
    "b. \n",
    "\n",
    "The standard deviation of the time between counts is given as:\n",
    "$$\n",
    "\\sigma_Y = \\sqrt{V(Y)} = 1/3 \n",
    "$$\n",
    "\n",
    "c. \n",
    "\n",
    "The probability that at least one count occurs before x minutes is given as: \n",
    "$$\n",
    "P(Y \\geq x) = 1 - P(Y < x) = 1 - \\int_{-\\infty}^x\\lambda e^{-\\lambda y}dy = 1 - e^{-\\lambda x} = 0.95 \\rightarrow x \\approx 0.9986 \n",
    "$$\n"
   ]
  },
  {
   "cell_type": "markdown",
   "metadata": {},
   "source": [
    "### Problem 4.7.4\n",
    "In this scenario, The life of automobile voltage regulators (denote as $X$) has an exponential distribution with a mean life of 6 years. Thus, we can express $X$ with the following probability density function:\n",
    "$$\n",
    "f_X(x) = \\lambda e^{-\\lambda x}\n",
    "$$\n",
    "with $E(X) = 6$. Hence, $\\lambda = 1/6$.\n",
    "\n",
    "a. \n",
    "The probability that the voltage regulator fails during the ownership is given as:\n",
    "$$\n",
    "P(X \\leq t_1 + t_2|X > t_1) = P(X \\leq t_2) = \\int_0^{6} \\lambda e^{-\\lambda x}dx \\approx 0.632 \n",
    "$$\n",
    "with $t_1 = 6$ (the current age of the regulator) and $t_2 = 6$ (the age of the regulator after the ownership ends).\n",
    "\n",
    "b. \n",
    "If the regulator fails after owning the automobile 3 years and it is replaced, the mean time until the next failure is still 6 years."
   ]
  },
  {
   "cell_type": "code",
   "execution_count": 21,
   "metadata": {},
   "outputs": [
    {
     "data": {
      "text/latex": [
       "$\\displaystyle 0.632120558828558$"
      ],
      "text/plain": [
       "0.632120558828558"
      ]
     },
     "metadata": {},
     "output_type": "display_data"
    }
   ],
   "source": [
    "x, c = symbols(\"x c\")\n",
    "f_X = c * exp(-c * x)\n",
    "\n",
    "p_A = integrate(f_X, (x, 0, 6))\n",
    "display(p_A.subs({c: 1/6}))"
   ]
  },
  {
   "cell_type": "markdown",
   "metadata": {},
   "source": []
  },
  {
   "cell_type": "markdown",
   "metadata": {},
   "source": [
    "### Problem 4.7.5 \n",
    "Denote $X$ as the time between calls to a plumbing supply business is exponentially distributed with a mean time between calls of 15 minutes. Since the number of calls follows a Poisson process, $X$ will follow an exponential distribution:\n",
    "$$\n",
    "f_X(x) = \\lambda e^{-\\lambda x}\n",
    "$$\n",
    "with $E(X) = \\frac{1}{\\lambda} = 15$; hence, $\\lambda = 1/15$.\n",
    "\n",
    "a. \n",
    "\n",
    "The probability that there are no calls within a 30-minute interval is given as:\n",
    "$$\n",
    "P(X > 30) = 1 - P(X\\leq 30) = 1 - \\int_{0}^{30}\\lambda e^{-\\lambda x}dx \\approx 0.1353 \n",
    "$$\n",
    "\n",
    "\n",
    "b. \n",
    "\n",
    "The probability that at least one call arrives within a 10-minute interval is given as:\n",
    "$$\n",
    "P(X \\leq 10) =  1 - P(X> 10) = 1 - \\int_{10}^{\\infty}\\lambda e^{-\\lambda x}dx \\approx 0.4866\n",
    "$$\n",
    "\n",
    "c. \n",
    "The probability that the first call arrives within 5 to 10 minutes after opening is given as:\n",
    "$$\n",
    "P(5 \\leq X \\leq 10) = \\int_{5}^{10}\\lambda e^{-\\lambda x}dx \\approx 0.2031\n",
    "$$\n",
    "\n",
    "d. \n",
    "The length of an interval of time in minutes such that the probability of at least one call in the interval is 0.90 is given as:\n",
    "$$\n",
    "P(X \\leq x) = 0.9 \\rightarrow 1 - F(x) = 0.9 \\rightarrow \\lambda e^{-\\lambda x} = 0.1 \\rightarrow x \\approx 34.5383 \n",
    "$$\n",
    "\n"
   ]
  },
  {
   "cell_type": "code",
   "execution_count": 26,
   "metadata": {},
   "outputs": [
    {
     "data": {
      "text/latex": [
       "$\\displaystyle 0.135335283236613$"
      ],
      "text/plain": [
       "0.135335283236613"
      ]
     },
     "metadata": {},
     "output_type": "display_data"
    },
    {
     "data": {
      "text/latex": [
       "$\\displaystyle 0.486582880967408$"
      ],
      "text/plain": [
       "0.486582880967408"
      ]
     },
     "metadata": {},
     "output_type": "display_data"
    },
    {
     "data": {
      "text/latex": [
       "$\\displaystyle 0.203114191541197$"
      ],
      "text/plain": [
       "0.203114191541197"
      ]
     },
     "metadata": {},
     "output_type": "display_data"
    }
   ],
   "source": [
    "x, c = symbols(\"x c\")\n",
    "f_X = c * exp(-c * x)\n",
    "\n",
    "p_A = 1 - integrate(f_X, (x, 0, 30))\n",
    "display(p_A.subs({c: 1/15}))\n",
    "\n",
    "p_B = 1 - integrate(f_X, (x, 10, oo))\n",
    "display(p_B.subs({c: 1/15}))\n",
    "\n",
    "p_C = integrate(f_X, (x, 5, 10))\n",
    "display(p_C.subs({c: 1/15}))"
   ]
  },
  {
   "cell_type": "markdown",
   "metadata": {},
   "source": [
    "### Problem 4.7.6 \n",
    "Denote $X$ as the number of stork sightings on a route in South Carolina. Since $X$ follows a Poisson process with a mean of 2.3 per year, we can agree that $X$ has the following probability mass function:\n",
    "$$\n",
    "p_X(x) = \\frac{e^{-\\lambda T}(\\lambda T)^x}{x!}\n",
    "$$\n",
    "with $E(X) = \\lambda T = 2.3 \\rightarrow \\lambda = 2.3$ with $T = 1$ (unit: one year). Thus, the time between sightings $Y$ will have an exponential distribution:\n",
    "$$\n",
    "f_Y(y) = \\lambda e^{-\\lambda y}\n",
    "$$\n",
    "\n",
    "a. \n",
    "\n",
    "The mean time between sightings (in years) is given as:\n",
    "$$\n",
    "E(Y) = \\frac{1}{\\lambda} = \\frac{1}{2.3} \\equiv \\frac{1}{2.3} \\approx 0.4348\n",
    "$$\n",
    "\n",
    "b. \n",
    "\n",
    "The probability that there are no sightings within three months (0.25 years) is given as:\n",
    "$$\n",
    "P(Y > 0.25) = \\int_{0.25}^{\\infty}\\lambda e^{-\\lambda y}dy \\approx 0.5627\n",
    "$$\n",
    "\n",
    "c. \n",
    "\n",
    "The probability that the time until the first sighting exceeds six months (0.5 years) is given as:\n",
    "$$\n",
    "P(Y > 0.5) = \\int_{0.5}^{\\infty}\\lambda e^{-\\lambda y}dy \\approx 0.3166\n",
    "$$\n",
    "\n",
    "d. \n",
    "\n",
    "The probability of no sighting within 3 years is given as:\n",
    "$$\n",
    "P(Y > 3) = \\int_{3}^{\\infty}\\lambda e^{-\\lambda y}dy \\approx 0.001\n",
    "$$"
   ]
  },
  {
   "cell_type": "code",
   "execution_count": 31,
   "metadata": {},
   "outputs": [
    {
     "data": {
      "text/latex": [
       "$\\displaystyle 0.562704868806956$"
      ],
      "text/plain": [
       "0.562704868806956"
      ]
     },
     "metadata": {},
     "output_type": "display_data"
    },
    {
     "data": {
      "text/latex": [
       "$\\displaystyle 0.316636769379053$"
      ],
      "text/plain": [
       "0.316636769379053"
      ]
     },
     "metadata": {},
     "output_type": "display_data"
    },
    {
     "data": {
      "text/latex": [
       "$\\displaystyle 0.00100778542904851$"
      ],
      "text/plain": [
       "0.00100778542904851"
      ]
     },
     "metadata": {},
     "output_type": "display_data"
    }
   ],
   "source": [
    "y, c = symbols(\"y c\")\n",
    "f_Y = c * exp(-c * y)\n",
    "\n",
    "p_B = integrate(f_Y, (y, 0.25, oo))\n",
    "display(p_B.subs({c: 2.3}))\n",
    "\n",
    "p_C = integrate(f_Y, (y, 0.5, oo))\n",
    "display(p_C.subs({c: 2.3}))\n",
    "\n",
    "p_D = integrate(f_Y, (y, 3, oo))\n",
    "display(p_D.subs({c: 2.3}))\n"
   ]
  },
  {
   "cell_type": "markdown",
   "metadata": {},
   "source": []
  },
  {
   "cell_type": "markdown",
   "metadata": {},
   "source": []
  }
 ],
 "metadata": {
  "kernelspec": {
   "display_name": "base",
   "language": "python",
   "name": "python3"
  },
  "language_info": {
   "codemirror_mode": {
    "name": "ipython",
    "version": 3
   },
   "file_extension": ".py",
   "mimetype": "text/x-python",
   "name": "python",
   "nbconvert_exporter": "python",
   "pygments_lexer": "ipython3",
   "version": "3.11.4"
  },
  "orig_nbformat": 4
 },
 "nbformat": 4,
 "nbformat_minor": 2
}
