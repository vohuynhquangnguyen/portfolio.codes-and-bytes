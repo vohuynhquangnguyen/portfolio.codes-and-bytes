{
  "cells": [
    {
      "cell_type": "code",
      "execution_count": 13,
      "metadata": {
        "id": "cuAXTpPXIinG"
      },
      "outputs": [],
      "source": [
        "import numpy as np"
      ]
    },
    {
      "cell_type": "code",
      "execution_count": 14,
      "metadata": {
        "id": "i7YJVVehIinH"
      },
      "outputs": [],
      "source": [
        "def kaczmarz(A, b, l = 1.0, TOL = 1e-16):\n",
        "    \"\"\"\n",
        "    Implement the Kaczmarz algorithm to solve a system of linear equation.\n",
        "\n",
        "    The algorithm works under the principle of finding an estimated solution (xhat) that satisfies \n",
        "    ||A @ xhat - b||^2 < e, with e is the tolerance value.\n",
        "    \"\"\"\n",
        "    assert (0 <= l <= 1), \"The relaxation parameter must be of the range 0 < l < 1.\"\n",
        "    m, n = A.shape\n",
        "\n",
        "    X = np.zeros(n)\n",
        "\n",
        "    k = 0\n",
        "    while True:\n",
        "        i = k % m\n",
        "        ai = A[i,:]\n",
        "        Xnew = X + l * (b[i] - np.dot(ai,X.T)) / np.linalg.norm(ai) ** 2 * ai\n",
        "        err = np.linalg.norm(np.dot(A,Xnew.T) - b) ** 2\n",
        "\n",
        "        if err < TOL:\n",
        "            break\n",
        "        X = Xnew\n",
        "        k += 1\n",
        "    return X\n",
        "\n",
        "def randomized_kaczmarz(A, b, l = 1.0, TOL = 1e-16):\n",
        "    \"\"\"\n",
        "    Implement the randomized Kaczmarz algorithm to solve a system of linear equation.\n",
        "\n",
        "    The algorithm works under the principle of finding an estimated solution (xhat) that satisfies \n",
        "    ||A @ xhat - b||^2 < e, with e is the tolerance value.\n",
        "    \"\"\"\n",
        "    m, n = A.shape\n",
        "    p = (np.linalg.norm(A, axis= 1) / np.linalg.norm(A))**2\n",
        "\n",
        "    X = np.zeros(n)\n",
        "\n",
        "    k = 0\n",
        "    while True:\n",
        "        i = np.random.choice(range(m), p= p)\n",
        "        ai = A[i,:]\n",
        "        Xnew = X + l * (b[i] - np.dot(ai,X.T)) / np.linalg.norm(ai) ** 2 * ai\n",
        "        err = np.linalg.norm(np.dot(A,Xnew.T) - b) ** 2\n",
        "\n",
        "        if err < TOL:\n",
        "            break\n",
        "        X = Xnew\n",
        "        k += 1\n",
        "    return X"
      ]
    },
    {
      "cell_type": "code",
      "execution_count": 15,
      "metadata": {
        "id": "4OmvETgfIinH",
        "outputId": "51c648a1-6e40-4778-a4b6-4744ea4fe98c"
      },
      "outputs": [
        {
          "name": "stdout",
          "output_type": "stream",
          "text": [
            "Kaczmarz's result: [1. 2.]\n",
            "Randomized Kaczmarz's result: [1. 2.]\n"
          ]
        }
      ],
      "source": [
        "A = np.array([[-4, 1], [2, 0.5], [3, 1.5], [0, 1]])\n",
        "b = np.array([-2, 3, 6, 2.])\n",
        "X = kaczmarz(A, b)\n",
        "print(f\"Kaczmarz's result: {X}\")\n",
        "\n",
        "X = kaczmarz(A, b)\n",
        "print(f\"Randomized Kaczmarz's result: {X}\")"
      ]
    },
    {
      "cell_type": "code",
      "execution_count": 16,
      "metadata": {},
      "outputs": [
        {
          "name": "stdout",
          "output_type": "stream",
          "text": [
            "Kaczmarz's result: [1. 2.]\n",
            "Randomized Kaczmarz's result: [1. 2.]\n"
          ]
        }
      ],
      "source": [
        "A = np.array([[-4, 1], [2, 0.5], [3, 1.5], [0, 1]])\n",
        "b = np.array([-2, 3, 6, 2.])\n",
        "\n",
        "Xkz = kaczmarz(A, b)\n",
        "print(f\"Kaczmarz's result: {Xkz}\")\n",
        "\n",
        "Xrkz = kaczmarz(A, b)\n",
        "print(f\"Randomized Kaczmarz's result: {Xrkz}\")\n"
      ]
    },
    {
      "cell_type": "markdown",
      "metadata": {
        "id": "pGDXni_tIinI"
      },
      "source": []
    },
    {
      "cell_type": "code",
      "execution_count": 18,
      "metadata": {},
      "outputs": [
        {
          "name": "stdout",
          "output_type": "stream",
          "text": [
            "Kaczmarz's result: [1. 2. 3.]\n",
            "Randomized Kaczmarz's result: [1. 2. 3.]\n"
          ]
        }
      ],
      "source": [
        "A = np.array([\n",
        "    [2, 1, 2], \n",
        "    [1, 2, 1], \n",
        "    [3, 1, -1]\n",
        "    ])\n",
        "b = np.array([10, 8, 2])\n",
        "Xtrue = np.linalg.solve(A,b)\n",
        "\n",
        "Xkz = kaczmarz(A, b)\n",
        "print(f\"Kaczmarz's result: {Xkz}\")\n",
        "\n",
        "Xrkz = kaczmarz(A, b)\n",
        "print(f\"Randomized Kaczmarz's result: {Xrkz}\")\n"
      ]
    },
    {
      "cell_type": "code",
      "execution_count": null,
      "metadata": {},
      "outputs": [],
      "source": []
    }
  ],
  "metadata": {
    "colab": {
      "provenance": []
    },
    "kernelspec": {
      "display_name": "base",
      "language": "python",
      "name": "python3"
    },
    "language_info": {
      "codemirror_mode": {
        "name": "ipython",
        "version": 3
      },
      "file_extension": ".py",
      "mimetype": "text/x-python",
      "name": "python",
      "nbconvert_exporter": "python",
      "pygments_lexer": "ipython3",
      "version": "3.11.5"
    }
  },
  "nbformat": 4,
  "nbformat_minor": 0
}
