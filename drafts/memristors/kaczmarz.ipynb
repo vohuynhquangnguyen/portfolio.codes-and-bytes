{
 "cells": [
  {
   "cell_type": "code",
   "execution_count": 9,
   "metadata": {},
   "outputs": [],
   "source": [
    "import numpy as np"
   ]
  },
  {
   "cell_type": "code",
   "execution_count": 12,
   "metadata": {},
   "outputs": [],
   "source": [
    "def kaczmarz(A, b, TOL = 1e-16):\n",
    "    \"\"\"\n",
    "    Find x so that ||Ax - b||^2 -> 0.\n",
    "    \"\"\"\n",
    "    m, n = A.shape\n",
    "    \n",
    "    X = np.zeros(n)\n",
    "    \n",
    "    k = 0\n",
    "    while True:\n",
    "        i = k % m\n",
    "        ai = A[i,:]\n",
    "        Xnew = X + (b[i] - np.dot(ai,X.T)) / np.linalg.norm(ai) ** 2 * ai\n",
    "        err = np.linalg.norm(np.dot(A,Xnew.T) - b) ** 2\n",
    "\n",
    "        if err < TOL:\n",
    "            break\n",
    "        X = Xnew\n",
    "        k += 1\n",
    "    return X\n"
   ]
  },
  {
   "cell_type": "code",
   "execution_count": 11,
   "metadata": {},
   "outputs": [
    {
     "name": "stdout",
     "output_type": "stream",
     "text": [
      "[1. 2.]\n"
     ]
    }
   ],
   "source": [
    "A = np.array([[-4, 1], [2, 0.5], [3, 1.5], [0, 1]])\n",
    "b = np.array([-2, 3, 6, 2.])\n",
    "X = kaczmarz(A, b)\n",
    "print(X)"
   ]
  },
  {
   "cell_type": "markdown",
   "metadata": {},
   "source": []
  }
 ],
 "metadata": {
  "kernelspec": {
   "display_name": "base",
   "language": "python",
   "name": "python3"
  },
  "language_info": {
   "codemirror_mode": {
    "name": "ipython",
    "version": 3
   },
   "file_extension": ".py",
   "mimetype": "text/x-python",
   "name": "python",
   "nbconvert_exporter": "python",
   "pygments_lexer": "ipython3",
   "version": "3.11.5"
  }
 },
 "nbformat": 4,
 "nbformat_minor": 2
}
