{
  "cells": [
    {
      "cell_type": "code",
      "execution_count": null,
      "metadata": {
        "id": "cuAXTpPXIinG"
      },
      "outputs": [],
      "source": [
        "import numpy as np"
      ]
    },
    {
      "cell_type": "code",
      "execution_count": null,
      "metadata": {
        "id": "i7YJVVehIinH"
      },
      "outputs": [],
      "source": [
        "def kaczmarz(A, b, l = 1.0, TOL = 1e-16):\n",
        "    \"\"\"\n",
        "    Find x so that ||Ax - b||^2 -> 0.\n",
        "    \"\"\"\n",
        "    assert (l == 0), \"The relaxation parameter must be of the range 0 < l < 1.\"\n",
        "    m, n = A.shape\n",
        "\n",
        "    X = np.zeros(n)\n",
        "\n",
        "    k = 0\n",
        "    while True:\n",
        "        i = k % m\n",
        "        ai = A[i,:]\n",
        "        Xnew = X + (b[i] - np.dot(ai,X.T)) / np.linalg.norm(ai) ** 2 * ai\n",
        "        err = np.linalg.norm(np.dot(A,Xnew.T) - b) ** 2\n",
        "\n",
        "        if err < TOL:\n",
        "            break\n",
        "        X = Xnew\n",
        "        k += 1\n",
        "    return X\n",
        "\n",
        "def kaczmarz(A, b, TOL = 1e-16):\n",
        "    \"\"\"\n",
        "    Find x so that ||Ax - b||^2 -> 0.\n",
        "    \"\"\"\n",
        "    m, n = A.shape\n",
        "\n",
        "    X = np.zeros(n)\n",
        "\n",
        "    k = 0\n",
        "    while True:\n",
        "        i = k % m\n",
        "        ai = A[i,:]\n",
        "        Xnew = X + (b[i] - np.dot(ai,X.T)) / np.linalg.norm(ai) ** 2 * ai\n",
        "        err = np.linalg.norm(np.dot(A,Xnew.T) - b) ** 2\n",
        "\n",
        "        if err < TOL:\n",
        "            break\n",
        "        X = Xnew\n",
        "        k += 1\n",
        "    return X"
      ]
    },
    {
      "cell_type": "code",
      "execution_count": null,
      "metadata": {
        "id": "4OmvETgfIinH",
        "outputId": "51c648a1-6e40-4778-a4b6-4744ea4fe98c"
      },
      "outputs": [
        {
          "name": "stdout",
          "output_type": "stream",
          "text": [
            "[1. 2.]\n"
          ]
        }
      ],
      "source": [
        "A = np.array([[-4, 1], [2, 0.5], [3, 1.5], [0, 1]])\n",
        "b = np.array([-2, 3, 6, 2.])\n",
        "X = kaczmarz(A, b)\n",
        "print(X)"
      ]
    },
    {
      "cell_type": "markdown",
      "metadata": {
        "id": "pGDXni_tIinI"
      },
      "source": []
    }
  ],
  "metadata": {
    "kernelspec": {
      "display_name": "base",
      "language": "python",
      "name": "python3"
    },
    "language_info": {
      "codemirror_mode": {
        "name": "ipython",
        "version": 3
      },
      "file_extension": ".py",
      "mimetype": "text/x-python",
      "name": "python",
      "nbconvert_exporter": "python",
      "pygments_lexer": "ipython3",
      "version": "3.11.5"
    },
    "colab": {
      "provenance": []
    }
  },
  "nbformat": 4,
  "nbformat_minor": 0
}