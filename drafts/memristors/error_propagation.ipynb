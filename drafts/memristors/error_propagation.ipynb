{
 "cells": [
  {
   "cell_type": "markdown",
   "metadata": {},
   "source": [
    "The condition number of a function measures how much the output value of the function can change for a small change in the input argument.  In other words, the condition number allows us to measure how sensitive a function is to changes or errors in the input, and how much error in the output results from an error in the input.\n",
    "\n",
    "If a function is ill-conditioned, even a small disturbances introduced to the inputs can change the outputs drastically.\n",
    "\n",
    "As a rule of thumb, if the condition number $\\kappa(A) = 10^k$, we are expected to lose up to k digits of accuracy on top of what would be lost to the numerical method due to loss of precision from arithmetic methods."
   ]
  },
  {
   "cell_type": "markdown",
   "metadata": {},
   "source": [
    "# Experiment\n",
    "Let $X = \\begin{bmatrix} 9. \\\\ 15. \\\\ 35. \\end{bmatrix}$ and $W = \\begin{bmatrix} 8. & 3. & -2. \\\\ -4. & 7. & 5. \\\\ 3. & 4. & -12. \\end{bmatrix}$. The product of the multiplication between $X$ and $W$ is $Y = \\begin{bmatrix}  47. \\\\  244. \\\\ -333. \\end{bmatrix}$.\n",
    "\n",
    "We will introduce small disturbances $\\pmb{\\epsilon} \\sim \\mathcal{N}(0, \\sigma^2 = 0.001), \\pmb{\\epsilon} \\in \\mathbb{R}^{3\\times3}$ to $W$ such that $\\tilde{W} = W + \\pmb{\\epsilon}$. The product of the multiplication between $\\tilde{W}$ and $X$ is $\\tilde{Y}$. The difference between $Y$ and $\\tilde{Y}$ can be measured using the mean squared error."
   ]
  },
  {
   "cell_type": "code",
   "execution_count": 28,
   "metadata": {},
   "outputs": [
    {
     "name": "stdout",
     "output_type": "stream",
     "text": [
      "0.058325062017632\n",
      "2.141441818461416\n"
     ]
    }
   ],
   "source": [
    "import numpy as np\n",
    "import math as m\n",
    "\n",
    "W = np.array([[8., 3., -2.], [-4., 7., 5.], [3., 4., -12.]])\n",
    "X = np.array([9., 15., 35.])\n",
    "Y = np.matmul(W, X)\n",
    "# print(Y)\n",
    "\n",
    "np.random.seed(123)\n",
    "e = np.random.normal(0.0, m.sqrt(0.0001), size =(3,3))\n",
    "We = W + e\n",
    "Ye = np.matmul(We, X)\n",
    "# print(Ye)\n",
    "\n",
    "mse = np.mean((Y - Ye)**2)\n",
    "print(mse)\n",
    "\n",
    "##\n",
    "# Compute the condition number:\n",
    "#\n",
    "print(np.linalg.cond(W))"
   ]
  },
  {
   "cell_type": "markdown",
   "metadata": {},
   "source": [
    "In this experiment, the condition number of $W$ is $\\kappa(W) \\approx 10^{0.3}$. Hence, we are expected not to lose much of the accuracy. In other words, $W$ is a well-conditioned matrix."
   ]
  },
  {
   "cell_type": "markdown",
   "metadata": {},
   "source": [
    "Consider another experiment.\n",
    "\n",
    "Let $W = \\begin{bmatrix} 1. & 2. & 3. \\\\ 4. & 5. & 6. \\\\ 7. & 8. & 9.0001 \\end{bmatrix}$. The product of the multiplication between $X$ and $W$ is $Y = \\begin{bmatrix}  144 \\\\  321. \\\\ 498.0035 \\end{bmatrix}$."
   ]
  },
  {
   "cell_type": "code",
   "execution_count": 29,
   "metadata": {},
   "outputs": [
    {
     "name": "stdout",
     "output_type": "stream",
     "text": [
      "[144.      321.00015 498.00035]\n",
      "0.3922228297676269\n",
      "2021770\n"
     ]
    }
   ],
   "source": [
    "W = np.array([[1., 2., 3.], [4., 5.00001, 6.], [7., 8., 9.00001]])\n",
    "X = np.array([9., 15., 35.])\n",
    "Y = np.matmul(W, X)\n",
    "print(Y)\n",
    "\n",
    "e = np.random.normal(0.0, m.sqrt(0.0001), size =(3,3))\n",
    "We = W + e\n",
    "Ye = np.matmul(We, X)\n",
    "# print(Ye)\n",
    "\n",
    "mse = np.mean((Y - Ye)**2)\n",
    "print(mse)\n",
    "\n",
    "##\n",
    "# Compute the condition number:\n",
    "#\n",
    "print(int(np.linalg.cond(W)))"
   ]
  },
  {
   "cell_type": "markdown",
   "metadata": {},
   "source": [
    "In this experiment, the condition number of $W$ is $\\kappa(W) \\approx 10^{5}$. Hence, we are expected lose up to 5 digits of accuracy. In other words, $W$ is a ill-conditioned matrix.\n",
    "\n",
    "One interesting observation is that $\\tilde{W}$ has a determinant of close to 0."
   ]
  },
  {
   "cell_type": "code",
   "execution_count": 30,
   "metadata": {},
   "outputs": [
    {
     "name": "stdout",
     "output_type": "stream",
     "text": [
      "0.2095287995652895\n"
     ]
    }
   ],
   "source": [
    "print(np.linalg.det(We))"
   ]
  }
 ],
 "metadata": {
  "kernelspec": {
   "display_name": "base",
   "language": "python",
   "name": "python3"
  },
  "language_info": {
   "codemirror_mode": {
    "name": "ipython",
    "version": 3
   },
   "file_extension": ".py",
   "mimetype": "text/x-python",
   "name": "python",
   "nbconvert_exporter": "python",
   "pygments_lexer": "ipython3",
   "version": "3.11.5"
  }
 },
 "nbformat": 4,
 "nbformat_minor": 2
}
