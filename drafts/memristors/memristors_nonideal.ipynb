{
 "cells": [
  {
   "cell_type": "markdown",
   "metadata": {},
   "source": [
    "# Experiment (with non-ideal characteristics)\n",
    "Let $X = \\begin{bmatrix} 9. \\\\ 15. \\\\ 35. \\end{bmatrix}$ and $W = \\begin{bmatrix} 8. & 3. & -2. \\\\ -4. & 7. & 5. \\\\ 3. & 4. & -12. \\end{bmatrix}$. We will implement the matrix multiplication using the crossbar array."
   ]
  },
  {
   "cell_type": "code",
   "execution_count": 1,
   "metadata": {},
   "outputs": [],
   "source": [
    "import torch\n",
    "import numpy as np\n",
    "import memtorch\n",
    "\n",
    "from memtorch.map.Parameter import naive_map\n",
    "from memtorch.bh.crossbar.Crossbar import init_crossbar\n",
    "from memtorch.bh.nonideality.NonIdeality import apply_nonidealities\n",
    "from memtorch.bh.nonideality.FiniteConductanceStates import apply_finite_conductance_states\n",
    "\n",
    "W = torch.tensor([[8., 3., -2.], [-4., 7., 5.], [3., 4., -12.]], requires_grad= True)\n",
    "X = torch.tensor([9., 15., 35.], requires_grad= True)"
   ]
  },
  {
   "cell_type": "code",
   "execution_count": 2,
   "metadata": {},
   "outputs": [
    {
     "ename": "AttributeError",
     "evalue": "'list' object has no attribute 'named_modules'",
     "output_type": "error",
     "traceback": [
      "\u001b[1;31m---------------------------------------------------------------------------\u001b[0m",
      "\u001b[1;31mAttributeError\u001b[0m                            Traceback (most recent call last)",
      "\u001b[1;32mc:\\Users\\quang\\OneDrive\\Documents\\GitHub\\portfolio.codes-and-bytes\\drafts\\memristors\\memristors_nonideal.ipynb Cell 3\u001b[0m line \u001b[0;36m3\n\u001b[0;32m     <a href='vscode-notebook-cell:/c%3A/Users/quang/OneDrive/Documents/GitHub/portfolio.codes-and-bytes/drafts/memristors/memristors_nonideal.ipynb#W2sZmlsZQ%3D%3D?line=22'>23</a>\u001b[0m crossbars, operation \u001b[39m=\u001b[39m init_crossbar(weights \u001b[39m=\u001b[39m W,\n\u001b[0;32m     <a href='vscode-notebook-cell:/c%3A/Users/quang/OneDrive/Documents/GitHub/portfolio.codes-and-bytes/drafts/memristors/memristors_nonideal.ipynb#W2sZmlsZQ%3D%3D?line=23'>24</a>\u001b[0m     memristor_model\u001b[39m=\u001b[39m reference_memristor,\n\u001b[0;32m     <a href='vscode-notebook-cell:/c%3A/Users/quang/OneDrive/Documents/GitHub/portfolio.codes-and-bytes/drafts/memristors/memristors_nonideal.ipynb#W2sZmlsZQ%3D%3D?line=24'>25</a>\u001b[0m     memristor_model_params\u001b[39m=\u001b[39m reference_memristor_params,\n\u001b[1;32m   (...)\u001b[0m\n\u001b[0;32m     <a href='vscode-notebook-cell:/c%3A/Users/quang/OneDrive/Documents/GitHub/portfolio.codes-and-bytes/drafts/memristors/memristors_nonideal.ipynb#W2sZmlsZQ%3D%3D?line=28'>29</a>\u001b[0m     tile_shape\u001b[39m=\u001b[39m (\u001b[39m3\u001b[39m,\u001b[39m3\u001b[39m),\n\u001b[0;32m     <a href='vscode-notebook-cell:/c%3A/Users/quang/OneDrive/Documents/GitHub/portfolio.codes-and-bytes/drafts/memristors/memristors_nonideal.ipynb#W2sZmlsZQ%3D%3D?line=29'>30</a>\u001b[0m     scheme\u001b[39m=\u001b[39m memtorch\u001b[39m.\u001b[39mbh\u001b[39m.\u001b[39mcrossbar\u001b[39m.\u001b[39mScheme\u001b[39m.\u001b[39mDoubleColumn,)\n\u001b[0;32m     <a href='vscode-notebook-cell:/c%3A/Users/quang/OneDrive/Documents/GitHub/portfolio.codes-and-bytes/drafts/memristors/memristors_nonideal.ipynb#W2sZmlsZQ%3D%3D?line=31'>32</a>\u001b[0m \u001b[39m##\u001b[39;00m\n\u001b[0;32m     <a href='vscode-notebook-cell:/c%3A/Users/quang/OneDrive/Documents/GitHub/portfolio.codes-and-bytes/drafts/memristors/memristors_nonideal.ipynb#W2sZmlsZQ%3D%3D?line=32'>33</a>\u001b[0m \u001b[39m# Apply non-idealities\u001b[39;00m\n\u001b[0;32m     <a href='vscode-notebook-cell:/c%3A/Users/quang/OneDrive/Documents/GitHub/portfolio.codes-and-bytes/drafts/memristors/memristors_nonideal.ipynb#W2sZmlsZQ%3D%3D?line=33'>34</a>\u001b[0m \u001b[39m#\u001b[39;00m\n\u001b[1;32m---> <a href='vscode-notebook-cell:/c%3A/Users/quang/OneDrive/Documents/GitHub/portfolio.codes-and-bytes/drafts/memristors/memristors_nonideal.ipynb#W2sZmlsZQ%3D%3D?line=34'>35</a>\u001b[0m apply_nonidealities(crossbars,\n\u001b[0;32m     <a href='vscode-notebook-cell:/c%3A/Users/quang/OneDrive/Documents/GitHub/portfolio.codes-and-bytes/drafts/memristors/memristors_nonideal.ipynb#W2sZmlsZQ%3D%3D?line=35'>36</a>\u001b[0m     non_idealities\u001b[39m=\u001b[39m[memtorch\u001b[39m.\u001b[39mbh\u001b[39m.\u001b[39mnonideality\u001b[39m.\u001b[39mNonIdeality\u001b[39m.\u001b[39mFiniteConductanceStates],\n\u001b[0;32m     <a href='vscode-notebook-cell:/c%3A/Users/quang/OneDrive/Documents/GitHub/portfolio.codes-and-bytes/drafts/memristors/memristors_nonideal.ipynb#W2sZmlsZQ%3D%3D?line=36'>37</a>\u001b[0m     conductance_states \u001b[39m=\u001b[39m \u001b[39m5\u001b[39m)\n",
      "File \u001b[1;32mc:\\ProgramData\\anaconda3\\envs\\memristor\\Lib\\site-packages\\memtorch\\bh\\nonideality\\NonIdeality.py:50\u001b[0m, in \u001b[0;36mapply_nonidealities\u001b[1;34m(model, non_idealities, **kwargs)\u001b[0m\n\u001b[0;32m     47\u001b[0m     model\u001b[39m.\u001b[39m_modules[name] \u001b[39m=\u001b[39m patched_module\n\u001b[0;32m     48\u001b[0m     \u001b[39mreturn\u001b[39;00m model\n\u001b[1;32m---> 50\u001b[0m \u001b[39mfor\u001b[39;00m _, (name, m) \u001b[39min\u001b[39;00m \u001b[39menumerate\u001b[39m(\u001b[39mlist\u001b[39m(model\u001b[39m.\u001b[39mnamed_modules())):\n\u001b[0;32m     51\u001b[0m     \u001b[39mif\u001b[39;00m \u001b[39mtype\u001b[39m(m) \u001b[39min\u001b[39;00m supported_module_parameters\u001b[39m.\u001b[39mvalues():\n\u001b[0;32m     52\u001b[0m         \u001b[39mfor\u001b[39;00m non_ideality \u001b[39min\u001b[39;00m non_idealities:\n",
      "\u001b[1;31mAttributeError\u001b[0m: 'list' object has no attribute 'named_modules'"
     ]
    }
   ],
   "source": [
    "###\n",
    "# Define reference memristors:\n",
    "#\n",
    "reference_memristor = memtorch.bh.memristor.VTEAM \n",
    "reference_memristor_params = {\n",
    "    'time_series_resolution': 1e-6,\n",
    "    'alpha_off': 1,\n",
    "    'alpha_on': 3,\n",
    "    'v_off': 0.5,\n",
    "    'v_on': -0.53,\n",
    "    'r_off': 2.5e3,#2.5e3\n",
    "    'r_on': 100,#100\n",
    "    'k_off': 4.03e-8,\n",
    "    'k_on': -80,\n",
    "    'd': 10e-9,\n",
    "    'x_on': 0,\n",
    "    'x_off': 10e-9\n",
    "}\n",
    "\n",
    "##\n",
    "# Define MCA:\n",
    "# \n",
    "crossbars, operation = init_crossbar(weights = W,\n",
    "    memristor_model= reference_memristor,\n",
    "    memristor_model_params= reference_memristor_params,\n",
    "    transistor= True,\n",
    "    mapping_routine= naive_map,\n",
    "    programming_routine= None,\n",
    "    tile_shape= (3,3),\n",
    "    scheme= memtorch.bh.crossbar.Scheme.DoubleColumn,)\n",
    "\n",
    "##\n",
    "# Apply non-idealities\n",
    "#\n",
    "apply_nonidealities(crossbars,\n",
    "    non_idealities=[memtorch.bh.nonideality.NonIdeality.FiniteConductanceStates],\n",
    "    conductance_states = 5)"
   ]
  }
 ],
 "metadata": {
  "kernelspec": {
   "display_name": "memristor",
   "language": "python",
   "name": "python3"
  },
  "language_info": {
   "codemirror_mode": {
    "name": "ipython",
    "version": 3
   },
   "file_extension": ".py",
   "mimetype": "text/x-python",
   "name": "python",
   "nbconvert_exporter": "python",
   "pygments_lexer": "ipython3",
   "version": "3.11.5"
  }
 },
 "nbformat": 4,
 "nbformat_minor": 2
}
