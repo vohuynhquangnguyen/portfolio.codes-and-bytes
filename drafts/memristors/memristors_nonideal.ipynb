{
 "cells": [
  {
   "cell_type": "markdown",
   "metadata": {},
   "source": [
    "# Experiment (with non-ideal characteristics)\n",
    "Let $X = \\begin{bmatrix} 9. \\\\ 15. \\\\ 35. \\end{bmatrix}$ and $W = \\begin{bmatrix} 8. & 3. & -2. \\\\ -4. & 7. & 5. \\\\ 3. & 4. & -12. \\end{bmatrix}$. We will implement the matrix multiplication using the crossbar array."
   ]
  },
  {
   "cell_type": "code",
   "execution_count": 1,
   "metadata": {},
   "outputs": [],
   "source": [
    "import torch\n",
    "import numpy as np\n",
    "import memtorch\n",
    "\n",
    "from memtorch.map.Parameter import naive_map\n",
    "from memtorch.bh.crossbar.Crossbar import init_crossbar\n",
    "from memtorch.bh.nonideality.NonIdeality import apply_nonidealities\n",
    "from memtorch.bh.nonideality.FiniteConductanceStates import apply_finite_conductance_states\n",
    "\n",
    "W = torch.tensor([[8., 3., -2.], [-4., 7., 5.], [3., 4., -12.]], requires_grad= True)\n",
    "X = torch.tensor([9., 15., 35.], requires_grad= True)"
   ]
  },
  {
   "cell_type": "code",
   "execution_count": 2,
   "metadata": {},
   "outputs": [],
   "source": [
    "###\n",
    "# Define reference memristors:\n",
    "#\n",
    "reference_memristor = memtorch.bh.memristor.VTEAM \n",
    "reference_memristor_params = {\n",
    "    'time_series_resolution': 1e-6,\n",
    "    'alpha_off': 1,\n",
    "    'alpha_on': 3,\n",
    "    'v_off': 0.5,\n",
    "    'v_on': -0.53,\n",
    "    'r_off': 2.5e3,#2.5e3\n",
    "    'r_on': 100,#100\n",
    "    'k_off': 4.03e-8,\n",
    "    'k_on': -80,\n",
    "    'd': 10e-9,\n",
    "    'x_on': 0,\n",
    "    'x_off': 10e-9\n",
    "}\n",
    "\n",
    "##\n",
    "# Define MCA:\n",
    "# \n",
    "crossbars, operation = init_crossbar(weights = W,\n",
    "    memristor_model= reference_memristor,\n",
    "    memristor_model_params= reference_memristor_params,\n",
    "    transistor= True,\n",
    "    mapping_routine= naive_map,\n",
    "    programming_routine= None,\n",
    "    tile_shape= (3,3),\n",
    "    scheme= memtorch.bh.crossbar.Scheme.DoubleColumn,)\n",
    "\n",
    "##\n",
    "# Apply non-idealities\n",
    "#\n",
    "apply_nonidealities(crossbars,\n",
    "    non_idealities=[memtorch.bh.nonideality.NonIdeality.FiniteConductanceStates],\n",
    "    conductance_states = 5)"
   ]
  }
 ],
 "metadata": {
  "kernelspec": {
   "display_name": "memristor",
   "language": "python",
   "name": "python3"
  },
  "language_info": {
   "codemirror_mode": {
    "name": "ipython",
    "version": 3
   },
   "file_extension": ".py",
   "mimetype": "text/x-python",
   "name": "python",
   "nbconvert_exporter": "python",
   "pygments_lexer": "ipython3",
   "version": "3.11.5"
  }
 },
 "nbformat": 4,
 "nbformat_minor": 2
}
