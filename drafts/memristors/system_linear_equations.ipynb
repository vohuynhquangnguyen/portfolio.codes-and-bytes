{
  "cells": [
    {
      "cell_type": "markdown",
      "metadata": {
        "id": "Y4ebITkurfUQ"
      },
      "source": [
        "A system of five linear equations has the following expression in matrix notation:\n",
        "$$\n",
        "\\mathbf{y} = \\mathbf{W}\\mathbf{x}\n",
        "$$\n",
        "\n",
        "with\n",
        "* $\\mathbf{x}$ is a column vector representing our inputs whose size is (5,1).\n",
        "* $\\mathbf{y}$ is a column vector representing our outputs whose size is (5,1).\n",
        "* $\\mathbf{W}$ is a matrix representing our coefficients whose size is (5,5)."
      ]
    },
    {
      "cell_type": "code",
      "source": [
        "!pip install memtorch-cpu"
      ],
      "metadata": {
        "colab": {
          "base_uri": "https://localhost:8080/"
        },
        "id": "h4WU-avAe160",
        "outputId": "e5d58227-d004-4570-d01b-c3c92e0f7d5c"
      },
      "execution_count": 1,
      "outputs": [
        {
          "output_type": "stream",
          "name": "stdout",
          "text": [
            "Collecting memtorch-cpu\n",
            "  Downloading memtorch-cpu-1.1.6.tar.gz (2.8 MB)\n",
            "\u001b[2K     \u001b[90m━━━━━━━━━━━━━━━━━━━━━━━━━━━━━━━━━━━━━━━━\u001b[0m \u001b[32m2.8/2.8 MB\u001b[0m \u001b[31m24.9 MB/s\u001b[0m eta \u001b[36m0:00:00\u001b[0m\n",
            "\u001b[?25h  Preparing metadata (setup.py) ... \u001b[?25l\u001b[?25hdone\n",
            "Requirement already satisfied: numpy in /usr/local/lib/python3.10/dist-packages (from memtorch-cpu) (1.23.5)\n",
            "Requirement already satisfied: pandas in /usr/local/lib/python3.10/dist-packages (from memtorch-cpu) (1.5.3)\n",
            "Requirement already satisfied: scipy in /usr/local/lib/python3.10/dist-packages (from memtorch-cpu) (1.11.3)\n",
            "Collecting sklearn (from memtorch-cpu)\n",
            "  Downloading sklearn-0.0.post9.tar.gz (3.6 kB)\n",
            "  Preparing metadata (setup.py) ... \u001b[?25l\u001b[?25hdone\n",
            "Requirement already satisfied: torch>=1.2.0 in /usr/local/lib/python3.10/dist-packages (from memtorch-cpu) (2.0.1+cu118)\n",
            "Requirement already satisfied: torchvision in /usr/local/lib/python3.10/dist-packages (from memtorch-cpu) (0.15.2+cu118)\n",
            "Requirement already satisfied: matplotlib in /usr/local/lib/python3.10/dist-packages (from memtorch-cpu) (3.7.1)\n",
            "Requirement already satisfied: seaborn in /usr/local/lib/python3.10/dist-packages (from memtorch-cpu) (0.12.2)\n",
            "Requirement already satisfied: ipython in /usr/local/lib/python3.10/dist-packages (from memtorch-cpu) (7.34.0)\n",
            "Collecting lmfit (from memtorch-cpu)\n",
            "  Downloading lmfit-1.2.2-py3-none-any.whl (102 kB)\n",
            "\u001b[2K     \u001b[90m━━━━━━━━━━━━━━━━━━━━━━━━━━━━━━━━━━━━━━\u001b[0m \u001b[32m103.0/103.0 kB\u001b[0m \u001b[31m11.9 MB/s\u001b[0m eta \u001b[36m0:00:00\u001b[0m\n",
            "\u001b[?25hRequirement already satisfied: filelock in /usr/local/lib/python3.10/dist-packages (from torch>=1.2.0->memtorch-cpu) (3.12.4)\n",
            "Requirement already satisfied: typing-extensions in /usr/local/lib/python3.10/dist-packages (from torch>=1.2.0->memtorch-cpu) (4.5.0)\n",
            "Requirement already satisfied: sympy in /usr/local/lib/python3.10/dist-packages (from torch>=1.2.0->memtorch-cpu) (1.12)\n",
            "Requirement already satisfied: networkx in /usr/local/lib/python3.10/dist-packages (from torch>=1.2.0->memtorch-cpu) (3.1)\n",
            "Requirement already satisfied: jinja2 in /usr/local/lib/python3.10/dist-packages (from torch>=1.2.0->memtorch-cpu) (3.1.2)\n",
            "Requirement already satisfied: triton==2.0.0 in /usr/local/lib/python3.10/dist-packages (from torch>=1.2.0->memtorch-cpu) (2.0.0)\n",
            "Requirement already satisfied: cmake in /usr/local/lib/python3.10/dist-packages (from triton==2.0.0->torch>=1.2.0->memtorch-cpu) (3.27.6)\n",
            "Requirement already satisfied: lit in /usr/local/lib/python3.10/dist-packages (from triton==2.0.0->torch>=1.2.0->memtorch-cpu) (17.0.2)\n",
            "Requirement already satisfied: setuptools>=18.5 in /usr/local/lib/python3.10/dist-packages (from ipython->memtorch-cpu) (67.7.2)\n",
            "Collecting jedi>=0.16 (from ipython->memtorch-cpu)\n",
            "  Downloading jedi-0.19.1-py2.py3-none-any.whl (1.6 MB)\n",
            "\u001b[2K     \u001b[90m━━━━━━━━━━━━━━━━━━━━━━━━━━━━━━━━━━━━━━━━\u001b[0m \u001b[32m1.6/1.6 MB\u001b[0m \u001b[31m59.9 MB/s\u001b[0m eta \u001b[36m0:00:00\u001b[0m\n",
            "\u001b[?25hRequirement already satisfied: decorator in /usr/local/lib/python3.10/dist-packages (from ipython->memtorch-cpu) (4.4.2)\n",
            "Requirement already satisfied: pickleshare in /usr/local/lib/python3.10/dist-packages (from ipython->memtorch-cpu) (0.7.5)\n",
            "Requirement already satisfied: traitlets>=4.2 in /usr/local/lib/python3.10/dist-packages (from ipython->memtorch-cpu) (5.7.1)\n",
            "Requirement already satisfied: prompt-toolkit!=3.0.0,!=3.0.1,<3.1.0,>=2.0.0 in /usr/local/lib/python3.10/dist-packages (from ipython->memtorch-cpu) (3.0.39)\n",
            "Requirement already satisfied: pygments in /usr/local/lib/python3.10/dist-packages (from ipython->memtorch-cpu) (2.16.1)\n",
            "Requirement already satisfied: backcall in /usr/local/lib/python3.10/dist-packages (from ipython->memtorch-cpu) (0.2.0)\n",
            "Requirement already satisfied: matplotlib-inline in /usr/local/lib/python3.10/dist-packages (from ipython->memtorch-cpu) (0.1.6)\n",
            "Requirement already satisfied: pexpect>4.3 in /usr/local/lib/python3.10/dist-packages (from ipython->memtorch-cpu) (4.8.0)\n",
            "Collecting asteval>=0.9.28 (from lmfit->memtorch-cpu)\n",
            "  Downloading asteval-0.9.31-py3-none-any.whl (20 kB)\n",
            "Collecting uncertainties>=3.1.4 (from lmfit->memtorch-cpu)\n",
            "  Downloading uncertainties-3.1.7-py2.py3-none-any.whl (98 kB)\n",
            "\u001b[2K     \u001b[90m━━━━━━━━━━━━━━━━━━━━━━━━━━━━━━━━━━━━━━━━\u001b[0m \u001b[32m98.4/98.4 kB\u001b[0m \u001b[31m12.0 MB/s\u001b[0m eta \u001b[36m0:00:00\u001b[0m\n",
            "\u001b[?25hRequirement already satisfied: contourpy>=1.0.1 in /usr/local/lib/python3.10/dist-packages (from matplotlib->memtorch-cpu) (1.1.1)\n",
            "Requirement already satisfied: cycler>=0.10 in /usr/local/lib/python3.10/dist-packages (from matplotlib->memtorch-cpu) (0.12.0)\n",
            "Requirement already satisfied: fonttools>=4.22.0 in /usr/local/lib/python3.10/dist-packages (from matplotlib->memtorch-cpu) (4.43.0)\n",
            "Requirement already satisfied: kiwisolver>=1.0.1 in /usr/local/lib/python3.10/dist-packages (from matplotlib->memtorch-cpu) (1.4.5)\n",
            "Requirement already satisfied: packaging>=20.0 in /usr/local/lib/python3.10/dist-packages (from matplotlib->memtorch-cpu) (23.2)\n",
            "Requirement already satisfied: pillow>=6.2.0 in /usr/local/lib/python3.10/dist-packages (from matplotlib->memtorch-cpu) (9.4.0)\n",
            "Requirement already satisfied: pyparsing>=2.3.1 in /usr/local/lib/python3.10/dist-packages (from matplotlib->memtorch-cpu) (3.1.1)\n",
            "Requirement already satisfied: python-dateutil>=2.7 in /usr/local/lib/python3.10/dist-packages (from matplotlib->memtorch-cpu) (2.8.2)\n",
            "Requirement already satisfied: pytz>=2020.1 in /usr/local/lib/python3.10/dist-packages (from pandas->memtorch-cpu) (2023.3.post1)\n",
            "Requirement already satisfied: requests in /usr/local/lib/python3.10/dist-packages (from torchvision->memtorch-cpu) (2.31.0)\n",
            "Requirement already satisfied: parso<0.9.0,>=0.8.3 in /usr/local/lib/python3.10/dist-packages (from jedi>=0.16->ipython->memtorch-cpu) (0.8.3)\n",
            "Requirement already satisfied: ptyprocess>=0.5 in /usr/local/lib/python3.10/dist-packages (from pexpect>4.3->ipython->memtorch-cpu) (0.7.0)\n",
            "Requirement already satisfied: wcwidth in /usr/local/lib/python3.10/dist-packages (from prompt-toolkit!=3.0.0,!=3.0.1,<3.1.0,>=2.0.0->ipython->memtorch-cpu) (0.2.8)\n",
            "Requirement already satisfied: six>=1.5 in /usr/local/lib/python3.10/dist-packages (from python-dateutil>=2.7->matplotlib->memtorch-cpu) (1.16.0)\n",
            "Requirement already satisfied: future in /usr/local/lib/python3.10/dist-packages (from uncertainties>=3.1.4->lmfit->memtorch-cpu) (0.18.3)\n",
            "Requirement already satisfied: MarkupSafe>=2.0 in /usr/local/lib/python3.10/dist-packages (from jinja2->torch>=1.2.0->memtorch-cpu) (2.1.3)\n",
            "Requirement already satisfied: charset-normalizer<4,>=2 in /usr/local/lib/python3.10/dist-packages (from requests->torchvision->memtorch-cpu) (3.3.0)\n",
            "Requirement already satisfied: idna<4,>=2.5 in /usr/local/lib/python3.10/dist-packages (from requests->torchvision->memtorch-cpu) (3.4)\n",
            "Requirement already satisfied: urllib3<3,>=1.21.1 in /usr/local/lib/python3.10/dist-packages (from requests->torchvision->memtorch-cpu) (2.0.6)\n",
            "Requirement already satisfied: certifi>=2017.4.17 in /usr/local/lib/python3.10/dist-packages (from requests->torchvision->memtorch-cpu) (2023.7.22)\n",
            "Requirement already satisfied: mpmath>=0.19 in /usr/local/lib/python3.10/dist-packages (from sympy->torch>=1.2.0->memtorch-cpu) (1.3.0)\n",
            "Building wheels for collected packages: memtorch-cpu, sklearn\n",
            "  Building wheel for memtorch-cpu (setup.py) ... \u001b[?25l\u001b[?25hdone\n",
            "  Created wheel for memtorch-cpu: filename=memtorch_cpu-1.1.6-cp310-cp310-linux_x86_64.whl size=17099747 sha256=10194edecd90dc59bde7f1cd032b99f2924e68c85e515ca07d72b424910060d3\n",
            "  Stored in directory: /root/.cache/pip/wheels/a0/44/56/544bd473d871cd13451bb8fa34ed88a025c1485c7dfdb236f5\n",
            "  Building wheel for sklearn (setup.py) ... \u001b[?25l\u001b[?25hdone\n",
            "  Created wheel for sklearn: filename=sklearn-0.0.post9-py3-none-any.whl size=2952 sha256=20c18cb491133f2fb64aa06dbcee0d2768c7488875b813464f739dd4780a48b7\n",
            "  Stored in directory: /root/.cache/pip/wheels/33/a3/d2/092b519e9522b4c91608b7dcec0dd9051fa1bff4c45f4502d1\n",
            "Successfully built memtorch-cpu sklearn\n",
            "Installing collected packages: sklearn, uncertainties, jedi, asteval, lmfit, memtorch-cpu\n",
            "Successfully installed asteval-0.9.31 jedi-0.19.1 lmfit-1.2.2 memtorch-cpu-1.1.6 sklearn-0.0.post9 uncertainties-3.1.7\n"
          ]
        }
      ]
    },
    {
      "cell_type": "markdown",
      "source": [
        "# Experiment"
      ],
      "metadata": {
        "id": "-1JQAHkqgNLL"
      }
    },
    {
      "cell_type": "code",
      "execution_count": 2,
      "metadata": {
        "id": "ymncxlPxrfUS",
        "colab": {
          "base_uri": "https://localhost:8080/"
        },
        "outputId": "1cf901bc-ff7d-4a2e-989d-4b88984f5706"
      },
      "outputs": [
        {
          "output_type": "stream",
          "name": "stdout",
          "text": [
            "[-0.58226371  3.22870478 -1.98599767]\n"
          ]
        }
      ],
      "source": [
        "import torch\n",
        "import torch.nn as nn\n",
        "import numpy as np\n",
        "\n",
        "class LinearEquations(nn.Module):\n",
        "    def __init__(self):\n",
        "        super(LinearEquations, self).__init__()\n",
        "\n",
        "    def forward(self, A, B):\n",
        "      self.A = A\n",
        "      self.B = B\n",
        "      return np.linalg.solve(self.A,self.B)\n",
        "\n",
        "model = LinearEquations()\n",
        "\n",
        "A = np.array([[8, 3, -2], [-4, 7, 5], [3, 4, -12]])\n",
        "B = np.array([9, 15, 35])\n",
        "\n",
        "output = model.forward(A, B)\n",
        "print(output)"
      ]
    },
    {
      "cell_type": "code",
      "source": [
        "import memtorch\n",
        "import copy\n",
        "from memtorch.mn.Module import patch_model\n",
        "from memtorch.map.Input import naive_scale\n",
        "from memtorch.map.Parameter import naive_map\n",
        "\n",
        "device = torch.device('cpu' if 'cpu' in memtorch.__version__ else 'cuda')\n",
        "model = LinearEquations().to(device)\n",
        "\n",
        "reference_memristor = memtorch.bh.memristor.VTEAM\n",
        "reference_memristor_params = {'time_series_resolution': 1e-10}\n",
        "memristor = reference_memristor(**reference_memristor_params)\n",
        "\n",
        "patched_model = patch_model(copy.deepcopy(model),\n",
        "                          memristor_model=reference_memristor,\n",
        "                          memristor_model_params=reference_memristor_params,\n",
        "                          module_parameters_to_patch=[torch.nn.Conv2d],\n",
        "                          mapping_routine=naive_map,\n",
        "                          transistor=True,\n",
        "                          programming_routine=None,\n",
        "                          tile_shape=(128, 128),\n",
        "                          max_input_voltage=0.3,\n",
        "                          scaling_routine=naive_scale,\n",
        "                          ADC_resolution=8,\n",
        "                          ADC_overflow_rate=0.,\n",
        "                          quant_method = 'linear')\n",
        "patched_model.tune_()"
      ],
      "metadata": {
        "id": "RSZjSeoGgdnE"
      },
      "execution_count": 3,
      "outputs": []
    },
    {
      "cell_type": "code",
      "source": [],
      "metadata": {
        "id": "elRx-XeehCrt"
      },
      "execution_count": null,
      "outputs": []
    }
  ],
  "metadata": {
    "language_info": {
      "name": "python"
    },
    "orig_nbformat": 4,
    "colab": {
      "provenance": []
    },
    "kernelspec": {
      "name": "python3",
      "display_name": "Python 3"
    }
  },
  "nbformat": 4,
  "nbformat_minor": 0
}