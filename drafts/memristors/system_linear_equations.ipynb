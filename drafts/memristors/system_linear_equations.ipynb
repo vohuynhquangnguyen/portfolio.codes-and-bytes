{
  "cells": [
    {
      "cell_type": "markdown",
      "metadata": {
        "id": "Y4ebITkurfUQ"
      },
      "source": [
        "A system of five linear equations has the following expression in matrix notation:\n",
        "\n",
        "\\begin{bmatrix}\n",
        "y_1 \\\\ y_2 \\\\ y_3 \\\\ y_4 \\\\ y_5\n",
        "\\end{bmatrix} =\n",
        "\n",
        "\\begin{bmatrix}\n",
        "w_{11} & w_{12} & w_{13} & w_{14} & w_{15} \\\\\n",
        "w_{21} & w_{22} & w_{23} & w_{24} & w_{25} \\\\\n",
        "w_{31} & w_{32} & w_{33} & w_{34} & w_{35} \\\\\n",
        "w_{41} & w_{42} & w_{43} & w_{44} & w_{45} \\\\\n",
        "w_{51} & w_{52} & w_{53} & w_{54} & w_{55} \\\\\n",
        "\\end{bmatrix}\n",
        "\n",
        "\\begin{bmatrix} x_1 \\\\x_2 \\\\x_3 \\\\x_4 \\\\x_5 \\end{bmatrix} +\n",
        "\n",
        "\\begin{bmatrix} b_1 \\\\b_2 \\\\b_3 \\\\b_4 \\\\b_5 \\end{bmatrix}\n",
        "\n",
        "We can simplify the above expression to:\n",
        "$$\n",
        "\\mathbf{y} = \\mathbf{W}\\mathbf{x} + \\mathbf{b}\n",
        "$$\n",
        "\n",
        "with\n",
        "* $\\mathbf{x}$ is a column vector representing our inputs whose size is (51).\n",
        "* $\\mathbf{y}$ is a column vector representing our outputs whose size is (51).\n",
        "* $\\mathbf{W}$ is a matrix representing our coefficients whose size is (55).\n",
        "* $\\mathbf{b}$ is a column vector representing our biases whose size is (51)."
      ]
    },
    {
      "cell_type": "code",
      "execution_count": null,
      "metadata": {
        "id": "ymncxlPxrfUS"
      },
      "outputs": [],
      "source": [
        "import torch\n",
        "import torch.nn as nn\n",
        "import numpy as np\n",
        "\n",
        "class LinearLayer(nn.Module):\n",
        "    def __init__(self input_size output_size):\n",
        "        super(LinearLayer self).__init__()\n",
        "        self.weights = np.random.randn(input_size output_size)\n",
        "        self.bias = np.zeros((input_size))\n",
        "\n",
        "    def forward(self x):\n",
        "        return torch.mm(x self.weights) + self.bias\n",
        "\n",
        "layer = LinearLayer(5 5)"
      ]
    }
  ],
  "metadata": {
    "language_info": {
      "name": "python"
    },
    "orig_nbformat": 4,
    "colab": {
      "provenance": []
    }
  },
  "nbformat": 4,
  "nbformat_minor": 0
}