{
  "cells": [
    {
      "cell_type": "markdown",
      "metadata": {
        "id": "Y4ebITkurfUQ"
      },
      "source": [
        "A system of three linear equations has the following expression in matrix notation:\n",
        "$$\n",
        "\\mathbf{y} = \\mathbf{W}\\mathbf{x}\n",
        "$$\n",
        "\n",
        "with\n",
        "* $\\mathbf{x}$ is a column vector representing our inputs whose size is (3,1).\n",
        "* $\\mathbf{y}$ is a column vector representing our outputs whose size is (3,1).\n",
        "* $\\mathbf{W}$ is a matrix representing our coefficients whose size is (3,3)."
      ]
    },
    {
      "cell_type": "markdown",
      "metadata": {
        "id": "-1JQAHkqgNLL"
      },
      "source": [
        "# Experiment\n",
        "Let $X = \\begin{bmatrix} 9. \\\\ 15. \\\\ 35. \\end{bmatrix}$ and $W = \\begin{bmatrix} 8. & 3. & -2. \\\\ -4. & 7. & 5. \\\\ 3. & 4. & -12. \\end{bmatrix}$."
      ]
    },
    {
      "cell_type": "code",
      "execution_count": 5,
      "metadata": {},
      "outputs": [],
      "source": [
        "import torch\n",
        "import torch.nn as nn\n",
        "import numpy as np\n",
        "import memtorch\n",
        "\n",
        "X = [9., 15., 35.]\n",
        "W = [[8., 3., -2.], [-4., 7., 5.], [3., 4., -12.]]"
      ]
    },
    {
      "cell_type": "markdown",
      "metadata": {},
      "source": [
        "## Approach 1\n",
        "We construct a single perceptron deep learning model with only a linear activation. No backward propagation is performed.\n",
        "\n",
        "Once the model is implemented and mapped to the corresponding memristive deep neural network (MDNN), we feed the input vector $X$ to the corresponding memristive network."
      ]
    },
    {
      "cell_type": "code",
      "execution_count": 6,
      "metadata": {
        "id": "ymncxlPxrfUS"
      },
      "outputs": [],
      "source": [
        "class Reference(nn.Module):\n",
        "    def __init__(self):\n",
        "        super(Reference, self).__init__()\n",
        "        pass\n",
        "\n",
        "    def forward(self, X, W):\n",
        "        self.X = torch.tensor(X, requires_grad= True)\n",
        "        self.W = torch.tensor(W, requires_grad= True)\n",
        "        result = torch.matmul(self.W, self.X)\n",
        "        return result\n",
        "    \n",
        "##\n",
        "# Define a reference model:\n",
        "#\n",
        "reference_model = Reference()\n",
        "\n",
        "class Net(nn.Module):\n",
        "    def __init__(self):\n",
        "        super(Net, self).__init__()\n",
        "        self.fc = nn.Linear(in_features = 3, out_features = 3, bias = False)\n",
        "\n",
        "    def forward(self, inputs):\n",
        "      input_tensor = torch.tensor(inputs, requires_grad = True)\n",
        "      output_tensor = self.fc(input_tensor)\n",
        "      return output_tensor\n",
        "    \n",
        "##\n",
        "# Define a test model:\n",
        "#\n",
        "test_model = Net()\n",
        "with torch.no_grad():\n",
        "  test_model.fc.weight.data = torch.tensor(W, requires_grad= True)"
      ]
    },
    {
      "cell_type": "code",
      "execution_count": 7,
      "metadata": {
        "colab": {
          "base_uri": "https://localhost:8080/"
        },
        "id": "ULxIF8_p-zGS",
        "outputId": "862fc0c9-f793-4cbd-eaf8-ed139878e6e1"
      },
      "outputs": [],
      "source": [
        "test_results = test_model.forward(X)\n",
        "reference_results = reference_model.forward(X, W)\n"
      ]
    },
    {
      "cell_type": "markdown",
      "metadata": {},
      "source": [
        "## Approach 2\n",
        "We construct a memristor crossbar array. "
      ]
    },
    {
      "cell_type": "code",
      "execution_count": 8,
      "metadata": {},
      "outputs": [
        {
          "name": "stdout",
          "output_type": "stream",
          "text": [
            "Crossbar Product: tensor([ 0.0009,  0.0020, -0.0027], grad_fn=<MvBackward0>)\n"
          ]
        }
      ],
      "source": [
        "from memtorch.map.Parameter import naive_map\n",
        "from memtorch.bh.crossbar.Crossbar import init_crossbar\n",
        "\n",
        "class IdealMCA():\n",
        "    def __init__(self, X, W):\n",
        "        super(IdealMCA, self).__init__()\n",
        "        self.X = torch.tensor(X, requires_grad= True)\n",
        "        self.W = torch.tensor(W, requires_grad= True)\n",
        "        pass\n",
        "    \n",
        "    def define_memristor_behaviours(self):\n",
        "        self.reference_memristor = memtorch.bh.memristor.VTEAM\n",
        "        self.reference_memristor_params = {\"time_series_resolution\": 1e-10, \"r_off\": 100e3, \"r_on\": 10e3,}\n",
        "        pass\n",
        "\n",
        "    def define_crossbar(self):\n",
        "        self.crossbars, self.operation = init_crossbar(\n",
        "            weights = self.W,\n",
        "            memristor_model= self.reference_memristor,\n",
        "            memristor_model_params= self.reference_memristor_params,\n",
        "            transistor= True,\n",
        "            mapping_routine= naive_map,\n",
        "            programming_routine= None,\n",
        "            tile_shape= None,\n",
        "            scheme= memtorch.bh.crossbar.Scheme.DoubleColumn,\n",
        "        )\n",
        "    \n",
        "    def forward(self):\n",
        "        self.define_memristor_behaviours()\n",
        "        self.define_crossbar()\n",
        "\n",
        "        self.W = self.operation(self.crossbars, lambda crossbar: crossbar.conductance_matrix)\n",
        "        self.results = torch.matmul(self.W, self.X)\n",
        "        print(f'Crossbar Product: {self.results}')\n",
        "        return self.results \n",
        "        pass\n",
        "\n",
        "test_model = IdealMCA(X, W)\n",
        "test_results = test_model.forward()"
      ]
    },
    {
      "cell_type": "markdown",
      "metadata": {},
      "source": [
        "The reason this produces a scaled output is that the elements of $W$ are encoded on the crossbar using conductance values which can be represented by each device, i.e., they are scaled and encoded between $1/r_{off}$ and $1/r_{on}$. In MCA, the Ohm's law is exploited to perform Vector-Matrix Multiplication, so:\n",
        "* Elements of tensor $X$ are encoded as Word Line (WL) voltages.\n",
        "* Elements of tensor $Y$ is given as: $I=GV$ (assuming linear I/V characteristics and that line and source resistances are negligible/select devices are used). Since encoded elements of tensor $X$ are scaled, the resulting currents, i.e., $I$, must be scaled much that they are approximately equal to the desired product, which is $GV \\equiv WX$.\n"
      ]
    },
    {
      "cell_type": "markdown",
      "metadata": {},
      "source": []
    }
  ],
  "metadata": {
    "colab": {
      "provenance": []
    },
    "kernelspec": {
      "display_name": "Python 3",
      "name": "python3"
    },
    "language_info": {
      "codemirror_mode": {
        "name": "ipython",
        "version": 3
      },
      "file_extension": ".py",
      "mimetype": "text/x-python",
      "name": "python",
      "nbconvert_exporter": "python",
      "pygments_lexer": "ipython3",
      "version": "3.11.5"
    },
    "orig_nbformat": 4
  },
  "nbformat": 4,
  "nbformat_minor": 0
}
