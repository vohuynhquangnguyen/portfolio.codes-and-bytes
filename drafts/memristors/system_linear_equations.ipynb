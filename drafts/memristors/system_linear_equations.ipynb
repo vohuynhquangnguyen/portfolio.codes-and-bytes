{
  "cells": [
    {
      "cell_type": "markdown",
      "metadata": {
        "id": "Y4ebITkurfUQ"
      },
      "source": [
        "A system of three linear equations has the following expression in matrix notation:\n",
        "$$\n",
        "\\mathbf{y} = \\mathbf{W}\\mathbf{x}\n",
        "$$\n",
        "\n",
        "with\n",
        "* $\\mathbf{x}$ is a column vector representing our inputs whose size is (3,1).\n",
        "* $\\mathbf{y}$ is a column vector representing our outputs whose size is (3,1).\n",
        "* $\\mathbf{W}$ is a matrix representing our coefficients whose size is (3,3)."
      ]
    },
    {
      "cell_type": "markdown",
      "metadata": {
        "id": "-1JQAHkqgNLL"
      },
      "source": [
        "# Experiment (with ideal characteristics)\n",
        "Let $X = \\begin{bmatrix} 9. \\\\ 15. \\\\ 35. \\end{bmatrix}$ and $W = \\begin{bmatrix} 8. & 3. & -2. \\\\ -4. & 7. & 5. \\\\ 3. & 4. & -12. \\end{bmatrix}$."
      ]
    },
    {
      "cell_type": "raw",
      "metadata": {},
      "source": [
        "import torch\n",
        "import torch.nn as nn\n",
        "import numpy as np\n",
        "import memtorch"
      ]
    },
    {
      "cell_type": "markdown",
      "metadata": {},
      "source": [
        "## Approach 1\n",
        "We construct a single perceptron deep learning model with only a linear activation. No backward propagation is performed.\n",
        "\n",
        "Once the model is implemented and mapped to the corresponding memristive deep neural network (MDNN), we feed the input vector $X$ to the corresponding memristive network."
      ]
    },
    {
      "cell_type": "raw",
      "metadata": {
        "id": "ymncxlPxrfUS"
      },
      "source": [
        "class Reference(nn.Module):\n",
        "    def __init__(self):\n",
        "        super(Reference, self).__init__()\n",
        "        pass\n",
        "\n",
        "    def forward(self, X, W):\n",
        "        self.X = torch.tensor(X, requires_grad= True)\n",
        "        self.W = torch.tensor(W, requires_grad= True)\n",
        "        result = torch.matmul(self.W, self.X)\n",
        "        return result\n",
        "    \n",
        "##\n",
        "# Define a reference model:\n",
        "#\n",
        "reference_model = Reference()\n",
        "reference_results = reference_model.forward(X, W)\n",
        "print(reference_results)\n",
        "\n",
        "class Net(nn.Module):\n",
        "    def __init__(self):\n",
        "        super(Net, self).__init__()\n",
        "        self.fc = nn.Linear(in_features = 3, out_features = 3, bias = False)\n",
        "\n",
        "    def forward(self, inputs):\n",
        "      input_tensor = torch.tensor(inputs, requires_grad = True)\n",
        "      output_tensor = self.fc(input_tensor)\n",
        "      return output_tensor\n",
        "    \n",
        "##\n",
        "# Define a test model:\n",
        "#\n",
        "test_model = Net()\n",
        "with torch.no_grad():\n",
        "  test_model.fc.weight.data = torch.tensor(W, requires_grad= True)\n",
        "print(test_model.fc.weight)\n",
        "\n",
        "# test_results = test_model.forward(X)\n"
      ]
    },
    {
      "cell_type": "code",
      "execution_count": 7,
      "metadata": {
        "colab": {
          "base_uri": "https://localhost:8080/"
        },
        "id": "ULxIF8_p-zGS",
        "outputId": "862fc0c9-f793-4cbd-eaf8-ed139878e6e1"
      },
      "outputs": [
        {
          "ename": "NameError",
          "evalue": "name 'Net' is not defined",
          "output_type": "error",
          "traceback": [
            "\u001b[1;31m---------------------------------------------------------------------------\u001b[0m",
            "\u001b[1;31mNameError\u001b[0m                                 Traceback (most recent call last)",
            "\u001b[1;32mc:\\Users\\quang\\OneDrive\\Documents\\GitHub\\portfolio.codes-and-bytes\\drafts\\memristors\\system_linear_equations.ipynb Cell 6\u001b[0m line \u001b[0;36m1\n\u001b[0;32m      <a href='vscode-notebook-cell:/c%3A/Users/quang/OneDrive/Documents/GitHub/portfolio.codes-and-bytes/drafts/memristors/system_linear_equations.ipynb#W5sZmlsZQ%3D%3D?line=7'>8</a>\u001b[0m reference_memristor \u001b[39m=\u001b[39m memtorch\u001b[39m.\u001b[39mbh\u001b[39m.\u001b[39mmemristor\u001b[39m.\u001b[39mVTEAM\n\u001b[0;32m      <a href='vscode-notebook-cell:/c%3A/Users/quang/OneDrive/Documents/GitHub/portfolio.codes-and-bytes/drafts/memristors/system_linear_equations.ipynb#W5sZmlsZQ%3D%3D?line=8'>9</a>\u001b[0m reference_memristor_params \u001b[39m=\u001b[39m {\u001b[39m\"\u001b[39m\u001b[39mtime_series_resolution\u001b[39m\u001b[39m\"\u001b[39m: \u001b[39m1e-10\u001b[39m, \u001b[39m\"\u001b[39m\u001b[39mr_off\u001b[39m\u001b[39m\"\u001b[39m: \u001b[39m100e3\u001b[39m, \u001b[39m\"\u001b[39m\u001b[39mr_on\u001b[39m\u001b[39m\"\u001b[39m: \u001b[39m10e3\u001b[39m,}\n\u001b[1;32m---> <a href='vscode-notebook-cell:/c%3A/Users/quang/OneDrive/Documents/GitHub/portfolio.codes-and-bytes/drafts/memristors/system_linear_equations.ipynb#W5sZmlsZQ%3D%3D?line=9'>10</a>\u001b[0m model \u001b[39m=\u001b[39m Net()\u001b[39m.\u001b[39mto(device)\n\u001b[0;32m     <a href='vscode-notebook-cell:/c%3A/Users/quang/OneDrive/Documents/GitHub/portfolio.codes-and-bytes/drafts/memristors/system_linear_equations.ipynb#W5sZmlsZQ%3D%3D?line=11'>12</a>\u001b[0m patched_model \u001b[39m=\u001b[39m patch_model(copy\u001b[39m.\u001b[39mdeepcopy(model),\n\u001b[0;32m     <a href='vscode-notebook-cell:/c%3A/Users/quang/OneDrive/Documents/GitHub/portfolio.codes-and-bytes/drafts/memristors/system_linear_equations.ipynb#W5sZmlsZQ%3D%3D?line=12'>13</a>\u001b[0m                           memristor_model\u001b[39m=\u001b[39mreference_memristor,\n\u001b[0;32m     <a href='vscode-notebook-cell:/c%3A/Users/quang/OneDrive/Documents/GitHub/portfolio.codes-and-bytes/drafts/memristors/system_linear_equations.ipynb#W5sZmlsZQ%3D%3D?line=13'>14</a>\u001b[0m                           memristor_model_params\u001b[39m=\u001b[39mreference_memristor_params,\n\u001b[1;32m   (...)\u001b[0m\n\u001b[0;32m     <a href='vscode-notebook-cell:/c%3A/Users/quang/OneDrive/Documents/GitHub/portfolio.codes-and-bytes/drafts/memristors/system_linear_equations.ipynb#W5sZmlsZQ%3D%3D?line=22'>23</a>\u001b[0m                           ADC_overflow_rate\u001b[39m=\u001b[39m\u001b[39m0.\u001b[39m,\n\u001b[0;32m     <a href='vscode-notebook-cell:/c%3A/Users/quang/OneDrive/Documents/GitHub/portfolio.codes-and-bytes/drafts/memristors/system_linear_equations.ipynb#W5sZmlsZQ%3D%3D?line=23'>24</a>\u001b[0m                           quant_method\u001b[39m=\u001b[39m\u001b[39m'\u001b[39m\u001b[39mlinear\u001b[39m\u001b[39m'\u001b[39m)\n\u001b[0;32m     <a href='vscode-notebook-cell:/c%3A/Users/quang/OneDrive/Documents/GitHub/portfolio.codes-and-bytes/drafts/memristors/system_linear_equations.ipynb#W5sZmlsZQ%3D%3D?line=24'>25</a>\u001b[0m patched_model\u001b[39m.\u001b[39mtune_()\n",
            "\u001b[1;31mNameError\u001b[0m: name 'Net' is not defined"
          ]
        }
      ],
      "source": [
        "import copy\n",
        "from memtorch.mn.Module import patch_model\n",
        "from memtorch.map.Parameter import naive_map\n",
        "from memtorch.map.Input import naive_scale\n",
        "\n",
        "device = torch.device('cpu' if 'cpu' in memtorch.__version__ else 'cuda')\n",
        "\n",
        "reference_memristor = memtorch.bh.memristor.VTEAM\n",
        "reference_memristor_params = {\"time_series_resolution\": 1e-10, \"r_off\": 100e3, \"r_on\": 10e3,}\n",
        "model = Net().to(device)\n",
        "\n",
        "patched_model = patch_model(copy.deepcopy(model),\n",
        "                          memristor_model=reference_memristor,\n",
        "                          memristor_model_params=reference_memristor_params,\n",
        "                          module_parameters_to_patch=[torch.nn.Conv2d],\n",
        "                          mapping_routine=naive_map,\n",
        "                          transistor=True,\n",
        "                          programming_routine=None,\n",
        "                          tile_shape=(128, 128),\n",
        "                          max_input_voltage=0.3,\n",
        "                          scaling_routine=naive_scale,\n",
        "                          ADC_resolution=8,\n",
        "                          ADC_overflow_rate=0.,\n",
        "                          quant_method='linear')\n",
        "patched_model.tune_()\n",
        "patched_model.forward(torch.tensor(X, requires_grad=True))"
      ]
    },
    {
      "cell_type": "markdown",
      "metadata": {},
      "source": [
        "## Approach 2\n",
        "We construct a memristor crossbar array. "
      ]
    },
    {
      "cell_type": "code",
      "execution_count": 12,
      "metadata": {},
      "outputs": [],
      "source": [
        "import torch\n",
        "import torch.nn as nn\n",
        "import numpy as np\n",
        "import memtorch\n",
        "\n",
        "from memtorch.map.Parameter import naive_map\n",
        "from memtorch.bh.crossbar.Crossbar import init_crossbar\n",
        "\n",
        "class IdealMCA():\n",
        "    def __init__(self, W):\n",
        "        super(IdealMCA, self).__init__()\n",
        "        # self.X = torch.tensor(X, requires_grad= True)\n",
        "        self.W = torch.tensor(W, requires_grad= True)\n",
        "        self.define_memristor_behaviours()\n",
        "        self.define_crossbar()\n",
        "        pass\n",
        "    \n",
        "    def define_memristor_behaviours(self):\n",
        "        self.reference_memristor = memtorch.bh.memristor.VTEAM\n",
        "        self.reference_memristor_params = {\"time_series_resolution\": 1e-10, \"r_off\": 100e3, \"r_on\": 10e3,}\n",
        "        pass\n",
        "\n",
        "    def define_crossbar(self):\n",
        "        self.crossbars, self.operation = init_crossbar(\n",
        "            weights = self.W,\n",
        "            memristor_model= self.reference_memristor,\n",
        "            memristor_model_params= self.reference_memristor_params,\n",
        "            transistor= True,\n",
        "            mapping_routine= naive_map,\n",
        "            programming_routine= None,\n",
        "            tile_shape= (3,3),\n",
        "            scheme= memtorch.bh.crossbar.Scheme.DoubleColumn,\n",
        "        )\n",
        "    \n",
        "    def forward(self,X):\n",
        "        self.X = torch.tensor(X, requires_grad= True)\n",
        "        #self.W = torch.tensor(W, requires_grad= True)\n",
        "        self.W = self.operation(self.crossbars, lambda crossbar: crossbar.conductance_matrix)\n",
        "        self.results = torch.matmul(self.W, self.X)\n",
        "        print(f'Crossbar Product: {self.results}')\n",
        "        return self.results \n",
        "        pass\n",
        "\n"
      ]
    },
    {
      "cell_type": "code",
      "execution_count": 16,
      "metadata": {},
      "outputs": [],
      "source": [
        "W = [[1., 0., 0.], [0., 1., 0.], [0., 0., 1.]]\n",
        "\n",
        "test_model = IdealMCA(W)"
      ]
    },
    {
      "cell_type": "code",
      "execution_count": 19,
      "metadata": {},
      "outputs": [
        {
          "name": "stdout",
          "output_type": "stream",
          "text": [
            "Crossbar Product: tensor([[0.0090, 0.0090, 0.0090]], grad_fn=<UnsafeViewBackward0>)\n"
          ]
        }
      ],
      "source": [
        "X = [100., 100., 1.]\n",
        "\n",
        "test_results = test_model.forward(X)"
      ]
    },
    {
      "cell_type": "markdown",
      "metadata": {},
      "source": [
        "The reason this produces a scaled output is that the elements of $W$ are encoded on the crossbar using conductance values which can be represented by each device, i.e., they are scaled and encoded between $1/r_{off}$ and $1/r_{on}$. In MCA, the Ohm's law is exploited to perform Vector-Matrix Multiplication, so:\n",
        "* Elements of tensor $X$ are encoded as Word Line (WL) voltages.\n",
        "* Elements of tensor $Y$ is given as: $I=GV$ (assuming linear I/V characteristics and that line and source resistances are negligible/select devices are used). Since encoded elements of tensor $X$ are scaled, the resulting currents, i.e., $I$, must be scaled much that they are approximately equal to the desired product, which is $GV \\equiv WX$.\n"
      ]
    },
    {
      "cell_type": "markdown",
      "metadata": {},
      "source": [
        "## Experiment (with non-ideal characteristics)"
      ]
    },
    {
      "cell_type": "markdown",
      "metadata": {},
      "source": []
    }
  ],
  "metadata": {
    "colab": {
      "provenance": []
    },
    "kernelspec": {
      "display_name": "Python 3",
      "name": "python3"
    },
    "language_info": {
      "codemirror_mode": {
        "name": "ipython",
        "version": 3
      },
      "file_extension": ".py",
      "mimetype": "text/x-python",
      "name": "python",
      "nbconvert_exporter": "python",
      "pygments_lexer": "ipython3",
      "version": "3.11.5"
    },
    "orig_nbformat": 4
  },
  "nbformat": 4,
  "nbformat_minor": 0
}
