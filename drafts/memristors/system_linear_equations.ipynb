{
  "cells": [
    {
      "cell_type": "markdown",
      "metadata": {
        "id": "Y4ebITkurfUQ"
      },
      "source": [
        "A system of three linear equations has the following expression in matrix notation:\n",
        "$$\n",
        "\\mathbf{y} = \\mathbf{W}\\mathbf{x}\n",
        "$$\n",
        "\n",
        "with\n",
        "* $\\mathbf{x}$ is a column vector representing our inputs whose size is (3,1).\n",
        "* $\\mathbf{y}$ is a column vector representing our outputs whose size is (3,1).\n",
        "* $\\mathbf{W}$ is a matrix representing our coefficients whose size is (3,3)."
      ]
    },
    {
      "cell_type": "markdown",
      "metadata": {
        "id": "-1JQAHkqgNLL"
      },
      "source": [
        "# Experiment (with ideal characteristics)\n",
        "Let $X = \\begin{bmatrix} 9. \\\\ 15. \\\\ 35. \\end{bmatrix}$ and $W = \\begin{bmatrix} 8. & 3. & -2. \\\\ -4. & 7. & 5. \\\\ 3. & 4. & -12. \\end{bmatrix}$."
      ]
    },
    {
      "cell_type": "code",
      "execution_count": 26,
      "metadata": {},
      "outputs": [],
      "source": [
        "W = [[8., 3., -2.], [-4., 7., 5.], [3., 4., -12.]]\n",
        "X = [9., 15., 35.]"
      ]
    },
    {
      "cell_type": "markdown",
      "metadata": {},
      "source": [
        "## Approach 1\n",
        "We construct a single perceptron deep learning model with only a linear activation. No backward propagation is performed.\n",
        "\n",
        "Once the model is implemented and mapped to the corresponding memristive deep neural network (MDNN), we feed the input vector $X$ to the corresponding memristive network."
      ]
    },
    {
      "cell_type": "code",
      "execution_count": 27,
      "metadata": {
        "id": "ymncxlPxrfUS"
      },
      "outputs": [
        {
          "name": "stdout",
          "output_type": "stream",
          "text": [
            "tensor([  47.,  244., -333.], grad_fn=<MvBackward0>)\n",
            "Parameter containing:\n",
            "tensor([[  8.,   3.,  -2.],\n",
            "        [ -4.,   7.,   5.],\n",
            "        [  3.,   4., -12.]], requires_grad=True)\n"
          ]
        }
      ],
      "source": [
        "import torch\n",
        "import torch.nn as nn\n",
        "import numpy as np\n",
        "import memtorch\n",
        "\n",
        "class Reference(nn.Module):\n",
        "    def __init__(self):\n",
        "        super(Reference, self).__init__()\n",
        "        pass\n",
        "\n",
        "    def forward(self, X, W):\n",
        "        self.X = torch.tensor(X, requires_grad= True)\n",
        "        self.W = torch.tensor(W, requires_grad= True)\n",
        "        result = torch.matmul(self.W, self.X)\n",
        "        return result\n",
        "    \n",
        "##\n",
        "# Define a reference model:\n",
        "#\n",
        "reference_model = Reference()\n",
        "reference_results = reference_model.forward(X, W)\n",
        "print(reference_results)\n",
        "\n",
        "class Net(nn.Module):\n",
        "    def __init__(self):\n",
        "        super(Net, self).__init__()\n",
        "        self.fc = nn.Linear(in_features = 3, out_features = 3, bias = False)\n",
        "\n",
        "    def forward(self, inputs):\n",
        "      input_tensor = torch.tensor(inputs, requires_grad = True)\n",
        "      output_tensor = self.fc(input_tensor)\n",
        "      return output_tensor\n",
        "    \n",
        "##\n",
        "# Define a test model:\n",
        "#\n",
        "test_model = Net()\n",
        "with torch.no_grad(): test_model.fc.weight.data = torch.tensor(W, requires_grad= True)\n",
        "print(test_model.fc.weight)\n",
        "test_results = test_model.forward(X)\n"
      ]
    },
    {
      "cell_type": "code",
      "execution_count": 28,
      "metadata": {
        "colab": {
          "base_uri": "https://localhost:8080/"
        },
        "id": "ULxIF8_p-zGS",
        "outputId": "862fc0c9-f793-4cbd-eaf8-ed139878e6e1"
      },
      "outputs": [
        {
          "name": "stdout",
          "output_type": "stream",
          "text": [
            "Parameter containing:\n",
            "tensor([[ 0.1813,  0.2123, -0.2646],\n",
            "        [-0.3811, -0.1741, -0.0134],\n",
            "        [ 0.3399,  0.4545,  0.0471]], requires_grad=True)\n"
          ]
        },
        {
          "data": {
            "text/plain": [
              "tensor([-4.4461, -6.5125, 11.5244], grad_fn=<SqueezeBackward4>)"
            ]
          },
          "execution_count": 28,
          "metadata": {},
          "output_type": "execute_result"
        }
      ],
      "source": [
        "import copy\n",
        "from memtorch.mn.Module import patch_model\n",
        "from memtorch.map.Parameter import naive_map\n",
        "from memtorch.map.Input import naive_scale\n",
        "\n",
        "device = torch.device('cpu' if 'cpu' in memtorch.__version__ else 'cuda')\n",
        "\n",
        "reference_memristor = memtorch.bh.memristor.VTEAM\n",
        "reference_memristor_params = {\"time_series_resolution\": 1e-10, \"r_off\": 100e3, \"r_on\": 10e3,}\n",
        "model = Net().to(device)\n",
        "\n",
        "patched_model = patch_model(copy.deepcopy(model),\n",
        "                          memristor_model=reference_memristor,\n",
        "                          memristor_model_params=reference_memristor_params,\n",
        "                          module_parameters_to_patch=[torch.nn.Conv1d],\n",
        "                          mapping_routine=naive_map,\n",
        "                          transistor=True,\n",
        "                          programming_routine=None,\n",
        "                          tile_shape=(3,3),\n",
        "                          max_input_voltage=0.3,\n",
        "                          scaling_routine=naive_scale,\n",
        "                          ADC_resolution=8,\n",
        "                          ADC_overflow_rate=0.,\n",
        "                          quant_method='linear')\n",
        "\n",
        "print(patched_model.fc.weight)\n",
        "patched_model.forward(X)"
      ]
    },
    {
      "cell_type": "markdown",
      "metadata": {},
      "source": [
        "## Approach 2\n",
        "We construct a memristor crossbar array. "
      ]
    },
    {
      "cell_type": "code",
      "execution_count": 29,
      "metadata": {},
      "outputs": [
        {
          "name": "stdout",
          "output_type": "stream",
          "text": [
            "tensor([[ 0.0936,  0.2176, -0.2904]], grad_fn=<UnsafeViewBackward0>)\n"
          ]
        }
      ],
      "source": [
        "import torch\n",
        "import torch.nn as nn\n",
        "import numpy as np\n",
        "import memtorch\n",
        "\n",
        "from memtorch.map.Parameter import naive_map\n",
        "from memtorch.bh.crossbar.Crossbar import init_crossbar\n",
        "\n",
        "class IdealMCA():\n",
        "    def __init__(self, W):\n",
        "        super(IdealMCA, self).__init__()\n",
        "        # self.X = torch.tensor(X, requires_grad= True)\n",
        "        self.W = torch.tensor(W, requires_grad= True)\n",
        "        self.define_memristor_behaviours()\n",
        "        self.define_crossbar()\n",
        "        pass\n",
        "    \n",
        "    def define_memristor_behaviours(self):\n",
        "        self.reference_memristor = memtorch.bh.memristor.VTEAM\n",
        "        self.reference_memristor_params = {\n",
        "    'time_series_resolution': 1e-6,\n",
        "    'alpha_off': 1,\n",
        "    'alpha_on': 3,\n",
        "    'v_off': 0.5,\n",
        "    'v_on': -0.53,\n",
        "    'r_off': 2.5e3,#2.5e3\n",
        "    'r_on': 100,#100\n",
        "    'k_off': 4.03e-8,\n",
        "    'k_on': -80,\n",
        "    'd': 10e-9,\n",
        "    'x_on': 0,\n",
        "    'x_off': 10e-9\n",
        "}\n",
        "        pass\n",
        "\n",
        "    def define_crossbar(self):\n",
        "        self.crossbars, self.operation = init_crossbar(\n",
        "            weights = self.W,\n",
        "            memristor_model= self.reference_memristor,\n",
        "            memristor_model_params= self.reference_memristor_params,\n",
        "            transistor= True,\n",
        "            mapping_routine= naive_map,\n",
        "            programming_routine= None,\n",
        "            tile_shape= (3,3),\n",
        "            scheme= memtorch.bh.crossbar.Scheme.DoubleColumn,\n",
        "        )\n",
        "    \n",
        "    def forward(self,X):\n",
        "        self.X = torch.tensor(X, requires_grad= True)\n",
        "        #self.W = torch.tensor(W, requires_grad= True)\n",
        "        self.W = self.operation(self.crossbars, lambda crossbar: crossbar.conductance_matrix)\n",
        "        self.results = torch.matmul(self.W, self.X)\n",
        "        # print(f'Crossbar Product: {self.results}')\n",
        "        return self.results \n",
        "        pass\n",
        "\n",
        "##\n",
        "# Define the crossbar\n",
        "#\n",
        "test_model = IdealMCA(W)\n",
        "test_results = test_model.forward(X)\n",
        "print(test_results)"
      ]
    },
    {
      "cell_type": "markdown",
      "metadata": {},
      "source": [
        "The reason this produces a scaled output is that the elements of $W$ are encoded on the crossbar using conductance values which can be represented by each device, i.e., they are scaled and encoded between $1/r_{off}$ and $1/r_{on}$. In MCA, the Ohm's law is exploited to perform Vector-Matrix Multiplication, so:\n",
        "* Elements of tensor $X$ are encoded as Word Line (WL) voltages.\n",
        "* Elements of tensor $Y$ is given as: $I=GV$ (assuming linear I/V characteristics and that line and source resistances are negligible/select devices are used). Since encoded elements of tensor $X$ are scaled, the resulting currents, i.e., $I$, must be scaled much that they are approximately equal to the desired product, which is $GV \\equiv WX$.\n",
        "\n",
        "We can find the scalar that scales the crossbar's outputs back to the expected crossbar as follows: "
      ]
    },
    {
      "cell_type": "code",
      "execution_count": 30,
      "metadata": {},
      "outputs": [
        {
          "name": "stdout",
          "output_type": "stream",
          "text": [
            "[1. 1. 1.]\n",
            "[[0.0096 0.0096 0.0096]]\n",
            "[100. 100. 100.]\n",
            "[[0.96 0.96 0.96]]\n",
            "[100. 100.   1.]\n",
            "[[0.96   0.96   0.0096]]\n",
            "[ 9. 15. 35.]\n",
            "[[0.08639999 0.144      0.336     ]]\n"
          ]
        }
      ],
      "source": [
        "W = [[1., 0., 0.], [0., 1., 0.], [0., 0., 1.]]\n",
        "X = [[1., 1., 1.], [100., 100., 100.], [100., 100., 1.], [9., 15., 35.]]\n",
        "\n",
        "test_model = IdealMCA(W)\n",
        "reference_model = Reference()\n",
        "\n",
        "Yhat = []\n",
        "Y = []\n",
        "for i in range(4):\n",
        "    y = reference_model.forward(X[i], W)\n",
        "    y = y.detach().numpy()\n",
        "    Y.append(y)\n",
        "    print(y)\n",
        "\n",
        "    yhat = test_model.forward(X[i])\n",
        "    yhat = yhat.detach().numpy()\n",
        "    Yhat.append(yhat)\n",
        "    print(yhat)"
      ]
    },
    {
      "cell_type": "raw",
      "metadata": {},
      "source": [
        "F = \n",
        "test_results *= F\n",
        "print(test_results)\n"
      ]
    },
    {
      "cell_type": "markdown",
      "metadata": {},
      "source": []
    },
    {
      "cell_type": "code",
      "execution_count": 31,
      "metadata": {},
      "outputs": [
        {
          "name": "stderr",
          "output_type": "stream",
          "text": [
            "c:\\ProgramData\\anaconda3\\envs\\memristor\\Lib\\site-packages\\memtorch\\bh\\nonideality\\DeviceFaults.py:116: SyntaxWarning: \"is not\" with a literal. Did you mean \"!=\"?\n",
            "  ) and arg.name is not \"validate_args\":\n",
            "c:\\ProgramData\\anaconda3\\envs\\memristor\\Lib\\site-packages\\memtorch\\bh\\nonideality\\DeviceFaults.py:116: SyntaxWarning: \"is not\" with a literal. Did you mean \"!=\"?\n",
            "  ) and arg.name is not \"validate_args\":\n",
            "c:\\ProgramData\\anaconda3\\envs\\memristor\\Lib\\site-packages\\memtorch\\bh\\nonideality\\DeviceFaults.py:116: SyntaxWarning: \"is not\" with a literal. Did you mean \"!=\"?\n",
            "  ) and arg.name is not \"validate_args\":\n",
            "c:\\ProgramData\\anaconda3\\envs\\memristor\\Lib\\site-packages\\memtorch\\bh\\nonideality\\DeviceFaults.py:116: SyntaxWarning: \"is not\" with a literal. Did you mean \"!=\"?\n",
            "  ) and arg.name is not \"validate_args\":\n"
          ]
        },
        {
          "ename": "AttributeError",
          "evalue": "'IdealMCA' object has no attribute 'tile_shape'",
          "output_type": "error",
          "traceback": [
            "\u001b[1;31m---------------------------------------------------------------------------\u001b[0m",
            "\u001b[1;31mAttributeError\u001b[0m                            Traceback (most recent call last)",
            "\u001b[1;32mc:\\Users\\quang\\OneDrive\\Documents\\GitHub\\portfolio.codes-and-bytes\\drafts\\memristors\\system_linear_equations.ipynb Cell 13\u001b[0m line \u001b[0;36m4\n\u001b[0;32m      <a href='vscode-notebook-cell:/c%3A/Users/quang/OneDrive/Documents/GitHub/portfolio.codes-and-bytes/drafts/memristors/system_linear_equations.ipynb#X15sZmlsZQ%3D%3D?line=0'>1</a>\u001b[0m \u001b[39mfrom\u001b[39;00m \u001b[39mmemtorch\u001b[39;00m\u001b[39m.\u001b[39;00m\u001b[39mbh\u001b[39;00m\u001b[39m.\u001b[39;00m\u001b[39mnonideality\u001b[39;00m\u001b[39m.\u001b[39;00m\u001b[39mDeviceFaults\u001b[39;00m \u001b[39mimport\u001b[39;00m apply_cycle_variability\n\u001b[0;32m      <a href='vscode-notebook-cell:/c%3A/Users/quang/OneDrive/Documents/GitHub/portfolio.codes-and-bytes/drafts/memristors/system_linear_equations.ipynb#X15sZmlsZQ%3D%3D?line=1'>2</a>\u001b[0m distribution \u001b[39m=\u001b[39m torch\u001b[39m.\u001b[39mdistributions\u001b[39m.\u001b[39mnormal\u001b[39m.\u001b[39mNormal\n\u001b[1;32m----> <a href='vscode-notebook-cell:/c%3A/Users/quang/OneDrive/Documents/GitHub/portfolio.codes-and-bytes/drafts/memristors/system_linear_equations.ipynb#X15sZmlsZQ%3D%3D?line=3'>4</a>\u001b[0m test_model_exp1 \u001b[39m=\u001b[39m apply_cycle_variability(test_model, distribution, r_off_kwargs\u001b[39m=\u001b[39m{\u001b[39m\"\u001b[39m\u001b[39mloc\u001b[39m\u001b[39m\"\u001b[39m:\u001b[39m0\u001b[39m,\u001b[39m\"\u001b[39m\u001b[39mscale\u001b[39m\u001b[39m\"\u001b[39m:\u001b[39m1\u001b[39m}, r_on_kwargs\u001b[39m=\u001b[39m{\u001b[39m\"\u001b[39m\u001b[39mloc\u001b[39m\u001b[39m\"\u001b[39m:\u001b[39m0\u001b[39m,\u001b[39m\"\u001b[39m\u001b[39mscale\u001b[39m\u001b[39m\"\u001b[39m:\u001b[39m1\u001b[39m})\n",
            "File \u001b[1;32mc:\\ProgramData\\anaconda3\\envs\\memristor\\Lib\\site-packages\\memtorch\\bh\\nonideality\\DeviceFaults.py:155\u001b[0m, in \u001b[0;36mapply_cycle_variability\u001b[1;34m(layer, distribution, min, max, parallelize, r_off_kwargs, r_on_kwargs)\u001b[0m\n\u001b[0;32m    152\u001b[0m     \u001b[39mreturn\u001b[39;00m crossbar\n\u001b[0;32m    154\u001b[0m \u001b[39mfor\u001b[39;00m i \u001b[39min\u001b[39;00m \u001b[39mrange\u001b[39m(\u001b[39mlen\u001b[39m(layer\u001b[39m.\u001b[39mcrossbars)):\n\u001b[1;32m--> 155\u001b[0m     layer\u001b[39m.\u001b[39mcrossbars[i] \u001b[39m=\u001b[39m apply_cycle_variability_to_crossbar(\n\u001b[0;32m    156\u001b[0m         layer\u001b[39m.\u001b[39mcrossbars[i],\n\u001b[0;32m    157\u001b[0m         distribution,\n\u001b[0;32m    158\u001b[0m         \u001b[39mmin\u001b[39m\u001b[39m=\u001b[39m\u001b[39mmin\u001b[39m,\n\u001b[0;32m    159\u001b[0m         \u001b[39mmax\u001b[39m\u001b[39m=\u001b[39m\u001b[39mmax\u001b[39m,\n\u001b[0;32m    160\u001b[0m         parallelize\u001b[39m=\u001b[39mparallelize,\n\u001b[0;32m    161\u001b[0m         r_off_kwargs\u001b[39m=\u001b[39mr_off_kwargs,\n\u001b[0;32m    162\u001b[0m         r_on_kwargs\u001b[39m=\u001b[39mr_on_kwargs,\n\u001b[0;32m    163\u001b[0m     )\n\u001b[0;32m    165\u001b[0m \u001b[39mreturn\u001b[39;00m layer\n",
            "File \u001b[1;32mc:\\ProgramData\\anaconda3\\envs\\memristor\\Lib\\site-packages\\memtorch\\bh\\nonideality\\DeviceFaults.py:135\u001b[0m, in \u001b[0;36mapply_cycle_variability.<locals>.apply_cycle_variability_to_crossbar\u001b[1;34m(crossbar, distribution, min, max, parallelize, r_off_kwargs, r_on_kwargs)\u001b[0m\n\u001b[0;32m    133\u001b[0m     np\u001b[39m.\u001b[39mfrompyfunc(write_r_on, \u001b[39m2\u001b[39m, \u001b[39m0\u001b[39m)(crossbar\u001b[39m.\u001b[39mdevices, r_on)\n\u001b[0;32m    134\u001b[0m \u001b[39melse\u001b[39;00m:\n\u001b[1;32m--> 135\u001b[0m     \u001b[39mif\u001b[39;00m layer\u001b[39m.\u001b[39mtile_shape \u001b[39mis\u001b[39;00m \u001b[39mnot\u001b[39;00m \u001b[39mNone\u001b[39;00m:\n\u001b[0;32m    136\u001b[0m         \u001b[39mfor\u001b[39;00m i \u001b[39min\u001b[39;00m \u001b[39mrange\u001b[39m(\u001b[39m0\u001b[39m, layer\u001b[39m.\u001b[39mcrossbars[\u001b[39m0\u001b[39m]\u001b[39m.\u001b[39mdevices\u001b[39m.\u001b[39mshape[\u001b[39m0\u001b[39m]):\n\u001b[0;32m    137\u001b[0m             \u001b[39mfor\u001b[39;00m j \u001b[39min\u001b[39;00m \u001b[39mrange\u001b[39m(\u001b[39m0\u001b[39m, layer\u001b[39m.\u001b[39mcrossbars[\u001b[39m0\u001b[39m]\u001b[39m.\u001b[39mdevices\u001b[39m.\u001b[39mshape[\u001b[39m1\u001b[39m]):\n",
            "\u001b[1;31mAttributeError\u001b[0m: 'IdealMCA' object has no attribute 'tile_shape'"
          ]
        }
      ],
      "source": [
        "from memtorch.bh.nonideality.DeviceFaults import apply_cycle_variability\n",
        "distribution = torch.distributions.normal.Normal\n",
        "\n",
        "test_model_exp1 = apply_cycle_variability(test_model, distribution, r_off_kwargs={\"loc\":0,\"scale\":1}, r_on_kwargs={\"loc\":0,\"scale\":1})"
      ]
    },
    {
      "cell_type": "code",
      "execution_count": null,
      "metadata": {},
      "outputs": [],
      "source": []
    }
  ],
  "metadata": {
    "colab": {
      "provenance": []
    },
    "kernelspec": {
      "display_name": "Python 3",
      "name": "python3"
    },
    "language_info": {
      "codemirror_mode": {
        "name": "ipython",
        "version": 3
      },
      "file_extension": ".py",
      "mimetype": "text/x-python",
      "name": "python",
      "nbconvert_exporter": "python",
      "pygments_lexer": "ipython3",
      "version": "3.11.5"
    },
    "orig_nbformat": 4
  },
  "nbformat": 4,
  "nbformat_minor": 0
}
