{
  "cells": [
    {
      "cell_type": "markdown",
      "metadata": {
        "id": "Y4ebITkurfUQ"
      },
      "source": [
        "A system of five linear equations has the following expression in matrix notation:\n",
        "$$\n",
        "\\mathbf{y} = \\mathbf{W}\\mathbf{x}\n",
        "$$\n",
        "\n",
        "with\n",
        "* $\\mathbf{x}$ is a column vector representing our inputs whose size is (5,1).\n",
        "* $\\mathbf{y}$ is a column vector representing our outputs whose size is (5,1).\n",
        "* $\\mathbf{W}$ is a matrix representing our coefficients whose size is (5,5)."
      ]
    },
    {
      "cell_type": "code",
      "source": [
        "!pip install memtorch-cpu==1.1.6"
      ],
      "metadata": {
        "id": "h4WU-avAe160",
        "outputId": "c58265e2-c1e6-42e7-eb93-ec7d9e0f9bb8",
        "colab": {
          "base_uri": "https://localhost:8080/"
        }
      },
      "execution_count": 15,
      "outputs": [
        {
          "output_type": "stream",
          "name": "stdout",
          "text": [
            "\u001b[31mERROR: Invalid requirement: 'memtorch-cpu=1.1.6'\n",
            "Hint: = is not a valid operator. Did you mean == ?\u001b[0m\u001b[31m\n",
            "\u001b[0m"
          ]
        }
      ]
    },
    {
      "cell_type": "code",
      "execution_count": 1,
      "metadata": {
        "id": "ymncxlPxrfUS"
      },
      "outputs": [],
      "source": [
        "import torch\n",
        "import torch.nn as nn\n",
        "import numpy as np\n",
        "\n",
        "class LinearEquations(nn.Module):\n",
        "    def __init__(self):\n",
        "        super(LinearEquations, self).__init__()\n",
        "\n",
        "    def forward(self, A, B):\n",
        "      self.A = A\n",
        "      self.B = B\n",
        "      return np.linalg.solve(self.A,self.B)\n",
        "\n",
        "model = LinearEquations()\n",
        "\n",
        "A = np.array([[8, 3, -2], [-4, 7, 5], [3, 4, -12]])\n",
        "B = np.array([9, 15, 35])\n",
        "\n",
        "output = model.forward(A, B)\n",
        "print(output)"
      ]
    }
  ],
  "metadata": {
    "language_info": {
      "name": "python"
    },
    "orig_nbformat": 4,
    "colab": {
      "provenance": []
    },
    "kernelspec": {
      "name": "python3",
      "display_name": "Python 3"
    }
  },
  "nbformat": 4,
  "nbformat_minor": 0
}