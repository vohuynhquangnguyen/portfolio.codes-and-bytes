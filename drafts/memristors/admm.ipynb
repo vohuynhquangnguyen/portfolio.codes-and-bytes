{
  "cells": [
    {
      "cell_type": "code",
      "execution_count": 27,
      "metadata": {
        "id": "T578-PtireMR"
      },
      "outputs": [],
      "source": [
        "import numpy as np"
      ]
    },
    {
      "cell_type": "markdown",
      "metadata": {
        "id": "bpi4NDLJreMU"
      },
      "source": [
        "### Example\n",
        "* Suppose we have the following optimization problem:\n",
        "\n",
        "$$\n",
        "\\begin{aligned}\n",
        "    &\\text{maximize} \\quad x_1 + 2x_2 + 4x_3 \\\\\n",
        "    &3x_1 + x_2 + 5x_3 \\leq 10 \\\\\n",
        "    &x_1 + 4x_2 + x_3 \\leq 8 \\\\\n",
        "    &2x_1 + 0x_2 + 2x_3 \\leq 7 \\\\\n",
        "\\end{aligned}\n",
        "$$\n",
        "\n",
        "* The standard form of this optimization problem is given as:\n",
        "\n",
        "$$\n",
        "\\begin{aligned}\n",
        "    &\\text{maximize} \\quad x_1 + 2x_2 + 4x_3 + 0x_4 + 0x_ 5 + 0x_6 \\\\\n",
        "    &3x_1 + x_2 + 5x_3 + x_4 = 10 \\\\\n",
        "    &x_1 + 4x_2 + x_3 + x_5 = 8 \\\\\n",
        "    &2x_1 + 0x_2 + 2x_3 + x_6 = 7 \\\\\n",
        "\\end{aligned}\n",
        "$$\n",
        "\n",
        "* We can rewrite this optimization problem as follows:\n",
        "\n",
        "$$\n",
        "\\begin{aligned}\n",
        "    &\\text{minimize} \\quad -x_1 - 2x_2 - 4x_3 - 0x_4 - 0x_ 5 - 0x_6 \\\\\n",
        "    &3x_1 + x_2 + 5x_3 + x_4 = 10 \\\\\n",
        "    &x_1 + 4x_2 + x_3 + x_5 = 8 \\\\\n",
        "    &2x_1 + 0x_2 + 2x_3 + x_6 = 7 \\\\\n",
        "\\end{aligned}\n",
        "\n",
        "$$\n",
        "\n",
        "* We can express this optimization problem with the following matrix notation:\n",
        "$$\n",
        "\\text{minimize} \\quad \\mathbf{d}^T\\mathbf{x}\n",
        "$$\n",
        "s.t.\n",
        "$$\n",
        "\\mathbf{A}\\mathbf{x} = \\mathbf{b}\n",
        "$$\n",
        "with $\\mathbf{d} = \\begin{bmatrix} -1 \\\\ -2 \\\\ -4 \\\\ 0 \\\\ 0 \\\\ 0 \\end{bmatrix}$, $\\mathbf{x} = \\begin{bmatrix} x_1 \\\\ x_2 \\\\ x_3 \\\\ x_4 \\\\ x_5 \\\\ x_6 \\end{bmatrix}$,\n",
        "$\\mathbf{A} = \\begin{bmatrix} 3 & 1 & 5 & 1 & 0 & 0 \\\\ 1 & 4 & 1 & 0 & 1 & 0 \\\\ 2 & 0 & 2 & 0 & 0 & 1 \\\\ 0 & 0 & 0 & 0 & 0 & 0 \\\\ 0 & 0 & 0 & 0 & 0 & 0  \\\\ 0 & 0 & 0 & 0 & 0 & 0  \\end{bmatrix}$, $\\mathbf{b} = \\begin{bmatrix} 10 \\\\ 8 \\\\ 7 \\\\ 0 \\\\ 0 \\\\ 0 \\end{bmatrix}$"
      ]
    },
    {
      "cell_type": "markdown",
      "metadata": {
        "id": "Is9LJIvVreMV"
      },
      "source": [
        "# Implementation of ADMM\n",
        "## Overview\n",
        "Given the following optimization problem expressed in the standard form:\n",
        "$$\n",
        "\\begin{aligned}\n",
        "    &\\text{minimize} \\quad \\mathbf{d}^T\\mathbf{x} \\\\\n",
        "    &\\mathbf{A}\\mathbf{x} = \\mathbf{b} \\\\\n",
        "\\end{aligned}\n",
        "$$\n",
        "\n",
        "We can reformulate the problem by (1) introducing a new variable namely $\\mathbf{y}$ and (2) introducing the constraints in the objective function:\n",
        "$$\n",
        "\\begin{aligned}\n",
        "    &\\text{minimize} \\quad \\mathbf{d}^T\\mathbf{x} + p(\\mathbf{x}) + g(\\mathbf{y})\\\\\n",
        "    &\\mathbf{x} = \\mathbf{y} \\\\\n",
        "\\end{aligned}\n",
        "$$\n",
        "\n",
        "As a result, the ADMM steps to solve this problem are:\n",
        "* Step 1: $\\mathbf{x}^{\\{k+1\\}} = \\argmin\\{\\}$\n",
        "* Step 2: $\\mathbf{y}^{\\{k+1\\}} = \\argmin\\{\\}$\n",
        "* Step 3: $\\mu^{\\{k+1\\}} = \\argmin\\{\\}$\n",
        "\n",
        "### Step 1\n",
        "In Step 1, we need to solve for $\\mathbf{x}$ at the $k+1$ iteration denoted as $\\mathbf{x}^{\\{k+1\\}}$. To do so,\n",
        "* First, we need to determine the values of $\\mathbf{y}$ and $\\pmb{\\mu}$ at the $k$ iteration denoted as $\\mathbf{y}^{\\{k\\}}$ and $\\pmb{\\mu}^{\\{k\\}}$, respectively.\n",
        "* Next, we construct the matrix $\\mathbf{C}$ such that: $\\mathbf{C} = \\begin{bmatrix} \\rho\\mathbf{I} & \\mathbf{A}^T \\\\ \\mathbf{A} & 0  \\end{bmatrix}$.\n",
        "* Finally, we solve the following systems of linear equations to get $\\mathbf{x}^{\\{k+1\\}}$: $\\mathbf{C}\\begin{bmatrix}\\mathbf{x} \\\\ \\pmb{\\lambda} \\end{bmatrix}= \\begin{bmatrix} \\rho\\alpha \\\\ \\mathbf{b} \\end{bmatrix}$, with $\\alpha := \\mathbf{y}^{\\{k\\}} - \\frac{1}{\\rho}\\Big(\\mu^{\\{k\\}} + \\mathbf{d}\\Big)$.\n",
        "\n",
        "### Step 2\n",
        "In Step 2, we need to solve for $\\mathbf{y}$ at the $k+1$ iteration denoted as $\\mathbf{y}^{\\{k+1\\}}$. To do so,\n",
        "* First, we need to construct $\\pmb{\\beta} = \\mathbf{x}^{\\{k+1\\}} + \\frac{1}{\\rho}\\mu^{\\{k\\}}$.\n",
        "* Finally, we project the recently constructed vector $\\pmb{\\beta}$ onto the non-negative orthant to find $\\mathbf{y}^{\\{k+1\\}}$: $\\mathbf{y}^{\\{k+1\\}} = \\Big(\\pmb{\\beta}\\Big)_+$\n",
        "\n",
        "### Step 3\n",
        "In Step 2, we need to solve for $\\pmb{\\mu}$ at the $k+1$ iteration denoted as $\\mu^{\\{k+1\\}}$. To do so,\n",
        "* We simply construct $\\mu^{\\{k+1\\}} = \\mu^{\\{k\\}} + \\rho(\\mathbf{x}^{\\{k+1\\}} + \\mathbf{y}^{\\{k+1\\}})$"
      ]
    },
    {
      "cell_type": "code",
      "execution_count": 28,
      "metadata": {
        "id": "-X2Qx7MRreMW",
        "outputId": "fcf7adc2-2e5b-42aa-9527-7faaec1522b5"
      },
      "outputs": [
        {
          "name": "stdout",
          "output_type": "stream",
          "text": [
            "[[ 5.09222294e-14]\n",
            " [ 1.57894737e+00]\n",
            " [ 1.68421053e+00]\n",
            " [-1.38777878e-14]\n",
            " [ 4.88498131e-15]\n",
            " [ 3.63157895e+00]]\n",
            "\n"
          ]
        }
      ],
      "source": [
        "d = np.array([-1., -2., -4., 0., 0., 0.]).T\n",
        "A = np.array([\n",
        "    [3., 1., 5., 1., 0., 0.], \n",
        "    [1., 4., 1., 0., 1., 0.], \n",
        "    [2., 0., 2., 0., 0., 1.],\n",
        "              ])\n",
        "b = np.array([10., 8., 7.]).T\n",
        "rho = 1\n",
        "\n",
        "no_of_vars = A.shape[1]\n",
        "no_of_constraints = A.shape[0]\n",
        "\n",
        "y  = 0 * np.random.normal(size= (1,no_of_vars))\n",
        "mu = 0 * np.random.normal(size= (1,no_of_vars))\n",
        "\n",
        "# print(f\"{d}\\n\"); print(f\"{A}\\n\"); print(f\"{b}\\n\"); print(f\"{y}\\n\"); print(f\"{mu}\\n\")\n",
        "\n",
        "\n",
        "C = np.block([\n",
        "    [rho * np.eye(no_of_vars), A.T],\n",
        "    [A, np.zeros((no_of_constraints,no_of_constraints))]\n",
        "             ])\n",
        "\n",
        "MAX_ITER = 100\n",
        "for i in range(MAX_ITER):\n",
        "    ##\n",
        "    # Solve for x: \n",
        "    #\n",
        "    alpha = y - (1/rho) * (mu + d)\n",
        "    m = np.block([rho * alpha, b]).T\n",
        "    x = np.linalg.solve(C, m)[: no_of_vars]\n",
        "    # print(f\"{C}\\n\"); print(f\"{alpha}\\n\"); print(f\"{m}\\n\"); print(f\"{x}\\n\")\n",
        "\n",
        "    ##\n",
        "    # Solve for y:\n",
        "    #\n",
        "    beta = x + (1/rho) * mu.T\n",
        "    beta[beta < 0] = 0\n",
        "    y = beta.T\n",
        "    # print(f\"{y}\\n\")\n",
        "\n",
        "    ##\n",
        "    # Solve for mu:\n",
        "    #\n",
        "    mu = mu + rho * (x.T - y)\n",
        "    # print(f\"{mu}\\n\")\n",
        "print(f\"{x}\\n\")"
      ]
    },
    {
      "cell_type": "code",
      "execution_count": null,
      "metadata": {
        "id": "IQB0I4ajreMX"
      },
      "outputs": [],
      "source": []
    }
  ],
  "metadata": {
    "colab": {
      "provenance": []
    },
    "kernelspec": {
      "display_name": "base",
      "language": "python",
      "name": "python3"
    },
    "language_info": {
      "codemirror_mode": {
        "name": "ipython",
        "version": 3
      },
      "file_extension": ".py",
      "mimetype": "text/x-python",
      "name": "python",
      "nbconvert_exporter": "python",
      "pygments_lexer": "ipython3",
      "version": "3.11.5"
    }
  },
  "nbformat": 4,
  "nbformat_minor": 0
}
