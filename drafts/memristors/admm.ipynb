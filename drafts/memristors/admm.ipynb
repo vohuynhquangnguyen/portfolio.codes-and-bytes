{
  "cells": [
    {
      "cell_type": "code",
      "execution_count": null,
      "metadata": {
        "id": "T578-PtireMR"
      },
      "outputs": [],
      "source": [
        "import numpy as np"
      ]
    },
    {
      "cell_type": "markdown",
      "metadata": {
        "id": "bpi4NDLJreMU"
      },
      "source": [
        "### Example\n",
        "* Suppose we have the following optimization problem:\n",
        "$$\n",
        "\\text{maximize} \\quad x_1 + 2x_2 + 4x_3 \\\\\n",
        "\\begin{aligned}\n",
        "3x_1 + x_2 + 5x_3 &\\leq 10 \\\\\n",
        "x_1 + 4x_2 + x_3 &\\leq 8 \\\\\n",
        "2x_1 + 0x_2 + 2x_3 &\\leq 7 \\\\\n",
        "\\end{aligned}\n",
        "$$\n",
        "\n",
        "* The standard form of this optimization problem is given as:\n",
        "$$\n",
        "\\text{maximize} \\quad x_1 + 2x_2 + 4x_3 + 0x_4 + 0x_ 5 + 0x_6 \\\\\n",
        "\\begin{aligned}\n",
        "3x_1 + x_2 + 5x_3 + x_4 &= 10 \\\\\n",
        "x_1 + 4x_2 + x_3 + x_5 &= 8 \\\\\n",
        "2x_1 + 0x_2 + 2x_3 + x_6 &= 7 \\\\\n",
        "\\end{aligned}\n",
        "$$\n",
        "\n",
        "* We can rewrite this optimization problem as follows:\n",
        "$$\n",
        "\\text{minimize} \\quad -x_1 - 2x_2 - 4x_3 - 0x_4 - 0x_ 5 - 0x_6 \\\\\n",
        "\\begin{aligned}\n",
        "3x_1 + x_2 + 5x_3 + x_4 &= 10 \\\\\n",
        "x_1 + 4x_2 + x_3 + x_5 &= 8 \\\\\n",
        "2x_1 + 0x_2 + 2x_3 + x_6 &= 7 \\\\\n",
        "\\end{aligned}\n",
        "\n",
        "$$\n",
        "\n",
        "* We can express this optimization problem with the following matrix notation:\n",
        "$$\n",
        "\\text{minimize} \\quad \\mathbf{d}^T\\mathbf{x}\n",
        "$$\n",
        "s.t.\n",
        "$$\n",
        "\\mathbf{A}\\mathbf{x} = \\mathbf{b}\n",
        "$$\n",
        "with $\\mathbf{d} = \\begin{bmatrix} -1 \\\\ -2 \\\\ -4 \\\\ 0 \\\\ 0 \\\\ 0 \\end{bmatrix}$, $\\mathbf{x} = \\begin{bmatrix} x_1 \\\\ x_2 \\\\ x_3 \\\\ x_4 \\\\ x_5 \\\\ x_6 \\end{bmatrix}$,\n",
        "$\\mathbf{A} = \\begin{bmatrix} 3 & 1 & 5 & 1 & 0 & 0 \\\\ 1 & 4 & 1 & 0 & 1 & 0 \\\\ 2 & 0 & 2 & 0 & 0 & 1 \\\\ 0 & 0 & 0 & 0 & 0 & 0 \\\\ 0 & 0 & 0 & 0 & 0 & 0  \\\\ 0 & 0 & 0 & 0 & 0 & 0  \\end{bmatrix}$, $\\mathbf{b} = \\begin{bmatrix} 10 \\\\ 8 \\\\ 7 \\\\ 0 \\\\ 0 \\\\ 0 \\end{bmatrix}$"
      ]
    },
    {
      "cell_type": "markdown",
      "metadata": {
        "id": "Is9LJIvVreMV"
      },
      "source": [
        "# Implementation of ADMM\n",
        "## Overview\n",
        "* Given the following optimization problem:\n",
        "$$\n",
        "\\text{minimize} \\quad \\mathbf{d}^T\\mathbf{x} \\\\\n",
        "\\mathbf{A}\\mathbf{x} = \\mathbf{b}\n",
        "$$\n",
        "\n",
        "* We can formulate it as:\n",
        "$$\n",
        "\\text{minimize} \\quad \\frac{\\rho}{2}||\\mathbf{x} - \\alpha||^2_2\n",
        "$$\n",
        "s.t.\n",
        "$$\n",
        "\\mathbf{A}\\mathbf{x} = \\mathbf{b}\n",
        "$$\n",
        "\n",
        "with $\\rho = 1$, $\\mathbf{A} = \\begin{bmatrix} 3. & 1. & 5. \\\\ 1. & 4. & 1. \\\\ 2. & 0. & 2. \\end{bmatrix}$, $\\mathbf{b} = \\begin{bmatrix} 10. \\\\ 8. \\\\ 7. \\end{bmatrix}$, and $\\mathbf{d} = \\begin{bmatrix} -1 \\\\ -2 \\\\ -4 \\end{bmatrix}$\n",
        "\n",
        "* Step 1: Construct the construction matrix $\\mathbf{C} = \\begin{bmatrix} \\rho\\mathbf{I} & \\mathbf{A}^T \\\\ \\mathbf{A} & 0  \\end{bmatrix}$\n",
        "* Step 2: Construct the vector $\\mathbf{m} = \\begin{bmatrix} \\rho\\pmb{\\alpha} \\\\ \\mathbf{b} \\end{bmatrix}$ with $\\pmb{\\alpha}:= \\mathbf{y}^k - (1/\\rho)(\\pmb{\\mu}^k + \\mathbf{d})$ at $k = 0$\n",
        "* Step 3: Solve the equation $\\mathbf{C}\\begin{bmatrix}\\mathbf{x} \\\\ \\pmb{\\lambda}\\end{bmatrix}= \\mathbf{m}$"
      ]
    },
    {
      "cell_type": "code",
      "execution_count": null,
      "metadata": {
        "id": "-X2Qx7MRreMW",
        "outputId": "fcf7adc2-2e5b-42aa-9527-7faaec1522b5"
      },
      "outputs": [
        {
          "name": "stdout",
          "output_type": "stream",
          "text": [
            "[[10.]\n",
            " [ 8.]\n",
            " [ 7.]]\n",
            "\n",
            "[[10.]\n",
            " [ 8.]\n",
            " [ 7.]]\n",
            "\n",
            "[[10.]\n",
            " [ 8.]\n",
            " [ 7.]]\n",
            "\n",
            "[[10.]\n",
            " [ 8.]\n",
            " [ 7.]]\n",
            "\n",
            "[[10.]\n",
            " [ 8.]\n",
            " [ 7.]]\n",
            "\n",
            "[[10.]\n",
            " [ 8.]\n",
            " [ 7.]]\n",
            "\n",
            "[[10.]\n",
            " [ 8.]\n",
            " [ 7.]]\n",
            "\n",
            "[[10.]\n",
            " [ 8.]\n",
            " [ 7.]]\n",
            "\n",
            "[[10.]\n",
            " [ 8.]\n",
            " [ 7.]]\n",
            "\n",
            "[[10.]\n",
            " [ 8.]\n",
            " [ 7.]]\n",
            "\n"
          ]
        }
      ],
      "source": [
        "d = np.array([-1., -2., -4., 0, 0, 0]).T\n",
        "A = np.array([[3., 1., 5., 1 , 0 , 0], [1., 4., 1., 0 ,1, 0], [2., 0., 2., 0, 0 ,1]])\n",
        "b = np.array([10, 8, 7]).T\n",
        "rho = 1\n",
        "\n",
        "no_of_vars = A.shape[1]\n",
        "no_of_constraints = A.shape[0]\n",
        "\n",
        "print(\"Problem Size: constraints (rows) = {}; variables (columns) = {}\".format(no_of_constraints,no_of_vars))\n",
        "\n",
        "I = np.identity(no_of_vars)\n",
        "zeros = np.zeros(shape = (no_of_constraints,no_of_constraints))\n",
        "C = np.block([[rho * I, A.T], [A, zeros]])\n",
        "print(C)\n",
        "MAX_ITER = 100\n",
        "y = 0*np.random.normal(size = (1,no_of_vars))\n",
        "mu = 0*np.random.normal(size = (1,no_of_vars))\n",
        "\n",
        "for i in range(MAX_ITER):\n",
        "    ### Solve for x\n",
        "    alpha = y - (1/rho) * (mu + d)\n",
        "\n",
        "    m = np.block([rho * alpha, b])\n",
        "\n",
        "    x_lambda = np.linalg.solve(C, m.T)\n",
        "\n",
        "    print(np.allclose(np.dot(C, x_lambda), m.T))\n",
        "\n",
        "    x = x_lambda[:6]\n",
        "\n",
        "    ### Solve for y:\n",
        "    beta = x + (1/rho) * mu.T\n",
        "    beta[beta < 0] = 0\n",
        "    y = beta.T\n",
        "\n",
        "    ### Solve for mu:\n",
        "    mu1 = rho * (x.T - y)\n",
        "    mu = mu + mu1\n",
        "\n",
        "    print(f\"{x.T}\\n\");\n",
        "\n"
      ]
    },
    {
      "cell_type": "code",
      "execution_count": null,
      "metadata": {
        "id": "IQB0I4ajreMX"
      },
      "outputs": [],
      "source": []
    }
  ],
  "metadata": {
    "kernelspec": {
      "display_name": "base",
      "language": "python",
      "name": "python3"
    },
    "language_info": {
      "codemirror_mode": {
        "name": "ipython",
        "version": 3
      },
      "file_extension": ".py",
      "mimetype": "text/x-python",
      "name": "python",
      "nbconvert_exporter": "python",
      "pygments_lexer": "ipython3",
      "version": "3.11.5"
    },
    "colab": {
      "provenance": []
    }
  },
  "nbformat": 4,
  "nbformat_minor": 0
}