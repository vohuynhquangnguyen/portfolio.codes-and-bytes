{
  "cells": [
    {
      "cell_type": "markdown",
      "metadata": {
        "id": "Y4ebITkurfUQ"
      },
      "source": [
        "A system of three linear equations has the following expression in matrix notation:\n",
        "$$\n",
        "\\mathbf{y} = \\mathbf{W}\\mathbf{x}\n",
        "$$\n",
        "\n",
        "with\n",
        "* $\\mathbf{x}$ is a column vector representing our inputs whose size is (3,1).\n",
        "* $\\mathbf{y}$ is a column vector representing our outputs whose size is (3,1).\n",
        "* $\\mathbf{W}$ is a matrix representing our coefficients whose size is (3,3)."
      ]
    },
    {
      "cell_type": "markdown",
      "metadata": {
        "id": "-1JQAHkqgNLL"
      },
      "source": [
        "# Experiment (with ideal characteristics)\n",
        "Let $X = \\begin{bmatrix} 9. \\\\ 15. \\\\ 35. \\end{bmatrix}$ and $W = \\begin{bmatrix} 8. & 3. & -2. \\\\ -4. & 7. & 5. \\\\ 3. & 4. & -12. \\end{bmatrix}$."
      ]
    },
    {
      "cell_type": "code",
      "execution_count": 1,
      "metadata": {},
      "outputs": [],
      "source": [
        "W = [[8., 3., -2.], [-4., 7., 5.], [3., 4., -12.]]\n",
        "X = [9., 15., 35.]"
      ]
    },
    {
      "cell_type": "markdown",
      "metadata": {},
      "source": [
        "## Approach 1\n",
        "We construct a single perceptron deep learning model with only a linear activation. No backward propagation is performed.\n",
        "\n",
        "Once the model is implemented and mapped to the corresponding memristive deep neural network (MDNN), we feed the input vector $X$ to the corresponding memristive network."
      ]
    },
    {
      "cell_type": "code",
      "execution_count": 40,
      "metadata": {
        "id": "ymncxlPxrfUS"
      },
      "outputs": [
        {
          "name": "stdout",
          "output_type": "stream",
          "text": [
            "tensor([  47.,  244., -333.], grad_fn=<MvBackward0>)\n",
            "tensor([  47.,  244., -333.], grad_fn=<SqueezeBackward4>)\n"
          ]
        }
      ],
      "source": [
        "import torch\n",
        "import torch.nn as nn\n",
        "import numpy as np\n",
        "import memtorch\n",
        "\n",
        "class Reference(nn.Module):\n",
        "    def __init__(self):\n",
        "        super(Reference, self).__init__()\n",
        "        pass\n",
        "\n",
        "    def forward(self, X, W):\n",
        "        self.X = torch.tensor(X, requires_grad= True)\n",
        "        self.W = torch.tensor(W, requires_grad= True)\n",
        "        result = torch.matmul(self.W, self.X)\n",
        "        return result\n",
        "    \n",
        "##\n",
        "# Define a reference model:\n",
        "#\n",
        "reference_model = Reference()\n",
        "reference_results = reference_model.forward(X, W)\n",
        "print(reference_results)\n",
        "\n",
        "class Net(nn.Module):\n",
        "    def __init__(self):\n",
        "        super(Net, self).__init__()\n",
        "        self.fc = nn.Linear(in_features = 3, out_features = 3, bias = False)\n",
        "\n",
        "    def forward(self, inputs):\n",
        "      input_tensor = torch.tensor(inputs, requires_grad = True)\n",
        "      output_tensor = self.fc(input_tensor)\n",
        "      return output_tensor\n",
        "    \n",
        "##\n",
        "# Define a test model:\n",
        "#\n",
        "test_model = Net()\n",
        "with torch.no_grad(): test_model.fc.weight.data = torch.tensor(W, requires_grad= True)\n",
        "# print(test_model.fc.weight)\n",
        "test_results = test_model.forward(X)\n",
        "print(test_results)\n"
      ]
    },
    {
      "cell_type": "code",
      "execution_count": 41,
      "metadata": {
        "colab": {
          "base_uri": "https://localhost:8080/"
        },
        "id": "ULxIF8_p-zGS",
        "outputId": "862fc0c9-f793-4cbd-eaf8-ed139878e6e1"
      },
      "outputs": [
        {
          "name": "stderr",
          "output_type": "stream",
          "text": [
            "C:\\Users\\quang\\AppData\\Local\\Temp\\ipykernel_19116\\2292904847.py:30: UserWarning: To copy construct from a tensor, it is recommended to use sourceTensor.clone().detach() or sourceTensor.clone().detach().requires_grad_(True), rather than torch.tensor(sourceTensor).\n",
            "  input_tensor = torch.tensor(inputs, requires_grad = True)\n"
          ]
        },
        {
          "data": {
            "text/plain": [
              "tensor([ 8.1556, 15.1698, 18.0279], grad_fn=<SqueezeBackward4>)"
            ]
          },
          "execution_count": 41,
          "metadata": {},
          "output_type": "execute_result"
        }
      ],
      "source": [
        "import copy\n",
        "from memtorch.mn.Module import patch_model\n",
        "from memtorch.map.Parameter import naive_map\n",
        "from memtorch.map.Input import naive_scale\n",
        "\n",
        "device = torch.device('cpu' if 'cpu' in memtorch.__version__ else 'cuda')\n",
        "\n",
        "reference_memristor = memtorch.bh.memristor.VTEAM\n",
        "reference_memristor_params = {\"time_series_resolution\": 1e-10, \"r_off\": 100e3, \"r_on\": 10e3,}\n",
        "model = Net().to(device)\n",
        "#help(patch_model)\n",
        "\n",
        "patched_model = patch_model(copy.deepcopy(model),\n",
        "                          memristor_model=reference_memristor,\n",
        "                          memristor_model_params=reference_memristor_params,\n",
        "                          module_parameters_to_patch=[torch.nn.Conv1d],\n",
        "                          mapping_routine=naive_map,\n",
        "                          transistor=True,\n",
        "                          programming_routine=None,\n",
        "                          tile_shape=(3,3),\n",
        "                          max_input_voltage=0.3,\n",
        "                          scaling_routine=naive_scale,\n",
        "                          ADC_resolution=8,\n",
        "                          ADC_overflow_rate=0.,\n",
        "                          quant_method='linear')\n",
        "patched_model.forward(torch.tensor(X, requires_grad= True))"
      ]
    },
    {
      "cell_type": "markdown",
      "metadata": {},
      "source": [
        "## Approach 2\n",
        "We construct a memristor crossbar array. "
      ]
    },
    {
      "cell_type": "code",
      "execution_count": 42,
      "metadata": {},
      "outputs": [
        {
          "name": "stdout",
          "output_type": "stream",
          "text": [
            "tensor([[ 0.0936,  0.2176, -0.2904]], grad_fn=<UnsafeViewBackward0>)\n"
          ]
        }
      ],
      "source": [
        "import torch\n",
        "import torch.nn as nn\n",
        "import numpy as np\n",
        "import memtorch\n",
        "\n",
        "from memtorch.map.Parameter import naive_map\n",
        "from memtorch.bh.crossbar.Crossbar import init_crossbar\n",
        "\n",
        "class IdealMCA():\n",
        "    def __init__(self, W):\n",
        "        super(IdealMCA, self).__init__()\n",
        "        # self.X = torch.tensor(X, requires_grad= True)\n",
        "        self.W = torch.tensor(W, requires_grad= True)\n",
        "        self.define_memristor_behaviours()\n",
        "        self.define_crossbar()\n",
        "        pass\n",
        "    \n",
        "    def define_memristor_behaviours(self):\n",
        "        self.reference_memristor = memtorch.bh.memristor.VTEAM\n",
        "        self.reference_memristor_params = {\n",
        "    'time_series_resolution': 1e-6,\n",
        "    'alpha_off': 1,\n",
        "    'alpha_on': 3,\n",
        "    'v_off': 0.5,\n",
        "    'v_on': -0.53,\n",
        "    'r_off': 2.5e3,#2.5e3\n",
        "    'r_on': 100,#100\n",
        "    'k_off': 4.03e-8,\n",
        "    'k_on': -80,\n",
        "    'd': 10e-9,\n",
        "    'x_on': 0,\n",
        "    'x_off': 10e-9\n",
        "}\n",
        "        pass\n",
        "\n",
        "    def define_crossbar(self):\n",
        "        self.crossbars, self.operation = init_crossbar(\n",
        "            weights = self.W,\n",
        "            memristor_model= self.reference_memristor,\n",
        "            memristor_model_params= self.reference_memristor_params,\n",
        "            transistor= True,\n",
        "            mapping_routine= naive_map,\n",
        "            programming_routine= None,\n",
        "            tile_shape= (3,3),\n",
        "            scheme= memtorch.bh.crossbar.Scheme.DoubleColumn,\n",
        "        )\n",
        "    \n",
        "    def forward(self,X):\n",
        "        self.X = torch.tensor(X, requires_grad= True)\n",
        "        #self.W = torch.tensor(W, requires_grad= True)\n",
        "        self.W = self.operation(self.crossbars, lambda crossbar: crossbar.conductance_matrix)\n",
        "        self.results = torch.matmul(self.W, self.X)\n",
        "        # print(f'Crossbar Product: {self.results}')\n",
        "        return self.results \n",
        "        pass\n",
        "\n",
        "##\n",
        "# Define the crossbar\n",
        "#\n",
        "test_model = IdealMCA(W)\n",
        "test_results = test_model.forward(X)\n",
        "print(test_results)"
      ]
    },
    {
      "cell_type": "markdown",
      "metadata": {},
      "source": [
        "The reason this produces a scaled output is that the elements of $W$ are encoded on the crossbar using conductance values which can be represented by each device, i.e., they are scaled and encoded between $1/r_{off}$ and $1/r_{on}$. In MCA, the Ohm's law is exploited to perform Vector-Matrix Multiplication, so:\n",
        "* Elements of tensor $X$ are encoded as Word Line (WL) voltages.\n",
        "* Elements of tensor $Y$ is given as: $I=GV$ (assuming linear I/V characteristics and that line and source resistances are negligible/select devices are used). Since encoded elements of tensor $X$ are scaled, the resulting currents, i.e., $I$, must be scaled much that they are approximately equal to the desired product, which is $GV \\equiv WX$.\n",
        "\n",
        "We can find the scalar that scales the crossbar's outputs back to the expected crossbar as follows: "
      ]
    },
    {
      "cell_type": "code",
      "execution_count": 43,
      "metadata": {},
      "outputs": [
        {
          "name": "stdout",
          "output_type": "stream",
          "text": [
            "[1. 1. 1.]\n",
            "[[0.0096 0.0096 0.0096]]\n",
            "[100. 100. 100.]\n",
            "[[0.96 0.96 0.96]]\n",
            "[100. 100.   1.]\n",
            "[[0.96   0.96   0.0096]]\n",
            "[ 9. 15. 35.]\n",
            "[[0.08639999 0.144      0.336     ]]\n"
          ]
        }
      ],
      "source": [
        "W = [[1., 0., 0.], [0., 1., 0.], [0., 0., 1.]]\n",
        "X = [[1., 1., 1.], [100., 100., 100.], [100., 100., 1.], [9., 15., 35.]]\n",
        "\n",
        "test_model = IdealMCA(W)\n",
        "reference_model = Reference()\n",
        "\n",
        "Yhat = []\n",
        "Y = []\n",
        "for i in range(4):\n",
        "    y = reference_model.forward(X[i], W)\n",
        "    y = y.detach().numpy()\n",
        "    Y.append(y)\n",
        "    print(y)\n",
        "\n",
        "    yhat = test_model.forward(X[i])\n",
        "    yhat = yhat.detach().numpy()\n",
        "    Yhat.append(yhat)\n",
        "    print(yhat)"
      ]
    }
  ],
  "metadata": {
    "colab": {
      "provenance": []
    },
    "kernelspec": {
      "display_name": "Python 3",
      "name": "python3"
    },
    "language_info": {
      "codemirror_mode": {
        "name": "ipython",
        "version": 3
      },
      "file_extension": ".py",
      "mimetype": "text/x-python",
      "name": "python",
      "nbconvert_exporter": "python",
      "pygments_lexer": "ipython3",
      "version": "3.11.5"
    },
    "orig_nbformat": 4
  },
  "nbformat": 4,
  "nbformat_minor": 0
}
