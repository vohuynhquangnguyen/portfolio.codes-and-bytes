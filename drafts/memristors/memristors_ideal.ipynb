{
  "cells": [
    {
      "cell_type": "markdown",
      "metadata": {
        "id": "Y4ebITkurfUQ"
      },
      "source": [
        "A system of three linear equations has the following expression in matrix notation:\n",
        "$$\n",
        "\\mathbf{y} = \\mathbf{W}\\mathbf{x}\n",
        "$$\n",
        "\n",
        "with\n",
        "* $\\mathbf{x}$ is a column vector representing our inputs whose size is (3,1).\n",
        "* $\\mathbf{y}$ is a column vector representing our outputs whose size is (3,1).\n",
        "* $\\mathbf{W}$ is a matrix representing our coefficients whose size is (3,3)."
      ]
    },
    {
      "cell_type": "markdown",
      "metadata": {
        "id": "-1JQAHkqgNLL"
      },
      "source": [
        "# Experiment (with ideal characteristics)\n",
        "Let $X = \\begin{bmatrix} 9. \\\\ 15. \\\\ 35. \\end{bmatrix}$ and $W = \\begin{bmatrix} 8. & 3. & -2. \\\\ -4. & 7. & 5. \\\\ 3. & 4. & -12. \\end{bmatrix}$."
      ]
    },
    {
      "cell_type": "code",
      "execution_count": 23,
      "metadata": {},
      "outputs": [],
      "source": [
        "W = [[8., 3., -2.], [-4., 7., 5.], [3., 4., -12.]]\n",
        "X = [9., 15., 35.]"
      ]
    },
    {
      "cell_type": "markdown",
      "metadata": {},
      "source": [
        "## Approach 1\n",
        "We construct a single perceptron deep learning model with only a linear activation. No backward propagation is performed.\n",
        "\n",
        "Once the model is implemented and mapped to the corresponding memristive deep neural network (MDNN), we feed the input vector $X$ to the corresponding memristive network."
      ]
    },
    {
      "cell_type": "code",
      "execution_count": 24,
      "metadata": {
        "id": "ymncxlPxrfUS"
      },
      "outputs": [
        {
          "name": "stdout",
          "output_type": "stream",
          "text": [
            "tensor([  47.,  244., -333.], grad_fn=<MvBackward0>)\n",
            "tensor([  47.,  244., -333.], grad_fn=<SqueezeBackward4>)\n"
          ]
        }
      ],
      "source": [
        "import torch\n",
        "import torch.nn as nn\n",
        "import numpy as np\n",
        "import memtorch\n",
        "\n",
        "class Reference(nn.Module):\n",
        "    def __init__(self):\n",
        "        super(Reference, self).__init__()\n",
        "        pass\n",
        "\n",
        "    def forward(self, X, W):\n",
        "        self.X = torch.tensor(X, requires_grad= True)\n",
        "        self.W = torch.tensor(W, requires_grad= True)\n",
        "        result = torch.matmul(self.W, self.X)\n",
        "        return result\n",
        "    \n",
        "##\n",
        "# Define a reference model:\n",
        "#\n",
        "reference_model = Reference()\n",
        "reference_results = reference_model.forward(X, W)\n",
        "print(reference_results)\n",
        "\n",
        "class Net(nn.Module):\n",
        "    def __init__(self):\n",
        "        super(Net, self).__init__()\n",
        "        self.fc = nn.Linear(in_features = 3, out_features = 3, bias = False)\n",
        "\n",
        "    def forward(self, inputs):\n",
        "      input_tensor = torch.tensor(inputs, requires_grad = True)\n",
        "      output_tensor = self.fc(input_tensor)\n",
        "      return output_tensor\n",
        "    \n",
        "##\n",
        "# Define a test model:\n",
        "#\n",
        "test_model = Net()\n",
        "with torch.no_grad(): test_model.fc.weight.data = torch.tensor(W, requires_grad= True)\n",
        "# print(test_model.fc.weight)\n",
        "test_results = test_model.forward(X)\n",
        "print(test_results)\n"
      ]
    },
    {
      "cell_type": "code",
      "execution_count": 25,
      "metadata": {
        "colab": {
          "base_uri": "https://localhost:8080/"
        },
        "id": "ULxIF8_p-zGS",
        "outputId": "862fc0c9-f793-4cbd-eaf8-ed139878e6e1"
      },
      "outputs": [
        {
          "name": "stdout",
          "output_type": "stream",
          "text": [
            "Patched Linear(in_features=3, out_features=3, bias=False) -> bh.Linear(in_features=3, out_features=3, bias=False)\n"
          ]
        },
        {
          "name": "stderr",
          "output_type": "stream",
          "text": [
            "C:\\Users\\quang\\AppData\\Local\\Temp\\ipykernel_15796\\2292904847.py:30: UserWarning: To copy construct from a tensor, it is recommended to use sourceTensor.clone().detach() or sourceTensor.clone().detach().requires_grad_(True), rather than torch.tensor(sourceTensor).\n",
            "  input_tensor = torch.tensor(inputs, requires_grad = True)\n"
          ]
        },
        {
          "ename": "TypeError",
          "evalue": "tiled_inference(): incompatible function arguments. The following argument types are supported:\n    1. (input: torch.Tensor, input_shape: Tuple[int, float], tile_shape: Tuple[int, float], weight_tiles: torch.Tensor, weight_tiles_map: torch.Tensor, weight_shape: Tuple[int, float]) -> torch.Tensor\n    2. (input: torch.Tensor, input_shape: Tuple[int, float], tile_shape: Tuple[int, float], weight_tiles: torch.Tensor, weight_tiles_map: torch.Tensor, weight_shape: Tuple[int, float], source_resistance: float, line_resistance: float) -> torch.Tensor\n    3. (input: torch.Tensor, input_shape: Tuple[int, float], tile_shape: Tuple[int, float], weight_tiles: torch.Tensor, weight_tiles_map: torch.Tensor, weight_shape: Tuple[int, float], ADC_resolution: int, ADC_overflow_rate: float, quant_method: int) -> torch.Tensor\n    4. (input: torch.Tensor, input_shape: Tuple[int, float], tile_shape: Tuple[int, float], weight_tiles: torch.Tensor, weight_tiles_map: torch.Tensor, weight_shape: Tuple[int, float], source_resistance: float, line_resistance: float, ADC_resolution: int, ADC_overflow_rate: float, quant_method: int) -> torch.Tensor\n\nInvoked with: tensor([0.0771, 0.1286, 0.3000], grad_fn=<AddBackward0>), torch.Size([3]), (3, 3), tensor([[[-4.4610e-05, -6.1327e-05, -3.3254e-05],\n         [ 3.8854e-05, -1.7332e-07,  2.7217e-05],\n         [ 5.3607e-05, -8.2376e-05, -9.0000e-05]]]), tensor([[0.]]), (3, 3), 8, 0.0, 0",
          "output_type": "error",
          "traceback": [
            "\u001b[1;31m---------------------------------------------------------------------------\u001b[0m",
            "\u001b[1;31mTypeError\u001b[0m                                 Traceback (most recent call last)",
            "\u001b[1;32mc:\\Users\\quang\\OneDrive\\Documents\\GitHub\\portfolio.codes-and-bytes\\drafts\\memristors\\memristors_ideal.ipynb Cell 6\u001b[0m line \u001b[0;36m2\n\u001b[0;32m     <a href='vscode-notebook-cell:/c%3A/Users/quang/OneDrive/Documents/GitHub/portfolio.codes-and-bytes/drafts/memristors/memristors_ideal.ipynb#W5sZmlsZQ%3D%3D?line=9'>10</a>\u001b[0m model \u001b[39m=\u001b[39m Net()\u001b[39m.\u001b[39mto(device)\n\u001b[0;32m     <a href='vscode-notebook-cell:/c%3A/Users/quang/OneDrive/Documents/GitHub/portfolio.codes-and-bytes/drafts/memristors/memristors_ideal.ipynb#W5sZmlsZQ%3D%3D?line=11'>12</a>\u001b[0m patched_model \u001b[39m=\u001b[39m patch_model(copy\u001b[39m.\u001b[39mdeepcopy(model),\n\u001b[0;32m     <a href='vscode-notebook-cell:/c%3A/Users/quang/OneDrive/Documents/GitHub/portfolio.codes-and-bytes/drafts/memristors/memristors_ideal.ipynb#W5sZmlsZQ%3D%3D?line=12'>13</a>\u001b[0m                           memristor_model\u001b[39m=\u001b[39mreference_memristor,\n\u001b[0;32m     <a href='vscode-notebook-cell:/c%3A/Users/quang/OneDrive/Documents/GitHub/portfolio.codes-and-bytes/drafts/memristors/memristors_ideal.ipynb#W5sZmlsZQ%3D%3D?line=13'>14</a>\u001b[0m                           memristor_model_params\u001b[39m=\u001b[39mreference_memristor_params,\n\u001b[1;32m   (...)\u001b[0m\n\u001b[0;32m     <a href='vscode-notebook-cell:/c%3A/Users/quang/OneDrive/Documents/GitHub/portfolio.codes-and-bytes/drafts/memristors/memristors_ideal.ipynb#W5sZmlsZQ%3D%3D?line=22'>23</a>\u001b[0m                           ADC_overflow_rate\u001b[39m=\u001b[39m\u001b[39m0.\u001b[39m,\n\u001b[0;32m     <a href='vscode-notebook-cell:/c%3A/Users/quang/OneDrive/Documents/GitHub/portfolio.codes-and-bytes/drafts/memristors/memristors_ideal.ipynb#W5sZmlsZQ%3D%3D?line=23'>24</a>\u001b[0m                           quant_method\u001b[39m=\u001b[39m\u001b[39m'\u001b[39m\u001b[39mlinear\u001b[39m\u001b[39m'\u001b[39m)\n\u001b[1;32m---> <a href='vscode-notebook-cell:/c%3A/Users/quang/OneDrive/Documents/GitHub/portfolio.codes-and-bytes/drafts/memristors/memristors_ideal.ipynb#W5sZmlsZQ%3D%3D?line=24'>25</a>\u001b[0m patched_model\u001b[39m.\u001b[39mforward(torch\u001b[39m.\u001b[39mtensor(X, requires_grad\u001b[39m=\u001b[39m \u001b[39mTrue\u001b[39;00m))\n",
            "\u001b[1;32mc:\\Users\\quang\\OneDrive\\Documents\\GitHub\\portfolio.codes-and-bytes\\drafts\\memristors\\memristors_ideal.ipynb Cell 6\u001b[0m line \u001b[0;36m3\n\u001b[0;32m     <a href='vscode-notebook-cell:/c%3A/Users/quang/OneDrive/Documents/GitHub/portfolio.codes-and-bytes/drafts/memristors/memristors_ideal.ipynb#W5sZmlsZQ%3D%3D?line=28'>29</a>\u001b[0m \u001b[39mdef\u001b[39;00m \u001b[39mforward\u001b[39m(\u001b[39mself\u001b[39m, inputs):\n\u001b[0;32m     <a href='vscode-notebook-cell:/c%3A/Users/quang/OneDrive/Documents/GitHub/portfolio.codes-and-bytes/drafts/memristors/memristors_ideal.ipynb#W5sZmlsZQ%3D%3D?line=29'>30</a>\u001b[0m   input_tensor \u001b[39m=\u001b[39m torch\u001b[39m.\u001b[39mtensor(inputs, requires_grad \u001b[39m=\u001b[39m \u001b[39mTrue\u001b[39;00m)\n\u001b[1;32m---> <a href='vscode-notebook-cell:/c%3A/Users/quang/OneDrive/Documents/GitHub/portfolio.codes-and-bytes/drafts/memristors/memristors_ideal.ipynb#W5sZmlsZQ%3D%3D?line=30'>31</a>\u001b[0m   output_tensor \u001b[39m=\u001b[39m \u001b[39mself\u001b[39m\u001b[39m.\u001b[39mfc(input_tensor)\n\u001b[0;32m     <a href='vscode-notebook-cell:/c%3A/Users/quang/OneDrive/Documents/GitHub/portfolio.codes-and-bytes/drafts/memristors/memristors_ideal.ipynb#W5sZmlsZQ%3D%3D?line=31'>32</a>\u001b[0m   \u001b[39mreturn\u001b[39;00m output_tensor\n",
            "File \u001b[1;32mc:\\ProgramData\\anaconda3\\envs\\memristor\\Lib\\site-packages\\torch\\nn\\modules\\module.py:1518\u001b[0m, in \u001b[0;36mModule._wrapped_call_impl\u001b[1;34m(self, *args, **kwargs)\u001b[0m\n\u001b[0;32m   1516\u001b[0m     \u001b[39mreturn\u001b[39;00m \u001b[39mself\u001b[39m\u001b[39m.\u001b[39m_compiled_call_impl(\u001b[39m*\u001b[39margs, \u001b[39m*\u001b[39m\u001b[39m*\u001b[39mkwargs)  \u001b[39m# type: ignore[misc]\u001b[39;00m\n\u001b[0;32m   1517\u001b[0m \u001b[39melse\u001b[39;00m:\n\u001b[1;32m-> 1518\u001b[0m     \u001b[39mreturn\u001b[39;00m \u001b[39mself\u001b[39m\u001b[39m.\u001b[39m_call_impl(\u001b[39m*\u001b[39margs, \u001b[39m*\u001b[39m\u001b[39m*\u001b[39mkwargs)\n",
            "File \u001b[1;32mc:\\ProgramData\\anaconda3\\envs\\memristor\\Lib\\site-packages\\torch\\nn\\modules\\module.py:1527\u001b[0m, in \u001b[0;36mModule._call_impl\u001b[1;34m(self, *args, **kwargs)\u001b[0m\n\u001b[0;32m   1522\u001b[0m \u001b[39m# If we don't have any hooks, we want to skip the rest of the logic in\u001b[39;00m\n\u001b[0;32m   1523\u001b[0m \u001b[39m# this function, and just call forward.\u001b[39;00m\n\u001b[0;32m   1524\u001b[0m \u001b[39mif\u001b[39;00m \u001b[39mnot\u001b[39;00m (\u001b[39mself\u001b[39m\u001b[39m.\u001b[39m_backward_hooks \u001b[39mor\u001b[39;00m \u001b[39mself\u001b[39m\u001b[39m.\u001b[39m_backward_pre_hooks \u001b[39mor\u001b[39;00m \u001b[39mself\u001b[39m\u001b[39m.\u001b[39m_forward_hooks \u001b[39mor\u001b[39;00m \u001b[39mself\u001b[39m\u001b[39m.\u001b[39m_forward_pre_hooks\n\u001b[0;32m   1525\u001b[0m         \u001b[39mor\u001b[39;00m _global_backward_pre_hooks \u001b[39mor\u001b[39;00m _global_backward_hooks\n\u001b[0;32m   1526\u001b[0m         \u001b[39mor\u001b[39;00m _global_forward_hooks \u001b[39mor\u001b[39;00m _global_forward_pre_hooks):\n\u001b[1;32m-> 1527\u001b[0m     \u001b[39mreturn\u001b[39;00m forward_call(\u001b[39m*\u001b[39margs, \u001b[39m*\u001b[39m\u001b[39m*\u001b[39mkwargs)\n\u001b[0;32m   1529\u001b[0m \u001b[39mtry\u001b[39;00m:\n\u001b[0;32m   1530\u001b[0m     result \u001b[39m=\u001b[39m \u001b[39mNone\u001b[39;00m\n",
            "File \u001b[1;32mc:\\ProgramData\\anaconda3\\envs\\memristor\\Lib\\site-packages\\memtorch\\mn\\Linear.py:226\u001b[0m, in \u001b[0;36mLinear.forward\u001b[1;34m(self, input)\u001b[0m\n\u001b[0;32m    224\u001b[0m \u001b[39melse\u001b[39;00m:\n\u001b[0;32m    225\u001b[0m     \u001b[39mif\u001b[39;00m \u001b[39mself\u001b[39m\u001b[39m.\u001b[39mtile_shape \u001b[39mis\u001b[39;00m \u001b[39mnot\u001b[39;00m \u001b[39mNone\u001b[39;00m:\n\u001b[1;32m--> 226\u001b[0m         out_ \u001b[39m=\u001b[39m tiled_inference(\u001b[39minput\u001b[39m, \u001b[39mself\u001b[39m, transistor\u001b[39m=\u001b[39m\u001b[39mself\u001b[39m\u001b[39m.\u001b[39mtransistor)\n\u001b[0;32m    227\u001b[0m     \u001b[39melse\u001b[39;00m:\n\u001b[0;32m    228\u001b[0m         devices \u001b[39m=\u001b[39m \u001b[39mself\u001b[39m\u001b[39m.\u001b[39mcrossbar_operation(\n\u001b[0;32m    229\u001b[0m             \u001b[39mself\u001b[39m\u001b[39m.\u001b[39mcrossbars, \u001b[39mlambda\u001b[39;00m crossbar: crossbar\u001b[39m.\u001b[39mconductance_matrix\n\u001b[0;32m    230\u001b[0m         )\n",
            "File \u001b[1;32mc:\\ProgramData\\anaconda3\\envs\\memristor\\Lib\\site-packages\\memtorch\\bh\\crossbar\\Tile.py:479\u001b[0m, in \u001b[0;36mtiled_inference\u001b[1;34m(input, m, transistor)\u001b[0m\n\u001b[0;32m    477\u001b[0m \u001b[39mif\u001b[39;00m transistor:\n\u001b[0;32m    478\u001b[0m     \u001b[39mif\u001b[39;00m \u001b[39m\"\u001b[39m\u001b[39mcpu\u001b[39m\u001b[39m\"\u001b[39m \u001b[39min\u001b[39;00m memtorch\u001b[39m.\u001b[39m__version__:\n\u001b[1;32m--> 479\u001b[0m         \u001b[39mreturn\u001b[39;00m memtorch_bindings\u001b[39m.\u001b[39mtiled_inference(\n\u001b[0;32m    480\u001b[0m             \u001b[39minput\u001b[39m,\n\u001b[0;32m    481\u001b[0m             \u001b[39minput\u001b[39m\u001b[39m.\u001b[39mshape,\n\u001b[0;32m    482\u001b[0m             m\u001b[39m.\u001b[39mtile_shape,\n\u001b[0;32m    483\u001b[0m             m\u001b[39m.\u001b[39mcrossbar_operation(\n\u001b[0;32m    484\u001b[0m                 m\u001b[39m.\u001b[39mcrossbars, \u001b[39mlambda\u001b[39;00m crossbar: crossbar\u001b[39m.\u001b[39mconductance_matrix\n\u001b[0;32m    485\u001b[0m             ),\n\u001b[0;32m    486\u001b[0m             tiles_map,\n\u001b[0;32m    487\u001b[0m             crossbar_shape,\n\u001b[0;32m    488\u001b[0m             m\u001b[39m.\u001b[39mADC_resolution,\n\u001b[0;32m    489\u001b[0m             m\u001b[39m.\u001b[39mADC_overflow_rate,\n\u001b[0;32m    490\u001b[0m             memtorch\u001b[39m.\u001b[39mbh\u001b[39m.\u001b[39mQuantize\u001b[39m.\u001b[39mquant_methods\u001b[39m.\u001b[39mindex(quant_method),\n\u001b[0;32m    491\u001b[0m         )\n\u001b[0;32m    492\u001b[0m     \u001b[39melse\u001b[39;00m:\n\u001b[0;32m    493\u001b[0m         \u001b[39mreturn\u001b[39;00m memtorch_bindings\u001b[39m.\u001b[39mtiled_inference(\n\u001b[0;32m    494\u001b[0m             \u001b[39minput\u001b[39m,\n\u001b[0;32m    495\u001b[0m             \u001b[39minput\u001b[39m\u001b[39m.\u001b[39mshape,\n\u001b[1;32m   (...)\u001b[0m\n\u001b[0;32m    505\u001b[0m             cuda_malloc_heap_size\u001b[39m=\u001b[39mm\u001b[39m.\u001b[39mcuda_malloc_heap_size,\n\u001b[0;32m    506\u001b[0m         )\n",
            "\u001b[1;31mTypeError\u001b[0m: tiled_inference(): incompatible function arguments. The following argument types are supported:\n    1. (input: torch.Tensor, input_shape: Tuple[int, float], tile_shape: Tuple[int, float], weight_tiles: torch.Tensor, weight_tiles_map: torch.Tensor, weight_shape: Tuple[int, float]) -> torch.Tensor\n    2. (input: torch.Tensor, input_shape: Tuple[int, float], tile_shape: Tuple[int, float], weight_tiles: torch.Tensor, weight_tiles_map: torch.Tensor, weight_shape: Tuple[int, float], source_resistance: float, line_resistance: float) -> torch.Tensor\n    3. (input: torch.Tensor, input_shape: Tuple[int, float], tile_shape: Tuple[int, float], weight_tiles: torch.Tensor, weight_tiles_map: torch.Tensor, weight_shape: Tuple[int, float], ADC_resolution: int, ADC_overflow_rate: float, quant_method: int) -> torch.Tensor\n    4. (input: torch.Tensor, input_shape: Tuple[int, float], tile_shape: Tuple[int, float], weight_tiles: torch.Tensor, weight_tiles_map: torch.Tensor, weight_shape: Tuple[int, float], source_resistance: float, line_resistance: float, ADC_resolution: int, ADC_overflow_rate: float, quant_method: int) -> torch.Tensor\n\nInvoked with: tensor([0.0771, 0.1286, 0.3000], grad_fn=<AddBackward0>), torch.Size([3]), (3, 3), tensor([[[-4.4610e-05, -6.1327e-05, -3.3254e-05],\n         [ 3.8854e-05, -1.7332e-07,  2.7217e-05],\n         [ 5.3607e-05, -8.2376e-05, -9.0000e-05]]]), tensor([[0.]]), (3, 3), 8, 0.0, 0"
          ]
        }
      ],
      "source": [
        "import copy\n",
        "from memtorch.mn.Module import patch_model\n",
        "from memtorch.map.Parameter import naive_map\n",
        "from memtorch.map.Input import naive_scale\n",
        "\n",
        "device = torch.device('cpu' if 'cpu' in memtorch.__version__ else 'cuda')\n",
        "\n",
        "reference_memristor = memtorch.bh.memristor.VTEAM\n",
        "reference_memristor_params = {\"time_series_resolution\": 1e-10, \"r_off\": 100e3, \"r_on\": 10e3,}\n",
        "model = Net().to(device)\n",
        "\n",
        "patched_model = patch_model(copy.deepcopy(model),\n",
        "                          memristor_model=reference_memristor,\n",
        "                          memristor_model_params=reference_memristor_params,\n",
        "                          module_parameters_to_patch=[torch.nn.Linear],\n",
        "                          mapping_routine=naive_map,\n",
        "                          transistor=True,\n",
        "                          programming_routine=None,\n",
        "                          tile_shape=(3,3),\n",
        "                          max_input_voltage=0.3,\n",
        "                          scaling_routine=naive_scale,\n",
        "                          ADC_resolution=8,\n",
        "                          ADC_overflow_rate=0.,\n",
        "                          quant_method='linear')\n",
        "patched_model.forward(torch.tensor(X, requires_grad= True))"
      ]
    },
    {
      "cell_type": "markdown",
      "metadata": {},
      "source": [
        "## Approach 2\n",
        "We construct a memristor crossbar array. "
      ]
    },
    {
      "cell_type": "code",
      "execution_count": null,
      "metadata": {},
      "outputs": [
        {
          "name": "stdout",
          "output_type": "stream",
          "text": [
            "tensor([[ 0.0936,  0.2176, -0.2904]], grad_fn=<UnsafeViewBackward0>)\n"
          ]
        }
      ],
      "source": [
        "import torch\n",
        "import torch.nn as nn\n",
        "import numpy as np\n",
        "import memtorch\n",
        "\n",
        "from memtorch.map.Parameter import naive_map\n",
        "from memtorch.bh.crossbar.Crossbar import init_crossbar\n",
        "\n",
        "class IdealMCA():\n",
        "    def __init__(self, W):\n",
        "        super(IdealMCA, self).__init__()\n",
        "        # self.X = torch.tensor(X, requires_grad= True)\n",
        "        self.W = torch.tensor(W, requires_grad= True)\n",
        "        self.define_memristor_behaviours()\n",
        "        self.define_crossbar()\n",
        "        pass\n",
        "    \n",
        "    def define_memristor_behaviours(self):\n",
        "        self.reference_memristor = memtorch.bh.memristor.VTEAM\n",
        "        self.reference_memristor_params = {\n",
        "    'time_series_resolution': 1e-6,\n",
        "    'alpha_off': 1,\n",
        "    'alpha_on': 3,\n",
        "    'v_off': 0.5,\n",
        "    'v_on': -0.53,\n",
        "    'r_off': 2.5e3,#2.5e3\n",
        "    'r_on': 100,#100\n",
        "    'k_off': 4.03e-8,\n",
        "    'k_on': -80,\n",
        "    'd': 10e-9,\n",
        "    'x_on': 0,\n",
        "    'x_off': 10e-9\n",
        "}\n",
        "        pass\n",
        "\n",
        "    def define_crossbar(self):\n",
        "        self.crossbars, self.operation = init_crossbar(\n",
        "            weights = self.W,\n",
        "            memristor_model= self.reference_memristor,\n",
        "            memristor_model_params= self.reference_memristor_params,\n",
        "            transistor= True,\n",
        "            mapping_routine= naive_map,\n",
        "            programming_routine= None,\n",
        "            tile_shape= (3,3),\n",
        "            scheme= memtorch.bh.crossbar.Scheme.DoubleColumn,\n",
        "        )\n",
        "    \n",
        "    def forward(self,X):\n",
        "        self.X = torch.tensor(X, requires_grad= True)\n",
        "        #self.W = torch.tensor(W, requires_grad= True)\n",
        "        self.W = self.operation(self.crossbars, lambda crossbar: crossbar.conductance_matrix)\n",
        "        self.results = torch.matmul(self.W, self.X)\n",
        "        # print(f'Crossbar Product: {self.results}')\n",
        "        return self.results \n",
        "        pass\n",
        "\n",
        "##\n",
        "# Define the crossbar\n",
        "#\n",
        "test_model = IdealMCA(W)\n",
        "test_results = test_model.forward(X)\n",
        "print(test_results)"
      ]
    },
    {
      "cell_type": "markdown",
      "metadata": {},
      "source": [
        "The reason this produces a scaled output is that the elements of $W$ are encoded on the crossbar using conductance values which can be represented by each device, i.e., they are scaled and encoded between $1/r_{off}$ and $1/r_{on}$. In MCA, the Ohm's law is exploited to perform Vector-Matrix Multiplication, so:\n",
        "* Elements of tensor $X$ are encoded as Word Line (WL) voltages.\n",
        "* Elements of tensor $Y$ is given as: $I=GV$ (assuming linear I/V characteristics and that line and source resistances are negligible/select devices are used). Since encoded elements of tensor $X$ are scaled, the resulting currents, i.e., $I$, must be scaled much that they are approximately equal to the desired product, which is $GV \\equiv WX$.\n",
        "\n",
        "We can find the scalar that scales the crossbar's outputs back to the expected crossbar as follows: "
      ]
    },
    {
      "cell_type": "code",
      "execution_count": null,
      "metadata": {},
      "outputs": [
        {
          "name": "stdout",
          "output_type": "stream",
          "text": [
            "[1. 1. 1.]\n",
            "[[0.0096 0.0096 0.0096]]\n",
            "[100. 100. 100.]\n",
            "[[0.96 0.96 0.96]]\n",
            "[100. 100.   1.]\n",
            "[[0.96   0.96   0.0096]]\n",
            "[ 9. 15. 35.]\n",
            "[[0.08639999 0.144      0.336     ]]\n"
          ]
        }
      ],
      "source": [
        "W = [[1., 0., 0.], [0., 1., 0.], [0., 0., 1.]]\n",
        "X = [[1., 1., 1.], [100., 100., 100.], [100., 100., 1.], [9., 15., 35.]]\n",
        "\n",
        "test_model = IdealMCA(W)\n",
        "reference_model = Reference()\n",
        "\n",
        "Yhat = []\n",
        "Y = []\n",
        "for i in range(4):\n",
        "    y = reference_model.forward(X[i], W)\n",
        "    y = y.detach().numpy()\n",
        "    Y.append(y)\n",
        "    print(y)\n",
        "\n",
        "    yhat = test_model.forward(X[i])\n",
        "    yhat = yhat.detach().numpy()\n",
        "    Yhat.append(yhat)\n",
        "    print(yhat)"
      ]
    }
  ],
  "metadata": {
    "colab": {
      "provenance": []
    },
    "kernelspec": {
      "display_name": "Python 3",
      "name": "python3"
    },
    "language_info": {
      "codemirror_mode": {
        "name": "ipython",
        "version": 3
      },
      "file_extension": ".py",
      "mimetype": "text/x-python",
      "name": "python",
      "nbconvert_exporter": "python",
      "pygments_lexer": "ipython3",
      "version": "3.11.5"
    },
    "orig_nbformat": 4
  },
  "nbformat": 4,
  "nbformat_minor": 0
}
