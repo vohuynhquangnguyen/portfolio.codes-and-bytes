{
 "cells": [
  {
   "cell_type": "code",
   "execution_count": 33,
   "metadata": {},
   "outputs": [],
   "source": [
    "import numpy as np\n",
    "import scipy as sp\n",
    "import pandas as pd\n"
   ]
  },
  {
   "cell_type": "code",
   "execution_count": 34,
   "metadata": {},
   "outputs": [
    {
     "data": {
      "text/html": [
       "<div>\n",
       "<style scoped>\n",
       "    .dataframe tbody tr th:only-of-type {\n",
       "        vertical-align: middle;\n",
       "    }\n",
       "\n",
       "    .dataframe tbody tr th {\n",
       "        vertical-align: top;\n",
       "    }\n",
       "\n",
       "    .dataframe thead th {\n",
       "        text-align: right;\n",
       "    }\n",
       "</style>\n",
       "<table border=\"1\" class=\"dataframe\">\n",
       "  <thead>\n",
       "    <tr style=\"text-align: right;\">\n",
       "      <th></th>\n",
       "      <th>Average Days Late</th>\n",
       "      <th>Illustrative Price</th>\n",
       "      <th>Shipped Quantity</th>\n",
       "      <th>Order Cycle Time</th>\n",
       "    </tr>\n",
       "  </thead>\n",
       "  <tbody>\n",
       "    <tr>\n",
       "      <th>0</th>\n",
       "      <td>-4.0</td>\n",
       "      <td>2898.0</td>\n",
       "      <td>1</td>\n",
       "      <td>288</td>\n",
       "    </tr>\n",
       "    <tr>\n",
       "      <th>1</th>\n",
       "      <td>-2.0</td>\n",
       "      <td>2898.0</td>\n",
       "      <td>1</td>\n",
       "      <td>290</td>\n",
       "    </tr>\n",
       "    <tr>\n",
       "      <th>2</th>\n",
       "      <td>-4.0</td>\n",
       "      <td>2898.0</td>\n",
       "      <td>1</td>\n",
       "      <td>288</td>\n",
       "    </tr>\n",
       "    <tr>\n",
       "      <th>3</th>\n",
       "      <td>-4.0</td>\n",
       "      <td>2898.0</td>\n",
       "      <td>1</td>\n",
       "      <td>288</td>\n",
       "    </tr>\n",
       "    <tr>\n",
       "      <th>4</th>\n",
       "      <td>-3.0</td>\n",
       "      <td>2898.0</td>\n",
       "      <td>1</td>\n",
       "      <td>289</td>\n",
       "    </tr>\n",
       "  </tbody>\n",
       "</table>\n",
       "</div>"
      ],
      "text/plain": [
       "   Average Days Late  Illustrative Price  Shipped Quantity  Order Cycle Time\n",
       "0               -4.0              2898.0                 1               288\n",
       "1               -2.0              2898.0                 1               290\n",
       "2               -4.0              2898.0                 1               288\n",
       "3               -4.0              2898.0                 1               288\n",
       "4               -3.0              2898.0                 1               289"
      ]
     },
     "execution_count": 34,
     "metadata": {},
     "output_type": "execute_result"
    }
   ],
   "source": [
    "dataset = pd.read_csv(\"usaid.csv\", header= 0, index_col= 0)\n",
    "means = np.mean(dataset.to_numpy(), axis= 0)\n",
    "stds = np.std(dataset.to_numpy(), axis= 0)\n",
    "dataset.head(5)"
   ]
  },
  {
   "cell_type": "code",
   "execution_count": 35,
   "metadata": {},
   "outputs": [
    {
     "name": "stdout",
     "output_type": "stream",
     "text": [
      "(4, 4)\n",
      "[[ 1.          0.          0.          0.        ]\n",
      " [-0.00355977  0.99999366  0.          0.        ]\n",
      " [ 0.01016996 -0.01840623  0.99977887  0.        ]\n",
      " [-0.01034565 -0.01491203  0.03651777  0.99916818]]\n"
     ]
    }
   ],
   "source": [
    "P = np.corrcoef(dataset, rowvar= False)\n",
    "print(P.shape)\n",
    "A = np.linalg.cholesky(P)\n",
    "print(A)"
   ]
  },
  {
   "cell_type": "code",
   "execution_count": 37,
   "metadata": {},
   "outputs": [
    {
     "data": {
      "text/plain": [
       "array([[-4.0000e+00,  2.8980e+03,  1.0000e+00,  2.8800e+02],\n",
       "       [-2.0000e+00,  2.8980e+03,  1.0000e+00,  2.9000e+02],\n",
       "       [-4.0000e+00,  2.8980e+03,  1.0000e+00,  2.8800e+02],\n",
       "       ...,\n",
       "       [ 1.8000e+01,  1.2480e+01,  4.9759e+04,  2.1200e+02],\n",
       "       [ 7.0000e+01,  1.2480e+01,  1.6500e+04,  3.4500e+02],\n",
       "       [ 0.0000e+00,  1.3400e+00,  2.5000e+04,  2.8100e+02]])"
      ]
     },
     "execution_count": 37,
     "metadata": {},
     "output_type": "execute_result"
    }
   ],
   "source": [
    "U = np.zeros(shape= (dataset.shape[0], dataset.shape[1]))\n",
    "for idx in range(dataset.shape[0]):\n",
    "    Z = np.random.randn(dataset.shape[1])\n",
    "    X = A @ Z\n",
    "    U[idx, :] = sp.stats.norm.cdf(X)\n",
    "\n",
    "Y = np.zeros(shape= (dataset.shape[0], dataset.shape[1]))\n",
    "for idx in range(dataset.shape[0]):\n",
    "    for jdx in range(dataset.shape[1]):\n",
    "        Y[idx, jdx] = np.quantile(dataset.to_numpy()[idx,jdx], U[idx,jdx])\n",
    "Y"
   ]
  }
 ],
 "metadata": {
  "kernelspec": {
   "display_name": "base",
   "language": "python",
   "name": "python3"
  },
  "language_info": {
   "codemirror_mode": {
    "name": "ipython",
    "version": 3
   },
   "file_extension": ".py",
   "mimetype": "text/x-python",
   "name": "python",
   "nbconvert_exporter": "python",
   "pygments_lexer": "ipython3",
   "version": "3.11.7"
  }
 },
 "nbformat": 4,
 "nbformat_minor": 2
}
