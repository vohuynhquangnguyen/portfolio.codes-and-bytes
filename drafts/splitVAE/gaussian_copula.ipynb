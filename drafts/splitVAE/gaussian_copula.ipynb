{
 "cells": [
  {
   "cell_type": "code",
   "execution_count": 4,
   "metadata": {},
   "outputs": [],
   "source": [
    "import numpy as np\n",
    "import pandas as pd\n",
    "import scipy as sp\n",
    "\n",
    "from copulas.multivariate import GaussianMultivariate"
   ]
  },
  {
   "cell_type": "code",
   "execution_count": 5,
   "metadata": {},
   "outputs": [],
   "source": [
    "usaid = pd.read_csv(\"USAID_GHSC-PSM_Health_Commodity_Delivery_Dataset_20240105.csv\", \n",
    "                    low_memory= False, header= 0)\n",
    "features = [\"Average Days Late\", \"Illustrative Price\", \"Shipped Quantity\", \"Order Cycle Time\"]\n",
    "usaid = usaid[features]\n",
    "usaid.dropna(inplace= True)\n",
    "usaid.to_csv(\"usaid.csv\")"
   ]
  },
  {
   "cell_type": "code",
   "execution_count": 3,
   "metadata": {},
   "outputs": [],
   "source": [
    "num_distributors = 15\n",
    "chunk_size = usaid.shape[0] // num_distributors\n",
    "chunks = [usaid[i:i+chunk_size].copy().reset_index(drop= True) for i in range(0, usaid.shape[0], chunk_size)]    \n",
    "dataset = pd.concat(chunks, axis= 1)\n",
    "# dataset.to_csv(\"usaid.csv\")\n",
    "# dataset = dataset.to_numpy()\n",
    "# dataset = usaid.to_numpy()"
   ]
  },
  {
   "cell_type": "code",
   "execution_count": null,
   "metadata": {},
   "outputs": [],
   "source": [
    "synthesizer = GaussianMultivariate()\n",
    "synthesizer.fit(dataset)\n"
   ]
  },
  {
   "cell_type": "code",
   "execution_count": null,
   "metadata": {},
   "outputs": [],
   "source": [
    "num_scenarios = 2\n",
    "scenarios = []\n",
    "\n",
    "for i in range(num_scenarios):\n",
    "    copula = synthesizer.sample(dataset.shape[0])\n",
    "    scenarios.append(copula)\n",
    "scenarios = np.array(scenarios)\n",
    "print(scenarios.shape)"
   ]
  },
  {
   "cell_type": "code",
   "execution_count": null,
   "metadata": {},
   "outputs": [],
   "source": [
    "from metrics import CPRS\n",
    "\n",
    "# for scenario in scenarios:\n",
    "#     assert(scenario.shape == dataset.shape)\n",
    "\n",
    "#     all_cprs_scores = []; individual_cprs_score = []\n",
    "#     for idx in range(dataset.shape[1]):\n",
    "#         score = CPRS(scenario[:, idx], dataset[:, idx])\n",
    "#         individual_cprs_score.append(score)\n",
    "#     mean_individual_cprs = np.mean(np.array(individual_cprs_score), axis= -1)\n",
    "#     all_cprs_scores.append(mean_individual_cprs)\n",
    "# print(np.mean(np.array(all_cprs_scores), axis= -1))\n",
    "\n",
    "scenario = scenarios[0]\n",
    "individual_cprs_score = []\n",
    "for idx in range(dataset.shape[1]):\n",
    "    score = CPRS(scenario[:, idx], dataset[:, idx])\n",
    "    individual_cprs_score.append(score)\n",
    "    print(score)\n",
    "mean_individual_cprs = np.mean(np.array(individual_cprs_score), axis= -1)\n",
    "\n",
    "\n"
   ]
  },
  {
   "cell_type": "code",
   "execution_count": null,
   "metadata": {},
   "outputs": [],
   "source": [
    "np.savetxt(\"dataset/USAID_copula.txt\", scenarios.reshape(-1))\n",
    "np.savetxt(\"dataset/USAID_preprocessed.txt\", dataset.reshape(-1))"
   ]
  }
 ],
 "metadata": {
  "kernelspec": {
   "display_name": "Python 3",
   "language": "python",
   "name": "python3"
  },
  "language_info": {
   "codemirror_mode": {
    "name": "ipython",
    "version": 3
   },
   "file_extension": ".py",
   "mimetype": "text/x-python",
   "name": "python",
   "nbconvert_exporter": "python",
   "pygments_lexer": "ipython3",
   "version": "3.11.7"
  }
 },
 "nbformat": 4,
 "nbformat_minor": 2
}
