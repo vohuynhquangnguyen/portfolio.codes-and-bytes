{
  "cells": [
    {
      "cell_type": "code",
      "execution_count": 9,
      "metadata": {
        "id": "4X1dPWkzcfaG"
      },
      "outputs": [],
      "source": [
        "import numpy as np\n",
        "import pandas as pd\n",
        "import matplotlib.pyplot as plt "
      ]
    },
    {
      "cell_type": "markdown",
      "metadata": {},
      "source": [
        "# Categorical Variables"
      ]
    },
    {
      "cell_type": "markdown",
      "metadata": {},
      "source": [
        "# Numerical Variables"
      ]
    },
    {
      "cell_type": "code",
      "execution_count": 10,
      "metadata": {},
      "outputs": [],
      "source": [
        "def filter_by_quarter(dataset, quarter):    \n",
        "    filtered_dataset = dataset[dataset[\"Quarter\"] == quarter]\n",
        "    filtered_dataset.drop(\"Quarter\", axis= 1, inplace= True)\n",
        "    filtered_dataset.reset_index(drop= True, inplace= True)\n",
        "    return filtered_dataset"
      ]
    },
    {
      "cell_type": "markdown",
      "metadata": {},
      "source": [
        "## \"Task Order\" as distributor"
      ]
    },
    {
      "cell_type": "code",
      "execution_count": 11,
      "metadata": {
        "colab": {
          "base_uri": "https://localhost:8080/",
          "height": 776
        },
        "id": "5DKRfvPmljYr",
        "outputId": "ec966c31-3d5f-4f4c-86d6-ad2f0c97d1ea"
      },
      "outputs": [],
      "source": [
        "# Select category as distributor\n",
        "distributor = \"Task Order\"\n",
        "\n",
        "# Define features\n",
        "new_feature = \"Total Shipped Quantity\"\n",
        "features = [\"Average Days Late\", \"Illustrative Price\", \"Shipped Quantity\", \"Base Unit Multiplier\", \n",
        "            \"Order Cycle Time\", \"Latest Actual Delivery Date Fiscal Quarter Year\"]\n",
        "features.append(distributor)\n",
        "features.append(new_feature)\n",
        "\n",
        "# Create dataset\n",
        "usaid = pd.read_csv(\"USAID_GHSC-PSM_Health_Commodity_Delivery_Dataset_20240105.csv\", header= 0, low_memory= False)\n",
        "usaid[new_feature] = usaid[\"Shipped Quantity\"] * usaid[\"Base Unit Multiplier\"]\n",
        "usaid = usaid[features]\n",
        "usaid[[\"Latest Actual Delivery Date Fiscal Quarter Year\", \"Quarter\"]] = \\\n",
        "  usaid[\"Latest Actual Delivery Date Fiscal Quarter Year\"].str.split(\"-\", expand= True)\n",
        "usaid.drop([\"Base Unit Multiplier\", \"Shipped Quantity\", \"Latest Actual Delivery Date Fiscal Quarter Year\"], axis= 1, inplace= True)"
      ]
    },
    {
      "cell_type": "markdown",
      "metadata": {},
      "source": [
        "### For all possible timemframe ($k$ number of possible distributors)"
      ]
    },
    {
      "cell_type": "code",
      "execution_count": 12,
      "metadata": {},
      "outputs": [],
      "source": [
        "dataset = usaid.copy()\n",
        "dataset.drop([\"Task Order\", \"Quarter\"], axis = 1, inplace= True)\n",
        "dataset.dropna(inplace= True)\n",
        "dataset = dataset.sample(frac=1, random_state= 42).reset_index(drop=True)\n",
        "\n",
        "n_distributors = [2,5,15,30,60]\n",
        "\n",
        "for _, value in enumerate(n_distributors):\n",
        "    chunk_size = dataset.shape[0] // value\n",
        "    chunks = [dataset[i:i+chunk_size].copy().reset_index(drop= True) for i in range(0, dataset.shape[0], chunk_size)]    \n",
        "    dataset_final = pd.concat(chunks, axis= 1)\n",
        "    dataset_final.to_csv(f\"to_wy_{value}distr.csv\")"
      ]
    }
  ],
  "metadata": {
    "colab": {
      "provenance": []
    },
    "kernelspec": {
      "display_name": "base",
      "language": "python",
      "name": "python3"
    },
    "language_info": {
      "codemirror_mode": {
        "name": "ipython",
        "version": 3
      },
      "file_extension": ".py",
      "mimetype": "text/x-python",
      "name": "python",
      "nbconvert_exporter": "python",
      "pygments_lexer": "ipython3",
      "version": "3.11.7"
    }
  },
  "nbformat": 4,
  "nbformat_minor": 0
}
