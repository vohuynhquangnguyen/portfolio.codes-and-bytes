{
  "cells": [
    {
      "cell_type": "code",
      "execution_count": 1,
      "metadata": {
        "id": "4X1dPWkzcfaG"
      },
      "outputs": [],
      "source": [
        "import numpy as np\n",
        "import pandas as pd\n",
        "pd.set_option(\"display.max_rows\", None)"
      ]
    },
    {
      "cell_type": "markdown",
      "metadata": {},
      "source": [
        "# Categorical Variables"
      ]
    },
    {
      "cell_type": "raw",
      "metadata": {
        "id": "2OIZTuWYegbu"
      },
      "source": [
        "usaid = pd.read_csv(\"USAID_GHSC-PSM_Health_Commodity_Delivery_Dataset_20240105.csv\", header= 0, low_memory= False)\n",
        "usaid = usaid[[\"Average Days Late\", \"Country\", \"Product Category\", \"Latest Actual Delivery Date\",\n",
        "               \"Latest Actual Delivery Date Fiscal Quarter Year\", \"Shipped Quantity\",\n",
        "               \"Transportation Mode\", \"Order Type\", \"Order Entry Date\"]]\n",
        "usaid.dropna(inplace= True)\n",
        "usaid.isna().sum()"
      ]
    },
    {
      "cell_type": "raw",
      "metadata": {
        "colab": {
          "base_uri": "https://localhost:8080/"
        },
        "id": "HsCIxvNvhavf",
        "outputId": "72b84b68-6965-4c8d-d85c-02a0d770a7df"
      },
      "source": [
        "# Average Days Late vs Product Category:\n",
        "pc_vs_adl = usaid[[\"Average Days Late\", \"Product Category\", \"Latest Actual Delivery Date Fiscal Quarter Year\"]]\n",
        "pc_vs_adl[[\"Latest Actual Delivery Date Fiscal Quarter Year\", \"Quarter\"]] = \\\n",
        "  pc_vs_adl[\"Latest Actual Delivery Date Fiscal Quarter Year\"].str.split(\"-\", expand= True)\n",
        "pc_vs_adl.drop(\"Latest Actual Delivery Date Fiscal Quarter Year\", axis= 1, inplace= True)\n",
        "\n",
        "# Pick the five most frequent Product Category\n",
        "most_frequent_categories = pc_vs_adl[\"Product Category\"].value_counts()[:10].index.to_list()\n",
        "pc_vs_adl = pc_vs_adl[pc_vs_adl[\"Product Category\"].isin(most_frequent_categories)]\n",
        "\n",
        "# Subset by quarter:\n",
        "def transform(df: pd.DataFrame, label: str, by_quarter: bool = False, quarter: str = \"\", *args, **kwargs):\n",
        "  if by_quarter == True:\n",
        "    df = df[df[\"Quarter\"] == quarter]\n",
        "    df.drop(\"Quarter\", axis= 1, inplace= True)\n",
        "    df = df.pivot(columns= label).stack(level= 0).fillna(0).reset_index(drop= True)\n",
        "  else:\n",
        "    df.drop(\"Quarter\", axis= 1, inplace= True)\n",
        "    df = df.pivot(columns= label).stack(level= 0).fillna(0).reset_index(drop= True)\n",
        "  return df\n",
        "\n",
        "pc_vs_adl_Q1 = transform(pc_vs_adl, by_quarter= True, quarter= \"Q1\", label= \"Product Category\")\n",
        "pc_vs_adl_Q2 = transform(pc_vs_adl, by_quarter= True, quarter= \"Q2\", label= \"Product Category\")\n",
        "pc_vs_adl_Q3 = transform(pc_vs_adl, by_quarter= True, quarter= \"Q3\", label= \"Product Category\")\n",
        "pc_vs_adl_Q4 = transform(pc_vs_adl, by_quarter= True, quarter= \"Q4\", label= \"Product Category\")\n",
        "pc_vs_adl_wholeyear = transform(pc_vs_adl, label= \"Product Category\")\n",
        "pc_vs_adl_wholeyear.head(5)\n",
        "pc_vs_adl_wholeyear.to_csv(\"pc_vs_adl.csv\")\n",
        "pc_vs_adl_Q1.to_csv(\"pc_vs_adl_Q1.csv\")"
      ]
    },
    {
      "cell_type": "markdown",
      "metadata": {},
      "source": [
        "# Numerical Variables"
      ]
    },
    {
      "cell_type": "code",
      "execution_count": 6,
      "metadata": {
        "colab": {
          "base_uri": "https://localhost:8080/",
          "height": 776
        },
        "id": "5DKRfvPmljYr",
        "outputId": "ec966c31-3d5f-4f4c-86d6-ad2f0c97d1ea"
      },
      "outputs": [
        {
          "data": {
            "text/html": [
              "<div>\n",
              "<style scoped>\n",
              "    .dataframe tbody tr th:only-of-type {\n",
              "        vertical-align: middle;\n",
              "    }\n",
              "\n",
              "    .dataframe tbody tr th {\n",
              "        vertical-align: top;\n",
              "    }\n",
              "\n",
              "    .dataframe thead th {\n",
              "        text-align: right;\n",
              "    }\n",
              "</style>\n",
              "<table border=\"1\" class=\"dataframe\">\n",
              "  <thead>\n",
              "    <tr style=\"text-align: right;\">\n",
              "      <th></th>\n",
              "      <th>Estimated Lead Time in Days</th>\n",
              "      <th>Illustrative Price</th>\n",
              "      <th>Order Cycle Time</th>\n",
              "      <th>Average Days Late</th>\n",
              "      <th>Shipped Quantity</th>\n",
              "      <th>Shipped Quantity Total</th>\n",
              "    </tr>\n",
              "  </thead>\n",
              "  <tbody>\n",
              "    <tr>\n",
              "      <th>28</th>\n",
              "      <td>161.0</td>\n",
              "      <td>518.58</td>\n",
              "      <td>168</td>\n",
              "      <td>-3.0</td>\n",
              "      <td>1500</td>\n",
              "      <td>72000.0</td>\n",
              "    </tr>\n",
              "    <tr>\n",
              "      <th>29</th>\n",
              "      <td>140.0</td>\n",
              "      <td>518.58</td>\n",
              "      <td>142</td>\n",
              "      <td>-1.0</td>\n",
              "      <td>900</td>\n",
              "      <td>43200.0</td>\n",
              "    </tr>\n",
              "    <tr>\n",
              "      <th>38</th>\n",
              "      <td>182.0</td>\n",
              "      <td>55.00</td>\n",
              "      <td>186</td>\n",
              "      <td>1.0</td>\n",
              "      <td>110</td>\n",
              "      <td>47520.0</td>\n",
              "    </tr>\n",
              "    <tr>\n",
              "      <th>39</th>\n",
              "      <td>154.0</td>\n",
              "      <td>55.00</td>\n",
              "      <td>151</td>\n",
              "      <td>-6.0</td>\n",
              "      <td>198</td>\n",
              "      <td>85536.0</td>\n",
              "    </tr>\n",
              "    <tr>\n",
              "      <th>42</th>\n",
              "      <td>105.0</td>\n",
              "      <td>130.00</td>\n",
              "      <td>157</td>\n",
              "      <td>-5.0</td>\n",
              "      <td>15</td>\n",
              "      <td>600.0</td>\n",
              "    </tr>\n",
              "    <tr>\n",
              "      <th>44</th>\n",
              "      <td>154.0</td>\n",
              "      <td>260.00</td>\n",
              "      <td>151</td>\n",
              "      <td>-6.0</td>\n",
              "      <td>306</td>\n",
              "      <td>306.0</td>\n",
              "    </tr>\n",
              "    <tr>\n",
              "      <th>47</th>\n",
              "      <td>126.0</td>\n",
              "      <td>34.00</td>\n",
              "      <td>164</td>\n",
              "      <td>-2.0</td>\n",
              "      <td>12</td>\n",
              "      <td>240.0</td>\n",
              "    </tr>\n",
              "    <tr>\n",
              "      <th>49</th>\n",
              "      <td>84.0</td>\n",
              "      <td>37.08</td>\n",
              "      <td>155</td>\n",
              "      <td>-2.0</td>\n",
              "      <td>200</td>\n",
              "      <td>200.0</td>\n",
              "    </tr>\n",
              "    <tr>\n",
              "      <th>50</th>\n",
              "      <td>77.0</td>\n",
              "      <td>19.15</td>\n",
              "      <td>110</td>\n",
              "      <td>6.0</td>\n",
              "      <td>191</td>\n",
              "      <td>191.0</td>\n",
              "    </tr>\n",
              "    <tr>\n",
              "      <th>53</th>\n",
              "      <td>98.0</td>\n",
              "      <td>30.00</td>\n",
              "      <td>107</td>\n",
              "      <td>-3.0</td>\n",
              "      <td>260</td>\n",
              "      <td>1326.0</td>\n",
              "    </tr>\n",
              "  </tbody>\n",
              "</table>\n",
              "</div>"
            ],
            "text/plain": [
              "    Estimated Lead Time in Days  Illustrative Price  Order Cycle Time  \\\n",
              "28                        161.0              518.58               168   \n",
              "29                        140.0              518.58               142   \n",
              "38                        182.0               55.00               186   \n",
              "39                        154.0               55.00               151   \n",
              "42                        105.0              130.00               157   \n",
              "44                        154.0              260.00               151   \n",
              "47                        126.0               34.00               164   \n",
              "49                         84.0               37.08               155   \n",
              "50                         77.0               19.15               110   \n",
              "53                         98.0               30.00               107   \n",
              "\n",
              "    Average Days Late  Shipped Quantity  Shipped Quantity Total  \n",
              "28               -3.0              1500                 72000.0  \n",
              "29               -1.0               900                 43200.0  \n",
              "38                1.0               110                 47520.0  \n",
              "39               -6.0               198                 85536.0  \n",
              "42               -5.0                15                   600.0  \n",
              "44               -6.0               306                   306.0  \n",
              "47               -2.0                12                   240.0  \n",
              "49               -2.0               200                   200.0  \n",
              "50                6.0               191                   191.0  \n",
              "53               -3.0               260                  1326.0  "
            ]
          },
          "execution_count": 6,
          "metadata": {},
          "output_type": "execute_result"
        }
      ],
      "source": [
        "usaid = pd.read_csv(\"USAID_GHSC-PSM_Health_Commodity_Delivery_Dataset_20240105.csv\", header= 0, low_memory= False)\n",
        "usaid = usaid[[\"Estimated Lead Time in Days\", \"Illustrative Price\", \"Order Cycle Time\", \n",
        "               \"Average Days Late\", \"Ordered Quantity\", \"Shipped Quantity\", \"Base Unit Multiplier\"]]\n",
        "usaid.dropna(inplace= True)\n",
        "\n",
        "# usaid[\"Ordered Quantity Total\"] = usaid[\"Ordered Quantity\"] * usaid[\"Base Unit Multiplier\"]\n",
        "usaid[\"Shipped Quantity Total\"] = usaid[\"Shipped Quantity\"] * usaid[\"Base Unit Multiplier\"]\n",
        "usaid.drop([\"Ordered Quantity\", \"Base Unit Multiplier\"], axis= 1, inplace= True)\n",
        "\n",
        "usaid.head(10)\n",
        "usaid.to_csv(\"usaid.csv\")"
      ]
    },
    {
      "cell_type": "code",
      "execution_count": null,
      "metadata": {},
      "outputs": [],
      "source": []
    }
  ],
  "metadata": {
    "colab": {
      "provenance": []
    },
    "kernelspec": {
      "display_name": "base",
      "language": "python",
      "name": "python3"
    },
    "language_info": {
      "codemirror_mode": {
        "name": "ipython",
        "version": 3
      },
      "file_extension": ".py",
      "mimetype": "text/x-python",
      "name": "python",
      "nbconvert_exporter": "python",
      "pygments_lexer": "ipython3",
      "version": "3.11.7"
    }
  },
  "nbformat": 4,
  "nbformat_minor": 0
}
