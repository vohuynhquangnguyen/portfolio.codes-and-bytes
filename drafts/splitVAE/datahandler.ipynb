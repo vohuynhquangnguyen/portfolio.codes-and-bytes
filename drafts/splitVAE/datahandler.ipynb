{
  "cells": [
    {
      "cell_type": "code",
      "execution_count": 14,
      "metadata": {
        "id": "4X1dPWkzcfaG"
      },
      "outputs": [],
      "source": [
        "import numpy as np\n",
        "import pandas as pd\n",
        "import matplotlib.pyplot as plt "
      ]
    },
    {
      "cell_type": "markdown",
      "metadata": {},
      "source": [
        "# Categorical Variables"
      ]
    },
    {
      "cell_type": "markdown",
      "metadata": {},
      "source": [
        "# Numerical Variables"
      ]
    },
    {
      "cell_type": "code",
      "execution_count": 15,
      "metadata": {},
      "outputs": [],
      "source": [
        "def filter_by_quarter(dataset, quarter):    \n",
        "    filtered_dataset = dataset[dataset[\"Quarter\"] == quarter]\n",
        "    filtered_dataset.drop(\"Quarter\", axis= 1, inplace= True)\n",
        "    filtered_dataset.reset_index(drop= True, inplace= True)\n",
        "    return filtered_dataset"
      ]
    },
    {
      "cell_type": "markdown",
      "metadata": {},
      "source": [
        "## \"Task Order\" as distributor\n",
        "### For all possible timeframe"
      ]
    },
    {
      "cell_type": "code",
      "execution_count": 16,
      "metadata": {
        "colab": {
          "base_uri": "https://localhost:8080/",
          "height": 776
        },
        "id": "5DKRfvPmljYr",
        "outputId": "ec966c31-3d5f-4f4c-86d6-ad2f0c97d1ea"
      },
      "outputs": [],
      "source": [
        "# Select category as distributor experiment\n",
        "distributor = \"Task Order\"\n",
        "\n",
        "# Define features\n",
        "new_feature = \"Total Shipped Quantity\"\n",
        "features = [\"Average Days Late\", \"Illustrative Price\", \"Shipped Quantity\", \"Base Unit Multiplier\", \n",
        "            \"Order Cycle Time\", \"Latest Actual Delivery Date Fiscal Quarter Year\"]\n",
        "features.append(distributor)\n",
        "features.append(new_feature)\n",
        "\n",
        "# Create dataset\n",
        "usaid = pd.read_csv(\"USAID_GHSC-PSM_Health_Commodity_Delivery_Dataset_20240105.csv\", header= 0, low_memory= False)\n",
        "usaid[new_feature] = usaid[\"Shipped Quantity\"] * usaid[\"Base Unit Multiplier\"]\n",
        "usaid = usaid[features]\n",
        "usaid[[\"Latest Actual Delivery Date Fiscal Quarter Year\", \"Quarter\"]] = \\\n",
        "  usaid[\"Latest Actual Delivery Date Fiscal Quarter Year\"].str.split(\"-\", expand= True)\n",
        "usaid.drop([\"Base Unit Multiplier\", \"Shipped Quantity\", \"Latest Actual Delivery Date Fiscal Quarter Year\"], axis= 1, inplace= True)"
      ]
    },
    {
      "cell_type": "code",
      "execution_count": 19,
      "metadata": {},
      "outputs": [],
      "source": [
        "# Construct the training set\n",
        "dataset = usaid.copy()\n",
        "task_order = dataset[\"Task Order\"].unique()\n",
        "T01 = dataset[dataset[\"Task Order\"] == task_order[0]]\n",
        "T01.reset_index(drop= True, inplace= True)\n",
        "T02 = dataset[dataset[\"Task Order\"] == task_order[1]]\n",
        "T02.reset_index(drop= True, inplace= True)\n",
        "T03 = dataset[dataset[\"Task Order\"] == task_order[2]]\n",
        "T03.reset_index(drop= True, inplace= True)\n",
        "T04 = dataset[dataset[\"Task Order\"] == task_order[3]]\n",
        "T04.reset_index(drop= True, inplace= True)\n",
        "\n",
        "dataset = pd.concat([T01,T02,T03,T04], axis= 1)\n",
        "dataset = dataset[: min(T01.shape[0], T02.shape[0], T03.shape[0], T04.shape[0])]\n",
        "dataset.drop([\"Task Order\", \"Quarter\"], axis = 1, inplace= True)\n",
        "dataset.to_csv(\"task_order_wholeyear.csv\")"
      ]
    },
    {
      "cell_type": "markdown",
      "metadata": {},
      "source": [
        "### Only Q3 and Q4 are selected"
      ]
    },
    {
      "cell_type": "code",
      "execution_count": 18,
      "metadata": {},
      "outputs": [],
      "source": [
        "# Subset by quarter\n",
        "# TO_Q3 = filter_by_quarter(usaid, \"Q3\")\n",
        "# TO_Q4 = filter_by_quarter(usaid, \"Q4\")\n",
        "# dataset = pd.concat([TO_Q3, TO_Q4], axis= 1)\n",
        "# dataset = dataset[: min(TO_Q3.shape[0], TO_Q4.shape[0])]"
      ]
    }
  ],
  "metadata": {
    "colab": {
      "provenance": []
    },
    "kernelspec": {
      "display_name": "base",
      "language": "python",
      "name": "python3"
    },
    "language_info": {
      "codemirror_mode": {
        "name": "ipython",
        "version": 3
      },
      "file_extension": ".py",
      "mimetype": "text/x-python",
      "name": "python",
      "nbconvert_exporter": "python",
      "pygments_lexer": "ipython3",
      "version": "3.11.7"
    }
  },
  "nbformat": 4,
  "nbformat_minor": 0
}
