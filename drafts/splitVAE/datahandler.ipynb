{
  "cells": [
    {
      "cell_type": "code",
      "execution_count": 5,
      "metadata": {
        "id": "4X1dPWkzcfaG"
      },
      "outputs": [],
      "source": [
        "import numpy as np\n",
        "import pandas as pd\n",
        "pd.set_option(\"display.max_rows\", None)"
      ]
    },
    {
      "cell_type": "markdown",
      "metadata": {},
      "source": [
        "# Categorical Variables"
      ]
    },
    {
      "cell_type": "code",
      "execution_count": 6,
      "metadata": {
        "id": "2OIZTuWYegbu"
      },
      "outputs": [
        {
          "data": {
            "text/plain": [
              "Average Days Late                                  0\n",
              "Country                                            0\n",
              "Product Category                                   0\n",
              "Latest Actual Delivery Date                        0\n",
              "Latest Actual Delivery Date Fiscal Quarter Year    0\n",
              "Shipped Quantity                                   0\n",
              "Transportation Mode                                0\n",
              "Order Type                                         0\n",
              "Order Entry Date                                   0\n",
              "dtype: int64"
            ]
          },
          "execution_count": 6,
          "metadata": {},
          "output_type": "execute_result"
        }
      ],
      "source": [
        "usaid = pd.read_csv(\"USAID_GHSC-PSM_Health_Commodity_Delivery_Dataset_20240105.csv\", header= 0, low_memory= False)\n",
        "usaid = usaid[[\"Average Days Late\", \"Country\", \"Product Category\", \"Latest Actual Delivery Date\",\n",
        "               \"Latest Actual Delivery Date Fiscal Quarter Year\", \"Shipped Quantity\",\n",
        "               \"Transportation Mode\", \"Order Type\", \"Order Entry Date\"]]\n",
        "usaid.dropna(inplace= True)\n",
        "usaid.isna().sum()"
      ]
    },
    {
      "cell_type": "code",
      "execution_count": 7,
      "metadata": {
        "colab": {
          "base_uri": "https://localhost:8080/"
        },
        "id": "HsCIxvNvhavf",
        "outputId": "72b84b68-6965-4c8d-d85c-02a0d770a7df"
      },
      "outputs": [
        {
          "name": "stderr",
          "output_type": "stream",
          "text": [
            "C:\\Users\\quang\\AppData\\Local\\Temp\\ipykernel_2116\\3153126237.py:3: SettingWithCopyWarning: \n",
            "A value is trying to be set on a copy of a slice from a DataFrame.\n",
            "Try using .loc[row_indexer,col_indexer] = value instead\n",
            "\n",
            "See the caveats in the documentation: https://pandas.pydata.org/pandas-docs/stable/user_guide/indexing.html#returning-a-view-versus-a-copy\n",
            "  pc_vs_adl[[\"Latest Actual Delivery Date Fiscal Quarter Year\", \"Quarter\"]] = \\\n",
            "C:\\Users\\quang\\AppData\\Local\\Temp\\ipykernel_2116\\3153126237.py:3: SettingWithCopyWarning: \n",
            "A value is trying to be set on a copy of a slice from a DataFrame.\n",
            "Try using .loc[row_indexer,col_indexer] = value instead\n",
            "\n",
            "See the caveats in the documentation: https://pandas.pydata.org/pandas-docs/stable/user_guide/indexing.html#returning-a-view-versus-a-copy\n",
            "  pc_vs_adl[[\"Latest Actual Delivery Date Fiscal Quarter Year\", \"Quarter\"]] = \\\n",
            "C:\\Users\\quang\\AppData\\Local\\Temp\\ipykernel_2116\\3153126237.py:5: SettingWithCopyWarning: \n",
            "A value is trying to be set on a copy of a slice from a DataFrame\n",
            "\n",
            "See the caveats in the documentation: https://pandas.pydata.org/pandas-docs/stable/user_guide/indexing.html#returning-a-view-versus-a-copy\n",
            "  pc_vs_adl.drop(\"Latest Actual Delivery Date Fiscal Quarter Year\", axis= 1, inplace= True)\n",
            "C:\\Users\\quang\\AppData\\Local\\Temp\\ipykernel_2116\\3153126237.py:15: SettingWithCopyWarning: \n",
            "A value is trying to be set on a copy of a slice from a DataFrame\n",
            "\n",
            "See the caveats in the documentation: https://pandas.pydata.org/pandas-docs/stable/user_guide/indexing.html#returning-a-view-versus-a-copy\n",
            "  df.drop(\"Quarter\", axis= 1, inplace= True)\n",
            "C:\\Users\\quang\\AppData\\Local\\Temp\\ipykernel_2116\\3153126237.py:15: SettingWithCopyWarning: \n",
            "A value is trying to be set on a copy of a slice from a DataFrame\n",
            "\n",
            "See the caveats in the documentation: https://pandas.pydata.org/pandas-docs/stable/user_guide/indexing.html#returning-a-view-versus-a-copy\n",
            "  df.drop(\"Quarter\", axis= 1, inplace= True)\n",
            "C:\\Users\\quang\\AppData\\Local\\Temp\\ipykernel_2116\\3153126237.py:15: SettingWithCopyWarning: \n",
            "A value is trying to be set on a copy of a slice from a DataFrame\n",
            "\n",
            "See the caveats in the documentation: https://pandas.pydata.org/pandas-docs/stable/user_guide/indexing.html#returning-a-view-versus-a-copy\n",
            "  df.drop(\"Quarter\", axis= 1, inplace= True)\n",
            "C:\\Users\\quang\\AppData\\Local\\Temp\\ipykernel_2116\\3153126237.py:15: SettingWithCopyWarning: \n",
            "A value is trying to be set on a copy of a slice from a DataFrame\n",
            "\n",
            "See the caveats in the documentation: https://pandas.pydata.org/pandas-docs/stable/user_guide/indexing.html#returning-a-view-versus-a-copy\n",
            "  df.drop(\"Quarter\", axis= 1, inplace= True)\n"
          ]
        }
      ],
      "source": [
        "# Average Days Late vs Product Category:\n",
        "pc_vs_adl = usaid[[\"Average Days Late\", \"Product Category\", \"Latest Actual Delivery Date Fiscal Quarter Year\"]]\n",
        "pc_vs_adl[[\"Latest Actual Delivery Date Fiscal Quarter Year\", \"Quarter\"]] = \\\n",
        "  pc_vs_adl[\"Latest Actual Delivery Date Fiscal Quarter Year\"].str.split(\"-\", expand= True)\n",
        "pc_vs_adl.drop(\"Latest Actual Delivery Date Fiscal Quarter Year\", axis= 1, inplace= True)\n",
        "\n",
        "# Pick the five most frequent Product Category\n",
        "most_frequent_categories = pc_vs_adl[\"Product Category\"].value_counts()[:5].index.to_list()\n",
        "pc_vs_adl = pc_vs_adl[pc_vs_adl[\"Product Category\"].isin(most_frequent_categories)]\n",
        "\n",
        "# Subset by quarter:\n",
        "def transform(df: pd.DataFrame, label: str, by_quarter: bool = False, quarter: str = \"\", *args, **kwargs):\n",
        "  if by_quarter == True:\n",
        "    df = df[df[\"Quarter\"] == quarter]\n",
        "    df.drop(\"Quarter\", axis= 1, inplace= True)\n",
        "    df = df.pivot(columns= label).stack(level= 0).fillna(0).reset_index(drop= True)\n",
        "  else:\n",
        "    df.drop(\"Quarter\", axis= 1, inplace= True)\n",
        "    df = df.pivot(columns= label).stack(level= 0).fillna(0).reset_index(drop= True)\n",
        "  return df\n",
        "\n",
        "pc_vs_adl_Q1 = transform(pc_vs_adl, by_quarter= True, quarter= \"Q1\", label= \"Product Category\")\n",
        "pc_vs_adl_Q2 = transform(pc_vs_adl, by_quarter= True, quarter= \"Q2\", label= \"Product Category\")\n",
        "pc_vs_adl_Q3 = transform(pc_vs_adl, by_quarter= True, quarter= \"Q3\", label= \"Product Category\")\n",
        "pc_vs_adl_Q4 = transform(pc_vs_adl, by_quarter= True, quarter= \"Q4\", label= \"Product Category\")\n",
        "pc_vs_adl_wholeyear = transform(pc_vs_adl, label= \"Product Category\")\n",
        "pc_vs_adl_wholeyear.head(5)\n",
        "pc_vs_adl_wholeyear.to_csv(\"pc_vs_adl.csv\")\n",
        "pc_vs_adl_Q1.to_csv(\"pc_vs_adl_Q1.csv\")"
      ]
    },
    {
      "cell_type": "markdown",
      "metadata": {},
      "source": [
        "# Numerical Variables"
      ]
    },
    {
      "cell_type": "code",
      "execution_count": 8,
      "metadata": {
        "colab": {
          "base_uri": "https://localhost:8080/",
          "height": 776
        },
        "id": "5DKRfvPmljYr",
        "outputId": "ec966c31-3d5f-4f4c-86d6-ad2f0c97d1ea"
      },
      "outputs": [
        {
          "data": {
            "text/plain": [
              "Average Days Late                                  0\n",
              "Illustrative Price                                 0\n",
              "Shipped Quantity                                   0\n",
              "Base Unit Multiplier                               0\n",
              "Order Cycle Time                                   0\n",
              "Latest Actual Delivery Date Fiscal Quarter Year    0\n",
              "Latest Actual Delivery Date                        0\n",
              "dtype: int64"
            ]
          },
          "execution_count": 8,
          "metadata": {},
          "output_type": "execute_result"
        }
      ],
      "source": [
        "usaid = pd.read_csv(\"USAID_GHSC-PSM_Health_Commodity_Delivery_Dataset_20240105.csv\", header= 0, low_memory= False)\n",
        "usaid = usaid[[\"Average Days Late\", \n",
        "               \"Illustrative Price\", \"Shipped Quantity\",\n",
        "               \"Base Unit Multiplier\", \"Order Cycle Time\", \"Latest Actual Delivery Date Fiscal Quarter Year\", \"Latest Actual Delivery Date\"]]\n",
        "# usaid.head(60)\n",
        "# usaid.isna().sum()\n",
        "usaid.dropna(inplace= True)\n",
        "usaid.isna().sum()\n"
      ]
    },
    {
      "cell_type": "code",
      "execution_count": null,
      "metadata": {},
      "outputs": [],
      "source": []
    }
  ],
  "metadata": {
    "colab": {
      "provenance": []
    },
    "kernelspec": {
      "display_name": "base",
      "language": "python",
      "name": "python3"
    },
    "language_info": {
      "codemirror_mode": {
        "name": "ipython",
        "version": 3
      },
      "file_extension": ".py",
      "mimetype": "text/x-python",
      "name": "python",
      "nbconvert_exporter": "python",
      "pygments_lexer": "ipython3",
      "version": "3.11.7"
    }
  },
  "nbformat": 4,
  "nbformat_minor": 0
}
