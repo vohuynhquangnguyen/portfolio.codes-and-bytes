{
  "cells": [
    {
      "cell_type": "code",
      "execution_count": 4,
      "metadata": {
        "colab": {
          "base_uri": "https://localhost:8080/"
        },
        "id": "-X2Qx7MRreMW",
        "outputId": "431b14a0-f156-4023-d8a4-496b2c9547d4"
      },
      "outputs": [],
      "source": [
        "import numpy as np\n",
        "np.set_printoptions(suppress= True)\n",
        "\n",
        "def admm(c, A, b, rho= 1, max_iter= 100000):\n",
        "    \"\"\"\n",
        "    @author: vohuynhquangnguyen\n",
        "    Implement the alternating direction method of multipliers (ADMM) optimization algorithm to solve a linear program.\n",
        "    The implementation is based on the formulas mentioned in Boyd et al. (2011).\n",
        "    The linear program has the following form: min c^Tx, s.t. Ax = b\n",
        "\n",
        "    References:\n",
        "    1) S. Boyd, N. Parikh, E. Chu, B. Peleato, and J. Eckstein. Distributed optimization and statistical learning via the alternating direction method of multipliers, 2011.\n",
        "    \"\"\"\n",
        "\n",
        "\n",
        "    # Extract the number of variables and constraints from the matrix dimensions\n",
        "    no_of_vars = A.shape[1]\n",
        "    no_of_constraints = A.shape[0]\n",
        "\n",
        "    # Ensure the input vectors are column vectors:\n",
        "    c = np.reshape(c, (no_of_vars, 1))\n",
        "    b = np.reshape(b, (no_of_constraints, 1))\n",
        "\n",
        "    # Initialize the dual variables y and mu\n",
        "    y  = np.random.normal(size= (no_of_vars, 1))\n",
        "    mu = np.random.normal(size= (no_of_vars, 1))\n",
        "\n",
        "    # Construct the augmented Lagrangian matrix\n",
        "    C = np.block([\n",
        "        [rho * np.eye(no_of_vars), A.T],\n",
        "        [A, np.zeros((no_of_constraints,no_of_constraints))]\n",
        "                ])\n",
        "\n",
        "    for i in range(max_iter):\n",
        "        # Solve for the primal variable x\n",
        "        alpha = y - (1/rho) * (mu + c)\n",
        "        m = np.vstack([rho * alpha, b])\n",
        "        x = np.linalg.solve(C, m)[: no_of_vars]\n",
        "\n",
        "        # Apply soft-thresholding to update the dual variable y\n",
        "        beta = x + (1/rho) * mu\n",
        "        beta[beta < 0] = 0\n",
        "        y = np.copy(beta)\n",
        "\n",
        "        # Update the dual variable mu\n",
        "        mu = mu + rho * (x - y)\n",
        "\n",
        "    return x, y, mu\n"
      ]
    },
    {
      "cell_type": "code",
      "execution_count": 5,
      "metadata": {
        "id": "IQB0I4ajreMX"
      },
      "outputs": [
        {
          "name": "stdout",
          "output_type": "stream",
          "text": [
            "[[5.66666667]\n",
            " [5.33333333]\n",
            " [0.        ]\n",
            " [0.        ]\n",
            " [0.66666667]]\n",
            "\n"
          ]
        }
      ],
      "source": [
        "##\n",
        "# First problem:\n",
        "#\n",
        "c = np.array([-2 , -5, 0, 0, 0])\n",
        "A = np.array([\n",
        "    [4, 1, 1, 0, 0],\n",
        "    [1, 4, 0, 1, 0],\n",
        "    [1, -1, 0, 0, 1],\n",
        "])\n",
        "b = np.array([28, 27, 1])\n",
        "x, _ , _= admm(c, A, b)\n",
        "print(f\"{x}\\n\")"
      ]
    },
    {
      "cell_type": "code",
      "execution_count": 6,
      "metadata": {},
      "outputs": [
        {
          "name": "stdout",
          "output_type": "stream",
          "text": [
            "[[0.]\n",
            " [0.]\n",
            " [0.]\n",
            " [0.]\n",
            " [7.]]\n",
            "\n"
          ]
        }
      ],
      "source": [
        "##\n",
        "# Second problem:\n",
        "#\n",
        "c = np.array([16, 19, 23, 28, 0])\n",
        "A = np.array([\n",
        "    [2, 3, 4, 5, 1],\n",
        "])\n",
        "b = np.array([7])\n",
        "x, _ , _ = admm(c, A, b)\n",
        "print(f\"{x}\\n\")\n"
      ]
    }
  ],
  "metadata": {
    "colab": {
      "provenance": []
    },
    "kernelspec": {
      "display_name": "base",
      "language": "python",
      "name": "python3"
    },
    "language_info": {
      "codemirror_mode": {
        "name": "ipython",
        "version": 3
      },
      "file_extension": ".py",
      "mimetype": "text/x-python",
      "name": "python",
      "nbconvert_exporter": "python",
      "pygments_lexer": "ipython3",
      "version": "3.11.5"
    }
  },
  "nbformat": 4,
  "nbformat_minor": 0
}
