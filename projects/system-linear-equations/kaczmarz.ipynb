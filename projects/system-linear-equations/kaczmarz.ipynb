{
  "cells": [
    {
      "cell_type": "code",
      "execution_count": 6,
      "metadata": {
        "id": "cuAXTpPXIinG"
      },
      "outputs": [],
      "source": [
        "import numpy as np"
      ]
    },
    {
      "cell_type": "code",
      "execution_count": 29,
      "metadata": {
        "id": "i7YJVVehIinH"
      },
      "outputs": [
        {
          "name": "stdout",
          "output_type": "stream",
          "text": [
            "Normal Kaczmarz: [[1.]\n",
            " [2.]]\n",
            "Normal Kaczmarz: [[1.]\n",
            " [2.]\n",
            " [3.]]\n"
          ]
        }
      ],
      "source": [
        "def normalKaczmarz(A, b, l = 1.0, MAX_TOL= 1e-16, MAX_ITER= 1000):\n",
        "    \"\"\"\n",
        "    @author: vohuynhquangnguyen\n",
        "    Implement the Kaczmarz algorithm to solve a system of linear equation.\n",
        "\n",
        "    The algorithm works under the principle of finding an estimated solution (xhat) that satisfies \n",
        "    ||A @ xhat - b||^2 < e, with e is the tolerance value.\n",
        "    \"\"\"\n",
        "    assert (0 <= l <= 1), \"The relaxation parameter must be of the range 0 < l < 1!\"\n",
        "    \n",
        "    X = np.random.normal(size= (A.shape[1], 1))\n",
        "    b = np.reshape(b, (A.shape[0], 1))\n",
        "\n",
        "    iter = 0\n",
        "    residual = 1e+6\n",
        "    while (residual > MAX_TOL) and (iter < MAX_ITER):\n",
        "        idx = iter % A.shape[0]\n",
        "        a_i = A[idx, :]\n",
        "        b_i = b[idx]\n",
        "\n",
        "        change = np.reshape(l * np.multiply(b_i - np.dot(a_i, X), a_i) / np.power(np.linalg.norm(a_i), 2),\n",
        "                            (A.shape[1],1))\n",
        "        Xnew = X + change\n",
        "        residual = np.linalg.norm(b - np.dot(A, Xnew))\n",
        "        X = np.copy(Xnew)\n",
        "        iter += 1\n",
        "\n",
        "    return X\n",
        "\n",
        "A = np.array([[-4, 1], [2, 0.5], [3, 1.5], [0, 1]])\n",
        "b = np.array([-2, 3, 6, 2.])\n",
        "X_nkz = normalKaczmarz(A, b)\n",
        "print(f\"Normal Kaczmarz: {X_nkz}\")\n",
        "\n",
        "A = np.array([\n",
        "    [2, 1, 2], \n",
        "    [1, 2, 1], \n",
        "    [3, 1, -1]\n",
        "    ])\n",
        "b = np.array([10, 8, 2])\n",
        "X_nkz = normalKaczmarz(A, b)\n",
        "print(f\"Normal Kaczmarz: {X_nkz}\")"
      ]
    },
    {
      "cell_type": "code",
      "execution_count": 32,
      "metadata": {},
      "outputs": [
        {
          "name": "stdout",
          "output_type": "stream",
          "text": [
            "Randomized Kaczmarz: [[1.]\n",
            " [2.]]\n",
            "Randomized Kaczmarz: [[1.]\n",
            " [2.]\n",
            " [3.]]\n"
          ]
        }
      ],
      "source": [
        "def randomizedKaczmarz(A, b, l = 1.0, MAX_TOL= 1e-16, MAX_ITER= 1000):\n",
        "    \"\"\"\n",
        "    @author: vohuynhquangnguyen\n",
        "    Implement the Kaczmarz algorithm to solve a system of linear equation.\n",
        "\n",
        "    The algorithm works under the principle of finding an estimated solution (xhat) that satisfies \n",
        "    ||A @ xhat - b||^2 < e, with e is the tolerance value.\n",
        "    \"\"\"\n",
        "    assert (0 <= l <= 1), \"The relaxation parameter must be of the range 0 < l < 1!\"\n",
        "\n",
        "    X = np.random.normal(size= (A.shape[1], 1))\n",
        "    b = np.reshape(b, (A.shape[0], 1))\n",
        "    probs = np.power(np.linalg.norm(A, axis = 1) / np.linalg.norm(A), 2)\n",
        "\n",
        "    iter = 0\n",
        "    residual = 1e+6\n",
        "    while (residual > MAX_TOL) and (iter < MAX_ITER):\n",
        "        idx = np.random.choice(A.shape[0], p = probs)\n",
        "        a_i = A[idx, :]\n",
        "        b_i = b[idx]\n",
        "\n",
        "        change = np.reshape(l * np.multiply(b_i - np.dot(a_i, X), a_i) / np.power(np.linalg.norm(a_i), 2),\n",
        "                            (A.shape[1],1))\n",
        "        Xnew = X + change\n",
        "        residual = np.linalg.norm(b - np.dot(A, Xnew))\n",
        "        X = np.copy(Xnew)\n",
        "        iter += 1\n",
        "\n",
        "    return X\n",
        "\n",
        "A = np.array([[-4, 1], [2, 0.5], [3, 1.5], [0, 1]])\n",
        "b = np.array([-2, 3, 6, 2.])\n",
        "X_rkz = randomizedKaczmarz(A, b)\n",
        "print(f\"Randomized Kaczmarz: {X_rkz}\")\n",
        "\n",
        "A = np.array([\n",
        "    [2, 1, 2], \n",
        "    [1, 2, 1], \n",
        "    [3, 1, -1]\n",
        "    ])\n",
        "b = np.array([10, 8, 2])\n",
        "X_rkz = randomizedKaczmarz(A, b)\n",
        "print(f\"Randomized Kaczmarz: {X_rkz}\")\n"
      ]
    },
    {
      "cell_type": "markdown",
      "metadata": {
        "id": "pGDXni_tIinI"
      },
      "source": []
    }
  ],
  "metadata": {
    "colab": {
      "provenance": []
    },
    "kernelspec": {
      "display_name": "base",
      "language": "python",
      "name": "python3"
    },
    "language_info": {
      "codemirror_mode": {
        "name": "ipython",
        "version": 3
      },
      "file_extension": ".py",
      "mimetype": "text/x-python",
      "name": "python",
      "nbconvert_exporter": "python",
      "pygments_lexer": "ipython3",
      "version": "3.11.5"
    }
  },
  "nbformat": 4,
  "nbformat_minor": 0
}
