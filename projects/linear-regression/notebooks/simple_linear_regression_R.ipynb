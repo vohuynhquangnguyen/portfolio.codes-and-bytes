{
 "cells": [
  {
   "cell_type": "code",
   "execution_count": 1,
   "metadata": {
    "vscode": {
     "languageId": "r"
    }
   },
   "outputs": [
    {
     "name": "stderr",
     "output_type": "stream",
     "text": [
      "Warning message:\n",
      "\"package 'car' was built under R version 4.1.3\"\n",
      "Loading required package: carData\n",
      "\n",
      "Warning message:\n",
      "\"package 'carData' was built under R version 4.1.3\"\n"
     ]
    }
   ],
   "source": [
    "library(ggplot2)\n",
    "library(patchwork)\n",
    "library(car)"
   ]
  },
  {
   "cell_type": "code",
   "execution_count": 2,
   "metadata": {
    "vscode": {
     "languageId": "r"
    }
   },
   "outputs": [
    {
     "data": {
      "text/plain": [
       "\n",
       "Call:\n",
       "lm(formula = Sale_Price ~ Market_Val, data = data)\n",
       "\n",
       "Residuals:\n",
       "     Min       1Q   Median       3Q      Max \n",
       "-282.171  -24.829    1.807   29.791  188.792 \n",
       "\n",
       "Coefficients:\n",
       "            Estimate Std. Error t value Pr(>|t|)    \n",
       "(Intercept)  1.35868   13.76817   0.099    0.922    \n",
       "Market_Val   1.40827    0.03693  38.132   <2e-16 ***\n",
       "---\n",
       "Signif. codes:  0 '***' 0.001 '**' 0.01 '*' 0.05 '.' 0.1 ' ' 1\n",
       "\n",
       "Residual standard error: 68.76 on 74 degrees of freedom\n",
       "Multiple R-squared:  0.9516,\tAdjusted R-squared:  0.9509 \n",
       "F-statistic:  1454 on 1 and 74 DF,  p-value: < 2.2e-16\n"
      ]
     },
     "metadata": {},
     "output_type": "display_data"
    },
    {
     "name": "stderr",
     "output_type": "stream",
     "text": [
      "\u001b[1m\u001b[22m`geom_smooth()` using formula = 'y ~ x'\n",
      "\u001b[1m\u001b[22m`geom_smooth()` using formula = 'y ~ x'\n"
     ]
    },
    {
     "data": {
      "image/png": "[encoded data removed]",
      "text/plain": [
       "plot without title"
      ]
     },
     "metadata": {
      "image/png": {
       "height": 420,
       "width": 420
      }
     },
     "output_type": "display_data"
    }
   ],
   "source": [
    "# Load data:\n",
    "data <- read.csv(\"../dataset/TAMPALMS.csv\", header = TRUE)\n",
    "\n",
    "# Construct a simple linear regression model:\n",
    "SLR <- lm(formula = Sale_Price ~ Market_Val, data = data)\n",
    "summary(SLR)\n",
    "\n",
    "# Extract fitted values, residuals, standardized residuals:\n",
    "fitted <- fitted.values(SLR)\n",
    "res <- residuals(SLR)\n",
    "standard.res <- rstandard(SLR)\n",
    "\n",
    "# Histogram of predictor:\n",
    "hist.X <- ggplot(data, aes(x = Market_Val))\n",
    "hist.X <- hist.X + geom_histogram()\n",
    "\n",
    "# Scatter plot:\n",
    "scatter <- ggplot(data, aes(x = Market_Val, y = Sale_Price))\n",
    "scatter <- scatter + geom_point()\n",
    "scatter <- scatter + geom_smooth(method = lm, color = \"red\", se = TRUE)\n",
    "scatter <- scatter + theme(aspect.ratio = 1)\n",
    "\n",
    "# Residual-versus-fitted plot:\n",
    "res.plot <- ggplot(data = data, aes(x = fitted, y = res))\n",
    "res.plot <- res.plot + geom_point()\n",
    "res.plot <- res.plot + geom_hline(yintercept = 0, col = \"red\", linetype = \"dashed\")\n",
    "res.plot <- res.plot + stat_smooth(method = \"loess\")\n",
    "res.plot <- res.plot + labs(x = \"Fitted Values\", y = \"Residuals\")\n",
    "res.plot <- res.plot + theme(aspect.ratio = 1)\n",
    "\n",
    "\n",
    "# Normality plot for residuals:\n",
    "\n",
    "\n",
    "hist.X + hist.Y\n",
    "scatter + res.plot"
   ]
  },
  {
   "cell_type": "code",
   "execution_count": null,
   "metadata": {
    "vscode": {
     "languageId": "r"
    }
   },
   "outputs": [],
   "source": []
  }
 ],
 "metadata": {
  "kernelspec": {
   "display_name": "R",
   "language": "R",
   "name": "ir"
  },
  "language_info": {
   "codemirror_mode": "r",
   "file_extension": ".r",
   "mimetype": "text/x-r-source",
   "name": "R",
   "pygments_lexer": "r",
   "version": "4.1.0"
  }
 },
 "nbformat": 4,
 "nbformat_minor": 2
}
