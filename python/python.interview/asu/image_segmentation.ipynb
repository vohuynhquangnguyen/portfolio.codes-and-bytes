{
 "cells": [
  {
   "cell_type": "code",
   "execution_count": 1,
   "metadata": {},
   "outputs": [],
   "source": [
    "import utils\n",
    "import numpy as np \n",
    "import matplotlib.pyplot as plt\n",
    "from ipywidgets import interact\n"
   ]
  },
  {
   "cell_type": "markdown",
   "metadata": {},
   "source": [
    "## Image Preprocessing"
   ]
  },
  {
   "cell_type": "code",
   "execution_count": 2,
   "metadata": {},
   "outputs": [
    {
     "name": "stdout",
     "output_type": "stream",
     "text": [
      "(6, 1010, 984)\n"
     ]
    }
   ],
   "source": [
    "# # Set 1 - Sample 5:\n",
    "# tif, tif_path = utils.load_images_from_directory('./images/', '*.tif', (1010, 984))\n",
    "# utils.export_images_to_other_extensions(tif, tif_path, '.png')\n",
    "\n",
    "# # Set 1 - Sample 6:\n",
    "# tif, tif_path = utils.load_images_from_directory('./images/', '*.tif', (1013, 984))\n",
    "# utils.export_images_to_other_extensions(tif, tif_path, '.png')\n",
    "# png, tif_path = utils.load_images_from_directory('./images/', '*.png', (1013, 984))\n",
    "# png = utils.resize_images(png, (984, 1010))\n",
    "# utils.export_images_to_other_extensions(png, tif_path, '.png')\n",
    "\n",
    "# Dataset:\n",
    "dataset, _ = utils.load_images_from_directory('./images/', '*.png', (1010, 984))\n",
    "print(dataset.shape)\n",
    "dataset = utils.normalize_and_convert_uint8(dataset)"
   ]
  },
  {
   "cell_type": "markdown",
   "metadata": {},
   "source": [
    "## Image Segmentation"
   ]
  },
  {
   "cell_type": "code",
   "execution_count": 3,
   "metadata": {},
   "outputs": [
    {
     "data": {
      "application/vnd.jupyter.widget-view+json": {
       "model_id": "3a1c9474d59b467ca29aed0e00cb0cca",
       "version_major": 2,
       "version_minor": 0
      },
      "text/plain": [
       "interactive(children=(IntSlider(value=0, description='n', max=5), Output()), _dom_classes=('widget-interact',)…"
      ]
     },
     "metadata": {},
     "output_type": "display_data"
    }
   ],
   "source": [
    "@interact(n = (0, dataset.shape[0] - 1))\n",
    "\n",
    "def display_data(n = 0):\n",
    "    image = dataset[n]\n",
    "    image[image == 0] = 255\n",
    "    histogram = utils.compute_histogram(image)\n",
    "    contoured, equalized, blur, thresh, morph = utils.image_segmentation(image)\n",
    "    \n",
    "    print(utils.estimated_mse(image, contoured))\n",
    "\n",
    "    fig, axes = plt.subplots(2, 3, figsize = (10, 5))\n",
    "    fig.tight_layout(pad = 1.0)\n",
    "    axes[0][0].imshow(image, cmap = 'gray')\n",
    "    axes[0][0].set_title('1. Original')\n",
    "    axes[0][0].set_xticks([])\n",
    "    axes[0][0].set_yticks([])\n",
    "\n",
    "    axes[0][1].imshow(equalized, cmap = 'gray')\n",
    "    axes[0][1].set_title('2. Equalized')\n",
    "    axes[0][1].set_xticks([])\n",
    "    axes[0][1].set_yticks([])\n",
    "            \n",
    "    axes[0][2].imshow(blur, cmap = 'gray')\n",
    "    axes[0][2].set_title('3. Blurred')\n",
    "    axes[0][2].set_xticks([])\n",
    "    axes[0][2].set_yticks([])\n",
    "\n",
    "    axes[1][0].imshow(thresh, cmap = 'gray')\n",
    "    axes[1][0].set_title('4. Thresholding')\n",
    "    axes[1][0].set_xticks([])\n",
    "    axes[1][0].set_yticks([])\n",
    "\n",
    "    axes[1][1].imshow(morph, cmap = 'gray')\n",
    "    axes[1][1].set_title('5. Morphological Operation')\n",
    "    axes[1][1].set_xticks([])\n",
    "    axes[1][1].set_yticks([])\n",
    "\n",
    "    axes[1][2].imshow(contoured, cmap = 'gray')\n",
    "    axes[1][2].set_title('6. Contour Detection (Final Result)')\n",
    "    axes[1][2].set_xticks([])\n",
    "    axes[1][2].set_yticks([])\n",
    "\n",
    "    plt.show()\n",
    "\n",
    "    return None"
   ]
  },
  {
   "cell_type": "markdown",
   "metadata": {},
   "source": [
    "## Assessment"
   ]
  },
  {
   "cell_type": "raw",
   "metadata": {},
   "source": [
    "execution_time = utils.estimate_execution_time(dataset)\n",
    "print(execution_time)"
   ]
  },
  {
   "cell_type": "code",
   "execution_count": 6,
   "metadata": {},
   "outputs": [
    {
     "data": {
      "application/vnd.jupyter.widget-view+json": {
       "model_id": "05ab38ec3a2747aeb671ff90ae3bb66c",
       "version_major": 2,
       "version_minor": 0
      },
      "text/plain": [
       "interactive(children=(IntSlider(value=0, description='n', max=5), Output()), _dom_classes=('widget-interact',)…"
      ]
     },
     "metadata": {},
     "output_type": "display_data"
    }
   ],
   "source": [
    "@interact(n = (0, dataset.shape[0] - 1))\n",
    "\n",
    "def display_hmap(n = 0):\n",
    "    image = dataset[n]\n",
    "    image[image == 0] = 255\n",
    "    segmented, _ , _ , _ , _ = utils.image_segmentation(image)\n",
    "    \n",
    "    image = utils.preproccess_image(image)\n",
    "    segmented = utils.preproccess_image(segmented)\n",
    "    hmaps = utils.fmap_subtraction(image, segmented)\n",
    "\n",
    "    result = utils.fmap_reconstruction(hmaps)\n",
    "\n",
    "    fig, axes = plt.subplots(1, 2, figsize = (10, 5))\n",
    "    fig.tight_layout()\n",
    "    axes[0].imshow(image)\n",
    "    axes[0].set_xticks([])\n",
    "    axes[0].set_yticks([])\n",
    "    axes[0].set_title('Original')\n",
    "\n",
    "    axes[1].imshow(result, cmap = 'jet')\n",
    "    axes[1].set_xticks([])\n",
    "    axes[1].set_yticks([])\n",
    "    axes[1].set_title('Heatmap')\n",
    "\n",
    "    plt.show()"
   ]
  }
 ],
 "metadata": {
  "kernelspec": {
   "display_name": "Python 3.10.4 ('tensorflow_latest')",
   "language": "python",
   "name": "python3"
  },
  "language_info": {
   "codemirror_mode": {
    "name": "ipython",
    "version": 3
   },
   "file_extension": ".py",
   "mimetype": "text/x-python",
   "name": "python",
   "nbconvert_exporter": "python",
   "pygments_lexer": "ipython3",
   "version": "3.10.4"
  },
  "orig_nbformat": 4,
  "vscode": {
   "interpreter": {
    "hash": "7d1c19e37e5f6196bc516d7b965f651cc74a678b65e0e3f127f9e9132621bafc"
   }
  }
 },
 "nbformat": 4,
 "nbformat_minor": 2
}
