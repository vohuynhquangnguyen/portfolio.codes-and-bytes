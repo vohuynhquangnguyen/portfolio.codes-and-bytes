{
  "cells": [
    {
      "cell_type": "markdown",
      "metadata": {
        "id": "B4oKbqMWMpMN"
      },
      "source": [
        "# CS[45]783 HW2: Single-Layered Neural Networks\n",
        "\n",
        "In this homework assignment, you will build a simple linear model using differential modules.\n",
        "\n",
        "---"
      ]
    },
    {
      "cell_type": "markdown",
      "metadata": {
        "id": "3CLyvlysHCK9"
      },
      "source": [
        "## Starting Our Modular API\n",
        "\n",
        "### **The goal of this assignment is as follows:**\n",
        "- Organize our understanding of deep learning into a modular framework.\n",
        "- Get familiarized with a simple modular API which reflects (but is a simplification of) some of PyTorch's systems.\n",
        "- Implement some nice modular components and be able to construct a functional single-file neural network from it."
      ]
    },
    {
      "cell_type": "markdown",
      "metadata": {
        "id": "OTfm_9fmHkhE"
      },
      "source": [
        "Recall that per the chain rule, if there exists a set of differentiable functions $c(b)$ and $b(a)$, then\n",
        "\n",
        "$$\\frac{\\partial a}{\\partial c} = \\frac{\\partial a}{\\partial b} \\frac{\\partial b}{\\partial c}$$\n",
        "\n",
        "Going back to our regression model, let's assume that we have a layered process:\n",
        "\n",
        "$$x \\to h_\\theta(x) \\to \\mathcal{L}(h_\\theta)$$\n",
        "\n",
        "This implies that we can compute the partial of the trainable parameters $\\theta$ through a loss evaluation $\\mathcal{L}$ and a dense layer $h_\\theta(x)$ by the following relationship:\n",
        "\n",
        "$$\\frac{\\partial \\mathcal{L}}{\\partial \\theta} = \\frac{\\partial \\mathcal{h_\\theta}}{\\partial \\theta}\\frac{\\partial \\mathcal{L}}{\\partial h_\\theta}$$\n",
        "\n",
        "With a similar logic, you can also make the assertion that you can also get the partial with respect to the input $x$:\n",
        "\n",
        "$$\\frac{\\partial \\mathcal{L}}{\\partial x} = \\frac{\\partial h_\\theta}{\\partial x}\\frac{\\partial \\mathcal{L}}{\\partial h_\\theta}$$\n",
        "\n",
        "So... by the same token, is there anything stopping us from going further? Let's say that we decided to have another hypothesis function such that $x = h'_{\\theta'}(x')$ for some other hypothesis function and inputs? The new structure would then be:\n",
        "\n",
        "$$x' \\to \\big[ x = h'_{\\theta'}(x') \\big] \\to h_\\theta(x) \\to \\mathcal{L}(h_\\theta)$$\n",
        "\n",
        "Without the chain rule, coding in the facilities to optimize $\\theta'$ might have been tricky, but with the chain rule we know that:\n",
        "\n",
        "$$\\frac{\\partial \\mathcal{L}}{\\partial \\theta'}\n",
        "= \\frac{\\partial x}{\\partial \\theta'}\\frac{\\partial h}{\\partial x}\\frac{\\partial \\mathcal{L}}{\\partial h}\n",
        "= \\frac{\\partial x}{\\partial \\theta'}\\frac{\\partial \\mathcal{L}}{\\partial x}$$"
      ]
    },
    {
      "cell_type": "markdown",
      "metadata": {
        "id": "UUJfaOFpIJbD"
      },
      "source": [
        "Notice how this process is both predictable and scales very well! Say that we wanted to add some activation functions to restrict the range of the hypothesis functions. This trivially inserts into the chain and everything still works and will look something like this:\n",
        "\n",
        "$$ \\frac{\\partial \\mathcal{L}}{\\partial x} = \\frac{\\partial h}{\\partial x}\\frac{\\partial a}{\\partial h}\\frac{\\partial \\mathcal{L}}{\\partial a}\n",
        "\\ \\text{ and } \\ \\frac{\\partial \\mathcal{L}}{\\partial \\theta} = \\frac{\\partial h}{\\partial \\theta}\\frac{\\partial a}{\\partial h}\\frac{\\partial \\mathcal{L}}{\\partial a}\n",
        "$$"
      ]
    },
    {
      "cell_type": "markdown",
      "metadata": {
        "id": "KVyTXT5TIOsz"
      },
      "source": [
        "And with that, we start to approach the reason why this is such a powerful formulation: The cumulative nature of the process. Specifically, consider the process that needs to happen in order to compute this for the extended 2-layer example:\n",
        "\n",
        "$$\n",
        "\\begin{align}\n",
        "\\frac{\\partial a}{\\partial h}\\frac{\\partial \\mathcal{L}}{\\partial a}\n",
        "= \\frac{\\partial \\mathcal{L}}{\\partial h}\n",
        "&\\to \\cdots = \\frac{\\partial \\mathcal{L}}{\\partial x}\n",
        "&\\to \\cdots = \\frac{\\partial \\mathcal{L}}{\\partial a'}\n",
        "&\\to \\cdots = \\frac{\\partial \\mathcal{L}}{\\partial h'}\n",
        "&\\to \\cdots = \\frac{\\partial \\mathcal{L}}{\\partial x'}\n",
        "\\\\\n",
        "&\\searrow \\cdots = \\frac{\\partial \\mathcal{L}}{\\partial \\theta}\n",
        "&&&\\searrow \\cdots = \\frac{\\partial \\mathcal{L}}{\\partial \\theta'}\n",
        "% \\\\\n",
        "% &\\searrow \\cdots = \\frac{\\partial \\mathcal{L}}{\\partial \\theta}\n",
        "% \\to \\cdots = \\frac{\\partial \\mathcal{L}}{\\partial a'}\n",
        "% \\to \\cdots = \\frac{\\partial \\mathcal{L}}{\\partial h'}\n",
        "% &\n",
        "% \\to \\cdots = \\frac{\\partial \\mathcal{L}}{\\partial \\theta'}\n",
        "% \\\\\n",
        "% &&\n",
        "% \\to \\cdots = \\frac{\\partial \\mathcal{L}}{\\partial x'}\n",
        "\\end{align}\n",
        "$$\n",
        "\n",
        "... and this is the process known as **back-propagation** *(and a special case of **auto-differentiation**)*!"
      ]
    },
    {
      "cell_type": "markdown",
      "metadata": {
        "id": "fdK16iXOVgta"
      },
      "source": [
        "-----"
      ]
    },
    {
      "cell_type": "markdown",
      "metadata": {
        "id": "MhgMs3u_S1OU"
      },
      "source": [
        "## Loading In Our Data"
      ]
    },
    {
      "cell_type": "markdown",
      "metadata": {
        "id": "tV7vjVbTf9Xg"
      },
      "source": [
        "The first thing we have to do is load in our data to use our model with. We'll be working with the [diabetes dataset from the sklearn package](https://scikit-learn.org/stable/datasets/toy_dataset.html#diabetes-dataset). We've already provided the code to load in the input data and the ground truth labels (stored as `X` and `Y` respectively below).\n",
        "\n",
        "**[TODO]:** Split the samples into training and testing sets. We'll train with the train set and reserve the testing set to evaluate the model's performance on samples it hasn't seen.\n",
        "\n",
        "The diabetes dataset has 442 samples. Each sample's input data has 10 data points for some key metrics, like age and cholesterol levels. The \"label\" is a number representing disease progression one year after baseline. Thus, `X` has shape `(442, 10)`, while `Y` has shape `(442,)`.\n",
        "\n",
        "**[TODO]:** Reshape the `Y` subsets to have shape `(num_samples, 1)`."
      ]
    },
    {
      "cell_type": "code",
      "execution_count": 1,
      "metadata": {
        "colab": {
          "base_uri": "https://localhost:8080/"
        },
        "id": "gytrDuxV5gFO",
        "outputId": "45ae852c-2fc2-45b7-e536-f553236de049"
      },
      "outputs": [
        {
          "output_type": "stream",
          "name": "stdout",
          "text": [
            "> Input shape: (353, 10) for training, (89, 10) for testing\n",
            "> Label shape: (353, 1) for training, (89, 1) for testing\n"
          ]
        }
      ],
      "source": [
        "import numpy as np\n",
        "from sklearn.datasets import load_diabetes\n",
        "from sklearn.model_selection import train_test_split\n",
        "\n",
        "diabetes = load_diabetes()\n",
        "X, Y = diabetes.data, diabetes.target\n",
        "\n",
        "## TODO: Split the data into a 80%-20% training-testing split\n",
        "## TODO: Reshape the Y subsets to have shape (num_samples, 1)\n",
        "X0, X1, Y0, Y1 = train_test_split(X, Y, test_size = 0.2, random_state = 28)\n",
        "Y0 = Y0.reshape(Y0.shape[0], 1)\n",
        "Y1 = Y1.reshape(Y1.shape[0], 1)\n",
        "\n",
        "print(f\"\"\"\n",
        "> Input shape: {X0.shape} for training, {X1.shape} for testing\n",
        "> Label shape: {Y0.shape} for training, {Y1.shape} for testing\n",
        "\"\"\".strip())"
      ]
    },
    {
      "cell_type": "markdown",
      "metadata": {
        "id": "CIYU_639VgHq"
      },
      "source": [
        "## **Exploring a possible modular implementation: PyTorch**"
      ]
    },
    {
      "cell_type": "markdown",
      "metadata": {
        "id": "YHs57_36jfDL"
      },
      "source": [
        "Next, we'll want to build up a Regression model interface, from which we can implement specific regression model classes, like the LinearRegression class we'll work with later.\n",
        "\n",
        "We subclass the `nn.Module class`, which represents any module (like a layer or model) of a deep learning system."
      ]
    },
    {
      "cell_type": "code",
      "execution_count": 2,
      "metadata": {
        "id": "DG6vkwv5chPg"
      },
      "outputs": [],
      "source": [
        "import torch\n",
        "import torch.nn as nn\n",
        "\n",
        "class Regression(nn.Module):\n",
        "\n",
        "    \"\"\"\n",
        "    Initialize all the inherent \"things\" inside of a model!\n",
        "    This includes things like the layers, activation/loss functions, and optimzer.\n",
        "    \"\"\"\n",
        "    def __init__(self, input_dims, output_dims):\n",
        "        self.device = torch.device(\"cuda:0\" if torch.cuda.is_available() else \"cpu\")\n",
        "        super().__init__()\n",
        "        self.dense = nn.Linear(input_dims, output_dims).to(self.device)\n",
        "        self.activation = None  ## To be specified in subclasses\n",
        "        self.loss = None        ## To be specified in subclasses\n",
        "        self.set_learning_rate()\n",
        "\n",
        "    \"\"\"\n",
        "    Sets up the optmizer\n",
        "    \"\"\"\n",
        "    def set_learning_rate(self, learning_rate=0.001):\n",
        "        self.optimizer = torch.optim.SGD(self.parameters(), lr=learning_rate) ## Simple stochastic gradient descent (SGD) optimizer\n",
        "\n",
        "    \"\"\"\n",
        "    Forward pass of the model\n",
        "    Given an input x, how does the model process the input to get its output?\n",
        "    \"\"\"\n",
        "    def forward(self, x):\n",
        "        x = self.dense(x)\n",
        "        x = self.activation(x)\n",
        "        return x\n"
      ]
    },
    {
      "cell_type": "markdown",
      "metadata": {
        "id": "rTzEFlA0TFZB"
      },
      "source": [
        "## Adding a PyTorch Training/Evaluation Routine"
      ]
    },
    {
      "cell_type": "markdown",
      "metadata": {
        "id": "JBSK640PoDWX"
      },
      "source": [
        "Now that we have the basis for a Regression model, we need to describe how to train (`fit`) and evaluate (`evaluate`) our model, given data.\n",
        "Every epoch, we want to fit our model to the training data, and then evaluate our model on the testing data."
      ]
    },
    {
      "cell_type": "code",
      "execution_count": 3,
      "metadata": {
        "id": "aUetVEGtS9k9"
      },
      "outputs": [],
      "source": [
        "class TrainTest:\n",
        "\n",
        "    no_grad = torch.no_grad\n",
        "\n",
        "    def fit(self, data):\n",
        "        ## Training loop\n",
        "        self.train()        ## Set model into training mode\n",
        "        ## Iterate over the data batches\n",
        "        for batch, (inputs, target) in enumerate(data):\n",
        "            ## In real pytorch, you'd need to set the device\n",
        "            inputs = inputs.to(self.device)\n",
        "            target = target.to(self.device)\n",
        "            ## Erase the gradient history\n",
        "            self.optimizer.zero_grad()\n",
        "            ## Do a forward pass on the model\n",
        "            output = self(inputs)\n",
        "            ## Compute the loss\n",
        "            loss = self.loss(output, target)\n",
        "            ## Run backwards pass from the loss through the previous layers\n",
        "            ## This will accumulate gradients for the parameters that need to be optimized\n",
        "            loss.backward()\n",
        "            ## Perform a single optimization step\n",
        "            self.optimizer.step()\n",
        "        return {'loss' : loss}\n",
        "\n",
        "    def evaluate(self, data):\n",
        "        ## Set model into \"evaluate\" mode so that the parameters don't get updated\n",
        "        self.eval()\n",
        "        total_loss = 0\n",
        "        ## Cut off the tensor training scope to make sure weights aren't updated\n",
        "        ## For now, it's torch.no_grad; later, you'll use Tensor.no_grad\n",
        "        with TrainTest.no_grad():\n",
        "            for inputs, target in data:\n",
        "                ## In real pytorch, you'd need to set the device\n",
        "                inputs = inputs.to(self.device)\n",
        "                target = target.to(self.device)\n",
        "                output = self(inputs)\n",
        "                total_loss += self.loss(output, target).item()  # sum up batch loss\n",
        "\n",
        "        total_loss /= len(data)\n",
        "        return {'test_loss' : total_loss}\n",
        "\n",
        "    def train_test(self, train_data, test_data, epochs=1):\n",
        "        ## Does both training and validation on a per-epoch basis\n",
        "        all_stats = []\n",
        "        for epoch in range(epochs):\n",
        "            train_stats = self.fit(train_data)\n",
        "            test_stats = self.evaluate(test_data)\n",
        "            all_stats += [{**train_stats, **test_stats}]\n",
        "            print(f'[Epoch {epoch+1}/{epochs}]', all_stats[-1])\n",
        "        return all_stats"
      ]
    },
    {
      "cell_type": "markdown",
      "metadata": {
        "id": "YDNhzYnUTNMa"
      },
      "source": [
        "## Making Linear Regression with Train/Test Capabilities"
      ]
    },
    {
      "cell_type": "markdown",
      "metadata": {
        "id": "njv7q2UTTgQE"
      },
      "source": [
        "Next, we implement the `LinearRegression` class, which subclasses both `Regression` and `TrainTest` to inherit useful methods.\n",
        "\n",
        "Consider a dense layer represented by $Y = XA + B$ where:\n",
        "- $X$ has shape `(n,input_dims)`\n",
        "- $A$ has shape `(input_dims,output_dims)`\n",
        "- $B$ has shape `(n,)`\n",
        "- $Y$ has shape `(n, output_dims)`.\n",
        "\n",
        "Let each row of $X, B, Y$ (or the 0$^\\text{th}$ dimension) represent a different sample. Disregarding bias, note how any given row in $Y$ is a set of linear combinations of the same row in $X$. In other words, a Dense Layer is high-dimensional Linear Regression.\n",
        "\n",
        "Once you've built up your model, try training and testing it in the code block below!"
      ]
    },
    {
      "cell_type": "code",
      "execution_count": 4,
      "metadata": {
        "id": "gYU8NKSdTc4W"
      },
      "outputs": [],
      "source": [
        "class LinearRegression(Regression, TrainTest):\n",
        "    def __init__(self, input_dims, output_dims):\n",
        "        super().__init__(input_dims, output_dims)\n",
        "        self.activation = nn.Identity()\n",
        "        self.loss = nn.MSELoss()"
      ]
    },
    {
      "cell_type": "code",
      "execution_count": 5,
      "metadata": {
        "colab": {
          "base_uri": "https://localhost:8080/"
        },
        "id": "FBUaTs3N_hmn",
        "outputId": "aa6ef487-a442-4fc9-f4db-4abe20fe55bd"
      },
      "outputs": [
        {
          "output_type": "stream",
          "name": "stdout",
          "text": [
            "[Epoch 1/200] {'loss': tensor(29512.2266, grad_fn=<MseLossBackward0>), 'test_loss': 8753.458984375}\n",
            "[Epoch 2/200] {'loss': tensor(9653.0430, grad_fn=<MseLossBackward0>), 'test_loss': 6187.54931640625}\n",
            "[Epoch 3/200] {'loss': tensor(6455.6602, grad_fn=<MseLossBackward0>), 'test_loss': 5909.04931640625}\n",
            "[Epoch 4/200] {'loss': tensor(5924.2236, grad_fn=<MseLossBackward0>), 'test_loss': 5906.3828125}\n",
            "[Epoch 5/200] {'loss': tensor(5819.5107, grad_fn=<MseLossBackward0>), 'test_loss': 5912.00146484375}\n",
            "[Epoch 6/200] {'loss': tensor(5783.2612, grad_fn=<MseLossBackward0>), 'test_loss': 5904.75439453125}\n",
            "[Epoch 7/200] {'loss': tensor(5758.1567, grad_fn=<MseLossBackward0>), 'test_loss': 5889.890625}\n",
            "[Epoch 8/200] {'loss': tensor(5735.0220, grad_fn=<MseLossBackward0>), 'test_loss': 5871.6943359375}\n",
            "[Epoch 9/200] {'loss': tensor(5712.3896, grad_fn=<MseLossBackward0>), 'test_loss': 5852.224609375}\n",
            "[Epoch 10/200] {'loss': tensor(5690.0215, grad_fn=<MseLossBackward0>), 'test_loss': 5832.35546875}\n",
            "[Epoch 11/200] {'loss': tensor(5667.8774, grad_fn=<MseLossBackward0>), 'test_loss': 5812.44580078125}\n",
            "[Epoch 12/200] {'loss': tensor(5645.9497, grad_fn=<MseLossBackward0>), 'test_loss': 5792.63671875}\n",
            "[Epoch 13/200] {'loss': tensor(5624.2339, grad_fn=<MseLossBackward0>), 'test_loss': 5772.984375}\n",
            "[Epoch 14/200] {'loss': tensor(5602.7285, grad_fn=<MseLossBackward0>), 'test_loss': 5753.5107421875}\n",
            "[Epoch 15/200] {'loss': tensor(5581.4321, grad_fn=<MseLossBackward0>), 'test_loss': 5734.22119140625}\n",
            "[Epoch 16/200] {'loss': tensor(5560.3408, grad_fn=<MseLossBackward0>), 'test_loss': 5715.11865234375}\n",
            "[Epoch 17/200] {'loss': tensor(5539.4531, grad_fn=<MseLossBackward0>), 'test_loss': 5696.2021484375}\n",
            "[Epoch 18/200] {'loss': tensor(5518.7676, grad_fn=<MseLossBackward0>), 'test_loss': 5677.470703125}\n",
            "[Epoch 19/200] {'loss': tensor(5498.2812, grad_fn=<MseLossBackward0>), 'test_loss': 5658.921875}\n",
            "[Epoch 20/200] {'loss': tensor(5477.9922, grad_fn=<MseLossBackward0>), 'test_loss': 5640.55419921875}\n",
            "[Epoch 21/200] {'loss': tensor(5457.8975, grad_fn=<MseLossBackward0>), 'test_loss': 5622.36669921875}\n",
            "[Epoch 22/200] {'loss': tensor(5437.9971, grad_fn=<MseLossBackward0>), 'test_loss': 5604.35546875}\n",
            "[Epoch 23/200] {'loss': tensor(5418.2876, grad_fn=<MseLossBackward0>), 'test_loss': 5586.5205078125}\n",
            "[Epoch 24/200] {'loss': tensor(5398.7666, grad_fn=<MseLossBackward0>), 'test_loss': 5568.859375}\n",
            "[Epoch 25/200] {'loss': tensor(5379.4326, grad_fn=<MseLossBackward0>), 'test_loss': 5551.37060546875}\n",
            "[Epoch 26/200] {'loss': tensor(5360.2842, grad_fn=<MseLossBackward0>), 'test_loss': 5534.05126953125}\n",
            "[Epoch 27/200] {'loss': tensor(5341.3188, grad_fn=<MseLossBackward0>), 'test_loss': 5516.8994140625}\n",
            "[Epoch 28/200] {'loss': tensor(5322.5342, grad_fn=<MseLossBackward0>), 'test_loss': 5499.9150390625}\n",
            "[Epoch 29/200] {'loss': tensor(5303.9287, grad_fn=<MseLossBackward0>), 'test_loss': 5483.0947265625}\n",
            "[Epoch 30/200] {'loss': tensor(5285.5005, grad_fn=<MseLossBackward0>), 'test_loss': 5466.43798828125}\n",
            "[Epoch 31/200] {'loss': tensor(5267.2490, grad_fn=<MseLossBackward0>), 'test_loss': 5449.9423828125}\n",
            "[Epoch 32/200] {'loss': tensor(5249.1699, grad_fn=<MseLossBackward0>), 'test_loss': 5433.60693359375}\n",
            "[Epoch 33/200] {'loss': tensor(5231.2637, grad_fn=<MseLossBackward0>), 'test_loss': 5417.42822265625}\n",
            "[Epoch 34/200] {'loss': tensor(5213.5264, grad_fn=<MseLossBackward0>), 'test_loss': 5401.40673828125}\n",
            "[Epoch 35/200] {'loss': tensor(5195.9575, grad_fn=<MseLossBackward0>), 'test_loss': 5385.53955078125}\n",
            "[Epoch 36/200] {'loss': tensor(5178.5552, grad_fn=<MseLossBackward0>), 'test_loss': 5369.82470703125}\n",
            "[Epoch 37/200] {'loss': tensor(5161.3179, grad_fn=<MseLossBackward0>), 'test_loss': 5354.26171875}\n",
            "[Epoch 38/200] {'loss': tensor(5144.2427, grad_fn=<MseLossBackward0>), 'test_loss': 5338.84814453125}\n",
            "[Epoch 39/200] {'loss': tensor(5127.3291, grad_fn=<MseLossBackward0>), 'test_loss': 5323.5830078125}\n",
            "[Epoch 40/200] {'loss': tensor(5110.5752, grad_fn=<MseLossBackward0>), 'test_loss': 5308.46484375}\n",
            "[Epoch 41/200] {'loss': tensor(5093.9785, grad_fn=<MseLossBackward0>), 'test_loss': 5293.49072265625}\n",
            "[Epoch 42/200] {'loss': tensor(5077.5386, grad_fn=<MseLossBackward0>), 'test_loss': 5278.6611328125}\n",
            "[Epoch 43/200] {'loss': tensor(5061.2534, grad_fn=<MseLossBackward0>), 'test_loss': 5263.97314453125}\n",
            "[Epoch 44/200] {'loss': tensor(5045.1206, grad_fn=<MseLossBackward0>), 'test_loss': 5249.42578125}\n",
            "[Epoch 45/200] {'loss': tensor(5029.1387, grad_fn=<MseLossBackward0>), 'test_loss': 5235.01806640625}\n",
            "[Epoch 46/200] {'loss': tensor(5013.3071, grad_fn=<MseLossBackward0>), 'test_loss': 5220.74658203125}\n",
            "[Epoch 47/200] {'loss': tensor(4997.6235, grad_fn=<MseLossBackward0>), 'test_loss': 5206.61279296875}\n",
            "[Epoch 48/200] {'loss': tensor(4982.0859, grad_fn=<MseLossBackward0>), 'test_loss': 5192.6123046875}\n",
            "[Epoch 49/200] {'loss': tensor(4966.6943, grad_fn=<MseLossBackward0>), 'test_loss': 5178.74609375}\n",
            "[Epoch 50/200] {'loss': tensor(4951.4453, grad_fn=<MseLossBackward0>), 'test_loss': 5165.01171875}\n",
            "[Epoch 51/200] {'loss': tensor(4936.3398, grad_fn=<MseLossBackward0>), 'test_loss': 5151.4072265625}\n",
            "[Epoch 52/200] {'loss': tensor(4921.3730, grad_fn=<MseLossBackward0>), 'test_loss': 5137.93310546875}\n",
            "[Epoch 53/200] {'loss': tensor(4906.5464, grad_fn=<MseLossBackward0>), 'test_loss': 5124.5859375}\n",
            "[Epoch 54/200] {'loss': tensor(4891.8569, grad_fn=<MseLossBackward0>), 'test_loss': 5111.365234375}\n",
            "[Epoch 55/200] {'loss': tensor(4877.3032, grad_fn=<MseLossBackward0>), 'test_loss': 5098.26953125}\n",
            "[Epoch 56/200] {'loss': tensor(4862.8848, grad_fn=<MseLossBackward0>), 'test_loss': 5085.29833984375}\n",
            "[Epoch 57/200] {'loss': tensor(4848.6001, grad_fn=<MseLossBackward0>), 'test_loss': 5072.44921875}\n",
            "[Epoch 58/200] {'loss': tensor(4834.4458, grad_fn=<MseLossBackward0>), 'test_loss': 5059.72119140625}\n",
            "[Epoch 59/200] {'loss': tensor(4820.4233, grad_fn=<MseLossBackward0>), 'test_loss': 5047.11376953125}\n",
            "[Epoch 60/200] {'loss': tensor(4806.5298, grad_fn=<MseLossBackward0>), 'test_loss': 5034.625}\n",
            "[Epoch 61/200] {'loss': tensor(4792.7637, grad_fn=<MseLossBackward0>), 'test_loss': 5022.2529296875}\n",
            "[Epoch 62/200] {'loss': tensor(4779.1245, grad_fn=<MseLossBackward0>), 'test_loss': 5009.998046875}\n",
            "[Epoch 63/200] {'loss': tensor(4765.6099, grad_fn=<MseLossBackward0>), 'test_loss': 4997.8583984375}\n",
            "[Epoch 64/200] {'loss': tensor(4752.2197, grad_fn=<MseLossBackward0>), 'test_loss': 4985.83203125}\n",
            "[Epoch 65/200] {'loss': tensor(4738.9517, grad_fn=<MseLossBackward0>), 'test_loss': 4973.91845703125}\n",
            "[Epoch 66/200] {'loss': tensor(4725.8052, grad_fn=<MseLossBackward0>), 'test_loss': 4962.1162109375}\n",
            "[Epoch 67/200] {'loss': tensor(4712.7788, grad_fn=<MseLossBackward0>), 'test_loss': 4950.4248046875}\n",
            "[Epoch 68/200] {'loss': tensor(4699.8711, grad_fn=<MseLossBackward0>), 'test_loss': 4938.84228515625}\n",
            "[Epoch 69/200] {'loss': tensor(4687.0806, grad_fn=<MseLossBackward0>), 'test_loss': 4927.3681640625}\n",
            "[Epoch 70/200] {'loss': tensor(4674.4067, grad_fn=<MseLossBackward0>), 'test_loss': 4916.00048828125}\n",
            "[Epoch 71/200] {'loss': tensor(4661.8481, grad_fn=<MseLossBackward0>), 'test_loss': 4904.7392578125}\n",
            "[Epoch 72/200] {'loss': tensor(4649.4028, grad_fn=<MseLossBackward0>), 'test_loss': 4893.58203125}\n",
            "[Epoch 73/200] {'loss': tensor(4637.0703, grad_fn=<MseLossBackward0>), 'test_loss': 4882.52880859375}\n",
            "[Epoch 74/200] {'loss': tensor(4624.8501, grad_fn=<MseLossBackward0>), 'test_loss': 4871.578125}\n",
            "[Epoch 75/200] {'loss': tensor(4612.7402, grad_fn=<MseLossBackward0>), 'test_loss': 4860.728515625}\n",
            "[Epoch 76/200] {'loss': tensor(4600.7393, grad_fn=<MseLossBackward0>), 'test_loss': 4849.98046875}\n",
            "[Epoch 77/200] {'loss': tensor(4588.8462, grad_fn=<MseLossBackward0>), 'test_loss': 4839.3310546875}\n",
            "[Epoch 78/200] {'loss': tensor(4577.0601, grad_fn=<MseLossBackward0>), 'test_loss': 4828.77978515625}\n",
            "[Epoch 79/200] {'loss': tensor(4565.3804, grad_fn=<MseLossBackward0>), 'test_loss': 4818.326171875}\n",
            "[Epoch 80/200] {'loss': tensor(4553.8047, grad_fn=<MseLossBackward0>), 'test_loss': 4807.96923828125}\n",
            "[Epoch 81/200] {'loss': tensor(4542.3330, grad_fn=<MseLossBackward0>), 'test_loss': 4797.70703125}\n",
            "[Epoch 82/200] {'loss': tensor(4530.9639, grad_fn=<MseLossBackward0>), 'test_loss': 4787.53955078125}\n",
            "[Epoch 83/200] {'loss': tensor(4519.6968, grad_fn=<MseLossBackward0>), 'test_loss': 4777.46533203125}\n",
            "[Epoch 84/200] {'loss': tensor(4508.5298, grad_fn=<MseLossBackward0>), 'test_loss': 4767.48388671875}\n",
            "[Epoch 85/200] {'loss': tensor(4497.4624, grad_fn=<MseLossBackward0>), 'test_loss': 4757.59326171875}\n",
            "[Epoch 86/200] {'loss': tensor(4486.4937, grad_fn=<MseLossBackward0>), 'test_loss': 4747.7939453125}\n",
            "[Epoch 87/200] {'loss': tensor(4475.6221, grad_fn=<MseLossBackward0>), 'test_loss': 4738.08349609375}\n",
            "[Epoch 88/200] {'loss': tensor(4464.8472, grad_fn=<MseLossBackward0>), 'test_loss': 4728.4619140625}\n",
            "[Epoch 89/200] {'loss': tensor(4454.1675, grad_fn=<MseLossBackward0>), 'test_loss': 4718.9287109375}\n",
            "[Epoch 90/200] {'loss': tensor(4443.5820, grad_fn=<MseLossBackward0>), 'test_loss': 4709.4814453125}\n",
            "[Epoch 91/200] {'loss': tensor(4433.0908, grad_fn=<MseLossBackward0>), 'test_loss': 4700.1201171875}\n",
            "[Epoch 92/200] {'loss': tensor(4422.6914, grad_fn=<MseLossBackward0>), 'test_loss': 4690.84423828125}\n",
            "[Epoch 93/200] {'loss': tensor(4412.3843, grad_fn=<MseLossBackward0>), 'test_loss': 4681.65283203125}\n",
            "[Epoch 94/200] {'loss': tensor(4402.1670, grad_fn=<MseLossBackward0>), 'test_loss': 4672.544921875}\n",
            "[Epoch 95/200] {'loss': tensor(4392.0400, grad_fn=<MseLossBackward0>), 'test_loss': 4663.51806640625}\n",
            "[Epoch 96/200] {'loss': tensor(4382.0015, grad_fn=<MseLossBackward0>), 'test_loss': 4654.57373046875}\n",
            "[Epoch 97/200] {'loss': tensor(4372.0508, grad_fn=<MseLossBackward0>), 'test_loss': 4645.71044921875}\n",
            "[Epoch 98/200] {'loss': tensor(4362.1870, grad_fn=<MseLossBackward0>), 'test_loss': 4636.92724609375}\n",
            "[Epoch 99/200] {'loss': tensor(4352.4092, grad_fn=<MseLossBackward0>), 'test_loss': 4628.22265625}\n",
            "[Epoch 100/200] {'loss': tensor(4342.7173, grad_fn=<MseLossBackward0>), 'test_loss': 4619.5966796875}\n",
            "[Epoch 101/200] {'loss': tensor(4333.1099, grad_fn=<MseLossBackward0>), 'test_loss': 4611.04833984375}\n",
            "[Epoch 102/200] {'loss': tensor(4323.5845, grad_fn=<MseLossBackward0>), 'test_loss': 4602.57568359375}\n",
            "[Epoch 103/200] {'loss': tensor(4314.1426, grad_fn=<MseLossBackward0>), 'test_loss': 4594.1796875}\n",
            "[Epoch 104/200] {'loss': tensor(4304.7817, grad_fn=<MseLossBackward0>), 'test_loss': 4585.859375}\n",
            "[Epoch 105/200] {'loss': tensor(4295.5029, grad_fn=<MseLossBackward0>), 'test_loss': 4577.61328125}\n",
            "[Epoch 106/200] {'loss': tensor(4286.3037, grad_fn=<MseLossBackward0>), 'test_loss': 4569.439453125}\n",
            "[Epoch 107/200] {'loss': tensor(4277.1836, grad_fn=<MseLossBackward0>), 'test_loss': 4561.34033203125}\n",
            "[Epoch 108/200] {'loss': tensor(4268.1421, grad_fn=<MseLossBackward0>), 'test_loss': 4553.31201171875}\n",
            "[Epoch 109/200] {'loss': tensor(4259.1787, grad_fn=<MseLossBackward0>), 'test_loss': 4545.35546875}\n",
            "[Epoch 110/200] {'loss': tensor(4250.2920, grad_fn=<MseLossBackward0>), 'test_loss': 4537.4697265625}\n",
            "[Epoch 111/200] {'loss': tensor(4241.4805, grad_fn=<MseLossBackward0>), 'test_loss': 4529.654296875}\n",
            "[Epoch 112/200] {'loss': tensor(4232.7456, grad_fn=<MseLossBackward0>), 'test_loss': 4521.908203125}\n",
            "[Epoch 113/200] {'loss': tensor(4224.0840, grad_fn=<MseLossBackward0>), 'test_loss': 4514.2294921875}\n",
            "[Epoch 114/200] {'loss': tensor(4215.4966, grad_fn=<MseLossBackward0>), 'test_loss': 4506.619140625}\n",
            "[Epoch 115/200] {'loss': tensor(4206.9829, grad_fn=<MseLossBackward0>), 'test_loss': 4499.076171875}\n",
            "[Epoch 116/200] {'loss': tensor(4198.5405, grad_fn=<MseLossBackward0>), 'test_loss': 4491.599609375}\n",
            "[Epoch 117/200] {'loss': tensor(4190.1709, grad_fn=<MseLossBackward0>), 'test_loss': 4484.1884765625}\n",
            "[Epoch 118/200] {'loss': tensor(4181.8716, grad_fn=<MseLossBackward0>), 'test_loss': 4476.8427734375}\n",
            "[Epoch 119/200] {'loss': tensor(4173.6426, grad_fn=<MseLossBackward0>), 'test_loss': 4469.56103515625}\n",
            "[Epoch 120/200] {'loss': tensor(4165.4819, grad_fn=<MseLossBackward0>), 'test_loss': 4462.34326171875}\n",
            "[Epoch 121/200] {'loss': tensor(4157.3911, grad_fn=<MseLossBackward0>), 'test_loss': 4455.189453125}\n",
            "[Epoch 122/200] {'loss': tensor(4149.3677, grad_fn=<MseLossBackward0>), 'test_loss': 4448.09765625}\n",
            "[Epoch 123/200] {'loss': tensor(4141.4126, grad_fn=<MseLossBackward0>), 'test_loss': 4441.0673828125}\n",
            "[Epoch 124/200] {'loss': tensor(4133.5234, grad_fn=<MseLossBackward0>), 'test_loss': 4434.0986328125}\n",
            "[Epoch 125/200] {'loss': tensor(4125.7002, grad_fn=<MseLossBackward0>), 'test_loss': 4427.1904296875}\n",
            "[Epoch 126/200] {'loss': tensor(4117.9419, grad_fn=<MseLossBackward0>), 'test_loss': 4420.34228515625}\n",
            "[Epoch 127/200] {'loss': tensor(4110.2495, grad_fn=<MseLossBackward0>), 'test_loss': 4413.5537109375}\n",
            "[Epoch 128/200] {'loss': tensor(4102.6201, grad_fn=<MseLossBackward0>), 'test_loss': 4406.82373046875}\n",
            "[Epoch 129/200] {'loss': tensor(4095.0544, grad_fn=<MseLossBackward0>), 'test_loss': 4400.15185546875}\n",
            "[Epoch 130/200] {'loss': tensor(4087.5518, grad_fn=<MseLossBackward0>), 'test_loss': 4393.5380859375}\n",
            "[Epoch 131/200] {'loss': tensor(4080.1106, grad_fn=<MseLossBackward0>), 'test_loss': 4386.98046875}\n",
            "[Epoch 132/200] {'loss': tensor(4072.7312, grad_fn=<MseLossBackward0>), 'test_loss': 4380.48046875}\n",
            "[Epoch 133/200] {'loss': tensor(4065.4128, grad_fn=<MseLossBackward0>), 'test_loss': 4374.03564453125}\n",
            "[Epoch 134/200] {'loss': tensor(4058.1543, grad_fn=<MseLossBackward0>), 'test_loss': 4367.64599609375}\n",
            "[Epoch 135/200] {'loss': tensor(4050.9558, grad_fn=<MseLossBackward0>), 'test_loss': 4361.31201171875}\n",
            "[Epoch 136/200] {'loss': tensor(4043.8167, grad_fn=<MseLossBackward0>), 'test_loss': 4355.03125}\n",
            "[Epoch 137/200] {'loss': tensor(4036.7351, grad_fn=<MseLossBackward0>), 'test_loss': 4348.8046875}\n",
            "[Epoch 138/200] {'loss': tensor(4029.7117, grad_fn=<MseLossBackward0>), 'test_loss': 4342.630859375}\n",
            "[Epoch 139/200] {'loss': tensor(4022.7461, grad_fn=<MseLossBackward0>), 'test_loss': 4336.51025390625}\n",
            "[Epoch 140/200] {'loss': tensor(4015.8364, grad_fn=<MseLossBackward0>), 'test_loss': 4330.44091796875}\n",
            "[Epoch 141/200] {'loss': tensor(4008.9836, grad_fn=<MseLossBackward0>), 'test_loss': 4324.42431640625}\n",
            "[Epoch 142/200] {'loss': tensor(4002.1863, grad_fn=<MseLossBackward0>), 'test_loss': 4318.4580078125}\n",
            "[Epoch 143/200] {'loss': tensor(3995.4441, grad_fn=<MseLossBackward0>), 'test_loss': 4312.5419921875}\n",
            "[Epoch 144/200] {'loss': tensor(3988.7556, grad_fn=<MseLossBackward0>), 'test_loss': 4306.67626953125}\n",
            "[Epoch 145/200] {'loss': tensor(3982.1213, grad_fn=<MseLossBackward0>), 'test_loss': 4300.86083984375}\n",
            "[Epoch 146/200] {'loss': tensor(3975.5410, grad_fn=<MseLossBackward0>), 'test_loss': 4295.09326171875}\n",
            "[Epoch 147/200] {'loss': tensor(3969.0132, grad_fn=<MseLossBackward0>), 'test_loss': 4289.375}\n",
            "[Epoch 148/200] {'loss': tensor(3962.5383, grad_fn=<MseLossBackward0>), 'test_loss': 4283.70458984375}\n",
            "[Epoch 149/200] {'loss': tensor(3956.1147, grad_fn=<MseLossBackward0>), 'test_loss': 4278.08154296875}\n",
            "[Epoch 150/200] {'loss': tensor(3949.7427, grad_fn=<MseLossBackward0>), 'test_loss': 4272.505859375}\n",
            "[Epoch 151/200] {'loss': tensor(3943.4214, grad_fn=<MseLossBackward0>), 'test_loss': 4266.97705078125}\n",
            "[Epoch 152/200] {'loss': tensor(3937.1504, grad_fn=<MseLossBackward0>), 'test_loss': 4261.49365234375}\n",
            "[Epoch 153/200] {'loss': tensor(3930.9292, grad_fn=<MseLossBackward0>), 'test_loss': 4256.056640625}\n",
            "[Epoch 154/200] {'loss': tensor(3924.7573, grad_fn=<MseLossBackward0>), 'test_loss': 4250.66455078125}\n",
            "[Epoch 155/200] {'loss': tensor(3918.6350, grad_fn=<MseLossBackward0>), 'test_loss': 4245.31689453125}\n",
            "[Epoch 156/200] {'loss': tensor(3912.5598, grad_fn=<MseLossBackward0>), 'test_loss': 4240.0146484375}\n",
            "[Epoch 157/200] {'loss': tensor(3906.5332, grad_fn=<MseLossBackward0>), 'test_loss': 4234.755859375}\n",
            "[Epoch 158/200] {'loss': tensor(3900.5537, grad_fn=<MseLossBackward0>), 'test_loss': 4229.54052734375}\n",
            "[Epoch 159/200] {'loss': tensor(3894.6213, grad_fn=<MseLossBackward0>), 'test_loss': 4224.3681640625}\n",
            "[Epoch 160/200] {'loss': tensor(3888.7358, grad_fn=<MseLossBackward0>), 'test_loss': 4219.23828125}\n",
            "[Epoch 161/200] {'loss': tensor(3882.8960, grad_fn=<MseLossBackward0>), 'test_loss': 4214.150390625}\n",
            "[Epoch 162/200] {'loss': tensor(3877.1013, grad_fn=<MseLossBackward0>), 'test_loss': 4209.10498046875}\n",
            "[Epoch 163/200] {'loss': tensor(3871.3523, grad_fn=<MseLossBackward0>), 'test_loss': 4204.1005859375}\n",
            "[Epoch 164/200] {'loss': tensor(3865.6479, grad_fn=<MseLossBackward0>), 'test_loss': 4199.1376953125}\n",
            "[Epoch 165/200] {'loss': tensor(3859.9880, grad_fn=<MseLossBackward0>), 'test_loss': 4194.21484375}\n",
            "[Epoch 166/200] {'loss': tensor(3854.3713, grad_fn=<MseLossBackward0>), 'test_loss': 4189.3330078125}\n",
            "[Epoch 167/200] {'loss': tensor(3848.7988, grad_fn=<MseLossBackward0>), 'test_loss': 4184.490234375}\n",
            "[Epoch 168/200] {'loss': tensor(3843.2688, grad_fn=<MseLossBackward0>), 'test_loss': 4179.68701171875}\n",
            "[Epoch 169/200] {'loss': tensor(3837.7815, grad_fn=<MseLossBackward0>), 'test_loss': 4174.921875}\n",
            "[Epoch 170/200] {'loss': tensor(3832.3364, grad_fn=<MseLossBackward0>), 'test_loss': 4170.19677734375}\n",
            "[Epoch 171/200] {'loss': tensor(3826.9324, grad_fn=<MseLossBackward0>), 'test_loss': 4165.5087890625}\n",
            "[Epoch 172/200] {'loss': tensor(3821.5706, grad_fn=<MseLossBackward0>), 'test_loss': 4160.859375}\n",
            "[Epoch 173/200] {'loss': tensor(3816.2493, grad_fn=<MseLossBackward0>), 'test_loss': 4156.2470703125}\n",
            "[Epoch 174/200] {'loss': tensor(3810.9685, grad_fn=<MseLossBackward0>), 'test_loss': 4151.671875}\n",
            "[Epoch 175/200] {'loss': tensor(3805.7280, grad_fn=<MseLossBackward0>), 'test_loss': 4147.13427734375}\n",
            "[Epoch 176/200] {'loss': tensor(3800.5269, grad_fn=<MseLossBackward0>), 'test_loss': 4142.6318359375}\n",
            "[Epoch 177/200] {'loss': tensor(3795.3657, grad_fn=<MseLossBackward0>), 'test_loss': 4138.16650390625}\n",
            "[Epoch 178/200] {'loss': tensor(3790.2432, grad_fn=<MseLossBackward0>), 'test_loss': 4133.73583984375}\n",
            "[Epoch 179/200] {'loss': tensor(3785.1594, grad_fn=<MseLossBackward0>), 'test_loss': 4129.341796875}\n",
            "[Epoch 180/200] {'loss': tensor(3780.1133, grad_fn=<MseLossBackward0>), 'test_loss': 4124.98193359375}\n",
            "[Epoch 181/200] {'loss': tensor(3775.1055, grad_fn=<MseLossBackward0>), 'test_loss': 4120.65673828125}\n",
            "[Epoch 182/200] {'loss': tensor(3770.1353, grad_fn=<MseLossBackward0>), 'test_loss': 4116.3662109375}\n",
            "[Epoch 183/200] {'loss': tensor(3765.2021, grad_fn=<MseLossBackward0>), 'test_loss': 4112.109375}\n",
            "[Epoch 184/200] {'loss': tensor(3760.3059, grad_fn=<MseLossBackward0>), 'test_loss': 4107.88671875}\n",
            "[Epoch 185/200] {'loss': tensor(3755.4463, grad_fn=<MseLossBackward0>), 'test_loss': 4103.69677734375}\n",
            "[Epoch 186/200] {'loss': tensor(3750.6221, grad_fn=<MseLossBackward0>), 'test_loss': 4099.53955078125}\n",
            "[Epoch 187/200] {'loss': tensor(3745.8335, grad_fn=<MseLossBackward0>), 'test_loss': 4095.41650390625}\n",
            "[Epoch 188/200] {'loss': tensor(3741.0811, grad_fn=<MseLossBackward0>), 'test_loss': 4091.32470703125}\n",
            "[Epoch 189/200] {'loss': tensor(3736.3633, grad_fn=<MseLossBackward0>), 'test_loss': 4087.26513671875}\n",
            "[Epoch 190/200] {'loss': tensor(3731.6809, grad_fn=<MseLossBackward0>), 'test_loss': 4083.2373046875}\n",
            "[Epoch 191/200] {'loss': tensor(3727.0320, grad_fn=<MseLossBackward0>), 'test_loss': 4079.240478515625}\n",
            "[Epoch 192/200] {'loss': tensor(3722.4175, grad_fn=<MseLossBackward0>), 'test_loss': 4075.27587890625}\n",
            "[Epoch 193/200] {'loss': tensor(3717.8367, grad_fn=<MseLossBackward0>), 'test_loss': 4071.341552734375}\n",
            "[Epoch 194/200] {'loss': tensor(3713.2891, grad_fn=<MseLossBackward0>), 'test_loss': 4067.438232421875}\n",
            "[Epoch 195/200] {'loss': tensor(3708.7749, grad_fn=<MseLossBackward0>), 'test_loss': 4063.564208984375}\n",
            "[Epoch 196/200] {'loss': tensor(3704.2932, grad_fn=<MseLossBackward0>), 'test_loss': 4059.720947265625}\n",
            "[Epoch 197/200] {'loss': tensor(3699.8445, grad_fn=<MseLossBackward0>), 'test_loss': 4055.90771484375}\n",
            "[Epoch 198/200] {'loss': tensor(3695.4275, grad_fn=<MseLossBackward0>), 'test_loss': 4052.123291015625}\n",
            "[Epoch 199/200] {'loss': tensor(3691.0425, grad_fn=<MseLossBackward0>), 'test_loss': 4048.3671875}\n",
            "[Epoch 200/200] {'loss': tensor(3686.6892, grad_fn=<MseLossBackward0>), 'test_loss': 4044.640869140625}\n"
          ]
        }
      ],
      "source": [
        "torch_model = LinearRegression(X0.shape[-1], 1)\n",
        "torch_model.set_learning_rate(0.3)\n",
        "torch_model.train_test(\n",
        "    [[torch.Tensor(X0), torch.Tensor(Y0)]],\n",
        "    [[torch.Tensor(X1), torch.Tensor(Y1)]],\n",
        "    epochs=200\n",
        ");"
      ]
    },
    {
      "cell_type": "markdown",
      "metadata": {
        "id": "H63TERfyvZtS"
      },
      "source": [
        "## Shapes That Might Be Useful..."
      ]
    },
    {
      "cell_type": "markdown",
      "metadata": {
        "id": "LtwbP5tRbJky"
      },
      "source": [
        "Throughout the duration of this course, you might find it really helpful to check the shapes of each of your different tensors and outputs just to verify that everything is working as intended. Check the block below to see an example!"
      ]
    },
    {
      "cell_type": "code",
      "execution_count": 6,
      "metadata": {
        "colab": {
          "base_uri": "https://localhost:8080/"
        },
        "id": "MBkTktWcD9dz",
        "outputId": "8f3f6b6d-ad59-426f-834c-7d6983389f96"
      },
      "outputs": [
        {
          "output_type": "stream",
          "name": "stdout",
          "text": [
            "> Prediction Shape: torch.Size([353, 1])\n",
            "> Weights    Shape: torch.Size([1, 10])\n",
            "> Bias       Shape: torch.Size([1])\n",
            "> Loss       Shape: torch.Size([])\n"
          ]
        }
      ],
      "source": [
        "y_true = torch.Tensor(Y0)\n",
        "y_pred = torch_model(torch.Tensor(X0))\n",
        "loss = torch_model.loss(y_true, y_pred)\n",
        "\n",
        "print(f\"\"\"\n",
        "> Prediction Shape: {y_pred.shape}\n",
        "> Weights    Shape: {list(torch_model.parameters())[0].shape}\n",
        "> Bias       Shape: {list(torch_model.parameters())[1].shape}\n",
        "> Loss       Shape: {loss.shape}\n",
        "\"\"\".strip())"
      ]
    },
    {
      "cell_type": "markdown",
      "metadata": {
        "id": "cu1pLK46fFqX"
      },
      "source": [
        "Next, let's start building up all the different parts of the basic PyTorch tools that we used in order to see what's under the hood."
      ]
    },
    {
      "cell_type": "markdown",
      "metadata": {
        "id": "0ZfozqWdLB2V"
      },
      "source": [
        "## PyTorch Complexity Assumptions"
      ]
    },
    {
      "cell_type": "markdown",
      "metadata": {
        "id": "oVv6iQios7-D"
      },
      "source": [
        "### Tensors\n",
        "- Tensors are responsible for maintaining their own gradients\n",
        "- Tensors hold on to `backward` functions to which they can pass a gradient into. These backwards functions are provided by the layers associated with those tensors.\n",
        "    - If a tensor is a terminal node, it will pass in an upstream gradient of `None`.\n",
        "    - If a tensor is a non-terminal node, it will pass the accumulated upstream gradient.\n",
        "    - `backward` functions as a linked list algorithm and crawls back the chain, computing the gradient for every tensor that it hits (as long as they require a gradient).\n",
        "- Since the tensors hold their own gradients, the optimizer can merely take the tensors' values, take their gradients, and then just optimize them.\n",
        "- However, because tensors are always keeping track of their gradients when `requires_grad` is set to `True`, we also want to add a way to stop tracking gradients.\n",
        "    - For instance, while evaluating the performance of our model, we want to make sure that the model doesn't learn anything from this evaluation phase.\n",
        "    - We can use the `no_grad` subclass to automatically handle the flipping of this `requires_grad` value.\n",
        "        - Every time we enter a `with Tensor.no_grad():` block, the code within `no_grad`'s `__enter__()` method will execute.\n",
        "        - Once we exit the same `with Tensor.no_grad():` block, `no_grad`'s `__exit()__` method will run."
      ]
    },
    {
      "cell_type": "code",
      "execution_count": 7,
      "metadata": {
        "id": "5ZbMLm30y3tD"
      },
      "outputs": [],
      "source": [
        "class Tensor(np.ndarray):\n",
        "\n",
        "    '''\n",
        "    Subclassing numpy arrays is a bit weird:\n",
        "    https://numpy.org/doc/stable/user/basics.subclassing.html\n",
        "\n",
        "    Just assume that the attributes referred to in __new__/__array_finalize__\n",
        "    will be accessible in a Tensor when a new Tensor object is created.\n",
        "    '''\n",
        "\n",
        "    requires_grad = True  ## Class variable; accessible by Tensor.requires_grad\n",
        "\n",
        "    def __new__(cls, input_array):\n",
        "        obj = np.asarray(input_array).view(cls)\n",
        "        obj.backward = lambda x: None   ## Backward starts as None, gets assigned later\n",
        "        obj.grad = None                 ## Gradient starts as None, gets computed later\n",
        "        obj.requires_grad = True        ## By default, we'll want to compute gradient for new tensors\n",
        "        obj.to = lambda x: obj          ## We don't handle special device support (i.e. cpu vs gpu/cuda)\n",
        "        return obj\n",
        "\n",
        "    def __array_finalize__(self, obj):\n",
        "        if obj is None: return\n",
        "        self.backward       = getattr(obj, 'backward',      lambda x: None)\n",
        "        self.to             = getattr(obj, 'to',            lambda x: obj)\n",
        "        self.grad           = getattr(obj, 'grad',          None)\n",
        "        self.requires_grad  = getattr(obj, 'requires_grad', None)\n",
        "\n",
        "    class no_grad():\n",
        "\n",
        "        '''\n",
        "        Synergizes with Tensor: By entering the tensor with no_grad scope,\n",
        "        the Tensor.requires_grad singleton will swap to False.\n",
        "        '''\n",
        "\n",
        "        def __enter__(self):\n",
        "            # When tape scope is entered, stop asking tensors to record gradients\n",
        "            Tensor.requires_grad = False\n",
        "            return self\n",
        "\n",
        "        def __exit__(self, exc_type, exc_val, exc_tb):\n",
        "            # When tape scope is exited, let Diffable start recording to self.operation\n",
        "            Tensor.requires_grad = True"
      ]
    },
    {
      "cell_type": "markdown",
      "metadata": {
        "id": "ovL7L6STvXCU"
      },
      "source": [
        "### Diffable\n",
        "\n",
        "Let's specify a \"Diffable\" object which will represent a module that can be differentiated. This class will make the following assumptions:\n",
        "- Gradients will need to flow through the input pathways in order to compute earlier gradients.\n",
        "    - Therefore, inputs will need an appropriate \"backward\"\n",
        "- Parameters will need to recieve gradients.\n",
        "- More specifically, if a `Diffable` object performs an operation on some input, then we know that the gradient from the output of the Diffable w.r.t. the inputs is the gradient of the `Diffable`'s operations w.r.t. its inputs.\n",
        "  - Thus, a `Diffable`'s `input_gradients()` function should return a tuple with each of the partial derivatives of the operations performed in the forward pass."
      ]
    },
    {
      "cell_type": "code",
      "execution_count": 8,
      "metadata": {
        "id": "9v68mc_U1ymJ"
      },
      "outputs": [],
      "source": [
        "from abc import ABC, abstractmethod  # # For abstract method support\n",
        "\n",
        "class Diffable(ABC):\n",
        "    \"\"\"\n",
        "        We use these to represent differentiable layers which we can compute gradients for.\n",
        "    \"\"\"\n",
        "\n",
        "    def to(self, device):\n",
        "        return self         # Just there to ignore device setting calls\n",
        "\n",
        "    def __call__(self, *args, **kwargs):\n",
        "\n",
        "        ## The call method keeps track of method inputs and outputs\n",
        "        self.argnames   = self.forward.__code__.co_varnames[1:]\n",
        "        named_args      = {self.argnames[i] : args[i] for i in range(len(args))}\n",
        "        self.input_dict = {**named_args, **kwargs}\n",
        "        self.inputs     = [self.input_dict[arg] for arg in self.argnames if arg in self.input_dict.keys()]\n",
        "        self.outputs    = self.forward(*args, **kwargs)\n",
        "\n",
        "        ## Make sure outputs are tensors and tie back to this layer\n",
        "        list_outs = isinstance(self.outputs, list) or isinstance(self.outputs, tuple)\n",
        "        if not list_outs:\n",
        "            self.outputs = [self.outputs]\n",
        "        self.outputs = [Tensor(out) for out in self.outputs]\n",
        "        for out in self.outputs:\n",
        "            out.backward = self.backward\n",
        "\n",
        "        # print(self.__class__.__name__.ljust(24), [v.shape for v in self.inputs], '->', [v.shape for v in self.outputs])\n",
        "\n",
        "        ## And then finally, it returns the output, thereby wrapping the forward\n",
        "        return self.outputs if list_outs else self.outputs[0]\n",
        "\n",
        "    def parameters(self):\n",
        "        \"\"\"Returns a list of parameters\"\"\"\n",
        "        return ()\n",
        "\n",
        "    @abstractmethod\n",
        "    def forward(self, x):\n",
        "        \"\"\"Pass inputs through function. Can store inputs and outputs as instance variables\"\"\"\n",
        "        pass\n",
        "\n",
        "    @abstractmethod\n",
        "    def input_gradients(self):\n",
        "        \"\"\"Returns local gradient of layer output w.r.t. input\"\"\"\n",
        "        pass\n",
        "\n",
        "    def weight_gradients(self):\n",
        "        \"\"\"Returns local gradient of layer output w.r.t. weights\"\"\"\n",
        "        return []\n",
        "\n",
        "    @abstractmethod\n",
        "    def backward(self, grad=np.array([[1]])):\n",
        "        \"\"\"\n",
        "        Propagate upstream gradient backwards by composing with local gradient\n",
        "\n",
        "        SCAFFOLD:\n",
        "\n",
        "        Differentiate with respect to layer parameters:\n",
        "            For every param-gradient pair\n",
        "            - If all Tensors or this tensor do not require gradients, then skip\n",
        "            - Otherwise, compose upstream and local gradient\n",
        "\n",
        "        Differentiate with respect to layer input:\n",
        "            For every input-gradient pair\n",
        "            - If all Tensors or this tensor do not require gradients, then skip\n",
        "            - Otherwise, compose upstream and local gradient\n",
        "\n",
        "        Usefulseful print boilerplate...:\n",
        "            # print(f'Diffing w.r.t. \"{k}\": local = {g.shape} and upstream = {grad.shape}')\n",
        "        \"\"\"\n",
        "        pass"
      ]
    },
    {
      "cell_type": "markdown",
      "metadata": {
        "id": "2n50HNq3ZuCO"
      },
      "source": [
        "### Loss\n",
        "**[TODO]:** Implement the forward pass in `forward()`.\n",
        "- The forward pass should just give the mean squared error between `y_pred` and `y_true`.\n",
        "\n",
        "**[TODO]:** Implement the backward pass in `backward()`.\n",
        "- This should take advantage of the layer inputs as well as the gradients computed with respect to them.\n",
        "- Feel free to only work with the input gradients, since this loss layer does not have any parameters.\n",
        "\n",
        "**[TODO]:** Calculate and return `input_gradients()`:\n",
        "- You want to calculate the gradients which flow to the inputs: `y_pred` and `y_true`\n",
        "- Note that we don't want to \"train\" `y_true`, so you can just return 0 for the grads for `y_true`\n",
        "- Return the partial derivative of mean squared error w.r.t. `y_pred`, and 0.\n",
        "\n",
        "Note that we don't need to implement `weight_gradients()` here because MSELoss doesn't have weights!"
      ]
    },
    {
      "cell_type": "code",
      "execution_count": 9,
      "metadata": {
        "id": "1GG1E4VaC9hs"
      },
      "outputs": [],
      "source": [
        "class MSELoss(Diffable):\n",
        "\n",
        "    \"\"\"\n",
        "        Calculates mean squared error loss and gradient w.r.t. inputs.\n",
        "        Subclasses Diffable.\n",
        "    \"\"\"\n",
        "\n",
        "    def forward(self, y_pred, y_true):\n",
        "        \"\"\"Mean squared error forward pass!\"\"\"\n",
        "        # TODO: Compute and return the MSE given predicted and actual labels\n",
        "        return np.mean((y_true - y_pred) ** 2)\n",
        "\n",
        "    def input_gradients(self):\n",
        "        \"\"\"Mean squared error backpropagation!\"\"\"\n",
        "        # TODO: Compute and return the gradients\n",
        "        return None\n",
        "\n",
        "    def backward(self, grad=np.array([[1]])):\n",
        "        \"\"\"Mean squared error backpropagation!\"\"\"\n",
        "        ## TODO: Differentiate with respect to layer inputs\n",
        "        ## For each input value and input gradient\n",
        "            ## Compose the upstream gradient with this input's gradient\n",
        "            ## Set the gradient of the tensor to the composed gradient as necessary\n",
        "            ## Pass the composed gradient backward through structure\n",
        "\n",
        "            return None"
      ]
    },
    {
      "cell_type": "markdown",
      "metadata": {
        "id": "2CHqCz0nKsGB"
      },
      "source": [
        "And here are some sanity checks you can run to make sure that your code is working as intended. In the first check, the outputs should match. In the second, they should be within the specified range."
      ]
    },
    {
      "cell_type": "code",
      "execution_count": 10,
      "metadata": {
        "colab": {
          "base_uri": "https://localhost:8080/"
        },
        "id": "45Y7ngPUKehB",
        "outputId": "6913123a-11bf-4e35-9af1-6d0e3719d9cc"
      },
      "outputs": [
        {
          "output_type": "stream",
          "name": "stdout",
          "text": [
            "tensor(3682.3669, grad_fn=<MseLossBackward0>)\n",
            "3682.366984999996\n"
          ]
        }
      ],
      "source": [
        "class con:\n",
        "    ## Control set using default PyTorch\n",
        "    ytrue = torch.Tensor(Y0)\n",
        "    ypred = torch_model(torch.Tensor(X0))\n",
        "    loss_fn = nn.MSELoss()\n",
        "\n",
        "class exp:\n",
        "    ## Experimental set using your own implementation\n",
        "    ytrue = Tensor(Y0)\n",
        "    ypred = Tensor(con.ypred.detach().numpy())\n",
        "    loss_fn = MSELoss()\n",
        "\n",
        "def ypred_to_loss(ns):\n",
        "    ## Compute loss using the control and experimental namespaces\n",
        "    ns.loss = ns.loss_fn(ns.ypred, ns.ytrue)\n",
        "    return ns.loss\n",
        "\n",
        "## Sanity Check 1: Make sure that the forward pass is the same (i.e. your implementation matches the control)\n",
        "print(ypred_to_loss(con))\n",
        "print(ypred_to_loss(exp))"
      ]
    },
    {
      "cell_type": "code",
      "execution_count": 11,
      "metadata": {
        "colab": {
          "base_uri": "https://localhost:8080/",
          "height": 228
        },
        "id": "P9tUAGJkg6I9",
        "outputId": "5ca7e6e8-12c6-494e-90b6-cdd20986b1ee"
      },
      "outputs": [
        {
          "output_type": "error",
          "ename": "TypeError",
          "evalue": "ignored",
          "traceback": [
            "\u001b[0;31m---------------------------------------------------------------------------\u001b[0m",
            "\u001b[0;31mTypeError\u001b[0m                                 Traceback (most recent call last)",
            "\u001b[0;32m<ipython-input-11-700e923b8f5e>\u001b[0m in \u001b[0;36m<cell line: 16>\u001b[0;34m()\u001b[0m\n\u001b[1;32m     14\u001b[0m \u001b[0;31m# print(\"After running backwards:\\n\", np.round(exp.ypred.grad, 4))\u001b[0m\u001b[0;34m\u001b[0m\u001b[0;34m\u001b[0m\u001b[0m\n\u001b[1;32m     15\u001b[0m \u001b[0;34m\u001b[0m\u001b[0m\n\u001b[0;32m---> 16\u001b[0;31m \u001b[0mmax_diff\u001b[0m \u001b[0;34m=\u001b[0m \u001b[0mnp\u001b[0m\u001b[0;34m.\u001b[0m\u001b[0mmax\u001b[0m\u001b[0;34m(\u001b[0m\u001b[0mexp\u001b[0m\u001b[0;34m.\u001b[0m\u001b[0mypred\u001b[0m\u001b[0;34m.\u001b[0m\u001b[0mgrad\u001b[0m \u001b[0;34m-\u001b[0m \u001b[0mcon\u001b[0m\u001b[0;34m.\u001b[0m\u001b[0mypred\u001b[0m\u001b[0;34m.\u001b[0m\u001b[0mgrad\u001b[0m\u001b[0;34m.\u001b[0m\u001b[0mdetach\u001b[0m\u001b[0;34m(\u001b[0m\u001b[0;34m)\u001b[0m\u001b[0;34m.\u001b[0m\u001b[0mnumpy\u001b[0m\u001b[0;34m(\u001b[0m\u001b[0;34m)\u001b[0m\u001b[0;34m)\u001b[0m\u001b[0;34m\u001b[0m\u001b[0;34m\u001b[0m\u001b[0m\n\u001b[0m\u001b[1;32m     17\u001b[0m \u001b[0mprint\u001b[0m\u001b[0;34m(\u001b[0m\u001b[0;34mf\"Maximum difference {max_diff} should be less than 0.00001\"\u001b[0m\u001b[0;34m)\u001b[0m\u001b[0;34m\u001b[0m\u001b[0;34m\u001b[0m\u001b[0m\n",
            "\u001b[0;31mTypeError\u001b[0m: unsupported operand type(s) for -: 'NoneType' and 'float'"
          ]
        }
      ],
      "source": [
        "## Sanity Check 2: Make sure that the backwards pass is the same\n",
        "\n",
        "con.ypred = con.ypred.detach()\n",
        "con.ypred.requires_grad = True\n",
        "# print(\"Before running backwards:\\n\", con.ypred.grad)\n",
        "ypred_to_loss(con)\n",
        "con.loss.backward()\n",
        "# print(\"After running backwards:\\n\", con.ypred.grad)\n",
        "\n",
        "exp.ypred.grad = None\n",
        "# print(\"Before running backwards:\\n\", np.round(exp.ypred.grad, 4))\n",
        "ypred_to_loss(exp)\n",
        "exp.loss.backward()\n",
        "# print(\"After running backwards:\\n\", np.round(exp.ypred.grad, 4))\n",
        "\n",
        "max_diff = np.max(exp.ypred.grad - con.ypred.grad.detach().numpy())\n",
        "print(f\"Maximum difference {max_diff} should be less than 0.00001\")"
      ]
    },
    {
      "cell_type": "markdown",
      "metadata": {
        "id": "inej4Q37gqN8"
      },
      "source": [
        "### Linear Layer\n",
        "Next, a linear layer!\n",
        "\n",
        "**[TODO]:** Implement the `forward()` pass of a linear layer.\n",
        "\n",
        "**[TODO]:** Calculate (manually) the weight gradients.\n",
        "- Manually differentiate the Dense layer with respect to weights and biases.\n",
        "- Return weight gradient, then bias gradient in that order\n",
        "- HINT: How is differentiating with matrix variables similar to and different from normal differentiation?\n",
        "\n",
        "**[TODO]:** Initalize weights and biases in `_initialize_weight()`.\n",
        "- In a linear layer, we have 2 parameters: weights and biases.\n",
        "- Return two NumPy arrays of the correct shapes according according to the function's arguments.\n",
        "- Return weights and biases, in that order.\n",
        "\n",
        "**[TODO]:** Implement the backward function.\n",
        "- Feel free to only work with the weight gradients, since we do not yet need to support multilayered networks.\n"
      ]
    },
    {
      "cell_type": "code",
      "execution_count": null,
      "metadata": {
        "id": "50FnJezypdpt"
      },
      "outputs": [],
      "source": [
        "import torch\n",
        "import torch.nn as nn\n",
        "\n",
        "class Linear(Diffable):\n",
        "\n",
        "    \"\"\"\n",
        "        Standard linear/dense layer.\n",
        "        Subclasses Diffable.\n",
        "    \"\"\"\n",
        "\n",
        "    def __init__(self, in_features, out_features, device=None, dtype=None):\n",
        "        self.w, self.b = self.__class__._initialize_weight(in_features, out_features)\n",
        "\n",
        "    def parameters(self):\n",
        "        return self.w, self.b\n",
        "\n",
        "    def forward(self, inputs):\n",
        "        \"\"\"Forward pass for a dense layer! Refer to lecture slides for how this is computed.\"\"\"\n",
        "        # TODO: implement the forward pass and return the outputs\n",
        "        return np.dot(self.w, inputs) + self.b\n",
        "\n",
        "    def weight_gradients(self):\n",
        "        \"\"\"Calculating the gradients of the weights and biases!\"\"\"\n",
        "        # TODO: Implement calculation of gradients\n",
        "        wgrads = (2 / self.w.shape[0]) * np.dot(ytrue - ypred, inputs)\n",
        "        bgrads = (2 / self.b.shape[0]) * np.sum(ytrue - ypred)\n",
        "        return (wgrads, bgrads)\n",
        "\n",
        "    def input_gradients(self):\n",
        "        \"\"\"Calculate the gradients of the inputs! (Not necessary for HW1)\"\"\"\n",
        "        return (self.w,)\n",
        "\n",
        "    @staticmethod\n",
        "    def _initialize_weight(input_size, output_size):\n",
        "        \"\"\"\n",
        "        Initializes the values of the weights and biases. You can assume that\n",
        "        bias is a zero-vector and weight is normally-distributed.\n",
        "        \"\"\"\n",
        "        ## TODO: Implement default assumption: zero-init for bias, normal distribution for weights\n",
        "        ## Must return tensors for tracking purposes.\n",
        "        input_dims = None\n",
        "        output_dims = None\n",
        "        b = np.zeros(input_dims[0])\n",
        "        w = np.random.normal(loc = 0, scale = 1, size = (input_dims, output_dims))\n",
        "        return None\n",
        "\n",
        "    def backward(self, grad=np.array([[1]])):\n",
        "        ## For every weight/bias and weight/bias gradient\n",
        "            ## Compose the upstream gradient with this weight's/bias's gradient\n",
        "            ## Set the gradient of the tensor to the composed gradient if necessary\n",
        "            ## Backpropagate the composed gradient through the structure\n",
        "        pass\n",
        "\n",
        "class con:\n",
        "    ## Control set using regular pytorch\n",
        "    X0 = torch.Tensor(X0)\n",
        "    Y0 = torch.Tensor(Y0)\n",
        "    X0.requires_grad = True\n",
        "    Y0.requires_grad = True\n",
        "    dense = nn.Linear(10, 1)\n",
        "    loss_fn = nn.MSELoss()\n",
        "\n",
        "class exp:\n",
        "    ## Experimental set using your own implementation\n",
        "    X0 = Tensor(X0)\n",
        "    Y0 = Tensor(Y0)\n",
        "    dense = Linear(10, 1)\n",
        "    dense.w, dense.b = [Tensor(p.detach().numpy()) for p in con.dense.parameters()]\n",
        "    loss_fn = MSELoss()\n",
        "\n",
        "def x_to_loss(ns):\n",
        "    ns.ypred = ns.dense(ns.X0)\n",
        "    ns.loss  = ns.loss_fn(ns.ypred, ns.Y0)\n",
        "    return ns.loss\n",
        "\n",
        "x_to_loss(con)\n",
        "x_to_loss(exp)\n",
        "\n",
        "## Sanity Check 1: Make sure that the forward pass is the same\n",
        "# print(con.ypred)\n",
        "# print(exp.ypred)\n",
        "\n",
        "print(f\"Maximum difference {np.max(con.ypred.detach().numpy() - exp.ypred)} should be less than 0.00001\\n\")\n",
        "\n",
        "print(f\"Losses: Control {con.loss} vs Experimental {exp.loss}\")\n",
        "\n",
        "print('\\nControl Params:',      *list(con.dense.parameters()), sep='\\n')\n",
        "print('\\nExperimental Params:', *list(exp.dense.parameters()), sep='\\n')"
      ]
    },
    {
      "cell_type": "code",
      "execution_count": null,
      "metadata": {
        "id": "-v6oUfSJxidG"
      },
      "outputs": [],
      "source": [
        "## Sanity Check 2: Make sure that the backwards pass is the same\n",
        "\n",
        "con.X0 = con.X0.detach()\n",
        "con.Y0 = con.Y0.detach()\n",
        "for p in con.dense.parameters():\n",
        "    if p.grad is None: continue\n",
        "    p.grad.detach_()\n",
        "    p.grad = None\n",
        "\n",
        "x_to_loss(con).backward()\n",
        "print(\"After running backwards on weights:\")\n",
        "print([p.grad for p in con.dense.parameters()])\n",
        "\n",
        "for p in exp.dense.parameters(): p.grad = None\n",
        "x_to_loss(exp).backward()\n",
        "\n",
        "print(\"\\n\" + \"*\" * 100 + \"\\n\")\n",
        "print(\"After running backwards on weights:\")\n",
        "print([p.grad for p in exp.dense.parameters()])"
      ]
    },
    {
      "cell_type": "markdown",
      "metadata": {
        "id": "CQGhTAMgFe_i"
      },
      "source": [
        "## Optimizing With The Gradients\n",
        "\n",
        "To use the gradients we calculated previously, we need an optimizer. The optimizer allows us to update our weights and bias. A simple approach could be to simply subtract the gradient from the weights and bias. In doing so, we follow the gradient in its opposite direction, minimizing loss. This is what is called gradient descent.\n",
        "\n",
        "However, simply subtracting the gradients from the weights could result in the weights changing wildly between each sample, making training longer. To prevent this, we use a learning rate. The learning rate is a hyperparameter that specifies how much a single step updates weights. A smaller learning rate means that the gradients have less of an impact on the weights, and vice versa.\n",
        "\n",
        "Of course, this is just one (simple) approach. We'll cover other optimizers, such as Adam and RMSProp.\n",
        "\n",
        "**[TODO]:** Implement stochastic gradient descent for each parameter using the learning rate"
      ]
    },
    {
      "cell_type": "code",
      "execution_count": null,
      "metadata": {
        "id": "J5s6o4_WGXhe"
      },
      "outputs": [],
      "source": [
        "class SGD:\n",
        "    \"\"\"\n",
        "        Performs stochastic gradident descent with the specified learning rate.\n",
        "    \"\"\"\n",
        "    def __init__(self, params, lr, *args, **kwargs):\n",
        "        self.params = params\n",
        "        self.lr = lr\n",
        "\n",
        "    def zero_grad(self):\n",
        "        \"\"\"\n",
        "            Reset the gradients.\n",
        "        \"\"\"\n",
        "        pass\n",
        "\n",
        "    def step(self):\n",
        "        \"\"\"\n",
        "            Update paramaters by subtracting the gradient multiplied by the learning rate.\n",
        "        \"\"\"\n",
        "        ## TODO: Implement stochastic grad descent for each parameter\n",
        "        pass\n"
      ]
    },
    {
      "cell_type": "markdown",
      "metadata": {
        "id": "p9m63xegnLnj"
      },
      "source": [
        "Below, you'll use your new implementations to optimize for linear regression manually. FakeTorchModule will also be provided to make some of the mimicking process easier.\n",
        "\n",
        "**[TODO]:** Complete the model and compare this model's performance to the previous `LinearRegression` model -- they should have a similar loss after training."
      ]
    },
    {
      "cell_type": "code",
      "execution_count": null,
      "metadata": {
        "id": "M6-a0DfvFlnN"
      },
      "outputs": [],
      "source": [
        "import torch\n",
        "import torch.nn as nn\n",
        "\n",
        "class FakeTorchModule:\n",
        "    \"\"\"\n",
        "        Needed so that we can do manual linear regression.\n",
        "    \"\"\"\n",
        "\n",
        "    def __init__(self):\n",
        "        self.device = \"\"\n",
        "\n",
        "    def __call__(self, *args, **kwargs):\n",
        "        return self.forward(*args, **kwargs)\n",
        "\n",
        "    def to(self, device):\n",
        "        return self\n",
        "\n",
        "    def parameters(self):\n",
        "        params = []\n",
        "        for k,v in self.__dict__.items():\n",
        "            params += getattr(v, 'parameters', lambda: [])()\n",
        "        return params\n",
        "\n",
        "    def train(self):\n",
        "        for p in self.parameters():\n",
        "            p.requires_grad = getattr(p, 'required_grad', p.requires_grad)\n",
        "\n",
        "    def eval(self):\n",
        "        for p in self.parameters():\n",
        "            p.required_grad = p.requires_grad\n",
        "            p.requires_grad = False\n",
        "\n",
        "class ManualRegression(FakeTorchModule):\n",
        "    \"\"\"\n",
        "        Allows us to use our custom Linear layer and SGD optimizer.\n",
        "        Subclasses FakeTorchModule\n",
        "    \"\"\"\n",
        "\n",
        "    def __init__(self, input_dims, output_dims):\n",
        "        super().__init__()\n",
        "        ## TODO: Incorporate your custom components in the initialization pipeline.\n",
        "        self.set_learning_rate()\n",
        "\n",
        "    def set_learning_rate(self, learning_rate=0.001):\n",
        "        ## TODO: Use your new SGD component and make changes as appropriate.\n",
        "        pass\n",
        "\n",
        "    def forward(self, x):\n",
        "        ## TODO: Implement the forward function as appropriate. Make changes as necessary\n",
        "        return x\n",
        "\n",
        "class TrainTest2(TrainTest):\n",
        "    # no_grad = torch.no_grad\n",
        "    no_grad = Tensor.no_grad\n",
        "\n",
        "class ManualLinearRegression(ManualRegression, TrainTest2):\n",
        "    def __init__(self, input_dims, output_dims):\n",
        "        super().__init__(input_dims, output_dims)\n",
        "        ## TODO: Implement the subclass as appropriate with your own implementations\n",
        "\n",
        "## Train the manual linear regression model\n",
        "model = ManualLinearRegression(10, 1)\n",
        "model.set_learning_rate(0.2)\n",
        "model.train_test(\n",
        "    [[Tensor(X0), Tensor(Y0)]],\n",
        "    [[Tensor(X1), Tensor(Y1)]],\n",
        "    epochs=200\n",
        ");\n",
        "## TODO: Compare this model's performance to the first linear regression model -- they should be similar"
      ]
    },
    {
      "cell_type": "markdown",
      "metadata": {
        "id": "AhxMFrlPOX2J"
      },
      "source": [
        "-----"
      ]
    },
    {
      "cell_type": "markdown",
      "metadata": {
        "id": "v6DGrd50k0J5"
      },
      "source": [
        "## Wrapping Up\n",
        "\n",
        "Congratulations, you've finished this assignment! You should now have a better understand of linear regression, loss functions, and optimizers/gradient descent.  Submit the link to your notebook on Canvas."
      ]
    },
    {
      "cell_type": "code",
      "execution_count": null,
      "metadata": {
        "id": "bVjfF9IGLlhG"
      },
      "outputs": [],
      "source": []
    }
  ],
  "metadata": {
    "colab": {
      "provenance": []
    },
    "kernelspec": {
      "display_name": "Python 3 (ipykernel)",
      "language": "python",
      "name": "python3"
    },
    "language_info": {
      "codemirror_mode": {
        "name": "ipython",
        "version": 3
      },
      "file_extension": ".py",
      "mimetype": "text/x-python",
      "name": "python",
      "nbconvert_exporter": "python",
      "pygments_lexer": "ipython3",
      "version": "3.11.4"
    },
    "vscode": {
      "interpreter": {
        "hash": "759be6693a164ddeab1e231298c2a01a8302a7c7dfd4e560844dbce42a896f34"
      }
    }
  },
  "nbformat": 4,
  "nbformat_minor": 0
}