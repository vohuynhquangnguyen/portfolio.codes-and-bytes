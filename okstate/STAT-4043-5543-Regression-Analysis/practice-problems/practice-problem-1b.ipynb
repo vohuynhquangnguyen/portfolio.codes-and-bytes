{
 "cells": [
  {
   "cell_type": "markdown",
   "id": "1b0f331b",
   "metadata": {},
   "source": [
    "1. TRUE or FALSE?\n",
    "\n",
    "A t-distribution is symmetric, but a chi-square distribution is not.\n",
    "***\n",
    "**Answer:**\n",
    "\n",
    "TRUE because a t-distribution is a generalization of a standardized normal distribution meaning it is symmetric around zero and bell-shaped, while a chi-square distribution is a special case of gamma distribution that is not symmetric in nature."
   ]
  },
  {
   "cell_type": "markdown",
   "id": "9cb7fd78",
   "metadata": {},
   "source": [
    "2. TRUE or FALSE?\n",
    "\n",
    "The possible range of values for a random variable following an F-distribution is $(-\\infty,\\infty)$.\n",
    "***\n",
    "**Answer:**\n",
    "\n",
    "FALSE because the possible range of values for a random variable following an F-distribution is from 0 to $\\infty$.\n"
   ]
  },
  {
   "cell_type": "markdown",
   "id": "bceb9f8f",
   "metadata": {},
   "source": [
    "3. TRUE or FALSE?\n",
    "\n",
    "A normal distribution is symmetric and has two parameters, the mean $\\mu$ and the variance $\\sigma^2$\n",
    "***\n",
    "**Answer:**\n",
    "TRUE. "
   ]
  },
  {
   "cell_type": "markdown",
   "id": "8b9bca7d",
   "metadata": {},
   "source": [
    "### Problem 4\n",
    "Which ones of the followings are continuous variables, which ones are discrete variables and which ones are categorical variables?\n",
    "* Height\n",
    "* Age\n",
    "* Gender\n",
    "* Number of children in a family\n",
    "* Race\n",
    "* Speed of a car\n",
    "* Number of car accidents in Stillwater on a day\n",
    "* Stage of cancer\n",
    "***\n",
    "\n",
    "**Answer:**\n",
    "1. Continuous variables:\n",
    "    * Height\n",
    "    * Speed of a car\n",
    "2. Discrete variables:\n",
    "    * Age\n",
    "    * Gender\n",
    "    * Number of children in a family\n",
    "    * Race\n",
    "    * Number of car accidents in Stillwater on a day\n",
    "    * Stage of cancer"
   ]
  },
  {
   "cell_type": "markdown",
   "id": "9a0326a3",
   "metadata": {},
   "source": [
    "### Problem 5\n",
    "If the p-value for a hypothesis testing problem is 0.006, what should be the decision about\n",
    "acceptance or rejection of the null hypothesis at 5% level? What will be the decision when\n",
    "testing at 1% level?\n",
    "***\n",
    "**Answer:**\n",
    "\n",
    "* Given the significant level is 5% (0.05) and the p-value of our hypothesis test is 0.006, we should reject the null hypothesis.\n",
    "* On the other hand, given the significant level is now 1% (0.01), we should not reject the null hypothesis."
   ]
  },
  {
   "cell_type": "markdown",
   "id": "c7eaa878",
   "metadata": {},
   "source": [
    "### Problem 6\n",
    "Suppose we are estimating the parameter $\\mu$ using a statistic $\\hat{\\mu}$ obtained from a random sample.\n",
    "\n",
    "(a) Which one among $\\mu$ and $\\hat{\\mu}$ is a random variable?\n",
    "\n",
    "(b) Which one among $\\mu$ and $\\hat{\\mu}$ has a standard error?\n",
    "\n",
    "(c) We can test a hypothesis about which one among $\\hat{\\mu}$ and $\\hat{\\mu}$ (e.g. should we write $H_o$:$\\mu = 0$ or\n",
    "should we write $H_o$:$\\hat{\\mu} = 0$?)\n",
    "\n",
    "***\n",
    "**Answer:**\n",
    "\n",
    "Assumming that the parameter $\\mu$ is an attribute of a population, then:\n",
    "\n",
    "(a) $\\mu$ is a random variable.\n",
    "\n",
    "(b) $\\hat{\\mu}$ has a standard error.\n",
    "\n",
    "(c) We can only test a hypothesis for $\\hat{\\mu}$."
   ]
  },
  {
   "cell_type": "markdown",
   "id": "a6b18c6a",
   "metadata": {},
   "source": [
    "### Problem 7\n",
    "Which one is wider, a 95% confidence interval or a 90% confidence interval (everything else\n",
    "remaining the same)?\n",
    "\n",
    "***\n",
    "**Answer:**\n",
    "\n",
    "The 95% confidence interval will be wider because the width of a confidence value is determined by a margin of error, which is sing the critical value (calculated by the confidence level and the distribution of the sample statistic) and the standard error of the estimate. This means the higher the confidence level, the larger the critical value thus the wider the width."
   ]
  },
  {
   "cell_type": "markdown",
   "id": "4393abaa",
   "metadata": {},
   "source": [
    "### Problem 8\n",
    "Suppose we have random sample from a $N(\\mu,\\sigma^2)$ distribution. We want to test $H_o:\\mu = 1$ vs $H_1:\\mu \\neq 1$.\n",
    "If the p-value for this test is 0.005, what will be your conclusion at 5% level?\n",
    "***\n",
    "**Answer:**\n",
    "Since the significant level is 5% (0.05) and the p-value of this test is 0.005, we should reject the null hypothesis.\n"
   ]
  },
  {
   "cell_type": "markdown",
   "id": "100a3c51",
   "metadata": {},
   "source": [
    "### Problem 9\n",
    "Suppose we are estimating population mean 𝜇 using the estimator 𝑋, which is the sample mean.\n",
    "If we say 𝐸(𝑋) = 𝜇, which is often true, we are basically saying “The mean of the sample mean is\n",
    "equal to the population mean”. What does that essentially mean? Briefly explain.\n",
    "\n",
    "***\n",
    "**Answer**\n",
    "This is basically the Central Limit Theorem: if we take many samples from a population and calculate the sample mean for each sample, the average of all those sample means will be equal to the population mean."
   ]
  },
  {
   "cell_type": "markdown",
   "id": "4d42ea16",
   "metadata": {},
   "source": [
    "### Problem 10\n",
    "What is meant by the standard error of an estimator? Explain very briefly.\n",
    "***\n",
    "**Answer:**\n",
    "\n",
    "The standard error of an estimator measures how much the estimate is expected to vary from one sample, which is sampled from a population to another."
   ]
  },
  {
   "cell_type": "code",
   "execution_count": null,
   "id": "1ab76761",
   "metadata": {},
   "outputs": [],
   "source": []
  }
 ],
 "metadata": {
  "kernelspec": {
   "display_name": "R",
   "language": "R",
   "name": "ir"
  },
  "language_info": {
   "codemirror_mode": "r",
   "file_extension": ".r",
   "mimetype": "text/x-r-source",
   "name": "R",
   "pygments_lexer": "r",
   "version": "4.3.1"
  }
 },
 "nbformat": 4,
 "nbformat_minor": 5
}
