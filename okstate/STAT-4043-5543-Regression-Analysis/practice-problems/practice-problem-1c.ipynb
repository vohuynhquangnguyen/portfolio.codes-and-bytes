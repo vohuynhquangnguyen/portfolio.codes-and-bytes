{
 "cells": [
  {
   "cell_type": "markdown",
   "metadata": {},
   "source": [
    "### Problem 2\n",
    "(a) Read the height-weight data using R and store it in a variable named ``dat``."
   ]
  },
  {
   "cell_type": "code",
   "execution_count": 20,
   "metadata": {
    "vscode": {
     "languageId": "r"
    }
   },
   "outputs": [],
   "source": [
    "dat <- read.csv('../datasets/heightweight.csv')"
   ]
  },
  {
   "cell_type": "markdown",
   "metadata": {},
   "source": [
    "(b) Change the type of the variable `dat` from data frame to matrix using the function\n",
    "`as.matrix()`. Find the dimensions of this matrix. Check using R code if it is a square matrix.\n",
    "Check if there are any missing values in the data."
   ]
  },
  {
   "cell_type": "code",
   "execution_count": 21,
   "metadata": {
    "vscode": {
     "languageId": "r"
    }
   },
   "outputs": [
    {
     "data": {
      "text/html": [
       "<ol class=list-inline>\n",
       "\t<li>199</li>\n",
       "\t<li>2</li>\n",
       "</ol>\n"
      ],
      "text/latex": [
       "\\begin{enumerate*}\n",
       "\\item 199\n",
       "\\item 2\n",
       "\\end{enumerate*}\n"
      ],
      "text/markdown": [
       "1. 199\n",
       "2. 2\n",
       "\n",
       "\n"
      ],
      "text/plain": [
       "[1] 199   2"
      ]
     },
     "metadata": {},
     "output_type": "display_data"
    },
    {
     "data": {
      "text/html": [
       "FALSE"
      ],
      "text/latex": [
       "FALSE"
      ],
      "text/markdown": [
       "FALSE"
      ],
      "text/plain": [
       "[1] FALSE"
      ]
     },
     "metadata": {},
     "output_type": "display_data"
    },
    {
     "data": {
      "text/html": [
       "0"
      ],
      "text/latex": [
       "0"
      ],
      "text/markdown": [
       "0"
      ],
      "text/plain": [
       "[1] 0"
      ]
     },
     "metadata": {},
     "output_type": "display_data"
    }
   ],
   "source": [
    "dat <- as.matrix(dat)\n",
    "dim(dat)\n",
    "dim(dat)[1] == dim(dat)[2]\n",
    "sum(is.na(dat))"
   ]
  },
  {
   "cell_type": "markdown",
   "metadata": {},
   "source": [
    "(c) Use R to find the height of the 34th subject and the weight of the 22nd subject."
   ]
  },
  {
   "cell_type": "code",
   "execution_count": null,
   "metadata": {
    "vscode": {
     "languageId": "r"
    }
   },
   "outputs": [],
   "source": [
    "dat[34, 'height']\n",
    "dat[22, 'weight']"
   ]
  },
  {
   "cell_type": "markdown",
   "metadata": {},
   "source": [
    "(d) Store the height of the first 50 subjects in a variable called `ht50`, and the corresponding\n",
    "weights in a variable called `wt50`. Use them to answer the next 2 questions."
   ]
  },
  {
   "cell_type": "code",
   "execution_count": null,
   "metadata": {
    "vscode": {
     "languageId": "r"
    }
   },
   "outputs": [],
   "source": [
    "ht50 = dat[1:50, 'height']\n",
    "wt50 = dat[1:50, 'weight']"
   ]
  },
  {
   "cell_type": "markdown",
   "metadata": {},
   "source": [
    "\n",
    "(e) Find the average weight of the first 50 subjects. Also find the maximum weight."
   ]
  },
  {
   "cell_type": "code",
   "execution_count": null,
   "metadata": {
    "vscode": {
     "languageId": "r"
    }
   },
   "outputs": [],
   "source": [
    "mean(wt50)\n",
    "max(wt50)"
   ]
  },
  {
   "cell_type": "markdown",
   "metadata": {},
   "source": [
    "(f) Create a height vs weight plot for the first 50 subjects. Make the points 3/4th the default\n",
    "size. Points should be orange and solid dots. Put appropriate axis labels. Make axis labels 1.5\n",
    "time the default size. Put an appropriate title of the plot. Make the points for the shortest\n",
    "and tallest persons in this plot blue."
   ]
  },
  {
   "cell_type": "code",
   "execution_count": null,
   "metadata": {
    "vscode": {
     "languageId": "r"
    }
   },
   "outputs": [],
   "source": [
    "plot(ht50, wt50,\n",
    "cex = 0.75,\n",
    "pch = 21,\n",
    "bg = 'orange',\n",
    "col = 'orange',\n",
    "xlab = 'height', ylab = 'weight', \n",
    "cex.lab = 1.5,\n",
    "main = 'Height vs. Weight for the first 50 subjects')"
   ]
  },
  {
   "cell_type": "markdown",
   "metadata": {},
   "source": [
    "(g) Use the which() function to find the part of the data (as a submatrix) for which height is\n",
    "more than 170cm. Call this submatrix subdat. Use it to answer the next 2 questions.\n",
    "\n",
    "(h) Find how many individuals had height more than 170cm. Find the average weight of these\n",
    "individuals."
   ]
  },
  {
   "cell_type": "markdown",
   "metadata": {},
   "source": [
    "### Problem 3\n",
    "(a) Read the rent data using R and store it in a variable named `rentdat`.\n"
   ]
  },
  {
   "cell_type": "code",
   "execution_count": 23,
   "metadata": {
    "vscode": {
     "languageId": "r"
    }
   },
   "outputs": [
    {
     "data": {
      "text/html": [
       "<table>\n",
       "<thead><tr><th scope=col>AGE</th><th scope=col>SQFT</th><th scope=col>SD</th><th scope=col>UNTS</th><th scope=col>GAR</th><th scope=col>SS</th><th scope=col>FIT</th><th scope=col>RENT</th></tr></thead>\n",
       "<tbody>\n",
       "\t<tr><td> 7 </td><td>692</td><td>150</td><td>408</td><td>0  </td><td>1  </td><td>0  </td><td>508</td></tr>\n",
       "\t<tr><td> 7 </td><td>765</td><td>100</td><td>334</td><td>0  </td><td>1  </td><td>1  </td><td>553</td></tr>\n",
       "\t<tr><td> 8 </td><td>764</td><td>150</td><td>170</td><td>0  </td><td>1  </td><td>1  </td><td>488</td></tr>\n",
       "\t<tr><td>13 </td><td>808</td><td>100</td><td>533</td><td>0  </td><td>1  </td><td>1  </td><td>558</td></tr>\n",
       "\t<tr><td> 7 </td><td>685</td><td>100</td><td>264</td><td>0  </td><td>0  </td><td>0  </td><td>471</td></tr>\n",
       "\t<tr><td> 7 </td><td>710</td><td>100</td><td>296</td><td>0  </td><td>0  </td><td>0  </td><td>481</td></tr>\n",
       "\t<tr><td> 5 </td><td>718</td><td>100</td><td>240</td><td>0  </td><td>1  </td><td>1  </td><td>577</td></tr>\n",
       "\t<tr><td> 6 </td><td>672</td><td>100</td><td>420</td><td>0  </td><td>0  </td><td>1  </td><td>556</td></tr>\n",
       "\t<tr><td> 4 </td><td>746</td><td>100</td><td>410</td><td>1  </td><td>1  </td><td>1  </td><td>636</td></tr>\n",
       "\t<tr><td> 4 </td><td>792</td><td>100</td><td>404</td><td>1  </td><td>1  </td><td>1  </td><td>737</td></tr>\n",
       "\t<tr><td> 8 </td><td>797</td><td>150</td><td>252</td><td>0  </td><td>1  </td><td>1  </td><td>546</td></tr>\n",
       "\t<tr><td> 7 </td><td>708</td><td>100</td><td>276</td><td>0  </td><td>1  </td><td>0  </td><td>445</td></tr>\n",
       "\t<tr><td> 8 </td><td>797</td><td>150</td><td>252</td><td>0  </td><td>0  </td><td>1  </td><td>533</td></tr>\n",
       "\t<tr><td> 6 </td><td>813</td><td>100</td><td>416</td><td>0  </td><td>0  </td><td>0  </td><td>617</td></tr>\n",
       "\t<tr><td> 7 </td><td>708</td><td>100</td><td>536</td><td>0  </td><td>1  </td><td>1  </td><td>475</td></tr>\n",
       "\t<tr><td>16 </td><td>658</td><td>100</td><td>188</td><td>1  </td><td>1  </td><td>1  </td><td>525</td></tr>\n",
       "\t<tr><td> 8 </td><td>809</td><td>150</td><td>192</td><td>0  </td><td>1  </td><td>0  </td><td>461</td></tr>\n",
       "\t<tr><td> 7 </td><td>663</td><td>100</td><td>300</td><td>0  </td><td>0  </td><td>1  </td><td>495</td></tr>\n",
       "\t<tr><td> 1 </td><td>719</td><td>100</td><td>300</td><td>1  </td><td>1  </td><td>1  </td><td>601</td></tr>\n",
       "\t<tr><td> 1 </td><td>689</td><td>100</td><td>224</td><td>0  </td><td>1  </td><td>1  </td><td>567</td></tr>\n",
       "\t<tr><td> 1 </td><td>737</td><td>175</td><td>310</td><td>1  </td><td>1  </td><td>1  </td><td>633</td></tr>\n",
       "\t<tr><td> 1 </td><td>694</td><td>150</td><td>476</td><td>1  </td><td>1  </td><td>1  </td><td>616</td></tr>\n",
       "\t<tr><td> 7 </td><td>768</td><td>150</td><td>264</td><td>0  </td><td>1  </td><td>1  </td><td>507</td></tr>\n",
       "\t<tr><td> 6 </td><td>699</td><td>150</td><td>150</td><td>0  </td><td>0  </td><td>0  </td><td>454</td></tr>\n",
       "\t<tr><td> 6 </td><td>733</td><td>100</td><td>260</td><td>0  </td><td>1  </td><td>0  </td><td>502</td></tr>\n",
       "\t<tr><td> 7 </td><td>592</td><td>100</td><td>264</td><td>0  </td><td>1  </td><td>1  </td><td>431</td></tr>\n",
       "\t<tr><td> 6 </td><td>589</td><td>150</td><td>516</td><td>0  </td><td>1  </td><td>1  </td><td>418</td></tr>\n",
       "\t<tr><td> 8 </td><td>721</td><td> 75</td><td>216</td><td>0  </td><td>1  </td><td>0  </td><td>538</td></tr>\n",
       "\t<tr><td> 5 </td><td>705</td><td> 75</td><td>212</td><td>1  </td><td>1  </td><td>1  </td><td>506</td></tr>\n",
       "\t<tr><td> 6 </td><td>772</td><td>150</td><td>460</td><td>0  </td><td>1  </td><td>1  </td><td>543</td></tr>\n",
       "\t<tr><td> 7 </td><td>758</td><td>100</td><td>260</td><td>0  </td><td>1  </td><td>0  </td><td>534</td></tr>\n",
       "\t<tr><td> 7 </td><td>764</td><td>100</td><td>269</td><td>0  </td><td>1  </td><td>0  </td><td>536</td></tr>\n",
       "\t<tr><td> 6 </td><td>722</td><td>125</td><td>216</td><td>0  </td><td>0  </td><td>1  </td><td>520</td></tr>\n",
       "\t<tr><td> 1 </td><td>703</td><td>100</td><td>248</td><td>0  </td><td>1  </td><td>0  </td><td>530</td></tr>\n",
       "</tbody>\n",
       "</table>\n"
      ],
      "text/latex": [
       "\\begin{tabular}{r|llllllll}\n",
       " AGE & SQFT & SD & UNTS & GAR & SS & FIT & RENT\\\\\n",
       "\\hline\n",
       "\t  7  & 692 & 150 & 408 & 0   & 1   & 0   & 508\\\\\n",
       "\t  7  & 765 & 100 & 334 & 0   & 1   & 1   & 553\\\\\n",
       "\t  8  & 764 & 150 & 170 & 0   & 1   & 1   & 488\\\\\n",
       "\t 13  & 808 & 100 & 533 & 0   & 1   & 1   & 558\\\\\n",
       "\t  7  & 685 & 100 & 264 & 0   & 0   & 0   & 471\\\\\n",
       "\t  7  & 710 & 100 & 296 & 0   & 0   & 0   & 481\\\\\n",
       "\t  5  & 718 & 100 & 240 & 0   & 1   & 1   & 577\\\\\n",
       "\t  6  & 672 & 100 & 420 & 0   & 0   & 1   & 556\\\\\n",
       "\t  4  & 746 & 100 & 410 & 1   & 1   & 1   & 636\\\\\n",
       "\t  4  & 792 & 100 & 404 & 1   & 1   & 1   & 737\\\\\n",
       "\t  8  & 797 & 150 & 252 & 0   & 1   & 1   & 546\\\\\n",
       "\t  7  & 708 & 100 & 276 & 0   & 1   & 0   & 445\\\\\n",
       "\t  8  & 797 & 150 & 252 & 0   & 0   & 1   & 533\\\\\n",
       "\t  6  & 813 & 100 & 416 & 0   & 0   & 0   & 617\\\\\n",
       "\t  7  & 708 & 100 & 536 & 0   & 1   & 1   & 475\\\\\n",
       "\t 16  & 658 & 100 & 188 & 1   & 1   & 1   & 525\\\\\n",
       "\t  8  & 809 & 150 & 192 & 0   & 1   & 0   & 461\\\\\n",
       "\t  7  & 663 & 100 & 300 & 0   & 0   & 1   & 495\\\\\n",
       "\t  1  & 719 & 100 & 300 & 1   & 1   & 1   & 601\\\\\n",
       "\t  1  & 689 & 100 & 224 & 0   & 1   & 1   & 567\\\\\n",
       "\t  1  & 737 & 175 & 310 & 1   & 1   & 1   & 633\\\\\n",
       "\t  1  & 694 & 150 & 476 & 1   & 1   & 1   & 616\\\\\n",
       "\t  7  & 768 & 150 & 264 & 0   & 1   & 1   & 507\\\\\n",
       "\t  6  & 699 & 150 & 150 & 0   & 0   & 0   & 454\\\\\n",
       "\t  6  & 733 & 100 & 260 & 0   & 1   & 0   & 502\\\\\n",
       "\t  7  & 592 & 100 & 264 & 0   & 1   & 1   & 431\\\\\n",
       "\t  6  & 589 & 150 & 516 & 0   & 1   & 1   & 418\\\\\n",
       "\t  8  & 721 &  75 & 216 & 0   & 1   & 0   & 538\\\\\n",
       "\t  5  & 705 &  75 & 212 & 1   & 1   & 1   & 506\\\\\n",
       "\t  6  & 772 & 150 & 460 & 0   & 1   & 1   & 543\\\\\n",
       "\t  7  & 758 & 100 & 260 & 0   & 1   & 0   & 534\\\\\n",
       "\t  7  & 764 & 100 & 269 & 0   & 1   & 0   & 536\\\\\n",
       "\t  6  & 722 & 125 & 216 & 0   & 0   & 1   & 520\\\\\n",
       "\t  1  & 703 & 100 & 248 & 0   & 1   & 0   & 530\\\\\n",
       "\\end{tabular}\n"
      ],
      "text/markdown": [
       "\n",
       "| AGE | SQFT | SD | UNTS | GAR | SS | FIT | RENT |\n",
       "|---|---|---|---|---|---|---|---|\n",
       "|  7  | 692 | 150 | 408 | 0   | 1   | 0   | 508 |\n",
       "|  7  | 765 | 100 | 334 | 0   | 1   | 1   | 553 |\n",
       "|  8  | 764 | 150 | 170 | 0   | 1   | 1   | 488 |\n",
       "| 13  | 808 | 100 | 533 | 0   | 1   | 1   | 558 |\n",
       "|  7  | 685 | 100 | 264 | 0   | 0   | 0   | 471 |\n",
       "|  7  | 710 | 100 | 296 | 0   | 0   | 0   | 481 |\n",
       "|  5  | 718 | 100 | 240 | 0   | 1   | 1   | 577 |\n",
       "|  6  | 672 | 100 | 420 | 0   | 0   | 1   | 556 |\n",
       "|  4  | 746 | 100 | 410 | 1   | 1   | 1   | 636 |\n",
       "|  4  | 792 | 100 | 404 | 1   | 1   | 1   | 737 |\n",
       "|  8  | 797 | 150 | 252 | 0   | 1   | 1   | 546 |\n",
       "|  7  | 708 | 100 | 276 | 0   | 1   | 0   | 445 |\n",
       "|  8  | 797 | 150 | 252 | 0   | 0   | 1   | 533 |\n",
       "|  6  | 813 | 100 | 416 | 0   | 0   | 0   | 617 |\n",
       "|  7  | 708 | 100 | 536 | 0   | 1   | 1   | 475 |\n",
       "| 16  | 658 | 100 | 188 | 1   | 1   | 1   | 525 |\n",
       "|  8  | 809 | 150 | 192 | 0   | 1   | 0   | 461 |\n",
       "|  7  | 663 | 100 | 300 | 0   | 0   | 1   | 495 |\n",
       "|  1  | 719 | 100 | 300 | 1   | 1   | 1   | 601 |\n",
       "|  1  | 689 | 100 | 224 | 0   | 1   | 1   | 567 |\n",
       "|  1  | 737 | 175 | 310 | 1   | 1   | 1   | 633 |\n",
       "|  1  | 694 | 150 | 476 | 1   | 1   | 1   | 616 |\n",
       "|  7  | 768 | 150 | 264 | 0   | 1   | 1   | 507 |\n",
       "|  6  | 699 | 150 | 150 | 0   | 0   | 0   | 454 |\n",
       "|  6  | 733 | 100 | 260 | 0   | 1   | 0   | 502 |\n",
       "|  7  | 592 | 100 | 264 | 0   | 1   | 1   | 431 |\n",
       "|  6  | 589 | 150 | 516 | 0   | 1   | 1   | 418 |\n",
       "|  8  | 721 |  75 | 216 | 0   | 1   | 0   | 538 |\n",
       "|  5  | 705 |  75 | 212 | 1   | 1   | 1   | 506 |\n",
       "|  6  | 772 | 150 | 460 | 0   | 1   | 1   | 543 |\n",
       "|  7  | 758 | 100 | 260 | 0   | 1   | 0   | 534 |\n",
       "|  7  | 764 | 100 | 269 | 0   | 1   | 0   | 536 |\n",
       "|  6  | 722 | 125 | 216 | 0   | 0   | 1   | 520 |\n",
       "|  1  | 703 | 100 | 248 | 0   | 1   | 0   | 530 |\n",
       "\n"
      ],
      "text/plain": [
       "   AGE SQFT SD  UNTS GAR SS FIT RENT\n",
       "1   7  692  150 408  0   1  0   508 \n",
       "2   7  765  100 334  0   1  1   553 \n",
       "3   8  764  150 170  0   1  1   488 \n",
       "4  13  808  100 533  0   1  1   558 \n",
       "5   7  685  100 264  0   0  0   471 \n",
       "6   7  710  100 296  0   0  0   481 \n",
       "7   5  718  100 240  0   1  1   577 \n",
       "8   6  672  100 420  0   0  1   556 \n",
       "9   4  746  100 410  1   1  1   636 \n",
       "10  4  792  100 404  1   1  1   737 \n",
       "11  8  797  150 252  0   1  1   546 \n",
       "12  7  708  100 276  0   1  0   445 \n",
       "13  8  797  150 252  0   0  1   533 \n",
       "14  6  813  100 416  0   0  0   617 \n",
       "15  7  708  100 536  0   1  1   475 \n",
       "16 16  658  100 188  1   1  1   525 \n",
       "17  8  809  150 192  0   1  0   461 \n",
       "18  7  663  100 300  0   0  1   495 \n",
       "19  1  719  100 300  1   1  1   601 \n",
       "20  1  689  100 224  0   1  1   567 \n",
       "21  1  737  175 310  1   1  1   633 \n",
       "22  1  694  150 476  1   1  1   616 \n",
       "23  7  768  150 264  0   1  1   507 \n",
       "24  6  699  150 150  0   0  0   454 \n",
       "25  6  733  100 260  0   1  0   502 \n",
       "26  7  592  100 264  0   1  1   431 \n",
       "27  6  589  150 516  0   1  1   418 \n",
       "28  8  721   75 216  0   1  0   538 \n",
       "29  5  705   75 212  1   1  1   506 \n",
       "30  6  772  150 460  0   1  1   543 \n",
       "31  7  758  100 260  0   1  0   534 \n",
       "32  7  764  100 269  0   1  0   536 \n",
       "33  6  722  125 216  0   0  1   520 \n",
       "34  1  703  100 248  0   1  0   530 "
      ]
     },
     "metadata": {},
     "output_type": "display_data"
    }
   ],
   "source": [
    "rentdat <- read.csv('../datasets/Rent.csv')\n",
    "rentdat"
   ]
  },
  {
   "cell_type": "markdown",
   "metadata": {},
   "source": [
    "(b) Find the subset of the data with only those apartments that have fitness facilities; call this\n",
    "dat1. Also find the subset with no fitness facilities and call it dat2.\n"
   ]
  },
  {
   "cell_type": "code",
   "execution_count": null,
   "metadata": {
    "vscode": {
     "languageId": "r"
    }
   },
   "outputs": [],
   "source": [
    "which(rentdat[], arr.ind = TRUE)"
   ]
  },
  {
   "cell_type": "code",
   "execution_count": null,
   "metadata": {
    "vscode": {
     "languageId": "r"
    }
   },
   "outputs": [],
   "source": [
    "(c) Plot the relationship between square footage and rent for both these subsets of the data.\n",
    "Label the plots properly and put appropriate titles.\n"
   ]
  },
  {
   "cell_type": "code",
   "execution_count": null,
   "metadata": {
    "vscode": {
     "languageId": "r"
    }
   },
   "outputs": [],
   "source": [
    "(d) While creating the two plots in part (c), on both plots, add a new point and color it in red to\n",
    "indicate the oldest apartment in that subset of the data.\n",
    "(e) Use a bar plot to depict the average rent for apartments with and without fitness facilities.\n",
    "Do you have any comments based on the plot?\n"
   ]
  }
 ],
 "metadata": {
  "kernelspec": {
   "display_name": "R",
   "language": "R",
   "name": "ir"
  },
  "language_info": {
   "codemirror_mode": "r",
   "file_extension": ".r",
   "mimetype": "text/x-r-source",
   "name": "R",
   "pygments_lexer": "r",
   "version": "3.6.1"
  }
 },
 "nbformat": 4,
 "nbformat_minor": 2
}
