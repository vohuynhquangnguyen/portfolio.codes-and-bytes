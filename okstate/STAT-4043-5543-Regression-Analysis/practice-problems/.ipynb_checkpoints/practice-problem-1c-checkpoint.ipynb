{
 "cells": [
  {
   "cell_type": "markdown",
   "metadata": {},
   "source": [
    "### Problem 2\n",
    "(a) Read the height-weight data using R and store it in a variable named ``dat``."
   ]
  },
  {
   "cell_type": "code",
   "execution_count": 1,
   "metadata": {
    "vscode": {
     "languageId": "r"
    }
   },
   "outputs": [],
   "source": [
    "dat <- read.csv(\"heightweight.csv\")"
   ]
  },
  {
   "cell_type": "markdown",
   "metadata": {},
   "source": [
    "(b) Change the type of the variable dat from data frame to matrix using the function\n",
    "as.matrix(). Find the dimensions of this matrix. Check using R code if it is a square matrix.\n",
    "Check if there are any missing values in the data.\n",
    "(c) Use R to find the height of the 34th subject and the weight of the 22nd subject.\n",
    "(d) Store the height of the first 50 subjects in a variable called ht50, and the corresponding\n",
    "weights in a variable called wt50. Use them to answer the next 2 questions.\n",
    "(e) Find the average weight of the first 50 subjects. Also find the maximum weight.\n",
    "(f) Create a height vs weight plot for the first 50 subjects. Make the points 3/4th the default\n",
    "size. Points should be orange and solid dots. Put appropriate axis labels. Make axis labels 1.5\n",
    "time the default size. Put an appropriate title of the plot. Make the points for the shortest\n",
    "and tallest persons in this plot blue.\n",
    "(g) Use the which() function to find the part of the data (as a submatrix) for which height is\n",
    "more than 170cm. Call this submatrix subdat. Use it to answer the next 2 questions.\n",
    "(h) Find how many individuals had height more than 170cm. Find the average weight of these\n",
    "individuals."
   ]
  },
  {
   "cell_type": "markdown",
   "metadata": {},
   "source": [
    "\n",
    "### Problem 3\n",
    "3. (a) Read the rent data using R and store it in a variable named rentdat.\n",
    "(b) Find the subset of the data with only those apartments that have fitness facilities; call this\n",
    "dat1. Also find the subset with no fitness facilities and call it dat2.\n",
    "(c) Plot the relationship between square footage and rent for both these subsets of the data.\n",
    "Label the plots properly and put appropriate titles.\n",
    "(d) While creating the two plots in part (c), on both plots, add a new point and color it in red to\n",
    "indicate the oldest apartment in that subset of the data.\n",
    "(e) Use a bar plot to depict the average rent for apartments with and without fitness facilities.\n",
    "Do you have any comments based on the plot?\n"
   ]
  }
 ],
 "metadata": {
  "kernelspec": {
   "display_name": "R",
   "language": "R",
   "name": "ir"
  },
  "language_info": {
   "codemirror_mode": "r",
   "file_extension": ".r",
   "mimetype": "text/x-r-source",
   "name": "R",
   "pygments_lexer": "r",
   "version": "3.6.1"
  }
 },
 "nbformat": 4,
 "nbformat_minor": 2
}
