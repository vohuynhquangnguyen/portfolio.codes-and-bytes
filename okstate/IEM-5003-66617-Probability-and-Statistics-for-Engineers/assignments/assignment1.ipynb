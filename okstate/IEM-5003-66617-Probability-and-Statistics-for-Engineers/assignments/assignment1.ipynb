{
 "cells": [
  {
   "cell_type": "markdown",
   "metadata": {},
   "source": [
    "### Problem 2.5.3\n",
    "The following table summarizes the number of deceased beetles under autolysis (the destruction of a cell after its death by the action of its own enzymes) and putrefaction (decomposition of organic matter, especially protein, by microorganisms, resulting in production of foul-smelling matter):\n",
    "\n",
    "|                  | Autolysis-High |  Autolysis-Low |\n",
    "|------------------|----------------|----------------|\n",
    "|**Putrefaction-High** | 14             | 59             |\n",
    "|**Putrefaction-Low**  | 18             | 9              |"
   ]
  },
  {
   "cell_type": "markdown",
   "metadata": {},
   "source": [
    "a. If the autolysis of a sample is high, what is the probability that the putrefaction is low?\n",
    "***\n",
    "**Answer:**\n",
    "\n",
    "The total number of deceased beetles is: \n",
    "$$\n",
    "\\text{Total} = 14 + 59 + 18 + 9 = 100\n",
    "$$\n",
    "\n",
    "The number of deceased beetles whose autolysis is high is:\n",
    "$$\n",
    "\\text{Autolysis-High} = 14 + 18 = 32\n",
    "$$\n",
    "\n",
    "The number of deceased beetles whose putrefaction is low is:\n",
    "$$\n",
    "\\text{Putrefaction-Low} = 18 + 9 = 27\n",
    "$$\n",
    "\n",
    "Therefore, the probability that the putrefaction is low given the autolysis is high can be calculated as:\n",
    "$$\n",
    "P(\\text{Putrefaction-Low}|\\text{Autolysis-High}) = \\frac{P(\\text{Putrefaction-Low},\\text{Autolysis-High})}{P(\\text{Autolysis-High})} = \\frac{\\frac{18}{100}}{\\frac{32}{100}} = \\frac{18}{32}=\\frac{9}{16}\n",
    "$$"
   ]
  },
  {
   "cell_type": "markdown",
   "metadata": {},
   "source": [
    "b. If the putrefaction of a sample is high, what is the probability that the autolysis is high?\n",
    "***\n",
    "**Answer:**\n",
    "\n",
    "The number of deceased beetles whose putrefaction is high is:\n",
    "$$\n",
    "\\text{Putrefaction-High} = 14 + 59 = 73\n",
    "$$\n",
    "\n",
    "The probability that the autolysis is high given the putrefaction is high can be calculated as:\n",
    "$$\n",
    "P(\\text{Autolysis-High}|\\text{Putrefaction-High})=\\frac{P(\\text{Autolysis-High},\\text{Putrefaction-High})}{P(\\text{Putrefaction-High})} = \\frac{\\frac{14}{100}}{\\frac{73}{100}} = \\frac{14}{73}\n",
    "$$"
   ]
  },
  {
   "cell_type": "markdown",
   "metadata": {},
   "source": [
    "c. If the putrefaction of a sample is low, what is the probability that the autolysis is low?\n",
    "***\n",
    "**Answer:**\n",
    "\n",
    "The probability that the autolysis is low given the putrefaction is low can be calculated as:\n",
    "$$\n",
    "P(\\text{Autolysis-Low}|\\text{Putrefaction-Low})=\\frac{P(\\text{Autolysis-Low},\\text{Putrefaction-Low})}{P(\\text{Putrefaction-Low})} = \\frac{\\frac{9}{100}}{\\frac{27}{100}} = \\frac{9}{27} = \\frac{1}{3}\n",
    "$$"
   ]
  },
  {
   "cell_type": "markdown",
   "metadata": {},
   "source": [
    "### Problem 2.6.1 \n",
    "Suppose that $P(A | B) = 0.4$ and $P(B) = 0.5$. Determine the following:\n",
    "\n",
    "a. $P(A \\cap B)$\n",
    "***\n",
    "**Answer:**\n",
    "\n",
    "According to the multiplication rule, $P(A \\cap B)$ can be computed as follows:\n",
    "$$\n",
    "P(A \\cap B) = P(A|B)\\times P(B) = 0.4\\times0.5=0.2\n",
    "$$\n",
    "\n",
    "b. $P(A' \\cap B)$\n",
    "***\n",
    "**Answer:**\n",
    "\n",
    "According to the multiplication rule, $P(A' \\cap B)$ can be calculated as follows:\n",
    "$$\n",
    "P(A' \\cap B) = P(A'|B)\\times P(B)\n",
    "$$\n",
    "Since $P(A'|B)$ and $P(A|B)$ are complementary events, $P(A'|B)$ is calculated as:\n",
    "$$\n",
    "P(A'|B) = 1 - P(A|B) = 1 - 0.4 = 0.6\n",
    "$$\n",
    "Therefore, $P(A' \\cap B)$ is calculated as:\n",
    "$$\n",
    "P(A' \\cap B) = 0.6\\times 0.5 = 0.3\n",
    "$$\n"
   ]
  },
  {
   "cell_type": "markdown",
   "metadata": {},
   "source": [
    "### Problem 2.7.4\n",
    "Disks of polycarbonate plastic from a supplier are analyzed for scratch and shock resistance. The results from 100 disks are summarized as follows:\n",
    "|                  | Shock-High |  Shock-Low |\n",
    "|------------------|----------------|----------------|\n",
    "|**Scratch-High** | 70             | 9             |\n",
    "|**Scratch-Low**  | 16             | 5              |\n",
    "\n",
    "Let A denote the event that a disk has high shock resistance, and let B denote the event that a disk has high scratch resistance. Are events A and B independent?\n",
    "***\n",
    "**Answer:**\n",
    "\n",
    "To determine whether these two events are independent, we have to prove that:\n",
    "$$\n",
    "P(A|B) = P(A) \\quad \\cup \\quad P(B|A) = P(B)\n",
    "$$\n",
    "\n",
    "In this scenario, $P(A)$ and $P(B)$ are calculated as follows:\n",
    "$$\n",
    "P(A) = \\frac{70+16}{100}=\\frac{86}{100}\n",
    "$$\n",
    "$$\n",
    "P(B) = \\frac{70+9}{100} = \\frac{79}{100}\n",
    "$$\n",
    "\n",
    "Meanwhile, $P(A|B)$ and $P(B|A)$ are calculated as follows:\n",
    "$$\n",
    "P(A|B) = \\frac{P(A\\cap B)}{P(B)} = \\frac{\\frac{70}{100}}{\\frac{79}{100}} = \\frac{70}{79}\n",
    "$$\n",
    "$$\n",
    "P(B|A) = \\frac{P(A\\cap B)}{P(A)} = \\frac{\\frac{70}{100}}{\\frac{86}{100}} = \\frac{70}{86}\n",
    "$$\n",
    "\n",
    "Since $P(A|B) \\neq P(A)$ and $P(B|A) \\neq P(B)$, these two events are dependent to each other.\n"
   ]
  },
  {
   "cell_type": "markdown",
   "metadata": {},
   "source": [
    "### Problem 2.8.4\n",
    "Software to detect fraud in consumer phone cards tracks the number of metropolitan areas where calls originate\n",
    "each day. It is found that 1% of the legitimate users originate calls from two or more metropolitan areas in a single day. However, 30% of fraudulent users originate calls from two or more metropolitan areas in a single day. The proportion of fraudulent users is 0.01%. If the same user originates calls from two or more metropolitan areas in a single day, what is the probability that the user is fraudulent?\n",
    "\n",
    "***\n",
    "**Answer:**\n",
    "\n",
    "Let $F$ be the event that a user is fraudulent, and let $M$ be the event that a user originates calls from two or more metropolitan areas in a single day. Hence, we define that:\n",
    "* $P(F|M)$: the probability that a user is fraudulent given they origniate calls from two or more metropolitan areas in a single day.\n",
    "* $P(M|F)$: the probability that a fraudulent user originates calls from two or more metropolitan areas in a single day. In this scenario, 30% of fraudulent users originate calls from two or more metropolitan areas in a single day means that $P(M|F) = 0.3$.\n",
    "* $P(F)$: the total proportion of fraudulent users. In this scenario, the proportion of fraudulent users is 0.01% means that $P(F) = 0.0001$.\n",
    "* $P(M)$: the total proportion of users from two or more metropolitan areas.\n",
    "* $P(M|F')$: the probability that a user is legitimate given they origniate calls from two or more metropolitan areas in a single day. In this case, 1% of the legitimate users originate calls from two or more metropolitan areas in a single day means that $P(M|F') = 0.01$.\n",
    "\n",
    "Using the Bayes' Rule, $P(F|M)$ can be calculated as:\n",
    "$$\n",
    "P(F|M) = \\frac{P(M|F)\\times P(F)}{P(M)}\n",
    "$$\n",
    "\n",
    "To calculate $P(M)$, we can use the law of total probability:\n",
    "$$\n",
    "P(M) = P(M|F)\\times P(F) + P(M|F')\\times P(F') = 0.3\\times0.0001 + 0.01\\times(1 - 0.0001) \\approx 0.01003\n",
    "$$\n",
    "\n",
    "Therefore, $P(F|M) = 0.3 \\times 0.0001 / 0.01003 \\approx 0.00299$"
   ]
  },
  {
   "cell_type": "markdown",
   "metadata": {},
   "source": [
    "### Problem 3.1.10\n",
    "$f(x) = \\frac{8}{7}(\\frac{1}{2})^x$ given $x = 1, 2, 3$.\n",
    "\n",
    "***\n",
    "**Answer:**\n",
    "\n",
    "To verify whether $f(x)$ is a probability mass function, we must verify that:\n",
    "* $f(x = x_i)\\geq 0 \\quad \\forall x_i = \\{1,2,3\\}$.\n",
    "* $\\sum_{x_i}f(x_i) = 1 \\quad \\forall x_i = \\{1,2,3\\}$.\n",
    "\n",
    "$$f(x = 1) = \\frac{8}{7}(\\frac{1}{2})^1 = \\frac{4}{7}$$\n",
    "$$f(x = 2) = \\frac{8}{7}(\\frac{1}{2})^2 = \\frac{2}{7}$$\n",
    "$$f(x = 3) = \\frac{8}{7}(\\frac{1}{2})^3 = \\frac{1}{7}$$\n",
    "Since $f(x=1)\\geq 0$, $f(x=2)\\geq 0$, $f(x=3)\\geq 0$, and $f(x=1) + f(x=2) + f(x=3) = 1$, we can conclude that $f(x)$ is a probability mass function.\n",
    "\n",
    "(a) $P(X\\leq 1) = \\frac{8}{7}(\\frac{1}{2})^1 = \\frac{4}{7}$.\n",
    "\n",
    "(b) $P(X > 1) = \\frac{8}{7}(\\frac{1}{2})^2  + \\frac{8}{7}(\\frac{1}{2})^3 = \\frac{4}{7}$.\n",
    "\n",
    "(c) $P(2 < X < 6) = \\frac{8}{7}(\\frac{1}{2})^2  + \\frac{8}{7}(\\frac{1}{2})^3 + 0 + 0 + 0 = \\frac{4}{7}$\n",
    "\n",
    "(d) $P(X \\leq 1 \\text{ or } X > 1) = \\frac{8}{7}(\\frac{1}{2})^1 + \\frac{8}{7}(\\frac{1}{2})^2  + \\frac{8}{7}(\\frac{1}{2})^3 = 1$"
   ]
  },
  {
   "cell_type": "markdown",
   "metadata": {},
   "source": [
    "### Problem 3.1.17\n",
    "An assembly consists of three mechanical components. Suppose that the probabilities that the first, second, and third components meet specifications are 0.95, 0.98, and\n",
    "0.99, respectively. Assume that the components are independent. Determine the probability mass function of the number of components in the assembly that meet specifications.\n",
    "\n",
    "***\n",
    "**Answer:**\n"
   ]
  },
  {
   "cell_type": "markdown",
   "metadata": {},
   "source": [
    "### Problem 3.4.4\n",
    "Thickness measurements of a coating process are\n",
    "made to the nearest hundredth of a millimeter. The thickness measurements are uniformly distributed with values 0.15, 0.16, 0.17,\n",
    "0.18, and 0.19. Determine the mean and variance of the coating\n",
    "thickness for this process.\n",
    "\n",
    "***\n",
    "**Answer:**\n",
    "\n",
    "Since the thickness measurements are uniformly distributed, the probability associating with each measurement will be $1/N$ with $N$ is the number of measurments. Hence, the mean of coating is computed as follows:\n",
    "$$\n",
    "\\mu = \\frac{1}{N}\\sum^{N}_{i}p_ix_i = \\frac{0.15\\times0.5 + 0.16\\times0.5 + 0.17\\times0.5 + 0.18\\times0.5 + 0.19\\times0.5}{5} = 0.085\n",
    "$$"
   ]
  },
  {
   "cell_type": "markdown",
   "metadata": {},
   "source": [
    "### Problem 3.5.6\n",
    "An electronic product contains 40 integrated circuits.\n",
    "The probability that any integrated circuit is defective is 0.01, and\n",
    "the integrated circuits are independent. The product operates only\n",
    "if there are no defective integrated circuits. What is the probability\n",
    "that the product operates?\n",
    "\n",
    "***\n",
    "**Answer:**\n"
   ]
  },
  {
   "cell_type": "markdown",
   "metadata": {},
   "source": [
    "### Problem 3.6.3\n"
   ]
  },
  {
   "cell_type": "markdown",
   "metadata": {},
   "source": [
    "### Problem 3.6.7\n",
    "### Problem 3.8.3\n",
    "### Problem 3.8.5\n",
    "### Problem 3.8.9"
   ]
  },
  {
   "cell_type": "markdown",
   "metadata": {},
   "source": []
  }
 ],
 "metadata": {
  "kernelspec": {
   "display_name": "base",
   "language": "python",
   "name": "python3"
  },
  "language_info": {
   "name": "python",
   "version": "3.10.12"
  },
  "orig_nbformat": 4
 },
 "nbformat": 4,
 "nbformat_minor": 2
}
