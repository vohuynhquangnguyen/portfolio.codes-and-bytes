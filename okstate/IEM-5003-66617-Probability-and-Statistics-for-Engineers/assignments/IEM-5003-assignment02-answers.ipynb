{
 "cells": [
  {
   "cell_type": "code",
   "execution_count": null,
   "metadata": {},
   "outputs": [],
   "source": [
    "Chapter 4:\n",
    "1. 4.1.2\n",
    "2. 4.2.1\n",
    "3. 4.3.1\n",
    "4. 4.4.4\n",
    "5. 4.5.2\n",
    "6. 4.5.6\n",
    "7. 4.6.5\n",
    "8. 4.7.4\n",
    "9. 4.7.6\n",
    "10. 4.8.5\n",
    "Chapter 5:\n",
    "1. 5.1.1\n",
    "2. 5.2.2\n",
    "3. 5.4.1\n"
   ]
  }
 ],
 "metadata": {
  "language_info": {
   "name": "python"
  },
  "orig_nbformat": 4
 },
 "nbformat": 4,
 "nbformat_minor": 2
}
