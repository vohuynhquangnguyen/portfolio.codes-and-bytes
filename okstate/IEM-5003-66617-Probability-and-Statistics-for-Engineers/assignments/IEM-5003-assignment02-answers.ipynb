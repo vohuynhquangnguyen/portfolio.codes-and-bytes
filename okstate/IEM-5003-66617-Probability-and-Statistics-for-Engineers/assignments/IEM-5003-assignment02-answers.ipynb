{
 "cells": [
  {
   "cell_type": "markdown",
   "metadata": {},
   "source": [
    "### Problem 4.1.2\n",
    "The diameter of a particle of contamination (in micrometers) is modeled with the probability density function\n",
    "$f(x) = 2∕x^3$ for $x > 1$. Determine the following:\n",
    "\n",
    "a. $P(X < 2)$\n",
    "\n",
    "b. $P(X > 5)$\n",
    "\n",
    "c. $P(4 < X < 8)$\n",
    "\n",
    "d. $P(X < 4 or X > 8)$\n",
    "\n",
    "e. $x$ such that $P(X < x) = 0.95$\n",
    "\n",
    "***\n",
    "**Answers:**\n",
    "\n",
    "Since the diamter of a particle of contamination is modeled with a probability function, we can agree that $P(a\\leq X \\leq b) = \\int_{a}^b f(x)dx$.\n",
    "\n",
    "a. In this scenario,\n",
    "$$\n",
    "P(X < 2) = P(1 < X < 2) = 1 - P(X \\geq 2) = 1 - \\int_{2}^{\\infty} (2/x^3)dx = 1 - \\Big[ 1/x^2 \\Big]_2^{\\infty} = 1 - \\frac{1}{4} = \\frac{3}{4}\n",
    "$$\n",
    "\n"
   ]
  },
  {
   "cell_type": "markdown",
   "metadata": {},
   "source": [
    "### Problem 4.2.1\n",
    "### Problem 4.3.1\n",
    "### Problem 4.4.4\n",
    "### Problem 4.5.2\n",
    "### Problem 4.5.6\n",
    "### Problem 4.6.5\n",
    "### Problem 4.7.4\n",
    "### Problem 4.7.6\n",
    "### Problem 4.8.5\n",
    "\n",
    "### Problem 5.1.1\n",
    "### Problem 5.2.2\n",
    "### Problem 5.4.1\n"
   ]
  }
 ],
 "metadata": {
  "language_info": {
   "name": "python"
  },
  "orig_nbformat": 4
 },
 "nbformat": 4,
 "nbformat_minor": 2
}
