{
 "cells": [
  {
   "cell_type": "markdown",
   "metadata": {},
   "source": [
    "# Homework 1\n",
    "Student Name: Huynh Quang Nguyen Vo\n",
    "\n",
    "CWID: A20446163"
   ]
  },
  {
   "cell_type": "markdown",
   "metadata": {},
   "source": [
    "### Problem 1\n",
    "\n",
    "***\n",
    "**Answers:**\n",
    "Denote the coordinates of the new machine as $\\begin{pmatrix}x_1 \\\\ x_2\\end{pmatrix}$. THe distance from the new machine to each of the four machines is respectively given as:\n",
    "\n",
    "Distance to Machine 1: $\\begin{pmatrix} |x_1 - 3| \\\\ |x_2 - 0| \\end{pmatrix} \\rightarrow |x_1 - 3| + |x_2|$.\n",
    "\n",
    "Distance to Machine 2: $\\begin{pmatrix} |x_1 - 0| \\\\ |x_2 - (-3)| \\end{pmatrix} \\rightarrow |x_1| + |x_2+3|$.\n",
    "\n",
    "Distance to Machine 3: $\\begin{pmatrix} |x_1 - (-2)| \\\\ |x_2 - 1| \\end{pmatrix} \\rightarrow |x_1 + 2| + |x_2-1|$.\n",
    "\n",
    "Distance to Machine 4: $\\begin{pmatrix} |x_1 - 1| \\\\ |x_2 - 4| \\end{pmatrix} \\rightarrow |x_1-1| + |x_2 - 4|$.\n",
    "\n",
    "(a) In this scenario:\n",
    "* Decision variables: the street distances between the new machine to the four pre-existing machines, respectively. These distances are denoted as $z_{i}$ with $i = 1,2,3,4$.\n",
    "* Objective function: we need to minimize the sum of the street distances from the new machine to the four pre-existing machines, respectively. Hence, our objective function is given as:\n",
    "$$\n",
    "\\min z_1 + z_2 + z_3 + z_4 \\equiv \\min_{x_1, x_2} |x_1 - 3| + |x_2| + |x_1| + |x_2+3| + |x_1 + 2| + |x_2-1| + |x_1-1| + |x_2-4|\n",
    "$$ \n",
    "* Constraints: \n",
    "\n",
    "Therefore, our linear optimization model is given as:\n",
    "\n",
    "(b) In this scenario:\n",
    "* Decision variables: the street distances between the new machine to the four pre-existing machines, respectively.\n",
    "* Objective function: we need to minimize the sum of the weighted street distances from the new machine to the four pre-existing machines, respectively. Hence, our objective function is given as:\n",
    "$$\n",
    "\\min w_1z_1 + w_2z_2 + w_3z_3 + w_4z_4 \\equiv \\min_{x_1, x_2} 5 \\Big(|x_1 - 3| + |x_2| \\Big) + 7 \\Big(|x_1| + |x_2+3|\\Big) + 3 \\Big(|x_1 + 2| + |x_2-1| \\Big) + 1 \\Big(|x_1-1| + |x_2-4| \\Big)\n",
    "$$\n",
    "* Constraints: \n",
    "\n",
    "Therefore, our linear optimization model is given as:\n",
    "\n",
    "\n",
    "(c) In this scenario:\n",
    "* Decision variables: the street distances between the new machine to the four pre-existing machines, respectively.\n",
    "* Objective function: we need to minimize the sum of the street distances. Hence, our objective function is given as:\n",
    "$$\n",
    "\\min z_1 + z_2 + z_3 + z_4 \\equiv \\min_{x_1, x_2} |x_1 - 3| + |x_2| + |x_1| + |x_2+3| + |x_1 + 2| + |x_2-1| + |x_1-1| + |x_2-4|\n",
    "$$ \n",
    "* Constraits:\n",
    "    * The new machine must be located in the square: ${(x_1, x_2): −1 \\leq x_1 \\leq 2, 0 \\leq x_2 \\leq 1}$\n",
    "\n",
    "Therefore, our linear optimization model is given as:\n",
    "\n",
    "(d) In this scenario:\n",
    "* Decision variables: the street distances between the new machine to the four pre-existing machines, respectively.\n",
    "* Objective function: we need to minimize the sum of the street distances. Hence, our objective function is given as:\n",
    "$$\n",
    "\\min z_1 + z_2 + z_3 + z_4 \\equiv \\min_{x_1, x_2} |x_1 - 3| + |x_2| + |x_1| + |x_2+3| + |x_1 + 2| + |x_2-1| + |x_1-1| + |x_2-4|\n",
    "$$ \n",
    "* Constraits:\n",
    "    * The new machine must be located so that its distance from the first machine does not exceed 3/2. Thus, $|x_1 - 3| + |x_2| \\leq 3/2$\n",
    "\n",
    "Therefore, our linear optimization model is given as:"
   ]
  },
  {
   "cell_type": "markdown",
   "metadata": {},
   "source": [
    "### Problem 2\n",
    "\n",
    "*** \n",
    "**Answers:**\n"
   ]
  },
  {
   "cell_type": "markdown",
   "metadata": {},
   "source": []
  }
 ],
 "metadata": {
  "language_info": {
   "name": "python"
  },
  "orig_nbformat": 4
 },
 "nbformat": 4,
 "nbformat_minor": 2
}
