{
 "cells": [
  {
   "cell_type": "markdown",
   "metadata": {},
   "source": [
    "# Homework 1\n",
    "Student Name: Huynh Quang Nguyen Vo\n",
    "\n",
    "CWID: A20446163"
   ]
  },
  {
   "cell_type": "code",
   "execution_count": 3,
   "metadata": {},
   "outputs": [],
   "source": [
    "import gurobipy as gp\n",
    "from gurobipy import GRB\n",
    "import numpy as np"
   ]
  },
  {
   "cell_type": "code",
   "execution_count": 7,
   "metadata": {},
   "outputs": [],
   "source": [
    "##\n",
    "# Input parameters:\n",
    "#\n",
    "months = np.linspace(start = 1, stop = 6, num = 6)\n",
    "demands = [1055, 700, 1645, 1600, 1095, 845]\n",
    "production_capacities = [1000, 300]\n",
    "inventory_cost = 2\n",
    "backordered_cost = 5\n",
    "production_costs = [10, 15]\n",
    "inventories = [0, 0]\n",
    "back_orders = [0, 0]\n",
    "\n",
    "indices = range(1, len(months) + 1)\n",
    "m = gp.Model('Production_Planning_with_Backorders')\n",
    "\n",
    "##\n",
    "# Decision variables:\n",
    "#\n",
    "x = m.addVars(indices, lb = 0.0, vtype = GRB.INTEGER, name = 'units_produced_regular')\n",
    "y = m.addVars(indices, lb=0.0, vtype = GRB.INTEGER, name = 'units_produced_overtime')\n",
    "z = m.addVars(indices, lb=0.0, vtype = GRB.INTEGER, name = 'units_carriedover_invetories')\n",
    "w = m.addVars(indices, lb=0.0, vtype = GRB.INTEGER, name = 'units_backordered')\n",
    "\n",
    "##\n",
    "# Objective function:\n",
    "#\n",
    "m.setObjective(gp.quicksum(x[i] for i in indices) + gp.quicksum(y[i] for i in indices) + gp.quicksum(z[i] for i in indices) + gp.quicksum(w[i] for i in indices), GRB.MINIMIZE)\n",
    "\n",
    "##\n",
    "# Constraints:\n",
    "#\n",
    "m.addConstr(z[0] == inventories[0])\n",
    "m.addConstr(w[0] == )\n",
    "m.addConstr(x[i] + y[i] + z[i - 1] - z[i] == demands[i] + w[i - 1] - w[i] for i in indices)\n",
    "m.addConstr()\n"
   ]
  },
  {
   "cell_type": "code",
   "execution_count": null,
   "metadata": {},
   "outputs": [],
   "source": []
  }
 ],
 "metadata": {
  "kernelspec": {
   "display_name": "base",
   "language": "python",
   "name": "python3"
  },
  "language_info": {
   "codemirror_mode": {
    "name": "ipython",
    "version": 3
   },
   "file_extension": ".py",
   "mimetype": "text/x-python",
   "name": "python",
   "nbconvert_exporter": "python",
   "pygments_lexer": "ipython3",
   "version": "3.11.4"
  },
  "orig_nbformat": 4
 },
 "nbformat": 4,
 "nbformat_minor": 2
}
