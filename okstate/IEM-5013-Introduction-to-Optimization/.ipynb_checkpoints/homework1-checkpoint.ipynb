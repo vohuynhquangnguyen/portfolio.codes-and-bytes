{
 "cells": [
  {
   "cell_type": "markdown",
   "metadata": {},
   "source": [
    "# Homework 1\n",
    "Student Name: Huynh Quang Nguyen Vo\n",
    "CWID: A20446163"
   ]
  },
  {
   "cell_type": "markdown",
   "metadata": {},
   "source": [
    "## Problem 1\n",
    "\n",
    "***\n",
    "**Answer:**\n",
    "\n",
    "In this problem:\n",
    "  * Decision variables: $x_{i,j}$ the number of $j$ leasing months starting from month $i$.\n",
    "  * Objective function: we need to minimize the total leasing cost which is the sum of these five sets of sub-functions:\n",
    "    * $65x_{1,1} + 100x_{1,2} + 135x_{1,3} + 160x_{1,4} + 190x_{1,5}$ (Started as Month $i = 1$, and lease up to $j = 1,2, 3, 4, 5$ months).\n",
    "    * $65x_{2,1} + 100x_{2,2} + 135x_{2,3} + 160x_{2,4}$ (Started as Month $i = 2$, and lease up to $j = 1,2, 3, 4$ months).\n",
    "    * $65x_{3,1} + 100x_{3,2} + 135x_{3,3}$ (Started as Month $i = 3$, and lease up to $j = 1,2,3$ months).\n",
    "    * $65x_{4,1} + 100x_{4,2}$ (Started as Month $i = 4$, and lease up to $j = 1, 2$ months).\n",
    "    * $65x_{5,1}$ (Started as Month $i = 5$, and lease up to $j = 1$ months).\n",
    "  * Constraints:\n",
    "    * Each decision variable must be non-negative: $\\{x_{i,j}\\geq 0;\\forall i,j = 1,2,...,5\\}$.\n",
    "    * Minimum space requirements for each month:\n",
    "      * $x_{1,1} + x_{1,2} + x_{1,3} + x_{1,4} + x_{1,5} \\geq 30,000$ \n",
    "      * $x_{1,2} + x_{2,1} + x_{2,2} + x_{2,3} + x_{2,4} \\geq 20,000$\n",
    "      * $x_{1,3} + x_{2,3} + x_{3,1} + x_{3,2} + x_{3,3} \\geq 40,000$\n",
    "      * $x_{1,4} + x_{2,4} + x_{3,4} + x_{4,1} + x_{4,2} \\geq 10,000$\n",
    "      * $x_{1,5} + x_{2,5} + x_{3,5}+ x_{4,5} + x_{5,1} \\geq 50,000$ \n",
    "    \n",
    "\n",
    "Therefore, the linear optimization model for this problem is:\n",
    "$$\n",
    "\\text{Min} \\quad \n",
    "\\begin{aligned}\n",
    "& 65x_{1,1} + 100x_{1,2} + 135x_{1,3} + 160x_{1,4} + 190x_{1,5} \\\\\n",
    "& + 65x_{2,1} + 100x_{2,2} + 135x_{2,3} + 160x_{2,4} \\\\\n",
    "& + 65x_{3,1} + 100x_{3,2} + 135x_{3,3} \\\\\n",
    "& + 65x_{4,1} + 100x_{4,2} \\\\\n",
    "& + 65x_{5,1} \\\\\n",
    "\\end{aligned}\n",
    "$$\n",
    "s.t.\n",
    "$$\n",
    "\\begin{cases}\n",
    "x_{i,j}\\geq 0;\\forall i,j = 1,2,...,5 \\\\\n",
    "x_{1,1} + x_{1,2} + x_{1,3} + x_{1,4} + x_{1,5} \\geq 30,000 \\\\\n",
    "x_{2,1} + x_{2,2} + x_{2,3} + x_{2,4} \\geq 20,000 \\\\\n",
    "x_{3,1} + x_{3,2} + x_{3,3} \\geq 40,000 \\\\\n",
    "x_{4,1} + x_{4,2} \\geq 10,000 \\\\\n",
    "x_{5,1} \\geq 50,000 \\\\\n",
    "\\end{cases}\n",
    "$$"
   ]
  },
  {
   "cell_type": "markdown",
   "metadata": {},
   "source": [
    "## Problem 2\n",
    "*** \n",
    "**Answer:**\n",
    "\n",
    "In this problem:\n",
    "* Decision variables: $x_i$ the number of workers employed for two consecutive periods starting at the $i$-th period, and $y_i$ the number of workers employed for three consecutive periods starting at the $i$-th period.\n",
    "* Objective function: we need to minimize the total labour cost $F(x,y) = c_x\\sum^{6}_{i} x_i + c_y \\sum^{6}_{i}y_i$, with $c_y = 1.5c_x$\n",
    "* Constraints: \n",
    "    * Each decision variables must be non-negative: \n",
    "    * For Period 1: $x_1 + x_6 + y_1 + y_6 + y_5 \\geq 20$\n",
    "    * For Period 2: $x_2 + x_1 + y_2 + y_1 + y_6 \\geq 50$\n",
    "    * For Period 3: $x_3 + x_2 + y_3 + y_2 + y_1  \\geq 80$\n",
    "    * For Period 4: $x_4 + x_3 + y_4 + y_3 + y_2 \\geq 100$\n",
    "    * For Period 5: $x_5 + x_4 + y_5 + y_4 + y_3 \\geq 40$\n",
    "    * For Period 6: $x_6 + x_5 + y_6 + y_5 + y_4 \\geq 30$\n",
    "\n",
    "Therefore, the linear optimization model is:\n",
    "$$\n",
    "\\text{Min} \\quad c_x\\sum^{6}_{i} x_i + c_y \\sum^{6}_{i}y_i\n",
    "$$\n",
    "s.t.\n",
    "\n",
    "$$\n",
    "\\begin{cases}\n",
    "    x_1 + x_6 + y_1 + y_6 + y_5 \\geq 20 \\\\\n",
    "    x_2 + x_1 + y_2 + y_1 + y_6 \\geq 50 \\\\ \n",
    "    x_3 + x_2 + y_3 + y_2 + y1  \\geq 80 \\\\\n",
    "    x_4 + x_3 + y_4 + y_3 + y_2 \\geq 100 \\\\\n",
    "    x_5 + x_4 + y_5 + y_4 + y_3 \\geq 40 \\\\\n",
    "    x_6 + x_5 + y_6 + y_5 + y_4 \\geq 30 \\\\\n",
    "\\end{cases}\n",
    "$$"
   ]
  },
  {
   "cell_type": "code",
   "execution_count": null,
   "metadata": {},
   "outputs": [],
   "source": []
  }
 ],
 "metadata": {
  "kernelspec": {
   "display_name": "Python 3 (ipykernel)",
   "language": "python",
   "name": "python3"
  },
  "language_info": {
   "codemirror_mode": {
    "name": "ipython",
    "version": 3
   },
   "file_extension": ".py",
   "mimetype": "text/x-python",
   "name": "python",
   "nbconvert_exporter": "python",
   "pygments_lexer": "ipython3",
   "version": "3.11.4"
  }
 },
 "nbformat": 4,
 "nbformat_minor": 2
}
