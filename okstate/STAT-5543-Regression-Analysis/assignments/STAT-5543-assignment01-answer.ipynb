{
 "cells": [
  {
   "cell_type": "markdown",
   "metadata": {},
   "source": [
    "# Assignment 1\n",
    "Student Name: Vo, Huynh Quang Nguyen\n",
    "\n",
    "CWID: A20446163"
   ]
  },
  {
   "cell_type": "markdown",
   "metadata": {},
   "source": [
    "### Problem 1\n",
    "\n",
    "$$ A = \n",
    "\\begin{bmatrix}\n",
    "4  & 3 \\\\\n",
    "3  & 1 \\\\\n",
    "\\end{bmatrix},\n",
    "\\quad\n",
    "B = \\begin{bmatrix}\n",
    "1/4  & 1/4 \\\\\n",
    "1/4 & 1 \\\\\n",
    "\\end{bmatrix},\n",
    "\\quad\n",
    "C =\n",
    "\\begin{bmatrix}\n",
    "5  & 0 \\\\\n",
    "0  & 1 \\\\\n",
    "\\end{bmatrix}\n",
    "$$\n",
    "\n",
    "(a) Is $B$ a symmetric matrix?\n",
    "\n",
    "(b) Is $C$ a diagonal matrix? Write yes or no.\n",
    "\n",
    "(c) Find the transpose of $A$.\n",
    "\n",
    "(d) Define the 3 matrices in R and find $A+B+C$. \n",
    "\n",
    "***\n",
    "**Answer:**\n",
    "\n",
    "(a) $B$ is a symmetric matrix (Yes).\n",
    "\n",
    "(b) $C$ is diagonal matrix (Yes).\n",
    "\n",
    "(c) The transpose of $A$ is given as:\n",
    "$$\n",
    "[A]_{i,j} = [A]^T_{ji} \\rightarrow A^T = \\begin{bmatrix} 4 & 3 \\\\ 3 & 1  \\end{bmatrix}\n",
    "$$\n",
    "with $i,j$ stand for the $i$-th row and the $j$-th column for $A$, respectively.\n",
    "\n",
    "(d)\n",
    "\n",
    "$$\n",
    "A + B + C = \n",
    "\\begin{bmatrix}\n",
    "4 + \\frac{1}{4} + 5 & 3 + \\frac{1}{4} + 0 \\\\\n",
    "3 + \\frac{1}{4} + 0 & 1 + 1 + 1\\\\\n",
    "\\end{bmatrix}\n",
    "= \n",
    "\\begin{bmatrix}\n",
    "\\frac{37}{4} & \\frac{13}{4} \\\\\n",
    "\\frac{13}{4} & 3 \\\\\n",
    "\\end{bmatrix}\n",
    "$$\n",
    "Corresponding R-code:"
   ]
  },
  {
   "cell_type": "code",
   "execution_count": 1,
   "metadata": {
    "vscode": {
     "languageId": "r"
    }
   },
   "outputs": [
    {
     "name": "stdout",
     "output_type": "stream",
     "text": [
      "     [,1] [,2]\n",
      "[1,] TRUE TRUE\n",
      "[2,] TRUE TRUE\n",
      "     [,1] [,2]\n",
      "[1,] 9.25 3.25\n",
      "[2,] 3.25 3.00\n"
     ]
    }
   ],
   "source": [
    "A <- matrix(c(4, 3, 3, 1), nrow = 2, byrow = TRUE)\n",
    "B <- matrix(c(1/4, 1/4, 1/4, 1), nrow = 2, byrow = TRUE)\n",
    "C <- matrix(c(5, 0, 0, 1), nrow = 2, byrow = TRUE)\n",
    "\n",
    "print(B == t(B))\n",
    "sum_3_matrices <- A + B + C\n",
    "print(sum_3_matrices)"
   ]
  },
  {
   "cell_type": "markdown",
   "metadata": {},
   "source": [
    "### Problem 2\n",
    "A criminologist studying the relationship between the level of education and crime rate in medium-sized U.S counties collected the data given in the file `Crime rate.txt` for a random sample of 84 counties; the second column is the percentage of the individuals in the county having at least a high-school diploma, and the first column is the crime rate (crimes reported per 100,000 residents) last year. The criminologist wants to build a linear model to see if the crime rate depends on the percentage of high school diplomas. \n",
    "\n",
    "(a)\tRead the data into R using the function `read.table()`. This works exactly like `read.csv()`, but it can read data from files that are not necessarily a csv file. Make sure you use the appropriate value of the header argument (TRUE or FALSE).\n",
    "\n",
    "(b)\tAn expert decided that the observations with less 80% rate of high school diploma may not be reliable. So, we will only use the part of the data for which this rate is at least 80%. Use R to find this subset of the data. How many observations does it have? Find the average crime rate from this data set.\n",
    "\n",
    "(c)\tUse this subset of the data to obtain the correlation between crime rate and high school diploma percentage. Also use a hypothesis testing method to test if the correlation is significantly different from zero at 1% level. You must write the null and the alternative hypotheses, justify your reason to accept/reject the null hypothesis at a pre-specified level, and write your final conclusion.\n",
    "\n",
    "(d)\tUse the original data set (not the subset obtained in part (b)) to answer this question and the following questions. Create a scatter plot of the two variables with the crime rate in the Y-axis. Make the points green solid dots and make their size 80% of the default. Put appropriate axis labels. The axis labels should be 75% of the default size. Add an appropriate title. \n",
    "Then use the `points()` function to make the data points coming from counties with less 80% high school diploma rate orange. You must include the plot in your answer.\n",
    "\n",
    "(e)\tFind the average crime rate in the counties with less than 80% of a high-school diploma. Find the same average for counties with more than or equal to 80% of high school diplomas.\n",
    "\n",
    "***\n",
    "**Answer:**\n",
    "\n",
    "(a) Corresponding R-code:"
   ]
  },
  {
   "cell_type": "code",
   "execution_count": 2,
   "metadata": {
    "vscode": {
     "languageId": "r"
    }
   },
   "outputs": [
    {
     "data": {
      "text/html": [
       "<table>\n",
       "<thead><tr><th scope=col>Crime</th><th scope=col>Diplomapct</th></tr></thead>\n",
       "<tbody>\n",
       "\t<tr><td>8487</td><td>74  </td></tr>\n",
       "\t<tr><td>8179</td><td>82  </td></tr>\n",
       "\t<tr><td>8362</td><td>81  </td></tr>\n",
       "\t<tr><td>8220</td><td>81  </td></tr>\n",
       "\t<tr><td>6246</td><td>87  </td></tr>\n",
       "\t<tr><td>9100</td><td>66  </td></tr>\n",
       "</tbody>\n",
       "</table>\n"
      ],
      "text/latex": [
       "\\begin{tabular}{r|ll}\n",
       " Crime & Diplomapct\\\\\n",
       "\\hline\n",
       "\t 8487 & 74  \\\\\n",
       "\t 8179 & 82  \\\\\n",
       "\t 8362 & 81  \\\\\n",
       "\t 8220 & 81  \\\\\n",
       "\t 6246 & 87  \\\\\n",
       "\t 9100 & 66  \\\\\n",
       "\\end{tabular}\n"
      ],
      "text/markdown": [
       "\n",
       "| Crime | Diplomapct |\n",
       "|---|---|\n",
       "| 8487 | 74   |\n",
       "| 8179 | 82   |\n",
       "| 8362 | 81   |\n",
       "| 8220 | 81   |\n",
       "| 6246 | 87   |\n",
       "| 9100 | 66   |\n",
       "\n"
      ],
      "text/plain": [
       "  Crime Diplomapct\n",
       "1 8487  74        \n",
       "2 8179  82        \n",
       "3 8362  81        \n",
       "4 8220  81        \n",
       "5 6246  87        \n",
       "6 9100  66        "
      ]
     },
     "metadata": {},
     "output_type": "display_data"
    }
   ],
   "source": [
    "dat <- read.table('../datasets/Crime rate.txt', header = TRUE)\n",
    "head(dat)"
   ]
  },
  {
   "cell_type": "markdown",
   "metadata": {},
   "source": [
    "(b) Corresponding R-code:"
   ]
  },
  {
   "cell_type": "code",
   "execution_count": 3,
   "metadata": {
    "vscode": {
     "languageId": "r"
    }
   },
   "outputs": [
    {
     "data": {
      "text/html": [
       "<ol class=list-inline>\n",
       "\t<li>40</li>\n",
       "\t<li>2</li>\n",
       "</ol>\n"
      ],
      "text/latex": [
       "\\begin{enumerate*}\n",
       "\\item 40\n",
       "\\item 2\n",
       "\\end{enumerate*}\n"
      ],
      "text/markdown": [
       "1. 40\n",
       "2. 2\n",
       "\n",
       "\n"
      ],
      "text/plain": [
       "[1] 40  2"
      ]
     },
     "metadata": {},
     "output_type": "display_data"
    },
    {
     "data": {
      "text/html": [
       "6231.125"
      ],
      "text/latex": [
       "6231.125"
      ],
      "text/markdown": [
       "6231.125"
      ],
      "text/plain": [
       "[1] 6231.125"
      ]
     },
     "metadata": {},
     "output_type": "display_data"
    }
   ],
   "source": [
    "new_dat <- subset(dat, Diplomapct >= 80)\n",
    "dim(new_dat)\n",
    "mean(new_dat$Crime)"
   ]
  },
  {
   "cell_type": "markdown",
   "metadata": {},
   "source": [
    "There are 40 observations where the rate of highschool diplomas is at least 80%.\n",
    "\n",
    "The average crime rate of this subset, containing only data points whose diploma rate is at least 80%, is 6231.125."
   ]
  },
  {
   "cell_type": "markdown",
   "metadata": {},
   "source": [
    "(c) To conduct a hypothesis test between two variables - crime rate and highschool diploma's rate - do determine whether their correlation is significantly different from zero at 1% level, we first need to determine our null ($H_o$) and alternative ($H_a$) hypothesis as well as our significant level.\n",
    "* $H_o$: $\\rho = 0$.\n",
    "* $H_1$: $\\rho ≠ 0$.\n",
    "* Significant level: 1%\n",
    "\n",
    "with the assumption that both variables follow a bivariate normal distribution. Corresponding R-code:\n",
    "\n"
   ]
  },
  {
   "cell_type": "code",
   "execution_count": 4,
   "metadata": {
    "vscode": {
     "languageId": "r"
    }
   },
   "outputs": [
    {
     "data": {
      "text/html": [
       "-0.319768642081719"
      ],
      "text/latex": [
       "-0.319768642081719"
      ],
      "text/markdown": [
       "-0.319768642081719"
      ],
      "text/plain": [
       "[1] -0.3197686"
      ]
     },
     "metadata": {},
     "output_type": "display_data"
    },
    {
     "data": {
      "text/plain": [
       "\n",
       "\tPearson's product-moment correlation\n",
       "\n",
       "data:  new_dat$Crime and new_dat$Diplomapct\n",
       "t = -2.0804, df = 38, p-value = 0.04428\n",
       "alternative hypothesis: true correlation is not equal to 0\n",
       "95 percent confidence interval:\n",
       " -0.574092144 -0.009173027\n",
       "sample estimates:\n",
       "       cor \n",
       "-0.3197686 \n"
      ]
     },
     "metadata": {},
     "output_type": "display_data"
    }
   ],
   "source": [
    "cor(new_dat$Crime, new_dat$Diplomapct)\n",
    "cor.test(new_dat$Crime, new_dat$Diplomapct, conf.level = 0.95)"
   ]
  },
  {
   "cell_type": "markdown",
   "metadata": {},
   "source": [
    "The correlation coefficient of these variables is approximately -0.3198.\n",
    "\n",
    "According to results of the t-test, the p-value is 0.4428 that is greater than the significant level (1%). Hence, we fail to reject our null hypothesis ($H_o$)."
   ]
  },
  {
   "cell_type": "markdown",
   "metadata": {},
   "source": [
    "(d) Corresponding R-code:"
   ]
  },
  {
   "cell_type": "code",
   "execution_count": 5,
   "metadata": {
    "vscode": {
     "languageId": "r"
    }
   },
   "outputs": [
    {
     "data": {
      "image/png": "[encoded data removed]",
      "text/plain": [
       "Plot with title \"Diploma vs. Crime Rates\""
      ]
     },
     "metadata": {},
     "output_type": "display_data"
    }
   ],
   "source": [
    "plot(dat$Diplomapct, dat$Crime,\n",
    "    xlab = \"Diploma Rate per county\", ylab = \"Crime Rate per county\", \n",
    "    cex.axis = 0.75,\n",
    "    pch = 16, col = \"green\", cex = 0.8,\n",
    "    main = \"Diploma vs. Crime Rates\")\n",
    "\n",
    "lessthan80 <- subset(dat, dat$Diplomapct < 80)\n",
    "points(lessthan80$Diplomapct, lessthan80$Crime, \n",
    "    col = \"orange\", \n",
    "    cex = 0.8, \n",
    "    pch = 16)"
   ]
  },
  {
   "cell_type": "markdown",
   "metadata": {},
   "source": [
    "(e) Corresponding R-code:"
   ]
  },
  {
   "cell_type": "code",
   "execution_count": 6,
   "metadata": {
    "vscode": {
     "languageId": "r"
    }
   },
   "outputs": [
    {
     "data": {
      "text/html": [
       "7911.27272727273"
      ],
      "text/latex": [
       "7911.27272727273"
      ],
      "text/markdown": [
       "7911.27272727273"
      ],
      "text/plain": [
       "[1] 7911.273"
      ]
     },
     "metadata": {},
     "output_type": "display_data"
    },
    {
     "data": {
      "text/html": [
       "6231.125"
      ],
      "text/latex": [
       "6231.125"
      ],
      "text/markdown": [
       "6231.125"
      ],
      "text/plain": [
       "[1] 6231.125"
      ]
     },
     "metadata": {},
     "output_type": "display_data"
    }
   ],
   "source": [
    "lessthan80 <- subset(dat, Diplomapct < 80)\n",
    "mean(lessthan80$Crime)\n",
    "atleast80 <- subset(dat, Diplomapct >= 80)\n",
    "mean(atleast80$Crime)"
   ]
  },
  {
   "cell_type": "markdown",
   "metadata": {},
   "source": [
    "The average crime rate in the counties with a rate of having a high-school diploma less than 80% is approximately 7911.2727.\n",
    "\n",
    "The average crime rate in the counties with a rate of having a high-school diploma at least 80% is approximately 6231.125"
   ]
  },
  {
   "cell_type": "markdown",
   "metadata": {},
   "source": [
    "### Problem 3\n",
    "A contract engineer at DuPont Corp. studied the rate at which a spilled volatile liquid will spread across the surface (Chemical Engineering Progress, January 2005). Assume 50 gallons of methanol spills onto a level surface outdoors. The engineer used derived empirical formulas (assuming a state of turbulent free convection) to calculate the mass (in pounds) of the spill after a period of time ranging from 0 to 60 minutes. You will find the data in the file `LIQUIDSPILL.Rdata`.\n",
    "\n",
    "(a)\tCreate an appropriate scatter plot with the time in the horizontal axis and mass in the vertical axis. Use appropriate axis labels. \n",
    "\n",
    "(b)\tBased on the plot, does it seem like there is a relationship between the two variables? If yes, is it a linear relationship? \n",
    "\n",
    "***\n",
    "\n",
    "**Answer:**\n",
    "\n",
    "(a) Corresponding R-code:"
   ]
  },
  {
   "cell_type": "code",
   "execution_count": 7,
   "metadata": {
    "vscode": {
     "languageId": "r"
    }
   },
   "outputs": [
    {
     "data": {
      "image/png": "[encoded data removed]",
      "text/plain": [
       "Plot with title \"Liquid Spill\""
      ]
     },
     "metadata": {},
     "output_type": "display_data"
    }
   ],
   "source": [
    "dat <- get(load(\"../datasets/LIQUIDSPILL.Rdata\"))\n",
    "plot(dat$TIME, dat$MASS,\n",
    "    main = \"Liquid Spill\",\n",
    "    xlab = \"TIME\", ylab = \"MASS\",\n",
    "    pch = 16, col = \"blue\", cex = 1.0)"
   ]
  },
  {
   "cell_type": "markdown",
   "metadata": {},
   "source": [
    "(b) Based on the plot, there is a relationship between these two varialbes, and this relationship is non-linear. Noted that the Pearson correlation efficient computed for these two variables yields an interesting result: approximately -0.924, which indicates a strong negative linear correlation."
   ]
  },
  {
   "cell_type": "code",
   "execution_count": 8,
   "metadata": {
    "vscode": {
     "languageId": "r"
    }
   },
   "outputs": [
    {
     "data": {
      "text/html": [
       "-0.923763440025986"
      ],
      "text/latex": [
       "-0.923763440025986"
      ],
      "text/markdown": [
       "-0.923763440025986"
      ],
      "text/plain": [
       "[1] -0.9237634"
      ]
     },
     "metadata": {},
     "output_type": "display_data"
    }
   ],
   "source": [
    "cor(dat$TIME, dat$MASS)\n"
   ]
  },
  {
   "cell_type": "code",
   "execution_count": null,
   "metadata": {
    "vscode": {
     "languageId": "r"
    }
   },
   "outputs": [],
   "source": []
  }
 ],
 "metadata": {
  "kernelspec": {
   "display_name": "R",
   "language": "R",
   "name": "ir"
  },
  "language_info": {
   "codemirror_mode": "r",
   "file_extension": ".r",
   "mimetype": "text/x-r-source",
   "name": "R",
   "pygments_lexer": "r",
   "version": "3.6.1"
  },
  "orig_nbformat": 4
 },
 "nbformat": 4,
 "nbformat_minor": 2
}
