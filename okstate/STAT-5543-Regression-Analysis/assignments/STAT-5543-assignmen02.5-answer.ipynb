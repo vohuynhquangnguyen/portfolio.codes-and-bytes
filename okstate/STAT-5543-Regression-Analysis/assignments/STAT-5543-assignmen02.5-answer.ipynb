{
 "cells": [
  {
   "cell_type": "markdown",
   "metadata": {},
   "source": [
    "# Assignment 2.5\n",
    "Student Name: Vo, Huynh Quang Nguyen\n",
    "\n",
    "CWID: A20446163"
   ]
  },
  {
   "cell_type": "markdown",
   "metadata": {},
   "source": [
    "### Overview of the dataset\n",
    "\n",
    "The dataset used in this assignment is extracted from the textbook namely **Applied Statistics and Probability for Engineers (7th Edition)** by Montgomery et al.; the dataset is in Chapter 1, p.13 and p.14. The data in this dataset were collected in an observational study in a semiconductor manufacturing plant. The variables reported in this dataset are **pull strength**, **wire length**, and **die height**. The objective of this study is to predict the pull strength, which is closely related to the bond strength, based on the length of the wire and the height of the die. By investigating the bond strength, engineers can evaluate bond failure modalities or determine compliance with specified bond strength requirements, for instance the MIL-STD-810G standard.\n",
    "\n",
    "Here is the following R-code to load the dataset."
   ]
  },
  {
   "cell_type": "code",
   "execution_count": 1,
   "metadata": {
    "vscode": {
     "languageId": "r"
    }
   },
   "outputs": [
    {
     "data": {
      "text/html": [
       "<table>\n",
       "<thead><tr><th scope=col>ï..Observation.Number</th><th scope=col>Pull.Strength</th><th scope=col>Wire.Length</th><th scope=col>Die.Height</th></tr></thead>\n",
       "<tbody>\n",
       "\t<tr><td>1    </td><td> 9.95</td><td> 2   </td><td> 50  </td></tr>\n",
       "\t<tr><td>2    </td><td>24.45</td><td> 8   </td><td>110  </td></tr>\n",
       "\t<tr><td>3    </td><td>31.75</td><td>11   </td><td>120  </td></tr>\n",
       "\t<tr><td>4    </td><td>35.00</td><td>10   </td><td>550  </td></tr>\n",
       "\t<tr><td>5    </td><td>25.02</td><td> 8   </td><td>295  </td></tr>\n",
       "\t<tr><td>6    </td><td>16.86</td><td> 4   </td><td>200  </td></tr>\n",
       "</tbody>\n",
       "</table>\n"
      ],
      "text/latex": [
       "\\begin{tabular}{r|llll}\n",
       " ï..Observation.Number & Pull.Strength & Wire.Length & Die.Height\\\\\n",
       "\\hline\n",
       "\t 1     &  9.95 &  2    &  50  \\\\\n",
       "\t 2     & 24.45 &  8    & 110  \\\\\n",
       "\t 3     & 31.75 & 11    & 120  \\\\\n",
       "\t 4     & 35.00 & 10    & 550  \\\\\n",
       "\t 5     & 25.02 &  8    & 295  \\\\\n",
       "\t 6     & 16.86 &  4    & 200  \\\\\n",
       "\\end{tabular}\n"
      ],
      "text/markdown": [
       "\n",
       "| ï..Observation.Number | Pull.Strength | Wire.Length | Die.Height |\n",
       "|---|---|---|---|\n",
       "| 1     |  9.95 |  2    |  50   |\n",
       "| 2     | 24.45 |  8    | 110   |\n",
       "| 3     | 31.75 | 11    | 120   |\n",
       "| 4     | 35.00 | 10    | 550   |\n",
       "| 5     | 25.02 |  8    | 295   |\n",
       "| 6     | 16.86 |  4    | 200   |\n",
       "\n"
      ],
      "text/plain": [
       "  ï..Observation.Number Pull.Strength Wire.Length Die.Height\n",
       "1 1                      9.95          2           50       \n",
       "2 2                     24.45          8          110       \n",
       "3 3                     31.75         11          120       \n",
       "4 4                     35.00         10          550       \n",
       "5 5                     25.02          8          295       \n",
       "6 6                     16.86          4          200       "
      ]
     },
     "metadata": {},
     "output_type": "display_data"
    }
   ],
   "source": [
    "dat <- read.csv(\"../datasets/wirepullstrength.csv\")\n",
    "head(dat)"
   ]
  },
  {
   "cell_type": "markdown",
   "metadata": {},
   "source": [
    "### Construction of a simple linear model (SLM)\n",
    "\n",
    "In this assignment, I will investigate only the relationship between the pull strength and the wire length. Hence, a simple linear regression model that describes the relationship between these variables is given as:\n",
    "$$\n",
    "\\mathbf{y} = \\mathbf{\\epsilon} + \\mathbf{\\beta_0} + \\mathbf{\\beta_1}\\mathbf{x} \n",
    "$$\n",
    "with $\\mathbf{y}$ is a column vector containing all instances of pull strength; $\\mathbf{x}$ is a column vector containing all instances of wire length; $\\mathbf{\\epsilon}$ is a column vector containing all error terms - which is assummed to be independent and identically distributed whose distribution follows a normal distribution with a mean of zero and an unknown variance $\\mathcal{N}(0, \\sigma^2)$; $\\mathbf{\\beta_0}$ and $\\mathbf{\\beta_1}$ are regression coefficients namely the intercept and the slope, respectively.\n",
    "\n",
    "The fitted model constructed from the given dataset is as follows:\n",
    "$$\n",
    "\\mathbf{y} = \\mathbf{\\beta_0} + \\mathbf{\\beta_1}\\mathbf{x} \n",
    "$$\n",
    "with $\\beta_1 = 2.903$ and $\\beta_0 = 5.114$. Here is the following R-code to find the model's parameters and visualize the fitted model:"
   ]
  },
  {
   "cell_type": "code",
   "execution_count": 3,
   "metadata": {
    "vscode": {
     "languageId": "r"
    }
   },
   "outputs": [
    {
     "data": {
      "text/plain": [
       "\n",
       "Call:\n",
       "lm(formula = Pull.Strength ~ Wire.Length, data = dat)\n",
       "\n",
       "Residuals:\n",
       "    Min      1Q  Median      3Q     Max \n",
       "-6.8889 -1.3199  0.3547  2.0030  5.8314 \n",
       "\n",
       "Coefficients:\n",
       "            Estimate Std. Error t value Pr(>|t|)    \n",
       "(Intercept)    5.114      1.146   4.464 0.000177 ***\n",
       "Wire.Length    2.903      0.117  24.801  < 2e-16 ***\n",
       "---\n",
       "Signif. codes:  0 '***' 0.001 '**' 0.01 '*' 0.05 '.' 0.1 ' ' 1\n",
       "\n",
       "Residual standard error: 3.093 on 23 degrees of freedom\n",
       "Multiple R-squared:  0.964,\tAdjusted R-squared:  0.9624 \n",
       "F-statistic: 615.1 on 1 and 23 DF,  p-value: < 2.2e-16\n"
      ]
     },
     "metadata": {},
     "output_type": "display_data"
    },
    {
     "data": {
      "image/png": "[encoded data removed]",
      "text/plain": [
       "Plot with title \"Wire Strength vs. Pull Strength\""
      ]
     },
     "metadata": {},
     "output_type": "display_data"
    }
   ],
   "source": [
    "slr_model <- lm(Pull.Strength ~ Wire.Length, data = dat)\n",
    "summary(slr_model)\n",
    "\n",
    "plot(dat$Wire.Length, dat$Pull.Strength,\n",
    "    xlab = \"Wire Length\", ylab = \"Pull Strength\", \n",
    "    cex.axis = 0.75,\n",
    "    pch = 16, col = \"black\", cex = 0.5,\n",
    "    main = \"Wire Strength vs. Pull Strength\")\n",
    "abline(slr_model, col = \"red\", lty = \"dashed\")"
   ]
  },
  {
   "cell_type": "markdown",
   "metadata": {},
   "source": [
    "### Analysis of the model\n",
    "1. The computed correlation coefficient between these variables is 0.9818118. Meanwhile, the p-value of the hypothesis test for the correlation coefficient ($H_0: \\rho = 0$; $H_a: \\rho \\neq 0$; Significant level: $\\alpha = 0.01$) is less than $2\\times10^{-16}$. Therefore, we can safely conclude that there is a linear relationship between the pull strength and the wire length.\n",
    "\n",
    "\n",
    "2. According to the fitted model's summary, the estimated standard deviation of the error terms is $\\sigma^2_{\\epsilon} = 3.093$. Hence, we can assume that the error terms are i.i.d., and their distribution follows a normal distribution with a mean of zero and an estimated variance of $3.093^2 = 9.566649$. From here, the coefficient of variation yield from this model is:\n",
    "$$\n",
    "\\text{CV} = 100 \\times \\frac{s_{\\epsilon}}{E(\\mathbf{\\hat{y}})} \\approx 10.6549\n",
    "$$\n",
    "with $\\mathbf{\\hat{y}}$ is a column vector containing all instances of predicted pull strength values using the fitted model.\n",
    "\n",
    "3. The estimated standard errors of the model's regression coefficients are $\\text{se}_{\\beta_0} = 1.146$ and $\\text{se}_{\\beta_1} = 0.117$.\n",
    "\n",
    "4. Hypothesis test for $\\beta_1$: \n",
    "    * $H_0: \\beta_1 = 0$ meaning the pull strength does not depend on the wire length.\n",
    "    * $H_a: \\beta_1 \\neq 0$ meaning the pull strength depends on the wire length.\n",
    "    * Significant level: $\\alpha = 0.01$\n",
    "\n",
    "Since the p-value is less than $2\\times10^{-16}$, which is far lesser than the significant level, we can reject the null hypothesis. Hence, the pull strength depends on the wire length.\n",
    "\n",
    "5. The 95% confidence interval of the model's slope parameter is $\\text{CI}_{\\beta_1} = [2.660587, 3.144822]$."
   ]
  },
  {
   "cell_type": "code",
   "execution_count": 8,
   "metadata": {
    "vscode": {
     "languageId": "r"
    }
   },
   "outputs": [
    {
     "data": {
      "text/plain": [
       "\n",
       "\tPearson's product-moment correlation\n",
       "\n",
       "data:  dat$Wire.Length and dat$Pull.Strength\n",
       "t = 24.801, df = 23, p-value < 2.2e-16\n",
       "alternative hypothesis: true correlation is not equal to 0\n",
       "95 percent confidence interval:\n",
       " 0.9585414 0.9920735\n",
       "sample estimates:\n",
       "      cor \n",
       "0.9818118 \n"
      ]
     },
     "metadata": {},
     "output_type": "display_data"
    },
    {
     "data": {
      "text/html": [
       "10.6549131585001"
      ],
      "text/latex": [
       "10.6549131585001"
      ],
      "text/markdown": [
       "10.6549131585001"
      ],
      "text/plain": [
       "[1] 10.65491"
      ]
     },
     "metadata": {},
     "output_type": "display_data"
    },
    {
     "data": {
      "text/html": [
       "<table>\n",
       "<thead><tr><th></th><th scope=col>2.5 %</th><th scope=col>97.5 %</th></tr></thead>\n",
       "<tbody>\n",
       "\t<tr><th scope=row>Wire.Length</th><td>2.660587</td><td>3.144822</td></tr>\n",
       "</tbody>\n",
       "</table>\n"
      ],
      "text/latex": [
       "\\begin{tabular}{r|ll}\n",
       "  & 2.5 \\% & 97.5 \\%\\\\\n",
       "\\hline\n",
       "\tWire.Length & 2.660587 & 3.144822\\\\\n",
       "\\end{tabular}\n"
      ],
      "text/markdown": [
       "\n",
       "| <!--/--> | 2.5 % | 97.5 % |\n",
       "|---|---|---|\n",
       "| Wire.Length | 2.660587 | 3.144822 |\n",
       "\n"
      ],
      "text/plain": [
       "            2.5 %    97.5 %  \n",
       "Wire.Length 2.660587 3.144822"
      ]
     },
     "metadata": {},
     "output_type": "display_data"
    }
   ],
   "source": [
    "cor.test(dat$Wire.Length, dat$Pull.Strength, conf.level = 0.95)\n",
    "\n",
    "yhat_mu <- mean(dat$Pull.Strength)\n",
    "CV <- 100 * (summary(slr_model)$sigma / yhat_mu)\n",
    "CV\n",
    "\n",
    "confint(slr_model, 'Wire.Length', level = 0.95)"
   ]
  },
  {
   "cell_type": "markdown",
   "metadata": {},
   "source": []
  }
 ],
 "metadata": {
  "kernelspec": {
   "display_name": "R",
   "language": "R",
   "name": "ir"
  },
  "language_info": {
   "codemirror_mode": "r",
   "file_extension": ".r",
   "mimetype": "text/x-r-source",
   "name": "R",
   "pygments_lexer": "r",
   "version": "3.6.1"
  },
  "orig_nbformat": 4
 },
 "nbformat": 4,
 "nbformat_minor": 2
}
