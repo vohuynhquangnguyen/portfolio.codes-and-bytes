{
 "cells": [
  {
   "cell_type": "markdown",
   "metadata": {},
   "source": [
    "# Assignment 2.5\n",
    "Student Name: Vo, Huynh Quang Nguyen\n",
    "\n",
    "CWID: A20446163"
   ]
  },
  {
   "cell_type": "markdown",
   "metadata": {},
   "source": [
    "1. Give a brief description of the data. \n",
    "\n",
    "**Answers:**\n",
    "\n",
    "The dataset used in this assignment is extracted from the textbook namely **Applied Statistics and Probability for Engineers (7th Edition)** by Montgomery et al.; the dataset is in Chapter 1, p.13 and p.14. The data in this dataset were collected in an observational study in a semiconductor manufacturing plant. The variables reported in this dataset are **pull strength**, **wire length**, and **die height**. The objective of this study is to predict the pull strength based on the length of the wire and the height of the die. \n"
   ]
  },
  {
   "cell_type": "markdown",
   "metadata": {},
   "source": [
    "2. Implement an SLR model and write conclusions from the implemented model\n",
    "\n",
    "**Answers:**\n",
    "\n",
    "Write the model, mention what the variables are, fit the SLR model and write what you can conclude from the fitted model. The data can be a previously published data, but you have to write your code and conclusion on your own. It will be considered plagiarism if these are copied. The write up does not have to be too long, I expect it to be less than a page (not counting the plots). Remember the followings:\n",
    "\n",
    "\n",
    "(a)\tInclude model description. (i.e. write the true model and define variables, include assumption about error term)\n",
    "(b)\tInclude the results from fitting the model.\n",
    "(c)\tInclude relevant plots.\n",
    "(d)\tInclude the interpretation of the results (interpretation of parameters, relevant statistical tests)\n",
    "(e)\tYou do not have to check assumptions of regression model. But make sure the relationship is linear and the response is continuous so that it is appropriate to use SLR.\n",
    "s"
   ]
  },
  {
   "cell_type": "markdown",
   "metadata": {},
   "source": []
  }
 ],
 "metadata": {
  "language_info": {
   "name": "python"
  },
  "orig_nbformat": 4
 },
 "nbformat": 4,
 "nbformat_minor": 2
}
