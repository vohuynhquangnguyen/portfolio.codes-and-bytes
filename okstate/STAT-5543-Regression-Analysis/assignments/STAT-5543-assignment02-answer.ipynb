{
 "cells": [
  {
   "cell_type": "markdown",
   "metadata": {},
   "source": [
    "# Assignment 2\n",
    "\n",
    "Student Name: Vo, Huynh Quang Nguyen\n",
    "\n",
    "CWID: A20446163"
   ]
  },
  {
   "cell_type": "markdown",
   "metadata": {},
   "source": [
    "Use the data in the file `TAMPALMS.RData` for this problem.\n",
    "\n",
    "Real estate investors, homebuyers, and homeowners often use the appraised (or market) value of a property as a basis for predicting sale price. Data on sale prices (in thousands of dollars) and total appraised market values (in thousands of dollars) of 76 residential properties sold in 2008 in an upscale Tampa, Florida, neighborhood named Tampa Palms are saved in the `TAMPALMS` file. "
   ]
  },
  {
   "cell_type": "code",
   "execution_count": 1,
   "metadata": {
    "vscode": {
     "languageId": "r"
    }
   },
   "outputs": [
    {
     "data": {
      "text/html": [
       "<table>\n",
       "<thead><tr><th scope=col>Property</th><th scope=col>Market_Val</th><th scope=col>Sale_Price</th></tr></thead>\n",
       "<tbody>\n",
       "\t<tr><td>1     </td><td>181.44</td><td>382   </td></tr>\n",
       "\t<tr><td>2     </td><td>191.00</td><td>230   </td></tr>\n",
       "\t<tr><td>3     </td><td>159.83</td><td>220   </td></tr>\n",
       "\t<tr><td>4     </td><td>189.22</td><td>277   </td></tr>\n",
       "\t<tr><td>5     </td><td>151.61</td><td>205   </td></tr>\n",
       "\t<tr><td>6     </td><td>166.40</td><td>250   </td></tr>\n",
       "</tbody>\n",
       "</table>\n"
      ],
      "text/latex": [
       "\\begin{tabular}{r|lll}\n",
       " Property & Market\\_Val & Sale\\_Price\\\\\n",
       "\\hline\n",
       "\t 1      & 181.44 & 382   \\\\\n",
       "\t 2      & 191.00 & 230   \\\\\n",
       "\t 3      & 159.83 & 220   \\\\\n",
       "\t 4      & 189.22 & 277   \\\\\n",
       "\t 5      & 151.61 & 205   \\\\\n",
       "\t 6      & 166.40 & 250   \\\\\n",
       "\\end{tabular}\n"
      ],
      "text/markdown": [
       "\n",
       "| Property | Market_Val | Sale_Price |\n",
       "|---|---|---|\n",
       "| 1      | 181.44 | 382    |\n",
       "| 2      | 191.00 | 230    |\n",
       "| 3      | 159.83 | 220    |\n",
       "| 4      | 189.22 | 277    |\n",
       "| 5      | 151.61 | 205    |\n",
       "| 6      | 166.40 | 250    |\n",
       "\n"
      ],
      "text/plain": [
       "  Property Market_Val Sale_Price\n",
       "1 1        181.44     382       \n",
       "2 2        191.00     230       \n",
       "3 3        159.83     220       \n",
       "4 4        189.22     277       \n",
       "5 5        151.61     205       \n",
       "6 6        166.40     250       "
      ]
     },
     "metadata": {},
     "output_type": "display_data"
    }
   ],
   "source": [
    "dat <- get(load(\"../datasets/TAMPALMS.Rdata\"))\n",
    "head(dat)"
   ]
  },
  {
   "cell_type": "markdown",
   "metadata": {},
   "source": [
    "a. Write the SLR model that can be used to predict the sale price based on the market value. Make sure that you include all necessary components of the model.\n",
    "\n",
    "***\n",
    "**Answers:**\n",
    "\n",
    "The SLR model that predicted the sale price based on the market value for the given sample (76 residential properties sold in Tampa Palms in 2008) is given as:\n",
    "$$\n",
    "\\text{Sale Price} = \\hat{\\beta_0} + \\hat{\\beta_1}\\text{Market Value}\n",
    "$$\n",
    "\n",
    "Denote $\\mathbf{Y}$ as a vector containing all observations of the sale price, and $\\mathbf{X}$ as a vector containing all observations of the market value. The SLR model applicable for the entire population is given as:\n",
    "$$\n",
    "\\mathbf{Y} = \\beta_0 + \\beta_1\\mathbf{X} + \\mathbf{\\epsilon}\n",
    "$$\n",
    "with $\\epsilon$ is the error (or deviation) from the actual observations of the sale price $\\mathbf{Y}$ to the predicted value of the sale price $\\hat{\\mathbf{Y}} = \\beta_0 + \\beta_1\\mathbf{X}$."
   ]
  },
  {
   "cell_type": "markdown",
   "metadata": {},
   "source": [
    "b. Fit the model using R and report the fitted model.\n",
    "\n",
    "***\n",
    "**Answers:**\n",
    "\n",
    "The corresponding R-code is as follows:"
   ]
  },
  {
   "cell_type": "code",
   "execution_count": 2,
   "metadata": {
    "vscode": {
     "languageId": "r"
    }
   },
   "outputs": [
    {
     "data": {
      "text/plain": [
       "\n",
       "Call:\n",
       "lm(formula = Sale_Price ~ Market_Val, data = dat)\n",
       "\n",
       "Residuals:\n",
       "     Min       1Q   Median       3Q      Max \n",
       "-282.171  -24.829    1.807   29.791  188.792 \n",
       "\n",
       "Coefficients:\n",
       "            Estimate Std. Error t value Pr(>|t|)    \n",
       "(Intercept)  1.35868   13.76817   0.099    0.922    \n",
       "Market_Val   1.40827    0.03693  38.132   <2e-16 ***\n",
       "---\n",
       "Signif. codes:  0 '***' 0.001 '**' 0.01 '*' 0.05 '.' 0.1 ' ' 1\n",
       "\n",
       "Residual standard error: 68.76 on 74 degrees of freedom\n",
       "Multiple R-squared:  0.9516,\tAdjusted R-squared:  0.9509 \n",
       "F-statistic:  1454 on 1 and 74 DF,  p-value: < 2.2e-16\n"
      ]
     },
     "metadata": {},
     "output_type": "display_data"
    }
   ],
   "source": [
    "slr_model <- lm(Sale_Price ~ Market_Val, data = dat)\n",
    "summary(slr_model)"
   ]
  },
  {
   "cell_type": "markdown",
   "metadata": {},
   "source": [
    "\n",
    "c. Plot the two variables to create a scatter plot. Use a solid dot for each data point and make the size of the dots half of what you get by default. Make the color of the dots black. The title of the plot should be `Scatter plot`. Use appropriate x-axis label and y-axis label so that the viewer knows what variables are plotted along the two axes. Finally, add the fitted regression line to the plot. Make the color of this line red. Based on the plot, comment on the nature of the relationship between the two variables and whether using a simple linear regression is appropriate. \n",
    "\n",
    "***\n",
    "**Answers:**\n",
    "\n",
    "The corresponding R-code is as follows:"
   ]
  },
  {
   "cell_type": "code",
   "execution_count": 11,
   "metadata": {
    "vscode": {
     "languageId": "r"
    }
   },
   "outputs": [
    {
     "data": {
      "image/png": "[encoded data removed]",
      "text/plain": [
       "Plot with title \"Scatter plot\""
      ]
     },
     "metadata": {},
     "output_type": "display_data"
    }
   ],
   "source": [
    "plot(dat$Market_Val, dat$Sale_Price,\n",
    "    xlab = \"Market Value\", ylab = \"Sales Price\", \n",
    "    cex.axis = 0.75,\n",
    "    pch = 16, col = \"black\", cex = 0.5,\n",
    "    main = \"Scatter plot\")\n",
    "abline(slr_model, col = \"red\", lty = \"dashed\")"
   ]
  },
  {
   "cell_type": "markdown",
   "metadata": {},
   "source": [
    "According to the graph, there is a positive linear relationship between the two variables. On the other hand, the regression line is a good fit of the given data. Therefore, using a simple linear regression is appropriate here."
   ]
  },
  {
   "cell_type": "markdown",
   "metadata": {},
   "source": [
    "d. What is the estimate of the error variance? \n",
    "\n",
    "***\n",
    "\n",
    "**Answers:**\n",
    "\n",
    "The estimate of the error variance ($\\sigma_\\epsilon^2$) is given as:\n",
    "$$\n",
    "s_{\\epsilon}^2 = \\frac{\\text{SSE}}{\\text{DOF}} = \\frac{\\text{SSE}}{n-2} \n",
    "$$\n",
    "\n",
    "with $\\text{SSE} = \\sum_{i =1}^n(y_i - \\hat{y_i})^2$ is the sum of squares of errors, and $\\text{DOF} = n -2$ is the degree of freedom. Therefore, $s_{\\epsilon}^2 \\approx 4727.4697$. The corresponding R-code (computing the error variance based on its definition and getting the error variance from the model summary) is as follows: "
   ]
  },
  {
   "cell_type": "code",
   "execution_count": 26,
   "metadata": {
    "vscode": {
     "languageId": "r"
    }
   },
   "outputs": [
    {
     "data": {
      "text/html": [
       "4727.46974057527"
      ],
      "text/latex": [
       "4727.46974057527"
      ],
      "text/markdown": [
       "4727.46974057527"
      ],
      "text/plain": [
       "[1] 4727.47"
      ]
     },
     "metadata": {},
     "output_type": "display_data"
    },
    {
     "data": {
      "text/html": [
       "4732.0641"
      ],
      "text/latex": [
       "4732.0641"
      ],
      "text/markdown": [
       "4732.0641"
      ],
      "text/plain": [
       "[1] 4732.064"
      ]
     },
     "metadata": {},
     "output_type": "display_data"
    }
   ],
   "source": [
    "residuals <- slr_model$residuals\n",
    "ssquared <- sum(residuals ** 2) / (76 - 2)\n",
    "ssquared\n",
    "\n",
    "ssquared <- 68.79 ** 2\n",
    "ssquared"
   ]
  },
  {
   "cell_type": "markdown",
   "metadata": {
    "vscode": {
     "languageId": "r"
    }
   },
   "source": [
    "e. Report the standard error of $\\beta_0$. How would you interpret it?\n",
    "\n",
    "---\n",
    "\n",
    "**Answers:**\n",
    "\n",
    "The estimated standard error of the intercept $\\beta_0$ is given as:\n",
    "$$\n",
    "\\text{SE}_{\\beta_0} = \\sqrt{s_{\\epsilon}^2\\Big[\\frac{1}{n} + \\frac{\\bar{x}^2}{\\text{SS}_{xx}}\\Big]}\n",
    "$$\n",
    "with $\\text{SS}_{xx} = \\sum_{i = 0}^n (x_i - \\bar{x})$. Therefore, $\\text{SE}_{\\beta_0} \\approx 13.7749$. We can interpret $\\text{SE}_{\\beta_0}$ as the standard deviation of the intercepts coming from models fitted on multiple samples drawn from the population to the model's intercept fitted on the entire population. \n",
    "\n",
    "The corresponding R-code (computing the standard error the intercept and getting the standard error from the model summary) is as follows:\n"
   ]
  },
  {
   "cell_type": "code",
   "execution_count": 30,
   "metadata": {
    "vscode": {
     "languageId": "r"
    }
   },
   "outputs": [
    {
     "data": {
      "text/html": [
       "13.7748632282982"
      ],
      "text/latex": [
       "13.7748632282982"
      ],
      "text/markdown": [
       "13.7748632282982"
      ],
      "text/plain": [
       "[1] 13.77486"
      ]
     },
     "metadata": {},
     "output_type": "display_data"
    },
    {
     "data": {
      "text/html": [
       "13.7681745993962"
      ],
      "text/latex": [
       "13.7681745993962"
      ],
      "text/markdown": [
       "13.7681745993962"
      ],
      "text/plain": [
       "[1] 13.76817"
      ]
     },
     "metadata": {},
     "output_type": "display_data"
    }
   ],
   "source": [
    "SS_xx <- sum((dat$Market_Val - mean(dat$Market_Val)) ** 2)\n",
    "beta_0_error <- sqrt(ssquared * (1 / 76 + mean(dat$Market_Val) ** 2 / SS_xx))\n",
    "beta_0_error\n",
    "\n",
    "beta_0_error <- summary(slr_model)$coefficients[1,2]\n",
    "beta_0_error"
   ]
  },
  {
   "cell_type": "markdown",
   "metadata": {},
   "source": [
    "\n",
    "f. Find the predicted increase in the sale price for $5,000 increase in the market value.\n",
    "\n",
    "---\n",
    "\n",
    "**Answers:**\n",
    "\n",
    "The corresponding R-code is as follows:"
   ]
  },
  {
   "cell_type": "code",
   "execution_count": 21,
   "metadata": {
    "vscode": {
     "languageId": "r"
    }
   },
   "outputs": [
    {
     "data": {
      "text/html": [
       "7042.71237459604"
      ],
      "text/latex": [
       "7042.71237459604"
      ],
      "text/markdown": [
       "7042.71237459604"
      ],
      "text/plain": [
       "[1] 7042.712"
      ]
     },
     "metadata": {},
     "output_type": "display_data"
    }
   ],
   "source": [
    "X <- 5000\n",
    "beta_0 <- summary(slr_model)$coefficients[1,1]\n",
    "beta_1 <- summary(slr_model)$coefficients[2,1]\n",
    "Y <- beta_0 + beta_1 * X\n",
    "Y"
   ]
  },
  {
   "cell_type": "markdown",
   "metadata": {},
   "source": [
    "g. Does the market value have a significant predictive ability to predict the sale price? Justify using an appropriate hypothesis test. (must include all necessary details as discussed in the class) \n",
    "\n",
    "---\n",
    "\n",
    "**Answers:**\n",
    "\n",
    "We can formulate the hypothesis test as follows:\n",
    "$$\n",
    "\\begin{cases}\n",
    "H_0: \\beta_1 = 0 \\\\\n",
    "H_1: \\beta_2 \\neq 0\n",
    "\\end{cases}\n",
    "$$\n",
    "\n",
    "1. Using the p-value approach: we can see that the p-value extracted from the model's summary is less than $2\\times10^{-16}$. Hence, we can reject the null hypothesis. Therefore, we can conclude that a significant predictive ability to predict the sale price.\n",
    "\n",
    "2. Using the rejection threshold approach: \n",
    "    * We first compute the t-statistic of the model: $t_0 = \\frac{\\hat{\\beta_1} - 0}{\\text{SE}_{\\beta_1}} \\approx 38.1136 $.\n",
    "    * We then evaluate whether the computed t-statistic lies within the rejection region of the t-distribution with 74 degrees of freedom and $\\alpha = 0.05$. The rejection region is $|t| > t_{\\alpha/2} = 1.9925$, and $|t_0| = 38.1136 > t_{\\alpha/2}$. Therefore, we reject the null hypothesis.\n",
    "\n",
    "The corresponding R-code for the second approach is as follows:"
   ]
  },
  {
   "cell_type": "code",
   "execution_count": 32,
   "metadata": {
    "vscode": {
     "languageId": "r"
    }
   },
   "outputs": [
    {
     "data": {
      "text/html": [
       "38.1136477105992"
      ],
      "text/latex": [
       "38.1136477105992"
      ],
      "text/markdown": [
       "38.1136477105992"
      ],
      "text/plain": [
       "[1] 38.11365"
      ]
     },
     "metadata": {},
     "output_type": "display_data"
    }
   ],
   "source": [
    "beta_1_error <- sqrt(ssquared / SS_xx)\n",
    "t_0 <- summary(slr_model)$coefficients[2,1] / beta_1_error\n",
    "t_0"
   ]
  },
  {
   "cell_type": "markdown",
   "metadata": {},
   "source": [
    "h. Find the correlation coefficient between the two variables of interest. Use an appropriate hypothesis testing method to test if the population correlation coefficient is significantly different from 0. Clearly write out the null and alternative hypotheses and how you reach your conclusion. Is the p-value for this test same as the p-value you found in part (g)?\n",
    "\n",
    "---\n",
    "\n",
    "**Answers:**\n",
    "\n",
    "The hypothesis test concerning the correlation coefficient $\\rho$ is given as:\n",
    "$$\n",
    "\\begin{cases}\n",
    "H_0: \\rho = 0 \\\\\n",
    "H_1: \\rho \\neq 0\n",
    "\\end{cases}\n",
    "$$\n",
    "1. We can evaluate the results of our hypothesis using the p-value approach. Our p-value is $2.2\\times10^{-16}$ that is lower than the significant level. Therefore, we reject our null hypothesis. Noted that this p-value is not the same we found in part (g).\n",
    "\n",
    "2. We can use the rejection region approach for our hypothesis test:\n",
    "    * We compute the correlation coefficient as 0.9754858. From here, we compute the corresponding $t$-statistic: $t_0 = \\frac{r\\sqrt{76 - 2}}{\\sqrt{1 - R^2}} = 38.12$, with $R^2$ is the coefficient of determination.\n",
    "    * We then evaluate whether the computed correlation coefficient lies within the rejecton region of the t-distribution with 74 degrees of freedom and $\\alpha = 0.05$. The rejection region is $|t| > t_{\\alpha/2} = 1.9925$, and $|t_0| = 38.132 > t_{\\alpha/2}$. Therefore, we reject the null hypothesis.\n",
    "\n",
    "The corresponding R-code for the first approach is as follows:\n"
   ]
  },
  {
   "cell_type": "code",
   "execution_count": 36,
   "metadata": {
    "vscode": {
     "languageId": "r"
    }
   },
   "outputs": [
    {
     "data": {
      "text/plain": [
       "\n",
       "\tPearson's product-moment correlation\n",
       "\n",
       "data:  dat$Market_Val and dat$Sale_Price\n",
       "t = 38.132, df = 74, p-value < 2.2e-16\n",
       "alternative hypothesis: true correlation is not equal to 0\n",
       "95 percent confidence interval:\n",
       " 0.9614894 0.9844357\n",
       "sample estimates:\n",
       "      cor \n",
       "0.9754858 \n"
      ]
     },
     "metadata": {},
     "output_type": "display_data"
    }
   ],
   "source": [
    "cor.test(dat$Market_Val, dat$Sale_Price, conf.level = 0.95)"
   ]
  },
  {
   "cell_type": "markdown",
   "metadata": {},
   "source": [
    "i. Find the predicted sale price for a home with a market value $200,000.\n",
    "\n",
    "---\n",
    "\n",
    "**Answers:**\n",
    "\n",
    "The corresponding R_code is as follows:"
   ]
  },
  {
   "cell_type": "code",
   "execution_count": 25,
   "metadata": {
    "vscode": {
     "languageId": "r"
    }
   },
   "outputs": [
    {
     "data": {
      "text/html": [
       "281655.506417184"
      ],
      "text/latex": [
       "281655.506417184"
      ],
      "text/markdown": [
       "281655.506417184"
      ],
      "text/plain": [
       "[1] 281655.5"
      ]
     },
     "metadata": {},
     "output_type": "display_data"
    }
   ],
   "source": [
    "X <- 200000\n",
    "beta_0 <- summary(slr_model)$coefficients[1,1]\n",
    "beta_1 <- summary(slr_model)$coefficients[2,1]\n",
    "Y <- beta_0 + beta_1 * X\n",
    "Y"
   ]
  },
  {
   "cell_type": "markdown",
   "metadata": {},
   "source": [
    "Test at 1% level the following hypothesis testing problem:\n",
    "$$\n",
    "\\begin{cases}\n",
    "H_0: β_1 = 1 \\\\\n",
    "H_1: β_1 \\neq 1\n",
    "\\end{cases}\n",
    "$$\n",
    "\n",
    "What can you conclude about the nature of the relationship about the two variables based on this test?\n",
    "\n",
    "***\n",
    "\n",
    "**Answers:**\n",
    "\n",
    "We use the rejection threshold approach to evaluate our hypothesis test: \n",
    "* We first compute the t-statistic of the model: $t_0 = \\frac{\\hat{\\beta_1} - 1}{\\text{SE}_{\\beta_1}} \\approx 11.0495 $.\n",
    "* We then evaluate whether the computed t-statistic lies within the rejection region of the t-distribution with 74 degrees of freedom and $\\alpha = 0.1$. The rejection region is $|t| > t_{\\alpha/2} = 1.6657$, and $|t_0| = 11.0495 > t_{\\alpha/2}$. Therefore, we reject the null hypothesis.\n",
    "\n",
    "Based on this test, we can say these two variables (Market Value and Sales Price) are proportional to one another."
   ]
  },
  {
   "cell_type": "code",
   "execution_count": 37,
   "metadata": {
    "vscode": {
     "languageId": "r"
    }
   },
   "outputs": [
    {
     "data": {
      "text/html": [
       "11.0494997000217"
      ],
      "text/latex": [
       "11.0494997000217"
      ],
      "text/markdown": [
       "11.0494997000217"
      ],
      "text/plain": [
       "[1] 11.0495"
      ]
     },
     "metadata": {},
     "output_type": "display_data"
    }
   ],
   "source": [
    "beta_1_error <- sqrt(ssquared / SS_xx)\n",
    "t_0 <- (summary(slr_model)$coefficients[2,1] - 1)/ beta_1_error\n",
    "t_0"
   ]
  },
  {
   "cell_type": "markdown",
   "metadata": {},
   "source": []
  }
 ],
 "metadata": {
  "kernelspec": {
   "display_name": "R",
   "language": "R",
   "name": "ir"
  },
  "language_info": {
   "codemirror_mode": "r",
   "file_extension": ".r",
   "mimetype": "text/x-r-source",
   "name": "R",
   "pygments_lexer": "r",
   "version": "3.6.1"
  }
 },
 "nbformat": 4,
 "nbformat_minor": 2
}
