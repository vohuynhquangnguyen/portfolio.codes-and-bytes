{
 "cells": [
  {
   "cell_type": "markdown",
   "metadata": {},
   "source": [
    "# Assignment 2\n",
    "\n",
    "Student Name: Vo, Huynh Quang Nguyen\n",
    "\n",
    "CWID: A20446163"
   ]
  },
  {
   "cell_type": "markdown",
   "metadata": {},
   "source": [
    "Use the data in the file `TAMPALMS.RData` for this problem.\n",
    "\n",
    "Real estate investors, homebuyers, and homeowners often use the appraised (or market) value of a property as a basis for predicting sale price. Data on sale prices (in thousands of dollars) and total appraised market values (in thousands of dollars) of 76 residential properties sold in 2008 in an upscale Tampa, Florida, neighborhood named Tampa Palms are saved in the `TAMPALMS` file. "
   ]
  },
  {
   "cell_type": "code",
   "execution_count": 11,
   "metadata": {
    "vscode": {
     "languageId": "r"
    }
   },
   "outputs": [
    {
     "name": "stderr",
     "output_type": "stream",
     "text": [
      "Registered S3 methods overwritten by 'ggplot2':\n",
      "  method         from \n",
      "  [.quosures     rlang\n",
      "  c.quosures     rlang\n",
      "  print.quosures rlang\n"
     ]
    },
    {
     "data": {
      "text/html": [
       "<table>\n",
       "<thead><tr><th scope=col>Property</th><th scope=col>Market_Val</th><th scope=col>Sale_Price</th></tr></thead>\n",
       "<tbody>\n",
       "\t<tr><td>1     </td><td>181.44</td><td>382   </td></tr>\n",
       "\t<tr><td>2     </td><td>191.00</td><td>230   </td></tr>\n",
       "\t<tr><td>3     </td><td>159.83</td><td>220   </td></tr>\n",
       "\t<tr><td>4     </td><td>189.22</td><td>277   </td></tr>\n",
       "\t<tr><td>5     </td><td>151.61</td><td>205   </td></tr>\n",
       "\t<tr><td>6     </td><td>166.40</td><td>250   </td></tr>\n",
       "</tbody>\n",
       "</table>\n"
      ],
      "text/latex": [
       "\\begin{tabular}{r|lll}\n",
       " Property & Market\\_Val & Sale\\_Price\\\\\n",
       "\\hline\n",
       "\t 1      & 181.44 & 382   \\\\\n",
       "\t 2      & 191.00 & 230   \\\\\n",
       "\t 3      & 159.83 & 220   \\\\\n",
       "\t 4      & 189.22 & 277   \\\\\n",
       "\t 5      & 151.61 & 205   \\\\\n",
       "\t 6      & 166.40 & 250   \\\\\n",
       "\\end{tabular}\n"
      ],
      "text/markdown": [
       "\n",
       "| Property | Market_Val | Sale_Price |\n",
       "|---|---|---|\n",
       "| 1      | 181.44 | 382    |\n",
       "| 2      | 191.00 | 230    |\n",
       "| 3      | 159.83 | 220    |\n",
       "| 4      | 189.22 | 277    |\n",
       "| 5      | 151.61 | 205    |\n",
       "| 6      | 166.40 | 250    |\n",
       "\n"
      ],
      "text/plain": [
       "  Property Market_Val Sale_Price\n",
       "1 1        181.44     382       \n",
       "2 2        191.00     230       \n",
       "3 3        159.83     220       \n",
       "4 4        189.22     277       \n",
       "5 5        151.61     205       \n",
       "6 6        166.40     250       "
      ]
     },
     "metadata": {},
     "output_type": "display_data"
    }
   ],
   "source": [
    "library(ggplot2)\n",
    "\n",
    "dat <- get(load(\"../datasets/TAMPALMS.Rdata\"))\n",
    "head(dat)"
   ]
  },
  {
   "cell_type": "markdown",
   "metadata": {},
   "source": [
    "a. Write the SLR model that can be used to predict the sale price based on the market value. Make sure that you include all necessary components of the model.\n",
    "\n",
    "***\n",
    "**Answers:**\n",
    "\n",
    "The SLR model that predicted the sale price based on the market value for the given sample (76 residential properties sold in Tampa Palms in 2008) is given as:\n",
    "$$\n",
    "\\text{Sale Price} = \\beta_0 + \\beta_1\\text{Market Value}\n",
    "$$\n",
    "\n",
    "Denote $\\mathbf{Y}$ as a vector containing all observations of the sale price, and $\\mathbf{X}$ as a vector containing all observations of the market value. The SLR model applicable for the entire population is given as:\n",
    "$$\n",
    "\\mathbf{Y} = \\beta_0 + \\beta_1\\mathbf{X} + \\mathbf{\\epsilon}\n",
    "$$\n",
    "with $\\epsilon$ is the error (or deviation) from the actual observations of the sale price $\\mathbf{Y}$ to the predicted value of the sale price $\\hat{\\mathbf{Y}} = \\beta_0 + \\beta_1\\mathbf{X}$."
   ]
  },
  {
   "cell_type": "markdown",
   "metadata": {},
   "source": [
    "b. Fit the model using R and report the fitted model.\n",
    "\n",
    "***\n",
    "**Answers:**\n",
    "\n",
    "The corresponding R-code is as follows:"
   ]
  },
  {
   "cell_type": "code",
   "execution_count": 7,
   "metadata": {
    "vscode": {
     "languageId": "r"
    }
   },
   "outputs": [
    {
     "data": {
      "text/plain": [
       "\n",
       "Call:\n",
       "lm(formula = Sale_Price ~ Market_Val, data = dat)\n",
       "\n",
       "Residuals:\n",
       "     Min       1Q   Median       3Q      Max \n",
       "-282.171  -24.829    1.807   29.791  188.792 \n",
       "\n",
       "Coefficients:\n",
       "            Estimate Std. Error t value Pr(>|t|)    \n",
       "(Intercept)  1.35868   13.76817   0.099    0.922    \n",
       "Market_Val   1.40827    0.03693  38.132   <2e-16 ***\n",
       "---\n",
       "Signif. codes:  0 '***' 0.001 '**' 0.01 '*' 0.05 '.' 0.1 ' ' 1\n",
       "\n",
       "Residual standard error: 68.76 on 74 degrees of freedom\n",
       "Multiple R-squared:  0.9516,\tAdjusted R-squared:  0.9509 \n",
       "F-statistic:  1454 on 1 and 74 DF,  p-value: < 2.2e-16\n"
      ]
     },
     "metadata": {},
     "output_type": "display_data"
    }
   ],
   "source": [
    "slr_model <- lm(Sale_Price ~ Market_Val, data = dat)\n",
    "summary(slr_model)"
   ]
  },
  {
   "cell_type": "markdown",
   "metadata": {},
   "source": [
    "\n",
    "c. Plot the two variables to create a scatter plot. Use a solid dot for each data point and make the size of the dots half of what you get by default. Make the color of the dots black. The title of the plot should be `Scatter plot`. Use appropriate x-axis label and y-axis label so that the viewer knows what variables are plotted along the two axes. Finally, add the fitted regression line to the plot. Make the color of this line red. Based on the plot, comment on the nature of the relationship between the two variables and whether using a simple linear regression is appropriate. \n",
    "\n",
    "***\n",
    "**Answers:**\n",
    "\n",
    "The corresponding R-code is as follows:"
   ]
  },
  {
   "cell_type": "code",
   "execution_count": 16,
   "metadata": {
    "vscode": {
     "languageId": "r"
    }
   },
   "outputs": [
    {
     "data": {
      "image/png": "[encoded data removed]",
      "text/plain": [
       "plot without title"
      ]
     },
     "metadata": {},
     "output_type": "display_data"
    }
   ],
   "source": [
    "ggplot(dat, aes(x = Market_Val, y = Sale_Price)) + \n",
    " geom_point(size = 0.5, alpha = 0.5, color = \"black\") + \n",
    " geom_smooth(method = \"lm\", color = \"red\") + \n",
    " labs(title = \"Scatter Plot\", x = \"Market Value\", y = \"Sale Price\") + \n",
    " theme_bw()"
   ]
  },
  {
   "cell_type": "markdown",
   "metadata": {},
   "source": [
    "According to the graph, there is a positive linear relationship between the two variables. On the other hand, the regression line is a good fit of the given data. Therefore, using a simple linear regression is appropriate here."
   ]
  },
  {
   "cell_type": "markdown",
   "metadata": {},
   "source": [
    "d. What is the estimate of the error variance? \n",
    "***\n",
    "**Answers:**\n"
   ]
  },
  {
   "cell_type": "code",
   "execution_count": null,
   "metadata": {
    "vscode": {
     "languageId": "r"
    }
   },
   "outputs": [],
   "source": [
    "Report the standard error of β ̂_0. How would you interpret it? (1 point + 1 bonus point)\n",
    "\n",
    "Find the predicted increase in the sale price for $5,000 increase in the market value. (2 points)\n",
    "\n",
    "Does the market value have a significant predictive ability to predict the sale price? Justify using an appropriate hypothesis test. (must include all necessary details as discussed in the class) (4 points)\n",
    "\n",
    "Find the correlation coefficient between the two variables of interest. Use an appropriate hypothesis testing method to test if the population correlation coefficient is significantly different from 0. Clearly write out the null and alternative hypotheses and how you reach your conclusion. Is the p-value for this test same as the p-value you found in part (g)? (4 points)\n",
    "\n",
    "Find the predicted sale price for a home with a market value $200,000. (2 points)\n",
    "\n",
    "Test at 1% level the following hypothesis testing problem:\n",
    "H_0:β_1=1 vs H_1: β_1≠1\n",
    "(2 points)\n",
    "What can you conclude about the nature of the relationship about the two variables based on this test? (2 bonus points)"
   ]
  }
 ],
 "metadata": {
  "kernelspec": {
   "display_name": "R",
   "language": "R",
   "name": "ir"
  },
  "language_info": {
   "codemirror_mode": "r",
   "file_extension": ".r",
   "mimetype": "text/x-r-source",
   "name": "R",
   "pygments_lexer": "r",
   "version": "3.6.1"
  },
  "orig_nbformat": 4
 },
 "nbformat": 4,
 "nbformat_minor": 2
}
