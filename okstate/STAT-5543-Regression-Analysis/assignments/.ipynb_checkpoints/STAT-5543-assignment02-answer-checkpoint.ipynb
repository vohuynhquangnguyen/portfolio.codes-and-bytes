{
 "cells": [
  {
   "cell_type": "markdown",
   "metadata": {},
   "source": [
    "# Assignment 2\n",
    "\n",
    "Student Name: Vo, Huynh Quang Nguyen\n",
    "\n",
    "CWID: A20446163"
   ]
  },
  {
   "cell_type": "markdown",
   "metadata": {},
   "source": [
    "Use the data in the file `TAMPALMS.RData` for this problem.\n",
    "\n",
    "Real estate investors, homebuyers, and homeowners often use the appraised (or market) value of a property as a basis for predicting sale price. Data on sale prices (in thousands of dollars) and total appraised market values (in thousands of dollars) of 76 residential properties sold in 2008 in an upscale Tampa, Florida, neighborhood named Tampa Palms are saved in the `TAMPALMS` file. "
   ]
  },
  {
   "cell_type": "code",
   "execution_count": 1,
   "metadata": {
    "vscode": {
     "languageId": "r"
    }
   },
   "outputs": [
    {
     "name": "stderr",
     "output_type": "stream",
     "text": [
      "Warning message:\n",
      "\"dependency 'pbkrtest' is not available\"also installing the dependencies 'rprojroot', 'diffobj', 'rematch2', 'brio', 'callr', 'cli', 'desc', 'ellipsis', 'lifecycle', 'pkgload', 'praise', 'processx', 'ps', 'waldo', 'withr', 'rlang', 'fastmap', 'Matrix', 'testthat', 'htmltools', 'evaluate', 'xfun', 'SparseM', 'MatrixModels', 'minqa', 'nloptr', 'RcppEigen', 'htmlwidgets', 'knitr', 'carData', 'abind', 'quantreg', 'lme4', 'rgl', 'car'\n",
      "\n"
     ]
    },
    {
     "name": "stdout",
     "output_type": "stream",
     "text": [
      "\n",
      "  There are binary versions available but the source versions are later:\n",
      "                binary    source needs_compilation\n",
      "rprojroot        2.0.2     2.0.3             FALSE\n",
      "diffobj          0.3.4     0.3.5              TRUE\n",
      "brio             1.1.2     1.1.3              TRUE\n",
      "callr            3.7.0     3.7.3             FALSE\n",
      "cli              2.5.0     3.6.1              TRUE\n",
      "desc             1.3.0     1.4.2             FALSE\n",
      "lifecycle        1.0.0     1.0.3             FALSE\n",
      "pkgload          1.2.1   1.3.2.1             FALSE\n",
      "processx         3.5.2     3.8.2              TRUE\n",
      "ps               1.6.0     1.7.5              TRUE\n",
      "waldo            0.2.5     0.5.1             FALSE\n",
      "withr            2.4.2     2.5.0             FALSE\n",
      "rlang           0.4.11     1.1.1              TRUE\n",
      "fastmap          1.1.0     1.1.1              TRUE\n",
      "Matrix           1.3-3     1.6-1              TRUE\n",
      "testthat         3.0.2    3.1.10              TRUE\n",
      "htmltools      0.5.1.1     0.5.6              TRUE\n",
      "evaluate          0.14      0.21             FALSE\n",
      "xfun              0.22      0.40              TRUE\n",
      "MatrixModels     0.5-0     0.5-2             FALSE\n",
      "minqa            1.2.4     1.2.6              TRUE\n",
      "nloptr         1.2.2.2     2.0.3              TRUE\n",
      "RcppEigen    0.3.3.9.1 0.3.3.9.3              TRUE\n",
      "htmlwidgets      1.5.3     1.6.2             FALSE\n",
      "knitr             1.33      1.44             FALSE\n",
      "carData          3.0-4     3.0-5             FALSE\n",
      "quantreg          5.85      5.97              TRUE\n",
      "lme4            1.1-26    1.1-34              TRUE\n",
      "rgl            0.106.8     1.2.1              TRUE\n",
      "car             3.0-10     3.1-2             FALSE\n",
      "matlib           0.9.4     0.9.6             FALSE\n",
      "\n",
      "  Binaries will be installed\n",
      "package 'diffobj' successfully unpacked and MD5 sums checked\n",
      "package 'rematch2' successfully unpacked and MD5 sums checked\n",
      "package 'brio' successfully unpacked and MD5 sums checked\n",
      "package 'cli' successfully unpacked and MD5 sums checked\n",
      "package 'ellipsis' successfully unpacked and MD5 sums checked\n",
      "package 'praise' successfully unpacked and MD5 sums checked\n",
      "package 'processx' successfully unpacked and MD5 sums checked\n",
      "package 'ps' successfully unpacked and MD5 sums checked\n",
      "package 'rlang' successfully unpacked and MD5 sums checked\n",
      "package 'fastmap' successfully unpacked and MD5 sums checked\n",
      "package 'Matrix' successfully unpacked and MD5 sums checked\n",
      "package 'testthat' successfully unpacked and MD5 sums checked\n",
      "package 'htmltools' successfully unpacked and MD5 sums checked\n",
      "package 'xfun' successfully unpacked and MD5 sums checked\n",
      "package 'SparseM' successfully unpacked and MD5 sums checked\n",
      "package 'minqa' successfully unpacked and MD5 sums checked\n",
      "package 'nloptr' successfully unpacked and MD5 sums checked\n",
      "package 'RcppEigen' successfully unpacked and MD5 sums checked\n",
      "package 'abind' successfully unpacked and MD5 sums checked\n",
      "package 'quantreg' successfully unpacked and MD5 sums checked\n",
      "package 'lme4' successfully unpacked and MD5 sums checked\n",
      "package 'rgl' successfully unpacked and MD5 sums checked\n",
      "\n",
      "The downloaded binary packages are in\n",
      "\tC:\\Users\\quang\\AppData\\Local\\Temp\\RtmpGKZoRi\\downloaded_packages\n"
     ]
    },
    {
     "name": "stderr",
     "output_type": "stream",
     "text": [
      "installing the source packages 'rprojroot', 'callr', 'desc', 'lifecycle', 'pkgload', 'waldo', 'withr', 'evaluate', 'MatrixModels', 'htmlwidgets', 'knitr', 'carData', 'car', 'matlib'\n",
      "\n",
      "Warning message in install.packages(\"matlib\"):\n",
      "\"installation of package 'callr' had non-zero exit status\"Warning message in install.packages(\"matlib\"):\n",
      "\"installation of package 'lifecycle' had non-zero exit status\"Warning message in install.packages(\"matlib\"):\n",
      "\"installation of package 'waldo' had non-zero exit status\"Warning message in install.packages(\"matlib\"):\n",
      "\"installation of package 'MatrixModels' had non-zero exit status\"Warning message in install.packages(\"matlib\"):\n",
      "\"installation of package 'knitr' had non-zero exit status\"Warning message in install.packages(\"matlib\"):\n",
      "\"installation of package 'car' had non-zero exit status\"Warning message in install.packages(\"matlib\"):\n",
      "\"installation of package 'pkgload' had non-zero exit status\"Warning message in install.packages(\"matlib\"):\n",
      "\"installation of package 'htmlwidgets' had non-zero exit status\"Warning message in install.packages(\"matlib\"):\n",
      "\"installation of package 'matlib' had non-zero exit status\""
     ]
    },
    {
     "ename": "ERROR",
     "evalue": "Error in library(matlib): there is no package called 'matlib'\n",
     "output_type": "error",
     "traceback": [
      "Error in library(matlib): there is no package called 'matlib'\nTraceback:\n",
      "1. library(matlib)"
     ]
    }
   ],
   "source": [
    "dat <- get(load(\"../datasets/TAMPALMS.Rdata\"))\n",
    "head(dat)"
   ]
  },
  {
   "cell_type": "markdown",
   "metadata": {},
   "source": [
    "a. Write the SLR model that can be used to predict the sale price based on the market value. Make sure that you include all necessary components of the model.\n",
    "\n",
    "***\n",
    "**Answers:**\n",
    "\n",
    "The SLR model that predicted the sale price based on the market value for the given sample (76 residential properties sold in Tampa Palms in 2008) is given as:\n",
    "$$\n",
    "\\text{Sale Price} = \\beta_0 + \\beta_1\\text{Market Value}\n",
    "$$\n",
    "\n",
    "Denote $\\mathbf{Y}$ as a vector containing all observations of the sale price, and $\\mathbf{X}$ as a vector containing all observations of the market value. The SLR model applicable for the entire population is given as:\n",
    "$$\n",
    "\\mathbf{Y} = \\beta_0 + \\beta_1\\mathbf{X} + \\mathbf{\\epsilon}\n",
    "$$\n",
    "with $\\epsilon$ is the error (or deviation) from the actual observations of the sale price $\\mathbf{Y}$ to the predicted value of the sale price $\\hat{\\mathbf{Y}} = \\beta_0 + \\beta_1\\mathbf{X}$."
   ]
  },
  {
   "cell_type": "markdown",
   "metadata": {},
   "source": [
    "b. Fit the model using R and report the fitted model.\n",
    "\n",
    "***\n",
    "**Answers:**\n",
    "\n",
    "The corresponding R-code is as follows:"
   ]
  },
  {
   "cell_type": "code",
   "execution_count": 2,
   "metadata": {
    "vscode": {
     "languageId": "r"
    }
   },
   "outputs": [
    {
     "data": {
      "text/plain": [
       "\n",
       "Call:\n",
       "lm(formula = Sale_Price ~ Market_Val, data = dat)\n",
       "\n",
       "Residuals:\n",
       "     Min       1Q   Median       3Q      Max \n",
       "-282.171  -24.829    1.807   29.791  188.792 \n",
       "\n",
       "Coefficients:\n",
       "            Estimate Std. Error t value Pr(>|t|)    \n",
       "(Intercept)  1.35868   13.76817   0.099    0.922    \n",
       "Market_Val   1.40827    0.03693  38.132   <2e-16 ***\n",
       "---\n",
       "Signif. codes:  0 '***' 0.001 '**' 0.01 '*' 0.05 '.' 0.1 ' ' 1\n",
       "\n",
       "Residual standard error: 68.76 on 74 degrees of freedom\n",
       "Multiple R-squared:  0.9516,\tAdjusted R-squared:  0.9509 \n",
       "F-statistic:  1454 on 1 and 74 DF,  p-value: < 2.2e-16\n"
      ]
     },
     "metadata": {},
     "output_type": "display_data"
    }
   ],
   "source": [
    "slr_model <- lm(Sale_Price ~ Market_Val, data = dat)\n",
    "summary(slr_model)"
   ]
  },
  {
   "cell_type": "markdown",
   "metadata": {},
   "source": [
    "\n",
    "c. Plot the two variables to create a scatter plot. Use a solid dot for each data point and make the size of the dots half of what you get by default. Make the color of the dots black. The title of the plot should be `Scatter plot`. Use appropriate x-axis label and y-axis label so that the viewer knows what variables are plotted along the two axes. Finally, add the fitted regression line to the plot. Make the color of this line red. Based on the plot, comment on the nature of the relationship between the two variables and whether using a simple linear regression is appropriate. \n",
    "\n",
    "***\n",
    "**Answers:**\n",
    "\n",
    "The corresponding R-code is as follows:"
   ]
  },
  {
   "cell_type": "code",
   "execution_count": 3,
   "metadata": {
    "vscode": {
     "languageId": "r"
    }
   },
   "outputs": [
    {
     "data": {
      "image/png": "[encoded data removed]",
      "text/plain": [
       "Plot with title \"Scatter plot\""
      ]
     },
     "metadata": {},
     "output_type": "display_data"
    }
   ],
   "source": [
    "plot(dat$Market_Val, dat$Sale_Price,\n",
    "    xlab = \"Market Value\", ylab = \"Sales Price\", \n",
    "    cex.axis = 0.75,\n",
    "    pch = 16, col = \"black\", cex = 0.5,\n",
    "    main = \"Scatter plot\")\n",
    "lines(dat$Market_Val, predict(slr_model), col = \"red\")"
   ]
  },
  {
   "cell_type": "markdown",
   "metadata": {},
   "source": [
    "According to the graph, there is a positive linear relationship between the two variables. On the other hand, the regression line is a good fit of the given data. Therefore, using a simple linear regression is appropriate here."
   ]
  },
  {
   "cell_type": "markdown",
   "metadata": {},
   "source": [
    "d. What is the estimate of the error variance? \n",
    "\n",
    "***\n",
    "\n",
    "**Answers:**\n",
    "\n",
    "The estimate of the error variance ($\\sigma_\\epsilon^2$) is given as:\n",
    "$$\n",
    "s^2 = \\frac{\\text{SSE}}{\\text{DOF}} = \\frac{\\text{SSE}}{n-2} \n",
    "$$\n",
    "\n",
    "with $\\text{SSE} = \\sum_{i =1}^n(y_i - \\hat{y_i})^2$ is the sum of squares of errors, and $\\text{DOF} = n -2$ is the degree of freedom. \n",
    "\n"
   ]
  },
  {
   "cell_type": "code",
   "execution_count": 8,
   "metadata": {
    "vscode": {
     "languageId": "r"
    }
   },
   "outputs": [
    {
     "ename": "ERROR",
     "evalue": "Error in inv(t(X) %*% X): could not find function \"inv\"\n",
     "output_type": "error",
     "traceback": [
      "Error in inv(t(X) %*% X): could not find function \"inv\"\nTraceback:\n"
     ]
    }
   ],
   "source": [
    "X <- matrix(c(dat$Market_Val))\n",
    "Y <- matrix(c(dat$Sale_Price))\n",
    "beta_1 <- inv(t(X) %*% X) %*% t(X) %*% Y\n",
    "beta_1"
   ]
  },
  {
   "cell_type": "markdown",
   "metadata": {
    "vscode": {
     "languageId": "r"
    }
   },
   "source": [
    "Report the standard error of β ̂_0. How would you interpret it? (1 point + 1 bonus point)\n",
    "\n",
    "Find the predicted increase in the sale price for $5,000 increase in the market value. (2 points)\n",
    "\n",
    "Does the market value have a significant predictive ability to predict the sale price? Justify using an appropriate hypothesis test. (must include all necessary details as discussed in the class) (4 points)\n",
    "\n",
    "Find the correlation coefficient between the two variables of interest. Use an appropriate hypothesis testing method to test if the population correlation coefficient is significantly different from 0. Clearly write out the null and alternative hypotheses and how you reach your conclusion. Is the p-value for this test same as the p-value you found in part (g)? (4 points)\n",
    "\n",
    "Find the predicted sale price for a home with a market value $200,000. (2 points)\n",
    "\n",
    "Test at 1% level the following hypothesis testing problem:\n",
    "H_0:β_1=1 vs H_1: β_1≠1\n",
    "(2 points)\n",
    "What can you conclude about the nature of the relationship about the two variables based on this test? (2 bonus points)"
   ]
  }
 ],
 "metadata": {
  "kernelspec": {
   "display_name": "R",
   "language": "R",
   "name": "ir"
  },
  "language_info": {
   "codemirror_mode": "r",
   "file_extension": ".r",
   "mimetype": "text/x-r-source",
   "name": "R",
   "pygments_lexer": "r",
   "version": "3.6.1"
  }
 },
 "nbformat": 4,
 "nbformat_minor": 2
}
