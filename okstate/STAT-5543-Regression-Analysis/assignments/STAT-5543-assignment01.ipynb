{
 "cells": [
  {
   "cell_type": "markdown",
   "metadata": {},
   "source": [
    "# Assignment 1\n",
    "Student Name: Vo, Huynh Quang Nguyen\n",
    "\n",
    "CWID: A20446163"
   ]
  },
  {
   "cell_type": "markdown",
   "metadata": {},
   "source": [
    "### Problem 1\n",
    "\n",
    "$$ A = \n",
    "\\begin{bmatrix}\n",
    "4  & 3 \\\\\n",
    "3  & 1 \\\\\n",
    "\\end{bmatrix},\n",
    "\\quad\n",
    "B = \\begin{bmatrix}\n",
    "1/4  & 1/4 \\\\\n",
    "1/4 & 1 \\\\\n",
    "\\end{bmatrix},\n",
    "\\quad\n",
    "C =\n",
    "\\begin{bmatrix}\n",
    "5  & 0 \\\\\n",
    "0  & 1 \\\\\n",
    "\\end{bmatrix}\n",
    "$$\n",
    "\n",
    "(a) Is $B$ a symmetric matrix?\n",
    "\n",
    "(b) Is $C$ a diagonal matrix? Write yes or no.\n",
    "\n",
    "(c) Find the transpose of $A$.\n",
    "\n",
    "(d) Define the 3 matrices in R and find $A+B+C$. \n",
    "\n",
    "***\n",
    "**Answer:**\n",
    "\n",
    "(a) $B$ is a symmetric matrix (Yes).\n",
    "\n",
    "(b) $C$ is diagonal matrix (Yes).\n",
    "\n",
    "(c) The transpose of $A$ is given as:\n",
    "$$\n",
    "[A]_{i,j} = [A]^T_{ji} \\rightarrow A^T = \\begin{bmatrix} 4 & 3 \\\\ 3 & 1  \\end{bmatrix}\n",
    "$$\n",
    "with $i,j$ stand for the $i$-th row and the $j$-th column for $A$, respectively.\n",
    "\n",
    "(d)\n",
    "$$\n",
    "A + B + C = \n",
    "\\begin{bmatrix}\n",
    "4 + \\frac{1}{4} + 5 & 3 + \\frac{1}{4} + 0 \\\\\n",
    "3 + \\frac{1}{4} + 0 & 1 + 1 + 1\\\\\n",
    "\\end{bmatrix}\n",
    "= \n",
    "\\begin{bmatrix}\n",
    "\\frac{37}{4} & \\frac{13}{4} \\\\\n",
    "\\frac{13}{4} & 3 \\\\\n",
    "\\end{bmatrix}\n",
    "$$\n",
    "Corresponding R-code:"
   ]
  },
  {
   "cell_type": "code",
   "execution_count": 7,
   "metadata": {
    "vscode": {
     "languageId": "r"
    }
   },
   "outputs": [
    {
     "name": "stdout",
     "output_type": "stream",
     "text": [
      "     [,1] [,2]\n",
      "[1,] TRUE TRUE\n",
      "[2,] TRUE TRUE\n",
      "     [,1] [,2]\n",
      "[1,] 9.25 3.25\n",
      "[2,] 3.25 3.00\n"
     ]
    }
   ],
   "source": [
    "A <- matrix(c(4, 3, 3, 1), nrow = 2, byrow = TRUE)\n",
    "B <- matrix(c(1/4, 1/4, 1/4, 1), nrow = 2, byrow = TRUE)\n",
    "C <- matrix(c(5, 0, 0, 1), nrow = 2, byrow = TRUE)\n",
    "\n",
    "print(B == t(B))\n",
    "sum_3_matrices <- A + B + C\n",
    "print(sum_3_matrices)"
   ]
  },
  {
   "cell_type": "markdown",
   "metadata": {},
   "source": [
    "### Problem 2\n",
    "A criminologist studying the relationship between the level of education and crime rate in medium-sized U.S counties collected the data given in the file `Crime rate.txt` for a random sample of 84 counties; the second column is the percentage of the individuals in the county having at least a high-school diploma, and the first column is the crime rate (crimes reported per 100,000 residents) last year. The criminologist wants to build a linear model to see if the crime rate depends on the percentage of high school diplomas. \n",
    "\n",
    "(a)\tRead the data into R using the function `read.table()`. This works exactly like `read.csv()`, but it can read data from files that are not necessarily a csv file. Make sure you use the appropriate value of the header argument (TRUE or FALSE).\n",
    "\n",
    "(b)\tAn expert decided that the observations with less 80% rate of high school diploma may not be reliable. So, we will only use the part of the data for which this rate is at least 80%. Use R to find this subset of the data. How many observations does it have? Find the average crime rate from this data set.\n",
    "\n",
    "***\n",
    "**Answer:**\n",
    "\n",
    "(a) Corresponding R-code:"
   ]
  },
  {
   "cell_type": "code",
   "execution_count": 11,
   "metadata": {
    "vscode": {
     "languageId": "r"
    }
   },
   "outputs": [
    {
     "data": {
      "text/html": [
       "<table>\n",
       "<thead><tr><th scope=col>Crime</th><th scope=col>Diplomapct</th></tr></thead>\n",
       "<tbody>\n",
       "\t<tr><td>8487</td><td>74  </td></tr>\n",
       "\t<tr><td>8179</td><td>82  </td></tr>\n",
       "\t<tr><td>8362</td><td>81  </td></tr>\n",
       "\t<tr><td>8220</td><td>81  </td></tr>\n",
       "\t<tr><td>6246</td><td>87  </td></tr>\n",
       "\t<tr><td>9100</td><td>66  </td></tr>\n",
       "</tbody>\n",
       "</table>\n"
      ],
      "text/latex": [
       "\\begin{tabular}{r|ll}\n",
       " Crime & Diplomapct\\\\\n",
       "\\hline\n",
       "\t 8487 & 74  \\\\\n",
       "\t 8179 & 82  \\\\\n",
       "\t 8362 & 81  \\\\\n",
       "\t 8220 & 81  \\\\\n",
       "\t 6246 & 87  \\\\\n",
       "\t 9100 & 66  \\\\\n",
       "\\end{tabular}\n"
      ],
      "text/markdown": [
       "\n",
       "| Crime | Diplomapct |\n",
       "|---|---|\n",
       "| 8487 | 74   |\n",
       "| 8179 | 82   |\n",
       "| 8362 | 81   |\n",
       "| 8220 | 81   |\n",
       "| 6246 | 87   |\n",
       "| 9100 | 66   |\n",
       "\n"
      ],
      "text/plain": [
       "  Crime Diplomapct\n",
       "1 8487  74        \n",
       "2 8179  82        \n",
       "3 8362  81        \n",
       "4 8220  81        \n",
       "5 6246  87        \n",
       "6 9100  66        "
      ]
     },
     "metadata": {},
     "output_type": "display_data"
    }
   ],
   "source": [
    "dat <- read.table('../datasets/Crime rate.txt', header = TRUE)\n",
    "head(dat)"
   ]
  },
  {
   "cell_type": "markdown",
   "metadata": {},
   "source": [
    "(b) Corresponding R-code:"
   ]
  },
  {
   "cell_type": "code",
   "execution_count": null,
   "metadata": {
    "vscode": {
     "languageId": "r"
    }
   },
   "outputs": [],
   "source": []
  }
 ],
 "metadata": {
  "kernelspec": {
   "display_name": "R",
   "language": "R",
   "name": "ir"
  },
  "language_info": {
   "codemirror_mode": "r",
   "file_extension": ".r",
   "mimetype": "text/x-r-source",
   "name": "R",
   "pygments_lexer": "r",
   "version": "3.6.1"
  },
  "orig_nbformat": 4
 },
 "nbformat": 4,
 "nbformat_minor": 2
}
