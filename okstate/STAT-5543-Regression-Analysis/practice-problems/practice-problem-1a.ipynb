{
 "cells": [
  {
   "cell_type": "markdown",
   "id": "05b8c37d",
   "metadata": {},
   "source": [
    "### Problem 2"
   ]
  },
  {
   "cell_type": "markdown",
   "id": "f34263ff",
   "metadata": {},
   "source": [
    "(a) Define a variable named `My.Name` in R by assigning your name as character to that variable."
   ]
  },
  {
   "cell_type": "code",
   "execution_count": 1,
   "id": "0aab3b9a",
   "metadata": {
    "vscode": {
     "languageId": "r"
    }
   },
   "outputs": [],
   "source": [
    "my.name = 'Vo Huynh Quang Nguyen'"
   ]
  },
  {
   "cell_type": "markdown",
   "id": "bb264ca9",
   "metadata": {},
   "source": [
    "(b) Use the `is.numeric` function to check if the variable My.Name is a numeric variable. Similarly use the `is.character` function."
   ]
  },
  {
   "cell_type": "code",
   "execution_count": 2,
   "id": "ddc483fb",
   "metadata": {
    "vscode": {
     "languageId": "r"
    }
   },
   "outputs": [
    {
     "name": "stdout",
     "output_type": "stream",
     "text": [
      "[1] FALSE\n",
      "[1] TRUE\n"
     ]
    }
   ],
   "source": [
    "print(is.numeric(my.name))\n",
    "print(is.character(my.name))"
   ]
  },
  {
   "cell_type": "markdown",
   "id": "c3f17d3a",
   "metadata": {},
   "source": [
    "(c) Define a variable called `age` by assigning your age in whole years to this variable. "
   ]
  },
  {
   "cell_type": "code",
   "execution_count": 3,
   "id": "2afcc69f",
   "metadata": {
    "vscode": {
     "languageId": "r"
    }
   },
   "outputs": [],
   "source": [
    "age = 28"
   ]
  },
  {
   "cell_type": "markdown",
   "id": "ceb59b0a",
   "metadata": {},
   "source": [
    "(d) What should be the output if you use the following?\n",
    "\n",
    "`paste(“The age of”, My.Name, “is”, age)`\n",
    "\n",
    "Run the code and see if the output make sense. Notice if the rule of coercion that we learned in class is satisfied here."
   ]
  },
  {
   "cell_type": "code",
   "execution_count": 4,
   "id": "95a9edf1",
   "metadata": {
    "vscode": {
     "languageId": "r"
    }
   },
   "outputs": [
    {
     "name": "stdout",
     "output_type": "stream",
     "text": [
      "[1] \"The age of Vo Huynh Quang Nguyen is 28\"\n"
     ]
    }
   ],
   "source": [
    "print(paste('The age of', my.name, 'is', age))"
   ]
  },
  {
   "cell_type": "markdown",
   "id": "5b6cb6a3",
   "metadata": {},
   "source": [
    "### Problem 3"
   ]
  },
  {
   "cell_type": "markdown",
   "id": "2161fa26",
   "metadata": {},
   "source": [
    "Define a variable called `num` and assign the value 5 to it. Write a line of R code to check if `num` to the power `num` is greater than 10000. Now assign 500 to `num` and find the value of `num` to the power `num`. Can you explain what you see as the output?  "
   ]
  },
  {
   "cell_type": "code",
   "execution_count": 6,
   "id": "db47d694",
   "metadata": {
    "vscode": {
     "languageId": "r"
    }
   },
   "outputs": [
    {
     "name": "stdout",
     "output_type": "stream",
     "text": [
      "[1] FALSE\n",
      "[1] TRUE\n"
     ]
    }
   ],
   "source": [
    "num <- 5\n",
    "print((num ** num) > 10000)\n",
    "\n",
    "num <- 500\n",
    "print((num ** num) > 10000)"
   ]
  },
  {
   "cell_type": "markdown",
   "id": "d1842913",
   "metadata": {},
   "source": [
    "### Problem 5\n",
    "Use R to solve this problem. Define the matrices `C` and `D` above in R."
   ]
  },
  {
   "cell_type": "code",
   "execution_count": 7,
   "id": "f586bc1b",
   "metadata": {
    "vscode": {
     "languageId": "r"
    }
   },
   "outputs": [
    {
     "name": "stdout",
     "output_type": "stream",
     "text": [
      "     [,1] [,2]\n",
      "[1,]   -1    0\n",
      "[2,]    0   -1\n",
      "[3,]    8    8\n",
      "     [,1] [,2] [,3]\n",
      "[1,]    1    2    1\n",
      "[2,]    2    3    0\n",
      "[3,]    1    0    4\n"
     ]
    }
   ],
   "source": [
    "C <- matrix(c(-1,0,0,-1,8,8), nrow = 3, ncol = 2, byrow = TRUE)\n",
    "print(C)\n",
    "D <- matrix(c(1,2,1,2,3,0,1,0,4), nrow = 3, ncol = 3, byrow = TRUE)\n",
    "print(D)"
   ]
  },
  {
   "cell_type": "markdown",
   "id": "5facbecf",
   "metadata": {},
   "source": [
    "(i) Use R-coding to find the submatrix of `D` that contains the first 2 rows of `D` and the last two\n",
    "columns of `D`."
   ]
  },
  {
   "cell_type": "code",
   "execution_count": 8,
   "id": "efb4955c",
   "metadata": {
    "vscode": {
     "languageId": "r"
    }
   },
   "outputs": [
    {
     "name": "stdout",
     "output_type": "stream",
     "text": [
      "     [,1] [,2]\n",
      "[1,]    2    1\n",
      "[2,]    3    0\n"
     ]
    }
   ],
   "source": [
    "print(D[1:2, 2:3])"
   ]
  },
  {
   "cell_type": "markdown",
   "id": "78331f51",
   "metadata": {},
   "source": [
    "(ii) Use R-coding to extract the diagonal of matrix `D`. Let us call that vector `vec1`. Define the first\n",
    "column of matrix `C` as `vec2`. Add `vec1` and `vec2`."
   ]
  },
  {
   "cell_type": "code",
   "execution_count": 9,
   "id": "6fd74001",
   "metadata": {
    "vscode": {
     "languageId": "r"
    }
   },
   "outputs": [
    {
     "name": "stdout",
     "output_type": "stream",
     "text": [
      "[1] 1 3 4\n",
      "[1] -1  0  8\n",
      "[1]  0  3 12\n"
     ]
    }
   ],
   "source": [
    "vec1 <- (diag(D))\n",
    "print(vec1)\n",
    "vec2 <- C[1:3,1]\n",
    "print(vec2)\n",
    "print(vec1 + vec2)"
   ]
  },
  {
   "cell_type": "markdown",
   "id": "39ef1f21",
   "metadata": {},
   "source": [
    "(iv) Without printing the dimensions of the matrices, can you use R to check if `C` and `D` have\n",
    "equal number of rows?"
   ]
  },
  {
   "cell_type": "code",
   "execution_count": 10,
   "id": "504fe6d1",
   "metadata": {
    "vscode": {
     "languageId": "r"
    }
   },
   "outputs": [
    {
     "name": "stdout",
     "output_type": "stream",
     "text": [
      "[1] TRUE\n"
     ]
    }
   ],
   "source": [
    "print(dim(C)[1] == dim(D)[1])\n"
   ]
  }
 ],
 "metadata": {
  "kernelspec": {
   "display_name": "R",
   "language": "R",
   "name": "ir"
  },
  "language_info": {
   "codemirror_mode": "r",
   "file_extension": ".r",
   "mimetype": "text/x-r-source",
   "name": "R",
   "pygments_lexer": "r",
   "version": "3.6.1"
  }
 },
 "nbformat": 4,
 "nbformat_minor": 5
}
